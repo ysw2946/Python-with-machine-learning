{
 "cells": [
  {
   "cell_type": "markdown",
   "metadata": {},
   "source": [
    "### Series"
   ]
  },
  {
   "cell_type": "code",
   "execution_count": 19,
   "metadata": {
    "ExecuteTime": {
     "end_time": "2021-03-24T05:44:50.131620Z",
     "start_time": "2021-03-24T05:44:50.122933Z"
    }
   },
   "outputs": [],
   "source": [
    "from pandas import Series, DataFrame\n",
    "import pandas as pd\n",
    "import numpy as np"
   ]
  },
  {
   "cell_type": "code",
   "execution_count": 27,
   "metadata": {
    "ExecuteTime": {
     "end_time": "2021-03-24T05:48:09.259811Z",
     "start_time": "2021-03-24T05:48:08.317511Z"
    }
   },
   "outputs": [],
   "source": [
    "data_url = 'https://archive.ics.uci.edu/ml/machine-learning-databases/housing/housing.data' #Data URL\n",
    "df_data = pd.read_csv(data_url, sep=\"\\s+\", header = None)"
   ]
  },
  {
   "cell_type": "code",
   "execution_count": 28,
   "metadata": {
    "ExecuteTime": {
     "end_time": "2021-03-24T05:48:09.291901Z",
     "start_time": "2021-03-24T05:48:09.263839Z"
    }
   },
   "outputs": [
    {
     "data": {
      "text/html": [
       "<div>\n",
       "<style scoped>\n",
       "    .dataframe tbody tr th:only-of-type {\n",
       "        vertical-align: middle;\n",
       "    }\n",
       "\n",
       "    .dataframe tbody tr th {\n",
       "        vertical-align: top;\n",
       "    }\n",
       "\n",
       "    .dataframe thead th {\n",
       "        text-align: right;\n",
       "    }\n",
       "</style>\n",
       "<table border=\"1\" class=\"dataframe\">\n",
       "  <thead>\n",
       "    <tr style=\"text-align: right;\">\n",
       "      <th></th>\n",
       "      <th>0</th>\n",
       "      <th>1</th>\n",
       "      <th>2</th>\n",
       "      <th>3</th>\n",
       "      <th>4</th>\n",
       "      <th>5</th>\n",
       "      <th>6</th>\n",
       "      <th>7</th>\n",
       "      <th>8</th>\n",
       "      <th>9</th>\n",
       "      <th>10</th>\n",
       "      <th>11</th>\n",
       "      <th>12</th>\n",
       "      <th>13</th>\n",
       "    </tr>\n",
       "  </thead>\n",
       "  <tbody>\n",
       "    <tr>\n",
       "      <th>0</th>\n",
       "      <td>0.00632</td>\n",
       "      <td>18.0</td>\n",
       "      <td>2.31</td>\n",
       "      <td>0</td>\n",
       "      <td>0.538</td>\n",
       "      <td>6.575</td>\n",
       "      <td>65.2</td>\n",
       "      <td>4.0900</td>\n",
       "      <td>1</td>\n",
       "      <td>296.0</td>\n",
       "      <td>15.3</td>\n",
       "      <td>396.90</td>\n",
       "      <td>4.98</td>\n",
       "      <td>24.0</td>\n",
       "    </tr>\n",
       "    <tr>\n",
       "      <th>1</th>\n",
       "      <td>0.02731</td>\n",
       "      <td>0.0</td>\n",
       "      <td>7.07</td>\n",
       "      <td>0</td>\n",
       "      <td>0.469</td>\n",
       "      <td>6.421</td>\n",
       "      <td>78.9</td>\n",
       "      <td>4.9671</td>\n",
       "      <td>2</td>\n",
       "      <td>242.0</td>\n",
       "      <td>17.8</td>\n",
       "      <td>396.90</td>\n",
       "      <td>9.14</td>\n",
       "      <td>21.6</td>\n",
       "    </tr>\n",
       "    <tr>\n",
       "      <th>2</th>\n",
       "      <td>0.02729</td>\n",
       "      <td>0.0</td>\n",
       "      <td>7.07</td>\n",
       "      <td>0</td>\n",
       "      <td>0.469</td>\n",
       "      <td>7.185</td>\n",
       "      <td>61.1</td>\n",
       "      <td>4.9671</td>\n",
       "      <td>2</td>\n",
       "      <td>242.0</td>\n",
       "      <td>17.8</td>\n",
       "      <td>392.83</td>\n",
       "      <td>4.03</td>\n",
       "      <td>34.7</td>\n",
       "    </tr>\n",
       "    <tr>\n",
       "      <th>3</th>\n",
       "      <td>0.03237</td>\n",
       "      <td>0.0</td>\n",
       "      <td>2.18</td>\n",
       "      <td>0</td>\n",
       "      <td>0.458</td>\n",
       "      <td>6.998</td>\n",
       "      <td>45.8</td>\n",
       "      <td>6.0622</td>\n",
       "      <td>3</td>\n",
       "      <td>222.0</td>\n",
       "      <td>18.7</td>\n",
       "      <td>394.63</td>\n",
       "      <td>2.94</td>\n",
       "      <td>33.4</td>\n",
       "    </tr>\n",
       "    <tr>\n",
       "      <th>4</th>\n",
       "      <td>0.06905</td>\n",
       "      <td>0.0</td>\n",
       "      <td>2.18</td>\n",
       "      <td>0</td>\n",
       "      <td>0.458</td>\n",
       "      <td>7.147</td>\n",
       "      <td>54.2</td>\n",
       "      <td>6.0622</td>\n",
       "      <td>3</td>\n",
       "      <td>222.0</td>\n",
       "      <td>18.7</td>\n",
       "      <td>396.90</td>\n",
       "      <td>5.33</td>\n",
       "      <td>36.2</td>\n",
       "    </tr>\n",
       "  </tbody>\n",
       "</table>\n",
       "</div>"
      ],
      "text/plain": [
       "        0     1     2   3      4      5     6       7   8      9     10  \\\n",
       "0  0.00632  18.0  2.31   0  0.538  6.575  65.2  4.0900   1  296.0  15.3   \n",
       "1  0.02731   0.0  7.07   0  0.469  6.421  78.9  4.9671   2  242.0  17.8   \n",
       "2  0.02729   0.0  7.07   0  0.469  7.185  61.1  4.9671   2  242.0  17.8   \n",
       "3  0.03237   0.0  2.18   0  0.458  6.998  45.8  6.0622   3  222.0  18.7   \n",
       "4  0.06905   0.0  2.18   0  0.458  7.147  54.2  6.0622   3  222.0  18.7   \n",
       "\n",
       "       11    12    13  \n",
       "0  396.90  4.98  24.0  \n",
       "1  396.90  9.14  21.6  \n",
       "2  392.83  4.03  34.7  \n",
       "3  394.63  2.94  33.4  \n",
       "4  396.90  5.33  36.2  "
      ]
     },
     "execution_count": 28,
     "metadata": {},
     "output_type": "execute_result"
    }
   ],
   "source": [
    "df_data.head()"
   ]
  },
  {
   "cell_type": "code",
   "execution_count": 29,
   "metadata": {
    "ExecuteTime": {
     "end_time": "2021-03-24T05:48:09.322100Z",
     "start_time": "2021-03-24T05:48:09.293915Z"
    }
   },
   "outputs": [
    {
     "data": {
      "text/html": [
       "<div>\n",
       "<style scoped>\n",
       "    .dataframe tbody tr th:only-of-type {\n",
       "        vertical-align: middle;\n",
       "    }\n",
       "\n",
       "    .dataframe tbody tr th {\n",
       "        vertical-align: top;\n",
       "    }\n",
       "\n",
       "    .dataframe thead th {\n",
       "        text-align: right;\n",
       "    }\n",
       "</style>\n",
       "<table border=\"1\" class=\"dataframe\">\n",
       "  <thead>\n",
       "    <tr style=\"text-align: right;\">\n",
       "      <th></th>\n",
       "      <th>CRIM</th>\n",
       "      <th>ZN</th>\n",
       "      <th>INDUS</th>\n",
       "      <th>CHAS</th>\n",
       "      <th>NOX</th>\n",
       "      <th>RM</th>\n",
       "      <th>AGE</th>\n",
       "      <th>DIS</th>\n",
       "      <th>RAD</th>\n",
       "      <th>TAX</th>\n",
       "      <th>PTRATIO</th>\n",
       "      <th>B</th>\n",
       "      <th>LSTAT</th>\n",
       "      <th>MEDV</th>\n",
       "    </tr>\n",
       "  </thead>\n",
       "  <tbody>\n",
       "    <tr>\n",
       "      <th>0</th>\n",
       "      <td>0.00632</td>\n",
       "      <td>18.0</td>\n",
       "      <td>2.31</td>\n",
       "      <td>0</td>\n",
       "      <td>0.538</td>\n",
       "      <td>6.575</td>\n",
       "      <td>65.2</td>\n",
       "      <td>4.0900</td>\n",
       "      <td>1</td>\n",
       "      <td>296.0</td>\n",
       "      <td>15.3</td>\n",
       "      <td>396.90</td>\n",
       "      <td>4.98</td>\n",
       "      <td>24.0</td>\n",
       "    </tr>\n",
       "    <tr>\n",
       "      <th>1</th>\n",
       "      <td>0.02731</td>\n",
       "      <td>0.0</td>\n",
       "      <td>7.07</td>\n",
       "      <td>0</td>\n",
       "      <td>0.469</td>\n",
       "      <td>6.421</td>\n",
       "      <td>78.9</td>\n",
       "      <td>4.9671</td>\n",
       "      <td>2</td>\n",
       "      <td>242.0</td>\n",
       "      <td>17.8</td>\n",
       "      <td>396.90</td>\n",
       "      <td>9.14</td>\n",
       "      <td>21.6</td>\n",
       "    </tr>\n",
       "    <tr>\n",
       "      <th>2</th>\n",
       "      <td>0.02729</td>\n",
       "      <td>0.0</td>\n",
       "      <td>7.07</td>\n",
       "      <td>0</td>\n",
       "      <td>0.469</td>\n",
       "      <td>7.185</td>\n",
       "      <td>61.1</td>\n",
       "      <td>4.9671</td>\n",
       "      <td>2</td>\n",
       "      <td>242.0</td>\n",
       "      <td>17.8</td>\n",
       "      <td>392.83</td>\n",
       "      <td>4.03</td>\n",
       "      <td>34.7</td>\n",
       "    </tr>\n",
       "    <tr>\n",
       "      <th>3</th>\n",
       "      <td>0.03237</td>\n",
       "      <td>0.0</td>\n",
       "      <td>2.18</td>\n",
       "      <td>0</td>\n",
       "      <td>0.458</td>\n",
       "      <td>6.998</td>\n",
       "      <td>45.8</td>\n",
       "      <td>6.0622</td>\n",
       "      <td>3</td>\n",
       "      <td>222.0</td>\n",
       "      <td>18.7</td>\n",
       "      <td>394.63</td>\n",
       "      <td>2.94</td>\n",
       "      <td>33.4</td>\n",
       "    </tr>\n",
       "    <tr>\n",
       "      <th>4</th>\n",
       "      <td>0.06905</td>\n",
       "      <td>0.0</td>\n",
       "      <td>2.18</td>\n",
       "      <td>0</td>\n",
       "      <td>0.458</td>\n",
       "      <td>7.147</td>\n",
       "      <td>54.2</td>\n",
       "      <td>6.0622</td>\n",
       "      <td>3</td>\n",
       "      <td>222.0</td>\n",
       "      <td>18.7</td>\n",
       "      <td>396.90</td>\n",
       "      <td>5.33</td>\n",
       "      <td>36.2</td>\n",
       "    </tr>\n",
       "  </tbody>\n",
       "</table>\n",
       "</div>"
      ],
      "text/plain": [
       "      CRIM    ZN  INDUS  CHAS    NOX     RM   AGE     DIS  RAD    TAX  \\\n",
       "0  0.00632  18.0   2.31     0  0.538  6.575  65.2  4.0900    1  296.0   \n",
       "1  0.02731   0.0   7.07     0  0.469  6.421  78.9  4.9671    2  242.0   \n",
       "2  0.02729   0.0   7.07     0  0.469  7.185  61.1  4.9671    2  242.0   \n",
       "3  0.03237   0.0   2.18     0  0.458  6.998  45.8  6.0622    3  222.0   \n",
       "4  0.06905   0.0   2.18     0  0.458  7.147  54.2  6.0622    3  222.0   \n",
       "\n",
       "   PTRATIO       B  LSTAT  MEDV  \n",
       "0     15.3  396.90   4.98  24.0  \n",
       "1     17.8  396.90   9.14  21.6  \n",
       "2     17.8  392.83   4.03  34.7  \n",
       "3     18.7  394.63   2.94  33.4  \n",
       "4     18.7  396.90   5.33  36.2  "
      ]
     },
     "execution_count": 29,
     "metadata": {},
     "output_type": "execute_result"
    }
   ],
   "source": [
    "df_data.columns = [\n",
    "    'CRIM','ZN', 'INDUS', 'CHAS', 'NOX', 'RM', 'AGE', 'DIS', 'RAD', 'TAX', 'PTRATIO' ,'B', 'LSTAT', 'MEDV'] \n",
    "\n",
    "df_data.head()"
   ]
  },
  {
   "cell_type": "code",
   "execution_count": 30,
   "metadata": {
    "ExecuteTime": {
     "end_time": "2021-03-24T05:48:09.337354Z",
     "start_time": "2021-03-24T05:48:09.324297Z"
    }
   },
   "outputs": [
    {
     "data": {
      "text/plain": [
       "numpy.ndarray"
      ]
     },
     "execution_count": 30,
     "metadata": {},
     "output_type": "execute_result"
    }
   ],
   "source": [
    "type(df_data.values)"
   ]
  },
  {
   "cell_type": "code",
   "execution_count": 31,
   "metadata": {
    "ExecuteTime": {
     "end_time": "2021-03-24T05:48:09.353382Z",
     "start_time": "2021-03-24T05:48:09.342297Z"
    }
   },
   "outputs": [
    {
     "data": {
      "text/plain": [
       "0    1\n",
       "1    2\n",
       "2    3\n",
       "3    4\n",
       "4    5\n",
       "dtype: int64"
      ]
     },
     "execution_count": 31,
     "metadata": {},
     "output_type": "execute_result"
    }
   ],
   "source": [
    "list_data = [1,2,3,4,5]\n",
    "example_obj = Series(data = list_data)\n",
    "example_obj"
   ]
  },
  {
   "cell_type": "code",
   "execution_count": 32,
   "metadata": {
    "ExecuteTime": {
     "end_time": "2021-03-24T05:48:09.368697Z",
     "start_time": "2021-03-24T05:48:09.354804Z"
    }
   },
   "outputs": [
    {
     "data": {
      "text/plain": [
       "a    1\n",
       "b    2\n",
       "c    3\n",
       "d    4\n",
       "e    5\n",
       "dtype: int64"
      ]
     },
     "execution_count": 32,
     "metadata": {},
     "output_type": "execute_result"
    }
   ],
   "source": [
    "list_data = [1,2,3,4,5]\n",
    "list_name = [\"a\",\"b\",\"c\",\"d\",\"e\"]\n",
    "example_obj = Series(data = list_data, index=list_name)\n",
    "example_obj"
   ]
  },
  {
   "cell_type": "code",
   "execution_count": 33,
   "metadata": {
    "ExecuteTime": {
     "end_time": "2021-03-24T05:48:10.082992Z",
     "start_time": "2021-03-24T05:48:10.058579Z"
    }
   },
   "outputs": [
    {
     "data": {
      "text/plain": [
       "Index(['a', 'b', 'c', 'd', 'e'], dtype='object')"
      ]
     },
     "execution_count": 33,
     "metadata": {},
     "output_type": "execute_result"
    }
   ],
   "source": [
    "example_obj.index"
   ]
  },
  {
   "cell_type": "code",
   "execution_count": 34,
   "metadata": {
    "ExecuteTime": {
     "end_time": "2021-03-24T05:48:10.549443Z",
     "start_time": "2021-03-24T05:48:10.537411Z"
    }
   },
   "outputs": [
    {
     "data": {
      "text/plain": [
       "array([1, 2, 3, 4, 5], dtype=int64)"
      ]
     },
     "execution_count": 34,
     "metadata": {},
     "output_type": "execute_result"
    }
   ],
   "source": [
    "example_obj.values"
   ]
  },
  {
   "cell_type": "code",
   "execution_count": 35,
   "metadata": {
    "ExecuteTime": {
     "end_time": "2021-03-24T05:48:11.217523Z",
     "start_time": "2021-03-24T05:48:11.206586Z"
    }
   },
   "outputs": [
    {
     "data": {
      "text/plain": [
       "numpy.ndarray"
      ]
     },
     "execution_count": 35,
     "metadata": {},
     "output_type": "execute_result"
    }
   ],
   "source": [
    "type(example_obj.values)"
   ]
  },
  {
   "cell_type": "code",
   "execution_count": 38,
   "metadata": {
    "ExecuteTime": {
     "end_time": "2021-03-24T05:48:29.134930Z",
     "start_time": "2021-03-24T05:48:29.123552Z"
    }
   },
   "outputs": [
    {
     "data": {
      "text/plain": [
       "a    1.0\n",
       "b    2.0\n",
       "c    3.0\n",
       "d    4.0\n",
       "e    5.0\n",
       "Name: example_data, dtype: float32"
      ]
     },
     "execution_count": 38,
     "metadata": {},
     "output_type": "execute_result"
    }
   ],
   "source": [
    "dict_data = {\"a\":1, \"b\":2, \"c\":3, \"d\":4, \"e\":5}\n",
    "example_obj = Series(dict_data, dtype=np.float32, name=\"example_data\")\n",
    "example_obj"
   ]
  },
  {
   "cell_type": "code",
   "execution_count": 39,
   "metadata": {
    "ExecuteTime": {
     "end_time": "2021-03-24T05:48:34.019290Z",
     "start_time": "2021-03-24T05:48:34.001269Z"
    }
   },
   "outputs": [
    {
     "data": {
      "text/plain": [
       "1.0"
      ]
     },
     "execution_count": 39,
     "metadata": {},
     "output_type": "execute_result"
    }
   ],
   "source": [
    "example_obj[\"a\"] "
   ]
  },
  {
   "cell_type": "code",
   "execution_count": 40,
   "metadata": {
    "ExecuteTime": {
     "end_time": "2021-03-24T05:48:34.487111Z",
     "start_time": "2021-03-24T05:48:34.476096Z"
    }
   },
   "outputs": [
    {
     "data": {
      "text/plain": [
       "a    3.2\n",
       "b    2.0\n",
       "c    3.0\n",
       "d    4.0\n",
       "e    5.0\n",
       "Name: example_data, dtype: float32"
      ]
     },
     "execution_count": 40,
     "metadata": {},
     "output_type": "execute_result"
    }
   ],
   "source": [
    "example_obj[\"a\"] = 3.2\n",
    "example_obj"
   ]
  },
  {
   "cell_type": "code",
   "execution_count": 41,
   "metadata": {
    "ExecuteTime": {
     "end_time": "2021-03-24T05:50:44.732478Z",
     "start_time": "2021-03-24T05:50:44.663360Z"
    }
   },
   "outputs": [
    {
     "data": {
      "text/plain": [
       "a    3.2\n",
       "c    3.0\n",
       "d    4.0\n",
       "e    5.0\n",
       "Name: example_data, dtype: float32"
      ]
     },
     "execution_count": 41,
     "metadata": {},
     "output_type": "execute_result"
    }
   ],
   "source": [
    "example_obj[example_obj > 2]"
   ]
  },
  {
   "cell_type": "code",
   "execution_count": 42,
   "metadata": {
    "ExecuteTime": {
     "end_time": "2021-03-24T05:50:46.238823Z",
     "start_time": "2021-03-24T05:50:46.227794Z"
    }
   },
   "outputs": [
    {
     "data": {
      "text/plain": [
       "a     6.4\n",
       "b     4.0\n",
       "c     6.0\n",
       "d     8.0\n",
       "e    10.0\n",
       "Name: example_data, dtype: float32"
      ]
     },
     "execution_count": 42,
     "metadata": {},
     "output_type": "execute_result"
    }
   ],
   "source": [
    "example_obj * 2"
   ]
  },
  {
   "cell_type": "code",
   "execution_count": 43,
   "metadata": {
    "ExecuteTime": {
     "end_time": "2021-03-24T05:51:21.391818Z",
     "start_time": "2021-03-24T05:51:21.373622Z"
    }
   },
   "outputs": [
    {
     "data": {
      "text/plain": [
       "a     24.532532\n",
       "b      7.389056\n",
       "c     20.085537\n",
       "d     54.598148\n",
       "e    148.413162\n",
       "Name: example_data, dtype: float32"
      ]
     },
     "execution_count": 43,
     "metadata": {},
     "output_type": "execute_result"
    }
   ],
   "source": [
    "np.exp(example_obj) #np.abs , np.log"
   ]
  },
  {
   "cell_type": "code",
   "execution_count": 45,
   "metadata": {
    "ExecuteTime": {
     "end_time": "2021-03-24T05:51:28.401528Z",
     "start_time": "2021-03-24T05:51:28.392465Z"
    }
   },
   "outputs": [
    {
     "data": {
      "text/plain": [
       "True"
      ]
     },
     "execution_count": 45,
     "metadata": {},
     "output_type": "execute_result"
    }
   ],
   "source": [
    "\"b\" in example_obj"
   ]
  },
  {
   "cell_type": "code",
   "execution_count": 46,
   "metadata": {
    "ExecuteTime": {
     "end_time": "2021-03-24T05:51:31.881643Z",
     "start_time": "2021-03-24T05:51:31.862643Z"
    }
   },
   "outputs": [
    {
     "data": {
      "text/plain": [
       "{'a': 3.200000047683716, 'b': 2.0, 'c': 3.0, 'd': 4.0, 'e': 5.0}"
      ]
     },
     "execution_count": 46,
     "metadata": {},
     "output_type": "execute_result"
    }
   ],
   "source": [
    "example_obj.to_dict()"
   ]
  },
  {
   "cell_type": "code",
   "execution_count": 47,
   "metadata": {
    "ExecuteTime": {
     "end_time": "2021-03-24T05:51:37.848634Z",
     "start_time": "2021-03-24T05:51:37.838555Z"
    }
   },
   "outputs": [
    {
     "data": {
      "text/plain": [
       "array([3.2, 2. , 3. , 4. , 5. ], dtype=float32)"
      ]
     },
     "execution_count": 47,
     "metadata": {},
     "output_type": "execute_result"
    }
   ],
   "source": [
    "example_obj.values"
   ]
  },
  {
   "cell_type": "code",
   "execution_count": 48,
   "metadata": {
    "ExecuteTime": {
     "end_time": "2021-03-24T05:51:41.157343Z",
     "start_time": "2021-03-24T05:51:41.148085Z"
    }
   },
   "outputs": [
    {
     "data": {
      "text/plain": [
       "Index(['a', 'b', 'c', 'd', 'e'], dtype='object')"
      ]
     },
     "execution_count": 48,
     "metadata": {},
     "output_type": "execute_result"
    }
   ],
   "source": [
    "example_obj.index"
   ]
  },
  {
   "cell_type": "code",
   "execution_count": 49,
   "metadata": {
    "ExecuteTime": {
     "end_time": "2021-03-24T05:51:43.023840Z",
     "start_time": "2021-03-24T05:51:42.998064Z"
    }
   },
   "outputs": [
    {
     "data": {
      "text/plain": [
       "alphabet\n",
       "a    3.2\n",
       "b    2.0\n",
       "c    3.0\n",
       "d    4.0\n",
       "e    5.0\n",
       "Name: number, dtype: float32"
      ]
     },
     "execution_count": 49,
     "metadata": {},
     "output_type": "execute_result"
    }
   ],
   "source": [
    "example_obj.name = \"number\"\n",
    "example_obj.index.name = \"alphabet\"\n",
    "example_obj"
   ]
  },
  {
   "cell_type": "code",
   "execution_count": null,
   "metadata": {},
   "outputs": [],
   "source": [
    "dict_data_1 = {\"a\":1, \"b\":2, \"c\":3, \"d\":4, \"e\":5}\n",
    "indexes = [\"a\",\"b\",\"c\",\"d\",\"e\",\"f\",\"g\",\"h\"]\n",
    "series_obj_1 = Series(dict_data_1, index=indexes)\n",
    "series_obj_1"
   ]
  },
  {
   "cell_type": "markdown",
   "metadata": {},
   "source": [
    "### DataFrame"
   ]
  },
  {
   "cell_type": "code",
   "execution_count": 151,
   "metadata": {
    "ExecuteTime": {
     "end_time": "2021-03-24T06:41:38.582747Z",
     "start_time": "2021-03-24T06:41:38.556755Z"
    }
   },
   "outputs": [
    {
     "data": {
      "text/html": [
       "<div>\n",
       "<style scoped>\n",
       "    .dataframe tbody tr th:only-of-type {\n",
       "        vertical-align: middle;\n",
       "    }\n",
       "\n",
       "    .dataframe tbody tr th {\n",
       "        vertical-align: top;\n",
       "    }\n",
       "\n",
       "    .dataframe thead th {\n",
       "        text-align: right;\n",
       "    }\n",
       "</style>\n",
       "<table border=\"1\" class=\"dataframe\">\n",
       "  <thead>\n",
       "    <tr style=\"text-align: right;\">\n",
       "      <th></th>\n",
       "      <th>first_name</th>\n",
       "      <th>last_name</th>\n",
       "      <th>age</th>\n",
       "      <th>city</th>\n",
       "    </tr>\n",
       "  </thead>\n",
       "  <tbody>\n",
       "    <tr>\n",
       "      <th>0</th>\n",
       "      <td>Jason</td>\n",
       "      <td>Miller</td>\n",
       "      <td>42</td>\n",
       "      <td>San Francisco</td>\n",
       "    </tr>\n",
       "    <tr>\n",
       "      <th>1</th>\n",
       "      <td>Molly</td>\n",
       "      <td>Jacobson</td>\n",
       "      <td>52</td>\n",
       "      <td>Baltimore</td>\n",
       "    </tr>\n",
       "    <tr>\n",
       "      <th>2</th>\n",
       "      <td>Tina</td>\n",
       "      <td>Ali</td>\n",
       "      <td>36</td>\n",
       "      <td>Miami</td>\n",
       "    </tr>\n",
       "    <tr>\n",
       "      <th>3</th>\n",
       "      <td>Jake</td>\n",
       "      <td>Milner</td>\n",
       "      <td>24</td>\n",
       "      <td>Douglas</td>\n",
       "    </tr>\n",
       "    <tr>\n",
       "      <th>4</th>\n",
       "      <td>Amy</td>\n",
       "      <td>Cooze</td>\n",
       "      <td>73</td>\n",
       "      <td>Boston</td>\n",
       "    </tr>\n",
       "  </tbody>\n",
       "</table>\n",
       "</div>"
      ],
      "text/plain": [
       "  first_name last_name  age           city\n",
       "0      Jason    Miller   42  San Francisco\n",
       "1      Molly  Jacobson   52      Baltimore\n",
       "2       Tina       Ali   36          Miami\n",
       "3       Jake    Milner   24        Douglas\n",
       "4        Amy     Cooze   73         Boston"
      ]
     },
     "execution_count": 151,
     "metadata": {},
     "output_type": "execute_result"
    }
   ],
   "source": [
    "raw_data = {'first_name': ['Jason', 'Molly', 'Tina', 'Jake', 'Amy'],\n",
    "        'last_name': ['Miller', 'Jacobson', 'Ali', 'Milner', 'Cooze'],\n",
    "        'age': [42, 52, 36, 24, 73],\n",
    "        'city': ['San Francisco', 'Baltimore', 'Miami', 'Douglas', 'Boston']}\n",
    "df = pd.DataFrame(raw_data, columns = ['first_name', 'last_name', 'age', 'city'])\n",
    "df"
   ]
  },
  {
   "cell_type": "code",
   "execution_count": 152,
   "metadata": {
    "ExecuteTime": {
     "end_time": "2021-03-24T06:41:38.705121Z",
     "start_time": "2021-03-24T06:41:38.686484Z"
    }
   },
   "outputs": [
    {
     "data": {
      "text/html": [
       "<div>\n",
       "<style scoped>\n",
       "    .dataframe tbody tr th:only-of-type {\n",
       "        vertical-align: middle;\n",
       "    }\n",
       "\n",
       "    .dataframe tbody tr th {\n",
       "        vertical-align: top;\n",
       "    }\n",
       "\n",
       "    .dataframe thead th {\n",
       "        text-align: right;\n",
       "    }\n",
       "</style>\n",
       "<table border=\"1\" class=\"dataframe\">\n",
       "  <thead>\n",
       "    <tr style=\"text-align: right;\">\n",
       "      <th></th>\n",
       "      <th>age</th>\n",
       "      <th>city</th>\n",
       "    </tr>\n",
       "  </thead>\n",
       "  <tbody>\n",
       "    <tr>\n",
       "      <th>0</th>\n",
       "      <td>42</td>\n",
       "      <td>San Francisco</td>\n",
       "    </tr>\n",
       "    <tr>\n",
       "      <th>1</th>\n",
       "      <td>52</td>\n",
       "      <td>Baltimore</td>\n",
       "    </tr>\n",
       "    <tr>\n",
       "      <th>2</th>\n",
       "      <td>36</td>\n",
       "      <td>Miami</td>\n",
       "    </tr>\n",
       "    <tr>\n",
       "      <th>3</th>\n",
       "      <td>24</td>\n",
       "      <td>Douglas</td>\n",
       "    </tr>\n",
       "    <tr>\n",
       "      <th>4</th>\n",
       "      <td>73</td>\n",
       "      <td>Boston</td>\n",
       "    </tr>\n",
       "  </tbody>\n",
       "</table>\n",
       "</div>"
      ],
      "text/plain": [
       "   age           city\n",
       "0   42  San Francisco\n",
       "1   52      Baltimore\n",
       "2   36          Miami\n",
       "3   24        Douglas\n",
       "4   73         Boston"
      ]
     },
     "execution_count": 152,
     "metadata": {},
     "output_type": "execute_result"
    }
   ],
   "source": [
    "DataFrame(raw_data, columns = [\"age\", \"city\"])"
   ]
  },
  {
   "cell_type": "code",
   "execution_count": 153,
   "metadata": {
    "ExecuteTime": {
     "end_time": "2021-03-24T06:41:38.861022Z",
     "start_time": "2021-03-24T06:41:38.839022Z"
    }
   },
   "outputs": [
    {
     "data": {
      "text/html": [
       "<div>\n",
       "<style scoped>\n",
       "    .dataframe tbody tr th:only-of-type {\n",
       "        vertical-align: middle;\n",
       "    }\n",
       "\n",
       "    .dataframe tbody tr th {\n",
       "        vertical-align: top;\n",
       "    }\n",
       "\n",
       "    .dataframe thead th {\n",
       "        text-align: right;\n",
       "    }\n",
       "</style>\n",
       "<table border=\"1\" class=\"dataframe\">\n",
       "  <thead>\n",
       "    <tr style=\"text-align: right;\">\n",
       "      <th></th>\n",
       "      <th>first_name</th>\n",
       "      <th>last_name</th>\n",
       "      <th>age</th>\n",
       "      <th>city</th>\n",
       "      <th>debt</th>\n",
       "    </tr>\n",
       "  </thead>\n",
       "  <tbody>\n",
       "    <tr>\n",
       "      <th>0</th>\n",
       "      <td>Jason</td>\n",
       "      <td>Miller</td>\n",
       "      <td>42</td>\n",
       "      <td>San Francisco</td>\n",
       "      <td>NaN</td>\n",
       "    </tr>\n",
       "    <tr>\n",
       "      <th>1</th>\n",
       "      <td>Molly</td>\n",
       "      <td>Jacobson</td>\n",
       "      <td>52</td>\n",
       "      <td>Baltimore</td>\n",
       "      <td>NaN</td>\n",
       "    </tr>\n",
       "    <tr>\n",
       "      <th>2</th>\n",
       "      <td>Tina</td>\n",
       "      <td>Ali</td>\n",
       "      <td>36</td>\n",
       "      <td>Miami</td>\n",
       "      <td>NaN</td>\n",
       "    </tr>\n",
       "    <tr>\n",
       "      <th>3</th>\n",
       "      <td>Jake</td>\n",
       "      <td>Milner</td>\n",
       "      <td>24</td>\n",
       "      <td>Douglas</td>\n",
       "      <td>NaN</td>\n",
       "    </tr>\n",
       "    <tr>\n",
       "      <th>4</th>\n",
       "      <td>Amy</td>\n",
       "      <td>Cooze</td>\n",
       "      <td>73</td>\n",
       "      <td>Boston</td>\n",
       "      <td>NaN</td>\n",
       "    </tr>\n",
       "  </tbody>\n",
       "</table>\n",
       "</div>"
      ],
      "text/plain": [
       "  first_name last_name  age           city debt\n",
       "0      Jason    Miller   42  San Francisco  NaN\n",
       "1      Molly  Jacobson   52      Baltimore  NaN\n",
       "2       Tina       Ali   36          Miami  NaN\n",
       "3       Jake    Milner   24        Douglas  NaN\n",
       "4        Amy     Cooze   73         Boston  NaN"
      ]
     },
     "execution_count": 153,
     "metadata": {},
     "output_type": "execute_result"
    }
   ],
   "source": [
    "DataFrame(raw_data, \n",
    "          columns = [\"first_name\",\"last_name\",\"age\", \"city\", \"debt\"])"
   ]
  },
  {
   "cell_type": "code",
   "execution_count": 154,
   "metadata": {
    "ExecuteTime": {
     "end_time": "2021-03-24T06:41:38.987081Z",
     "start_time": "2021-03-24T06:41:38.965522Z"
    }
   },
   "outputs": [
    {
     "data": {
      "text/plain": [
       "0    Jason\n",
       "1    Molly\n",
       "2     Tina\n",
       "3     Jake\n",
       "4      Amy\n",
       "Name: first_name, dtype: object"
      ]
     },
     "execution_count": 154,
     "metadata": {},
     "output_type": "execute_result"
    }
   ],
   "source": [
    "df = DataFrame(raw_data, columns = [\"first_name\",\"last_name\",\"age\", \"city\", \"debt\"])\n",
    "df.first_name"
   ]
  },
  {
   "cell_type": "code",
   "execution_count": 155,
   "metadata": {
    "ExecuteTime": {
     "end_time": "2021-03-24T06:41:39.112900Z",
     "start_time": "2021-03-24T06:41:39.096922Z"
    }
   },
   "outputs": [
    {
     "data": {
      "text/plain": [
       "0    Jason\n",
       "1    Molly\n",
       "2     Tina\n",
       "3     Jake\n",
       "4      Amy\n",
       "Name: first_name, dtype: object"
      ]
     },
     "execution_count": 155,
     "metadata": {},
     "output_type": "execute_result"
    }
   ],
   "source": [
    "df[\"first_name\"]"
   ]
  },
  {
   "cell_type": "code",
   "execution_count": 156,
   "metadata": {
    "ExecuteTime": {
     "end_time": "2021-03-24T06:41:39.252429Z",
     "start_time": "2021-03-24T06:41:39.232143Z"
    }
   },
   "outputs": [
    {
     "data": {
      "text/plain": [
       "first_name        Molly\n",
       "last_name      Jacobson\n",
       "age                  52\n",
       "city          Baltimore\n",
       "debt                NaN\n",
       "Name: 1, dtype: object"
      ]
     },
     "execution_count": 156,
     "metadata": {},
     "output_type": "execute_result"
    }
   ],
   "source": [
    "df.loc[1]"
   ]
  },
  {
   "cell_type": "code",
   "execution_count": 157,
   "metadata": {
    "ExecuteTime": {
     "end_time": "2021-03-24T06:41:39.377040Z",
     "start_time": "2021-03-24T06:41:39.369041Z"
    }
   },
   "outputs": [
    {
     "data": {
      "text/plain": [
       "1    52\n",
       "2    36\n",
       "3    24\n",
       "4    73\n",
       "Name: age, dtype: int64"
      ]
     },
     "execution_count": 157,
     "metadata": {},
     "output_type": "execute_result"
    }
   ],
   "source": [
    "df[\"age\"].iloc[1:]"
   ]
  },
  {
   "cell_type": "code",
   "execution_count": 158,
   "metadata": {
    "ExecuteTime": {
     "end_time": "2021-03-24T06:41:39.609996Z",
     "start_time": "2021-03-24T06:41:39.594985Z"
    }
   },
   "outputs": [
    {
     "data": {
      "text/plain": [
       "49   NaN\n",
       "48   NaN\n",
       "47   NaN\n",
       "46   NaN\n",
       "45   NaN\n",
       "1    NaN\n",
       "2    NaN\n",
       "3    NaN\n",
       "4    NaN\n",
       "5    NaN\n",
       "dtype: float64"
      ]
     },
     "execution_count": 158,
     "metadata": {},
     "output_type": "execute_result"
    }
   ],
   "source": [
    "s = pd.Series(np.nan, index=[49,48,47,46,45, 1, 2, 3, 4, 5])\n",
    "s"
   ]
  },
  {
   "cell_type": "code",
   "execution_count": 159,
   "metadata": {
    "ExecuteTime": {
     "end_time": "2021-03-24T06:41:39.718037Z",
     "start_time": "2021-03-24T06:41:39.710011Z"
    }
   },
   "outputs": [
    {
     "data": {
      "text/plain": [
       "49   NaN\n",
       "48   NaN\n",
       "47   NaN\n",
       "dtype: float64"
      ]
     },
     "execution_count": 159,
     "metadata": {},
     "output_type": "execute_result"
    }
   ],
   "source": [
    "s.iloc[:3]"
   ]
  },
  {
   "cell_type": "code",
   "execution_count": 160,
   "metadata": {
    "ExecuteTime": {
     "end_time": "2021-03-24T06:41:39.874658Z",
     "start_time": "2021-03-24T06:41:39.857675Z"
    }
   },
   "outputs": [
    {
     "data": {
      "text/plain": [
       "0     True\n",
       "1     True\n",
       "2    False\n",
       "3    False\n",
       "4     True\n",
       "Name: age, dtype: bool"
      ]
     },
     "execution_count": 160,
     "metadata": {},
     "output_type": "execute_result"
    }
   ],
   "source": [
    "df.age > 40"
   ]
  },
  {
   "cell_type": "code",
   "execution_count": 161,
   "metadata": {
    "ExecuteTime": {
     "end_time": "2021-03-24T06:41:40.014851Z",
     "start_time": "2021-03-24T06:41:39.990650Z"
    }
   },
   "outputs": [
    {
     "data": {
      "text/html": [
       "<div>\n",
       "<style scoped>\n",
       "    .dataframe tbody tr th:only-of-type {\n",
       "        vertical-align: middle;\n",
       "    }\n",
       "\n",
       "    .dataframe tbody tr th {\n",
       "        vertical-align: top;\n",
       "    }\n",
       "\n",
       "    .dataframe thead th {\n",
       "        text-align: right;\n",
       "    }\n",
       "</style>\n",
       "<table border=\"1\" class=\"dataframe\">\n",
       "  <thead>\n",
       "    <tr style=\"text-align: right;\">\n",
       "      <th></th>\n",
       "      <th>first_name</th>\n",
       "      <th>last_name</th>\n",
       "      <th>age</th>\n",
       "      <th>city</th>\n",
       "      <th>debt</th>\n",
       "    </tr>\n",
       "  </thead>\n",
       "  <tbody>\n",
       "    <tr>\n",
       "      <th>0</th>\n",
       "      <td>Jason</td>\n",
       "      <td>Miller</td>\n",
       "      <td>42</td>\n",
       "      <td>San Francisco</td>\n",
       "      <td>True</td>\n",
       "    </tr>\n",
       "    <tr>\n",
       "      <th>1</th>\n",
       "      <td>Molly</td>\n",
       "      <td>Jacobson</td>\n",
       "      <td>52</td>\n",
       "      <td>Baltimore</td>\n",
       "      <td>True</td>\n",
       "    </tr>\n",
       "    <tr>\n",
       "      <th>2</th>\n",
       "      <td>Tina</td>\n",
       "      <td>Ali</td>\n",
       "      <td>36</td>\n",
       "      <td>Miami</td>\n",
       "      <td>False</td>\n",
       "    </tr>\n",
       "    <tr>\n",
       "      <th>3</th>\n",
       "      <td>Jake</td>\n",
       "      <td>Milner</td>\n",
       "      <td>24</td>\n",
       "      <td>Douglas</td>\n",
       "      <td>False</td>\n",
       "    </tr>\n",
       "    <tr>\n",
       "      <th>4</th>\n",
       "      <td>Amy</td>\n",
       "      <td>Cooze</td>\n",
       "      <td>73</td>\n",
       "      <td>Boston</td>\n",
       "      <td>True</td>\n",
       "    </tr>\n",
       "  </tbody>\n",
       "</table>\n",
       "</div>"
      ],
      "text/plain": [
       "  first_name last_name  age           city   debt\n",
       "0      Jason    Miller   42  San Francisco   True\n",
       "1      Molly  Jacobson   52      Baltimore   True\n",
       "2       Tina       Ali   36          Miami  False\n",
       "3       Jake    Milner   24        Douglas  False\n",
       "4        Amy     Cooze   73         Boston   True"
      ]
     },
     "execution_count": 161,
     "metadata": {},
     "output_type": "execute_result"
    }
   ],
   "source": [
    "df.debt = df.age > 40\n",
    "df"
   ]
  },
  {
   "cell_type": "code",
   "execution_count": 162,
   "metadata": {
    "ExecuteTime": {
     "end_time": "2021-03-24T06:41:40.107515Z",
     "start_time": "2021-03-24T06:41:40.092124Z"
    }
   },
   "outputs": [
    {
     "data": {
      "text/plain": [
       "0    M\n",
       "1    F\n",
       "3    F\n",
       "dtype: object"
      ]
     },
     "execution_count": 162,
     "metadata": {},
     "output_type": "execute_result"
    }
   ],
   "source": [
    "values = Series(data=[\"M\",\"F\",\"F\"],index=[0,1,3])\n",
    "values"
   ]
  },
  {
   "cell_type": "code",
   "execution_count": 163,
   "metadata": {
    "ExecuteTime": {
     "end_time": "2021-03-24T06:41:40.264766Z",
     "start_time": "2021-03-24T06:41:40.246767Z"
    }
   },
   "outputs": [
    {
     "data": {
      "text/html": [
       "<div>\n",
       "<style scoped>\n",
       "    .dataframe tbody tr th:only-of-type {\n",
       "        vertical-align: middle;\n",
       "    }\n",
       "\n",
       "    .dataframe tbody tr th {\n",
       "        vertical-align: top;\n",
       "    }\n",
       "\n",
       "    .dataframe thead th {\n",
       "        text-align: right;\n",
       "    }\n",
       "</style>\n",
       "<table border=\"1\" class=\"dataframe\">\n",
       "  <thead>\n",
       "    <tr style=\"text-align: right;\">\n",
       "      <th></th>\n",
       "      <th>first_name</th>\n",
       "      <th>last_name</th>\n",
       "      <th>age</th>\n",
       "      <th>city</th>\n",
       "      <th>debt</th>\n",
       "      <th>sex</th>\n",
       "    </tr>\n",
       "  </thead>\n",
       "  <tbody>\n",
       "    <tr>\n",
       "      <th>0</th>\n",
       "      <td>Jason</td>\n",
       "      <td>Miller</td>\n",
       "      <td>42</td>\n",
       "      <td>San Francisco</td>\n",
       "      <td>True</td>\n",
       "      <td>M</td>\n",
       "    </tr>\n",
       "    <tr>\n",
       "      <th>1</th>\n",
       "      <td>Molly</td>\n",
       "      <td>Jacobson</td>\n",
       "      <td>52</td>\n",
       "      <td>Baltimore</td>\n",
       "      <td>True</td>\n",
       "      <td>F</td>\n",
       "    </tr>\n",
       "    <tr>\n",
       "      <th>2</th>\n",
       "      <td>Tina</td>\n",
       "      <td>Ali</td>\n",
       "      <td>36</td>\n",
       "      <td>Miami</td>\n",
       "      <td>False</td>\n",
       "      <td>NaN</td>\n",
       "    </tr>\n",
       "    <tr>\n",
       "      <th>3</th>\n",
       "      <td>Jake</td>\n",
       "      <td>Milner</td>\n",
       "      <td>24</td>\n",
       "      <td>Douglas</td>\n",
       "      <td>False</td>\n",
       "      <td>F</td>\n",
       "    </tr>\n",
       "    <tr>\n",
       "      <th>4</th>\n",
       "      <td>Amy</td>\n",
       "      <td>Cooze</td>\n",
       "      <td>73</td>\n",
       "      <td>Boston</td>\n",
       "      <td>True</td>\n",
       "      <td>NaN</td>\n",
       "    </tr>\n",
       "  </tbody>\n",
       "</table>\n",
       "</div>"
      ],
      "text/plain": [
       "  first_name last_name  age           city   debt  sex\n",
       "0      Jason    Miller   42  San Francisco   True    M\n",
       "1      Molly  Jacobson   52      Baltimore   True    F\n",
       "2       Tina       Ali   36          Miami  False  NaN\n",
       "3       Jake    Milner   24        Douglas  False    F\n",
       "4        Amy     Cooze   73         Boston   True  NaN"
      ]
     },
     "execution_count": 163,
     "metadata": {},
     "output_type": "execute_result"
    }
   ],
   "source": [
    "df[\"sex\"] = values\n",
    "df"
   ]
  },
  {
   "cell_type": "code",
   "execution_count": 164,
   "metadata": {
    "ExecuteTime": {
     "end_time": "2021-03-24T06:41:40.544691Z",
     "start_time": "2021-03-24T06:41:40.523693Z"
    }
   },
   "outputs": [
    {
     "data": {
      "text/html": [
       "<div>\n",
       "<style scoped>\n",
       "    .dataframe tbody tr th:only-of-type {\n",
       "        vertical-align: middle;\n",
       "    }\n",
       "\n",
       "    .dataframe tbody tr th {\n",
       "        vertical-align: top;\n",
       "    }\n",
       "\n",
       "    .dataframe thead th {\n",
       "        text-align: right;\n",
       "    }\n",
       "</style>\n",
       "<table border=\"1\" class=\"dataframe\">\n",
       "  <thead>\n",
       "    <tr style=\"text-align: right;\">\n",
       "      <th></th>\n",
       "      <th>0</th>\n",
       "      <th>1</th>\n",
       "      <th>2</th>\n",
       "      <th>3</th>\n",
       "      <th>4</th>\n",
       "    </tr>\n",
       "  </thead>\n",
       "  <tbody>\n",
       "    <tr>\n",
       "      <th>first_name</th>\n",
       "      <td>Jason</td>\n",
       "      <td>Molly</td>\n",
       "      <td>Tina</td>\n",
       "      <td>Jake</td>\n",
       "      <td>Amy</td>\n",
       "    </tr>\n",
       "    <tr>\n",
       "      <th>last_name</th>\n",
       "      <td>Miller</td>\n",
       "      <td>Jacobson</td>\n",
       "      <td>Ali</td>\n",
       "      <td>Milner</td>\n",
       "      <td>Cooze</td>\n",
       "    </tr>\n",
       "    <tr>\n",
       "      <th>age</th>\n",
       "      <td>42</td>\n",
       "      <td>52</td>\n",
       "      <td>36</td>\n",
       "      <td>24</td>\n",
       "      <td>73</td>\n",
       "    </tr>\n",
       "    <tr>\n",
       "      <th>city</th>\n",
       "      <td>San Francisco</td>\n",
       "      <td>Baltimore</td>\n",
       "      <td>Miami</td>\n",
       "      <td>Douglas</td>\n",
       "      <td>Boston</td>\n",
       "    </tr>\n",
       "    <tr>\n",
       "      <th>debt</th>\n",
       "      <td>True</td>\n",
       "      <td>True</td>\n",
       "      <td>False</td>\n",
       "      <td>False</td>\n",
       "      <td>True</td>\n",
       "    </tr>\n",
       "    <tr>\n",
       "      <th>sex</th>\n",
       "      <td>M</td>\n",
       "      <td>F</td>\n",
       "      <td>NaN</td>\n",
       "      <td>F</td>\n",
       "      <td>NaN</td>\n",
       "    </tr>\n",
       "  </tbody>\n",
       "</table>\n",
       "</div>"
      ],
      "text/plain": [
       "                        0          1      2        3       4\n",
       "first_name          Jason      Molly   Tina     Jake     Amy\n",
       "last_name          Miller   Jacobson    Ali   Milner   Cooze\n",
       "age                    42         52     36       24      73\n",
       "city        San Francisco  Baltimore  Miami  Douglas  Boston\n",
       "debt                 True       True  False    False    True\n",
       "sex                     M          F    NaN        F     NaN"
      ]
     },
     "execution_count": 164,
     "metadata": {},
     "output_type": "execute_result"
    }
   ],
   "source": [
    "df.T"
   ]
  },
  {
   "cell_type": "code",
   "execution_count": 165,
   "metadata": {
    "ExecuteTime": {
     "end_time": "2021-03-24T06:41:40.670327Z",
     "start_time": "2021-03-24T06:41:40.657358Z"
    }
   },
   "outputs": [
    {
     "data": {
      "text/plain": [
       "array([['Jason', 'Miller', 42, 'San Francisco', True, 'M'],\n",
       "       ['Molly', 'Jacobson', 52, 'Baltimore', True, 'F'],\n",
       "       ['Tina', 'Ali', 36, 'Miami', False, nan],\n",
       "       ['Jake', 'Milner', 24, 'Douglas', False, 'F'],\n",
       "       ['Amy', 'Cooze', 73, 'Boston', True, nan]], dtype=object)"
      ]
     },
     "execution_count": 165,
     "metadata": {},
     "output_type": "execute_result"
    }
   ],
   "source": [
    "df.values"
   ]
  },
  {
   "cell_type": "code",
   "execution_count": 166,
   "metadata": {
    "ExecuteTime": {
     "end_time": "2021-03-24T06:41:40.933252Z",
     "start_time": "2021-03-24T06:41:40.824194Z"
    }
   },
   "outputs": [
    {
     "data": {
      "text/plain": [
       "',first_name,last_name,age,city,debt,sex\\r\\n0,Jason,Miller,42,San Francisco,True,M\\r\\n1,Molly,Jacobson,52,Baltimore,True,F\\r\\n2,Tina,Ali,36,Miami,False,\\r\\n3,Jake,Milner,24,Douglas,False,F\\r\\n4,Amy,Cooze,73,Boston,True,\\r\\n'"
      ]
     },
     "execution_count": 166,
     "metadata": {},
     "output_type": "execute_result"
    }
   ],
   "source": [
    "df.to_csv()"
   ]
  },
  {
   "cell_type": "code",
   "execution_count": 167,
   "metadata": {
    "ExecuteTime": {
     "end_time": "2021-03-24T06:41:40.995991Z",
     "start_time": "2021-03-24T06:41:40.973382Z"
    }
   },
   "outputs": [
    {
     "data": {
      "text/html": [
       "<div>\n",
       "<style scoped>\n",
       "    .dataframe tbody tr th:only-of-type {\n",
       "        vertical-align: middle;\n",
       "    }\n",
       "\n",
       "    .dataframe tbody tr th {\n",
       "        vertical-align: top;\n",
       "    }\n",
       "\n",
       "    .dataframe thead th {\n",
       "        text-align: right;\n",
       "    }\n",
       "</style>\n",
       "<table border=\"1\" class=\"dataframe\">\n",
       "  <thead>\n",
       "    <tr style=\"text-align: right;\">\n",
       "      <th></th>\n",
       "      <th>first_name</th>\n",
       "      <th>last_name</th>\n",
       "      <th>age</th>\n",
       "      <th>city</th>\n",
       "      <th>sex</th>\n",
       "    </tr>\n",
       "  </thead>\n",
       "  <tbody>\n",
       "    <tr>\n",
       "      <th>0</th>\n",
       "      <td>Jason</td>\n",
       "      <td>Miller</td>\n",
       "      <td>42</td>\n",
       "      <td>San Francisco</td>\n",
       "      <td>M</td>\n",
       "    </tr>\n",
       "    <tr>\n",
       "      <th>1</th>\n",
       "      <td>Molly</td>\n",
       "      <td>Jacobson</td>\n",
       "      <td>52</td>\n",
       "      <td>Baltimore</td>\n",
       "      <td>F</td>\n",
       "    </tr>\n",
       "    <tr>\n",
       "      <th>2</th>\n",
       "      <td>Tina</td>\n",
       "      <td>Ali</td>\n",
       "      <td>36</td>\n",
       "      <td>Miami</td>\n",
       "      <td>NaN</td>\n",
       "    </tr>\n",
       "    <tr>\n",
       "      <th>3</th>\n",
       "      <td>Jake</td>\n",
       "      <td>Milner</td>\n",
       "      <td>24</td>\n",
       "      <td>Douglas</td>\n",
       "      <td>F</td>\n",
       "    </tr>\n",
       "    <tr>\n",
       "      <th>4</th>\n",
       "      <td>Amy</td>\n",
       "      <td>Cooze</td>\n",
       "      <td>73</td>\n",
       "      <td>Boston</td>\n",
       "      <td>NaN</td>\n",
       "    </tr>\n",
       "  </tbody>\n",
       "</table>\n",
       "</div>"
      ],
      "text/plain": [
       "  first_name last_name  age           city  sex\n",
       "0      Jason    Miller   42  San Francisco    M\n",
       "1      Molly  Jacobson   52      Baltimore    F\n",
       "2       Tina       Ali   36          Miami  NaN\n",
       "3       Jake    Milner   24        Douglas    F\n",
       "4        Amy     Cooze   73         Boston  NaN"
      ]
     },
     "execution_count": 167,
     "metadata": {},
     "output_type": "execute_result"
    }
   ],
   "source": [
    "del df[\"debt\"]\n",
    "df"
   ]
  },
  {
   "cell_type": "code",
   "execution_count": 168,
   "metadata": {
    "ExecuteTime": {
     "end_time": "2021-03-24T06:41:41.149445Z",
     "start_time": "2021-03-24T06:41:41.124322Z"
    }
   },
   "outputs": [
    {
     "data": {
      "text/html": [
       "<div>\n",
       "<style scoped>\n",
       "    .dataframe tbody tr th:only-of-type {\n",
       "        vertical-align: middle;\n",
       "    }\n",
       "\n",
       "    .dataframe tbody tr th {\n",
       "        vertical-align: top;\n",
       "    }\n",
       "\n",
       "    .dataframe thead th {\n",
       "        text-align: right;\n",
       "    }\n",
       "</style>\n",
       "<table border=\"1\" class=\"dataframe\">\n",
       "  <thead>\n",
       "    <tr style=\"text-align: right;\">\n",
       "      <th></th>\n",
       "      <th>Nevada</th>\n",
       "      <th>Ohio</th>\n",
       "    </tr>\n",
       "  </thead>\n",
       "  <tbody>\n",
       "    <tr>\n",
       "      <th>2001</th>\n",
       "      <td>2.4</td>\n",
       "      <td>1.7</td>\n",
       "    </tr>\n",
       "    <tr>\n",
       "      <th>2002</th>\n",
       "      <td>2.9</td>\n",
       "      <td>3.6</td>\n",
       "    </tr>\n",
       "    <tr>\n",
       "      <th>2000</th>\n",
       "      <td>NaN</td>\n",
       "      <td>1.5</td>\n",
       "    </tr>\n",
       "  </tbody>\n",
       "</table>\n",
       "</div>"
      ],
      "text/plain": [
       "      Nevada  Ohio\n",
       "2001     2.4   1.7\n",
       "2002     2.9   3.6\n",
       "2000     NaN   1.5"
      ]
     },
     "execution_count": 168,
     "metadata": {},
     "output_type": "execute_result"
    }
   ],
   "source": [
    "pop = {'Nevada': {2001: 2.4, 2002: 2.9},\n",
    " 'Ohio': {2000: 1.5, 2001: 1.7, 2002: 3.6}}\n",
    "\n",
    "DataFrame(pop)"
   ]
  },
  {
   "cell_type": "markdown",
   "metadata": {},
   "source": [
    "### Selection"
   ]
  },
  {
   "cell_type": "code",
   "execution_count": 169,
   "metadata": {
    "ExecuteTime": {
     "end_time": "2021-03-24T06:41:41.474636Z",
     "start_time": "2021-03-24T06:41:41.441636Z"
    }
   },
   "outputs": [
    {
     "data": {
      "text/html": [
       "<div>\n",
       "<style scoped>\n",
       "    .dataframe tbody tr th:only-of-type {\n",
       "        vertical-align: middle;\n",
       "    }\n",
       "\n",
       "    .dataframe tbody tr th {\n",
       "        vertical-align: top;\n",
       "    }\n",
       "\n",
       "    .dataframe thead th {\n",
       "        text-align: right;\n",
       "    }\n",
       "</style>\n",
       "<table border=\"1\" class=\"dataframe\">\n",
       "  <thead>\n",
       "    <tr style=\"text-align: right;\">\n",
       "      <th></th>\n",
       "      <th>account</th>\n",
       "      <th>name</th>\n",
       "      <th>street</th>\n",
       "      <th>city</th>\n",
       "      <th>state</th>\n",
       "      <th>postal-code</th>\n",
       "      <th>Jan</th>\n",
       "      <th>Feb</th>\n",
       "      <th>Mar</th>\n",
       "    </tr>\n",
       "  </thead>\n",
       "  <tbody>\n",
       "    <tr>\n",
       "      <th>0</th>\n",
       "      <td>211829</td>\n",
       "      <td>Kerluke, Koepp and Hilpert</td>\n",
       "      <td>34456 Sean Highway</td>\n",
       "      <td>New Jaycob</td>\n",
       "      <td>Texas</td>\n",
       "      <td>28752</td>\n",
       "      <td>10000</td>\n",
       "      <td>62000</td>\n",
       "      <td>35000</td>\n",
       "    </tr>\n",
       "    <tr>\n",
       "      <th>1</th>\n",
       "      <td>320563</td>\n",
       "      <td>Walter-Trantow</td>\n",
       "      <td>1311 Alvis Tunnel</td>\n",
       "      <td>Port Khadijah</td>\n",
       "      <td>NorthCarolina</td>\n",
       "      <td>38365</td>\n",
       "      <td>95000</td>\n",
       "      <td>45000</td>\n",
       "      <td>35000</td>\n",
       "    </tr>\n",
       "    <tr>\n",
       "      <th>2</th>\n",
       "      <td>648336</td>\n",
       "      <td>Bashirian, Kunde and Price</td>\n",
       "      <td>62184 Schamberger Underpass Apt. 231</td>\n",
       "      <td>New Lilianland</td>\n",
       "      <td>Iowa</td>\n",
       "      <td>76517</td>\n",
       "      <td>91000</td>\n",
       "      <td>120000</td>\n",
       "      <td>35000</td>\n",
       "    </tr>\n",
       "    <tr>\n",
       "      <th>3</th>\n",
       "      <td>109996</td>\n",
       "      <td>D'Amore, Gleichner and Bode</td>\n",
       "      <td>155 Fadel Crescent Apt. 144</td>\n",
       "      <td>Hyattburgh</td>\n",
       "      <td>Maine</td>\n",
       "      <td>46021</td>\n",
       "      <td>45000</td>\n",
       "      <td>120000</td>\n",
       "      <td>10000</td>\n",
       "    </tr>\n",
       "    <tr>\n",
       "      <th>4</th>\n",
       "      <td>121213</td>\n",
       "      <td>Bauch-Goldner</td>\n",
       "      <td>7274 Marissa Common</td>\n",
       "      <td>Shanahanchester</td>\n",
       "      <td>California</td>\n",
       "      <td>49681</td>\n",
       "      <td>162000</td>\n",
       "      <td>120000</td>\n",
       "      <td>35000</td>\n",
       "    </tr>\n",
       "  </tbody>\n",
       "</table>\n",
       "</div>"
      ],
      "text/plain": [
       "   account                         name                                street  \\\n",
       "0   211829   Kerluke, Koepp and Hilpert                    34456 Sean Highway   \n",
       "1   320563               Walter-Trantow                     1311 Alvis Tunnel   \n",
       "2   648336   Bashirian, Kunde and Price  62184 Schamberger Underpass Apt. 231   \n",
       "3   109996  D'Amore, Gleichner and Bode           155 Fadel Crescent Apt. 144   \n",
       "4   121213                Bauch-Goldner                   7274 Marissa Common   \n",
       "\n",
       "              city          state  postal-code     Jan     Feb    Mar  \n",
       "0       New Jaycob          Texas        28752   10000   62000  35000  \n",
       "1    Port Khadijah  NorthCarolina        38365   95000   45000  35000  \n",
       "2   New Lilianland           Iowa        76517   91000  120000  35000  \n",
       "3       Hyattburgh          Maine        46021   45000  120000  10000  \n",
       "4  Shanahanchester     California        49681  162000  120000  35000  "
      ]
     },
     "execution_count": 169,
     "metadata": {},
     "output_type": "execute_result"
    }
   ],
   "source": [
    "df = pd.read_excel(\"/data/excel-comp-data.xlsx\")\n",
    "df.head()"
   ]
  },
  {
   "cell_type": "code",
   "execution_count": 170,
   "metadata": {
    "ExecuteTime": {
     "end_time": "2021-03-24T06:41:41.615905Z",
     "start_time": "2021-03-24T06:41:41.610904Z"
    }
   },
   "outputs": [
    {
     "data": {
      "text/plain": [
       "0    211829\n",
       "1    320563\n",
       "Name: account, dtype: int64"
      ]
     },
     "execution_count": 170,
     "metadata": {},
     "output_type": "execute_result"
    }
   ],
   "source": [
    "df[\"account\"].head(2)"
   ]
  },
  {
   "cell_type": "code",
   "execution_count": 171,
   "metadata": {
    "ExecuteTime": {
     "end_time": "2021-03-24T06:41:47.261059Z",
     "start_time": "2021-03-24T06:41:47.238123Z"
    }
   },
   "outputs": [
    {
     "data": {
      "text/html": [
       "<div>\n",
       "<style scoped>\n",
       "    .dataframe tbody tr th:only-of-type {\n",
       "        vertical-align: middle;\n",
       "    }\n",
       "\n",
       "    .dataframe tbody tr th {\n",
       "        vertical-align: top;\n",
       "    }\n",
       "\n",
       "    .dataframe thead th {\n",
       "        text-align: right;\n",
       "    }\n",
       "</style>\n",
       "<table border=\"1\" class=\"dataframe\">\n",
       "  <thead>\n",
       "    <tr style=\"text-align: right;\">\n",
       "      <th></th>\n",
       "      <th>account</th>\n",
       "      <th>street</th>\n",
       "      <th>state</th>\n",
       "    </tr>\n",
       "  </thead>\n",
       "  <tbody>\n",
       "    <tr>\n",
       "      <th>0</th>\n",
       "      <td>211829</td>\n",
       "      <td>34456 Sean Highway</td>\n",
       "      <td>Texas</td>\n",
       "    </tr>\n",
       "    <tr>\n",
       "      <th>1</th>\n",
       "      <td>320563</td>\n",
       "      <td>1311 Alvis Tunnel</td>\n",
       "      <td>NorthCarolina</td>\n",
       "    </tr>\n",
       "    <tr>\n",
       "      <th>2</th>\n",
       "      <td>648336</td>\n",
       "      <td>62184 Schamberger Underpass Apt. 231</td>\n",
       "      <td>Iowa</td>\n",
       "    </tr>\n",
       "  </tbody>\n",
       "</table>\n",
       "</div>"
      ],
      "text/plain": [
       "   account                                street          state\n",
       "0   211829                    34456 Sean Highway          Texas\n",
       "1   320563                     1311 Alvis Tunnel  NorthCarolina\n",
       "2   648336  62184 Schamberger Underpass Apt. 231           Iowa"
      ]
     },
     "execution_count": 171,
     "metadata": {},
     "output_type": "execute_result"
    }
   ],
   "source": [
    "df[[\"account\", \"street\", \"state\"]].head(3)"
   ]
  },
  {
   "cell_type": "code",
   "execution_count": 172,
   "metadata": {
    "ExecuteTime": {
     "end_time": "2021-03-24T06:41:47.434085Z",
     "start_time": "2021-03-24T06:41:47.423049Z"
    }
   },
   "outputs": [
    {
     "data": {
      "text/html": [
       "<div>\n",
       "<style scoped>\n",
       "    .dataframe tbody tr th:only-of-type {\n",
       "        vertical-align: middle;\n",
       "    }\n",
       "\n",
       "    .dataframe tbody tr th {\n",
       "        vertical-align: top;\n",
       "    }\n",
       "\n",
       "    .dataframe thead th {\n",
       "        text-align: right;\n",
       "    }\n",
       "</style>\n",
       "<table border=\"1\" class=\"dataframe\">\n",
       "  <thead>\n",
       "    <tr style=\"text-align: right;\">\n",
       "      <th></th>\n",
       "      <th>account</th>\n",
       "      <th>name</th>\n",
       "      <th>street</th>\n",
       "      <th>city</th>\n",
       "      <th>state</th>\n",
       "      <th>postal-code</th>\n",
       "      <th>Jan</th>\n",
       "      <th>Feb</th>\n",
       "      <th>Mar</th>\n",
       "    </tr>\n",
       "  </thead>\n",
       "  <tbody>\n",
       "    <tr>\n",
       "      <th>0</th>\n",
       "      <td>211829</td>\n",
       "      <td>Kerluke, Koepp and Hilpert</td>\n",
       "      <td>34456 Sean Highway</td>\n",
       "      <td>New Jaycob</td>\n",
       "      <td>Texas</td>\n",
       "      <td>28752</td>\n",
       "      <td>10000</td>\n",
       "      <td>62000</td>\n",
       "      <td>35000</td>\n",
       "    </tr>\n",
       "  </tbody>\n",
       "</table>\n",
       "</div>"
      ],
      "text/plain": [
       "   account                        name              street        city  state  \\\n",
       "0   211829  Kerluke, Koepp and Hilpert  34456 Sean Highway  New Jaycob  Texas   \n",
       "\n",
       "   postal-code    Jan    Feb    Mar  \n",
       "0        28752  10000  62000  35000  "
      ]
     },
     "execution_count": 172,
     "metadata": {},
     "output_type": "execute_result"
    }
   ],
   "source": [
    "df[:10].head(1)"
   ]
  },
  {
   "cell_type": "code",
   "execution_count": 173,
   "metadata": {
    "ExecuteTime": {
     "end_time": "2021-03-24T06:41:47.590039Z",
     "start_time": "2021-03-24T06:41:47.572159Z"
    }
   },
   "outputs": [
    {
     "data": {
      "text/plain": [
       "0    Kerluke, Koepp and Hilpert\n",
       "1                Walter-Trantow\n",
       "2    Bashirian, Kunde and Price\n",
       "Name: name, dtype: object"
      ]
     },
     "execution_count": 173,
     "metadata": {},
     "output_type": "execute_result"
    }
   ],
   "source": [
    "df[\"name\"][:3]"
   ]
  },
  {
   "cell_type": "code",
   "execution_count": 174,
   "metadata": {
    "ExecuteTime": {
     "end_time": "2021-03-24T06:41:47.730432Z",
     "start_time": "2021-03-24T06:41:47.710888Z"
    }
   },
   "outputs": [
    {
     "data": {
      "text/plain": [
       "0    211829\n",
       "1    320563\n",
       "2    648336\n",
       "Name: account, dtype: int64"
      ]
     },
     "execution_count": 174,
     "metadata": {},
     "output_type": "execute_result"
    }
   ],
   "source": [
    "account_serires = df[\"account\"]\n",
    "account_serires[:3]"
   ]
  },
  {
   "cell_type": "code",
   "execution_count": 175,
   "metadata": {
    "ExecuteTime": {
     "end_time": "2021-03-24T06:41:47.855765Z",
     "start_time": "2021-03-24T06:41:47.843731Z"
    }
   },
   "outputs": [
    {
     "data": {
      "text/plain": [
       "1    320563\n",
       "5    132971\n",
       "2    648336\n",
       "Name: account, dtype: int64"
      ]
     },
     "execution_count": 175,
     "metadata": {},
     "output_type": "execute_result"
    }
   ],
   "source": [
    "account_serires[[1,5,2]]"
   ]
  },
  {
   "cell_type": "code",
   "execution_count": 176,
   "metadata": {
    "ExecuteTime": {
     "end_time": "2021-03-24T06:41:47.978678Z",
     "start_time": "2021-03-24T06:41:47.970002Z"
    }
   },
   "outputs": [
    {
     "data": {
      "text/plain": [
       "0     211829\n",
       "3     109996\n",
       "4     121213\n",
       "5     132971\n",
       "6     145068\n",
       "7     205217\n",
       "8     209744\n",
       "9     212303\n",
       "10    214098\n",
       "11    231907\n",
       "12    242368\n",
       "Name: account, dtype: int64"
      ]
     },
     "execution_count": 176,
     "metadata": {},
     "output_type": "execute_result"
    }
   ],
   "source": [
    "account_serires[account_serires<250000]"
   ]
  },
  {
   "cell_type": "code",
   "execution_count": 177,
   "metadata": {
    "ExecuteTime": {
     "end_time": "2021-03-24T06:41:48.117666Z",
     "start_time": "2021-03-24T06:41:48.105677Z"
    }
   },
   "outputs": [],
   "source": [
    "df.index = df[\"account\"]"
   ]
  },
  {
   "cell_type": "code",
   "execution_count": 178,
   "metadata": {
    "ExecuteTime": {
     "end_time": "2021-03-24T06:41:48.255644Z",
     "start_time": "2021-03-24T06:41:48.229672Z"
    }
   },
   "outputs": [
    {
     "data": {
      "text/html": [
       "<div>\n",
       "<style scoped>\n",
       "    .dataframe tbody tr th:only-of-type {\n",
       "        vertical-align: middle;\n",
       "    }\n",
       "\n",
       "    .dataframe tbody tr th {\n",
       "        vertical-align: top;\n",
       "    }\n",
       "\n",
       "    .dataframe thead th {\n",
       "        text-align: right;\n",
       "    }\n",
       "</style>\n",
       "<table border=\"1\" class=\"dataframe\">\n",
       "  <thead>\n",
       "    <tr style=\"text-align: right;\">\n",
       "      <th></th>\n",
       "      <th>account</th>\n",
       "      <th>name</th>\n",
       "      <th>street</th>\n",
       "      <th>city</th>\n",
       "      <th>state</th>\n",
       "      <th>postal-code</th>\n",
       "      <th>Jan</th>\n",
       "      <th>Feb</th>\n",
       "      <th>Mar</th>\n",
       "    </tr>\n",
       "    <tr>\n",
       "      <th>account</th>\n",
       "      <th></th>\n",
       "      <th></th>\n",
       "      <th></th>\n",
       "      <th></th>\n",
       "      <th></th>\n",
       "      <th></th>\n",
       "      <th></th>\n",
       "      <th></th>\n",
       "      <th></th>\n",
       "    </tr>\n",
       "  </thead>\n",
       "  <tbody>\n",
       "    <tr>\n",
       "      <th>211829</th>\n",
       "      <td>211829</td>\n",
       "      <td>Kerluke, Koepp and Hilpert</td>\n",
       "      <td>34456 Sean Highway</td>\n",
       "      <td>New Jaycob</td>\n",
       "      <td>Texas</td>\n",
       "      <td>28752</td>\n",
       "      <td>10000</td>\n",
       "      <td>62000</td>\n",
       "      <td>35000</td>\n",
       "    </tr>\n",
       "    <tr>\n",
       "      <th>320563</th>\n",
       "      <td>320563</td>\n",
       "      <td>Walter-Trantow</td>\n",
       "      <td>1311 Alvis Tunnel</td>\n",
       "      <td>Port Khadijah</td>\n",
       "      <td>NorthCarolina</td>\n",
       "      <td>38365</td>\n",
       "      <td>95000</td>\n",
       "      <td>45000</td>\n",
       "      <td>35000</td>\n",
       "    </tr>\n",
       "    <tr>\n",
       "      <th>648336</th>\n",
       "      <td>648336</td>\n",
       "      <td>Bashirian, Kunde and Price</td>\n",
       "      <td>62184 Schamberger Underpass Apt. 231</td>\n",
       "      <td>New Lilianland</td>\n",
       "      <td>Iowa</td>\n",
       "      <td>76517</td>\n",
       "      <td>91000</td>\n",
       "      <td>120000</td>\n",
       "      <td>35000</td>\n",
       "    </tr>\n",
       "    <tr>\n",
       "      <th>109996</th>\n",
       "      <td>109996</td>\n",
       "      <td>D'Amore, Gleichner and Bode</td>\n",
       "      <td>155 Fadel Crescent Apt. 144</td>\n",
       "      <td>Hyattburgh</td>\n",
       "      <td>Maine</td>\n",
       "      <td>46021</td>\n",
       "      <td>45000</td>\n",
       "      <td>120000</td>\n",
       "      <td>10000</td>\n",
       "    </tr>\n",
       "    <tr>\n",
       "      <th>121213</th>\n",
       "      <td>121213</td>\n",
       "      <td>Bauch-Goldner</td>\n",
       "      <td>7274 Marissa Common</td>\n",
       "      <td>Shanahanchester</td>\n",
       "      <td>California</td>\n",
       "      <td>49681</td>\n",
       "      <td>162000</td>\n",
       "      <td>120000</td>\n",
       "      <td>35000</td>\n",
       "    </tr>\n",
       "  </tbody>\n",
       "</table>\n",
       "</div>"
      ],
      "text/plain": [
       "         account                         name  \\\n",
       "account                                         \n",
       "211829    211829   Kerluke, Koepp and Hilpert   \n",
       "320563    320563               Walter-Trantow   \n",
       "648336    648336   Bashirian, Kunde and Price   \n",
       "109996    109996  D'Amore, Gleichner and Bode   \n",
       "121213    121213                Bauch-Goldner   \n",
       "\n",
       "                                       street             city          state  \\\n",
       "account                                                                         \n",
       "211829                     34456 Sean Highway       New Jaycob          Texas   \n",
       "320563                      1311 Alvis Tunnel    Port Khadijah  NorthCarolina   \n",
       "648336   62184 Schamberger Underpass Apt. 231   New Lilianland           Iowa   \n",
       "109996            155 Fadel Crescent Apt. 144       Hyattburgh          Maine   \n",
       "121213                    7274 Marissa Common  Shanahanchester     California   \n",
       "\n",
       "         postal-code     Jan     Feb    Mar  \n",
       "account                                      \n",
       "211829         28752   10000   62000  35000  \n",
       "320563         38365   95000   45000  35000  \n",
       "648336         76517   91000  120000  35000  \n",
       "109996         46021   45000  120000  10000  \n",
       "121213         49681  162000  120000  35000  "
      ]
     },
     "execution_count": 178,
     "metadata": {},
     "output_type": "execute_result"
    }
   ],
   "source": [
    "df.head()"
   ]
  },
  {
   "cell_type": "code",
   "execution_count": 179,
   "metadata": {
    "ExecuteTime": {
     "end_time": "2021-03-24T06:41:48.379286Z",
     "start_time": "2021-03-24T06:41:48.363475Z"
    }
   },
   "outputs": [
    {
     "data": {
      "text/html": [
       "<div>\n",
       "<style scoped>\n",
       "    .dataframe tbody tr th:only-of-type {\n",
       "        vertical-align: middle;\n",
       "    }\n",
       "\n",
       "    .dataframe tbody tr th {\n",
       "        vertical-align: top;\n",
       "    }\n",
       "\n",
       "    .dataframe thead th {\n",
       "        text-align: right;\n",
       "    }\n",
       "</style>\n",
       "<table border=\"1\" class=\"dataframe\">\n",
       "  <thead>\n",
       "    <tr style=\"text-align: right;\">\n",
       "      <th></th>\n",
       "      <th>name</th>\n",
       "      <th>street</th>\n",
       "      <th>city</th>\n",
       "      <th>state</th>\n",
       "      <th>postal-code</th>\n",
       "      <th>Jan</th>\n",
       "      <th>Feb</th>\n",
       "      <th>Mar</th>\n",
       "    </tr>\n",
       "    <tr>\n",
       "      <th>account</th>\n",
       "      <th></th>\n",
       "      <th></th>\n",
       "      <th></th>\n",
       "      <th></th>\n",
       "      <th></th>\n",
       "      <th></th>\n",
       "      <th></th>\n",
       "      <th></th>\n",
       "    </tr>\n",
       "  </thead>\n",
       "  <tbody>\n",
       "    <tr>\n",
       "      <th>211829</th>\n",
       "      <td>Kerluke, Koepp and Hilpert</td>\n",
       "      <td>34456 Sean Highway</td>\n",
       "      <td>New Jaycob</td>\n",
       "      <td>Texas</td>\n",
       "      <td>28752</td>\n",
       "      <td>10000</td>\n",
       "      <td>62000</td>\n",
       "      <td>35000</td>\n",
       "    </tr>\n",
       "    <tr>\n",
       "      <th>320563</th>\n",
       "      <td>Walter-Trantow</td>\n",
       "      <td>1311 Alvis Tunnel</td>\n",
       "      <td>Port Khadijah</td>\n",
       "      <td>NorthCarolina</td>\n",
       "      <td>38365</td>\n",
       "      <td>95000</td>\n",
       "      <td>45000</td>\n",
       "      <td>35000</td>\n",
       "    </tr>\n",
       "    <tr>\n",
       "      <th>648336</th>\n",
       "      <td>Bashirian, Kunde and Price</td>\n",
       "      <td>62184 Schamberger Underpass Apt. 231</td>\n",
       "      <td>New Lilianland</td>\n",
       "      <td>Iowa</td>\n",
       "      <td>76517</td>\n",
       "      <td>91000</td>\n",
       "      <td>120000</td>\n",
       "      <td>35000</td>\n",
       "    </tr>\n",
       "    <tr>\n",
       "      <th>109996</th>\n",
       "      <td>D'Amore, Gleichner and Bode</td>\n",
       "      <td>155 Fadel Crescent Apt. 144</td>\n",
       "      <td>Hyattburgh</td>\n",
       "      <td>Maine</td>\n",
       "      <td>46021</td>\n",
       "      <td>45000</td>\n",
       "      <td>120000</td>\n",
       "      <td>10000</td>\n",
       "    </tr>\n",
       "    <tr>\n",
       "      <th>121213</th>\n",
       "      <td>Bauch-Goldner</td>\n",
       "      <td>7274 Marissa Common</td>\n",
       "      <td>Shanahanchester</td>\n",
       "      <td>California</td>\n",
       "      <td>49681</td>\n",
       "      <td>162000</td>\n",
       "      <td>120000</td>\n",
       "      <td>35000</td>\n",
       "    </tr>\n",
       "  </tbody>\n",
       "</table>\n",
       "</div>"
      ],
      "text/plain": [
       "                                name                                street  \\\n",
       "account                                                                      \n",
       "211829    Kerluke, Koepp and Hilpert                    34456 Sean Highway   \n",
       "320563                Walter-Trantow                     1311 Alvis Tunnel   \n",
       "648336    Bashirian, Kunde and Price  62184 Schamberger Underpass Apt. 231   \n",
       "109996   D'Amore, Gleichner and Bode           155 Fadel Crescent Apt. 144   \n",
       "121213                 Bauch-Goldner                   7274 Marissa Common   \n",
       "\n",
       "                    city          state  postal-code     Jan     Feb    Mar  \n",
       "account                                                                      \n",
       "211829        New Jaycob          Texas        28752   10000   62000  35000  \n",
       "320563     Port Khadijah  NorthCarolina        38365   95000   45000  35000  \n",
       "648336    New Lilianland           Iowa        76517   91000  120000  35000  \n",
       "109996        Hyattburgh          Maine        46021   45000  120000  10000  \n",
       "121213   Shanahanchester     California        49681  162000  120000  35000  "
      ]
     },
     "execution_count": 179,
     "metadata": {},
     "output_type": "execute_result"
    }
   ],
   "source": [
    "del df[\"account\"]\n",
    "df.head()"
   ]
  },
  {
   "cell_type": "code",
   "execution_count": 180,
   "metadata": {
    "ExecuteTime": {
     "end_time": "2021-03-24T06:41:48.505562Z",
     "start_time": "2021-03-24T06:41:48.496573Z"
    }
   },
   "outputs": [
    {
     "data": {
      "text/html": [
       "<div>\n",
       "<style scoped>\n",
       "    .dataframe tbody tr th:only-of-type {\n",
       "        vertical-align: middle;\n",
       "    }\n",
       "\n",
       "    .dataframe tbody tr th {\n",
       "        vertical-align: top;\n",
       "    }\n",
       "\n",
       "    .dataframe thead th {\n",
       "        text-align: right;\n",
       "    }\n",
       "</style>\n",
       "<table border=\"1\" class=\"dataframe\">\n",
       "  <thead>\n",
       "    <tr style=\"text-align: right;\">\n",
       "      <th></th>\n",
       "      <th>name</th>\n",
       "      <th>street</th>\n",
       "    </tr>\n",
       "    <tr>\n",
       "      <th>account</th>\n",
       "      <th></th>\n",
       "      <th></th>\n",
       "    </tr>\n",
       "  </thead>\n",
       "  <tbody>\n",
       "    <tr>\n",
       "      <th>211829</th>\n",
       "      <td>Kerluke, Koepp and Hilpert</td>\n",
       "      <td>34456 Sean Highway</td>\n",
       "    </tr>\n",
       "    <tr>\n",
       "      <th>320563</th>\n",
       "      <td>Walter-Trantow</td>\n",
       "      <td>1311 Alvis Tunnel</td>\n",
       "    </tr>\n",
       "  </tbody>\n",
       "</table>\n",
       "</div>"
      ],
      "text/plain": [
       "                               name              street\n",
       "account                                                \n",
       "211829   Kerluke, Koepp and Hilpert  34456 Sean Highway\n",
       "320563               Walter-Trantow   1311 Alvis Tunnel"
      ]
     },
     "execution_count": 180,
     "metadata": {},
     "output_type": "execute_result"
    }
   ],
   "source": [
    "df[[\"name\",\"street\"]][:2]"
   ]
  },
  {
   "cell_type": "code",
   "execution_count": 181,
   "metadata": {
    "ExecuteTime": {
     "end_time": "2021-03-24T06:41:48.647193Z",
     "start_time": "2021-03-24T06:41:48.628198Z"
    }
   },
   "outputs": [
    {
     "data": {
      "text/html": [
       "<div>\n",
       "<style scoped>\n",
       "    .dataframe tbody tr th:only-of-type {\n",
       "        vertical-align: middle;\n",
       "    }\n",
       "\n",
       "    .dataframe tbody tr th {\n",
       "        vertical-align: top;\n",
       "    }\n",
       "\n",
       "    .dataframe thead th {\n",
       "        text-align: right;\n",
       "    }\n",
       "</style>\n",
       "<table border=\"1\" class=\"dataframe\">\n",
       "  <thead>\n",
       "    <tr style=\"text-align: right;\">\n",
       "      <th></th>\n",
       "      <th>name</th>\n",
       "      <th>street</th>\n",
       "    </tr>\n",
       "    <tr>\n",
       "      <th>account</th>\n",
       "      <th></th>\n",
       "      <th></th>\n",
       "    </tr>\n",
       "  </thead>\n",
       "  <tbody>\n",
       "    <tr>\n",
       "      <th>211829</th>\n",
       "      <td>Kerluke, Koepp and Hilpert</td>\n",
       "      <td>34456 Sean Highway</td>\n",
       "    </tr>\n",
       "    <tr>\n",
       "      <th>320563</th>\n",
       "      <td>Walter-Trantow</td>\n",
       "      <td>1311 Alvis Tunnel</td>\n",
       "    </tr>\n",
       "  </tbody>\n",
       "</table>\n",
       "</div>"
      ],
      "text/plain": [
       "                               name              street\n",
       "account                                                \n",
       "211829   Kerluke, Koepp and Hilpert  34456 Sean Highway\n",
       "320563               Walter-Trantow   1311 Alvis Tunnel"
      ]
     },
     "execution_count": 181,
     "metadata": {},
     "output_type": "execute_result"
    }
   ],
   "source": [
    "df.loc[[211829,320563],[\"name\",\"street\"]]"
   ]
  },
  {
   "cell_type": "code",
   "execution_count": 182,
   "metadata": {
    "ExecuteTime": {
     "end_time": "2021-03-24T06:41:48.773095Z",
     "start_time": "2021-03-24T06:41:48.759956Z"
    }
   },
   "outputs": [
    {
     "data": {
      "text/html": [
       "<div>\n",
       "<style scoped>\n",
       "    .dataframe tbody tr th:only-of-type {\n",
       "        vertical-align: middle;\n",
       "    }\n",
       "\n",
       "    .dataframe tbody tr th {\n",
       "        vertical-align: top;\n",
       "    }\n",
       "\n",
       "    .dataframe thead th {\n",
       "        text-align: right;\n",
       "    }\n",
       "</style>\n",
       "<table border=\"1\" class=\"dataframe\">\n",
       "  <thead>\n",
       "    <tr style=\"text-align: right;\">\n",
       "      <th></th>\n",
       "      <th>name</th>\n",
       "      <th>street</th>\n",
       "    </tr>\n",
       "    <tr>\n",
       "      <th>account</th>\n",
       "      <th></th>\n",
       "      <th></th>\n",
       "    </tr>\n",
       "  </thead>\n",
       "  <tbody>\n",
       "    <tr>\n",
       "      <th>211829</th>\n",
       "      <td>Kerluke, Koepp and Hilpert</td>\n",
       "      <td>34456 Sean Highway</td>\n",
       "    </tr>\n",
       "    <tr>\n",
       "      <th>320563</th>\n",
       "      <td>Walter-Trantow</td>\n",
       "      <td>1311 Alvis Tunnel</td>\n",
       "    </tr>\n",
       "    <tr>\n",
       "      <th>648336</th>\n",
       "      <td>Bashirian, Kunde and Price</td>\n",
       "      <td>62184 Schamberger Underpass Apt. 231</td>\n",
       "    </tr>\n",
       "    <tr>\n",
       "      <th>109996</th>\n",
       "      <td>D'Amore, Gleichner and Bode</td>\n",
       "      <td>155 Fadel Crescent Apt. 144</td>\n",
       "    </tr>\n",
       "    <tr>\n",
       "      <th>121213</th>\n",
       "      <td>Bauch-Goldner</td>\n",
       "      <td>7274 Marissa Common</td>\n",
       "    </tr>\n",
       "    <tr>\n",
       "      <th>132971</th>\n",
       "      <td>Williamson, Schumm and Hettinger</td>\n",
       "      <td>89403 Casimer Spring</td>\n",
       "    </tr>\n",
       "    <tr>\n",
       "      <th>145068</th>\n",
       "      <td>Casper LLC</td>\n",
       "      <td>340 Consuela Bridge Apt. 400</td>\n",
       "    </tr>\n",
       "    <tr>\n",
       "      <th>205217</th>\n",
       "      <td>Kovacek-Johnston</td>\n",
       "      <td>91971 Cronin Vista Suite 601</td>\n",
       "    </tr>\n",
       "    <tr>\n",
       "      <th>209744</th>\n",
       "      <td>Champlin-Morar</td>\n",
       "      <td>26739 Grant Lock</td>\n",
       "    </tr>\n",
       "    <tr>\n",
       "      <th>212303</th>\n",
       "      <td>Gerhold-Maggio</td>\n",
       "      <td>366 Maggio Grove Apt. 998</td>\n",
       "    </tr>\n",
       "  </tbody>\n",
       "</table>\n",
       "</div>"
      ],
      "text/plain": [
       "                                     name  \\\n",
       "account                                     \n",
       "211829         Kerluke, Koepp and Hilpert   \n",
       "320563                     Walter-Trantow   \n",
       "648336         Bashirian, Kunde and Price   \n",
       "109996        D'Amore, Gleichner and Bode   \n",
       "121213                      Bauch-Goldner   \n",
       "132971   Williamson, Schumm and Hettinger   \n",
       "145068                         Casper LLC   \n",
       "205217                   Kovacek-Johnston   \n",
       "209744                     Champlin-Morar   \n",
       "212303                     Gerhold-Maggio   \n",
       "\n",
       "                                       street  \n",
       "account                                        \n",
       "211829                     34456 Sean Highway  \n",
       "320563                      1311 Alvis Tunnel  \n",
       "648336   62184 Schamberger Underpass Apt. 231  \n",
       "109996            155 Fadel Crescent Apt. 144  \n",
       "121213                    7274 Marissa Common  \n",
       "132971                   89403 Casimer Spring  \n",
       "145068           340 Consuela Bridge Apt. 400  \n",
       "205217           91971 Cronin Vista Suite 601  \n",
       "209744                       26739 Grant Lock  \n",
       "212303              366 Maggio Grove Apt. 998  "
      ]
     },
     "execution_count": 182,
     "metadata": {},
     "output_type": "execute_result"
    }
   ],
   "source": [
    "df[[\"name\", \"street\"]].iloc[:10]"
   ]
  },
  {
   "cell_type": "markdown",
   "metadata": {},
   "source": [
    "### Index 재설정"
   ]
  },
  {
   "cell_type": "code",
   "execution_count": 183,
   "metadata": {
    "ExecuteTime": {
     "end_time": "2021-03-24T06:41:49.042127Z",
     "start_time": "2021-03-24T06:41:49.022929Z"
    }
   },
   "outputs": [
    {
     "data": {
      "text/html": [
       "<div>\n",
       "<style scoped>\n",
       "    .dataframe tbody tr th:only-of-type {\n",
       "        vertical-align: middle;\n",
       "    }\n",
       "\n",
       "    .dataframe tbody tr th {\n",
       "        vertical-align: top;\n",
       "    }\n",
       "\n",
       "    .dataframe thead th {\n",
       "        text-align: right;\n",
       "    }\n",
       "</style>\n",
       "<table border=\"1\" class=\"dataframe\">\n",
       "  <thead>\n",
       "    <tr style=\"text-align: right;\">\n",
       "      <th></th>\n",
       "      <th>name</th>\n",
       "      <th>street</th>\n",
       "      <th>city</th>\n",
       "      <th>state</th>\n",
       "      <th>postal-code</th>\n",
       "      <th>Jan</th>\n",
       "      <th>Feb</th>\n",
       "      <th>Mar</th>\n",
       "    </tr>\n",
       "  </thead>\n",
       "  <tbody>\n",
       "    <tr>\n",
       "      <th>0</th>\n",
       "      <td>Kerluke, Koepp and Hilpert</td>\n",
       "      <td>34456 Sean Highway</td>\n",
       "      <td>New Jaycob</td>\n",
       "      <td>Texas</td>\n",
       "      <td>28752</td>\n",
       "      <td>10000</td>\n",
       "      <td>62000</td>\n",
       "      <td>35000</td>\n",
       "    </tr>\n",
       "    <tr>\n",
       "      <th>1</th>\n",
       "      <td>Walter-Trantow</td>\n",
       "      <td>1311 Alvis Tunnel</td>\n",
       "      <td>Port Khadijah</td>\n",
       "      <td>NorthCarolina</td>\n",
       "      <td>38365</td>\n",
       "      <td>95000</td>\n",
       "      <td>45000</td>\n",
       "      <td>35000</td>\n",
       "    </tr>\n",
       "    <tr>\n",
       "      <th>2</th>\n",
       "      <td>Bashirian, Kunde and Price</td>\n",
       "      <td>62184 Schamberger Underpass Apt. 231</td>\n",
       "      <td>New Lilianland</td>\n",
       "      <td>Iowa</td>\n",
       "      <td>76517</td>\n",
       "      <td>91000</td>\n",
       "      <td>120000</td>\n",
       "      <td>35000</td>\n",
       "    </tr>\n",
       "    <tr>\n",
       "      <th>3</th>\n",
       "      <td>D'Amore, Gleichner and Bode</td>\n",
       "      <td>155 Fadel Crescent Apt. 144</td>\n",
       "      <td>Hyattburgh</td>\n",
       "      <td>Maine</td>\n",
       "      <td>46021</td>\n",
       "      <td>45000</td>\n",
       "      <td>120000</td>\n",
       "      <td>10000</td>\n",
       "    </tr>\n",
       "    <tr>\n",
       "      <th>4</th>\n",
       "      <td>Bauch-Goldner</td>\n",
       "      <td>7274 Marissa Common</td>\n",
       "      <td>Shanahanchester</td>\n",
       "      <td>California</td>\n",
       "      <td>49681</td>\n",
       "      <td>162000</td>\n",
       "      <td>120000</td>\n",
       "      <td>35000</td>\n",
       "    </tr>\n",
       "  </tbody>\n",
       "</table>\n",
       "</div>"
      ],
      "text/plain": [
       "                          name                                street  \\\n",
       "0   Kerluke, Koepp and Hilpert                    34456 Sean Highway   \n",
       "1               Walter-Trantow                     1311 Alvis Tunnel   \n",
       "2   Bashirian, Kunde and Price  62184 Schamberger Underpass Apt. 231   \n",
       "3  D'Amore, Gleichner and Bode           155 Fadel Crescent Apt. 144   \n",
       "4                Bauch-Goldner                   7274 Marissa Common   \n",
       "\n",
       "              city          state  postal-code     Jan     Feb    Mar  \n",
       "0       New Jaycob          Texas        28752   10000   62000  35000  \n",
       "1    Port Khadijah  NorthCarolina        38365   95000   45000  35000  \n",
       "2   New Lilianland           Iowa        76517   91000  120000  35000  \n",
       "3       Hyattburgh          Maine        46021   45000  120000  10000  \n",
       "4  Shanahanchester     California        49681  162000  120000  35000  "
      ]
     },
     "execution_count": 183,
     "metadata": {},
     "output_type": "execute_result"
    }
   ],
   "source": [
    "df.index = list(range(0,15))\n",
    "df.head()"
   ]
  },
  {
   "cell_type": "code",
   "execution_count": 184,
   "metadata": {
    "ExecuteTime": {
     "end_time": "2021-03-24T06:41:49.183069Z",
     "start_time": "2021-03-24T06:41:49.158069Z"
    }
   },
   "outputs": [
    {
     "data": {
      "text/html": [
       "<div>\n",
       "<style scoped>\n",
       "    .dataframe tbody tr th:only-of-type {\n",
       "        vertical-align: middle;\n",
       "    }\n",
       "\n",
       "    .dataframe tbody tr th {\n",
       "        vertical-align: top;\n",
       "    }\n",
       "\n",
       "    .dataframe thead th {\n",
       "        text-align: right;\n",
       "    }\n",
       "</style>\n",
       "<table border=\"1\" class=\"dataframe\">\n",
       "  <thead>\n",
       "    <tr style=\"text-align: right;\">\n",
       "      <th></th>\n",
       "      <th>name</th>\n",
       "      <th>street</th>\n",
       "      <th>city</th>\n",
       "      <th>state</th>\n",
       "      <th>postal-code</th>\n",
       "      <th>Jan</th>\n",
       "      <th>Feb</th>\n",
       "      <th>Mar</th>\n",
       "    </tr>\n",
       "  </thead>\n",
       "  <tbody>\n",
       "    <tr>\n",
       "      <th>0</th>\n",
       "      <td>Kerluke, Koepp and Hilpert</td>\n",
       "      <td>34456 Sean Highway</td>\n",
       "      <td>New Jaycob</td>\n",
       "      <td>Texas</td>\n",
       "      <td>28752</td>\n",
       "      <td>10000</td>\n",
       "      <td>62000</td>\n",
       "      <td>35000</td>\n",
       "    </tr>\n",
       "    <tr>\n",
       "      <th>1</th>\n",
       "      <td>Walter-Trantow</td>\n",
       "      <td>1311 Alvis Tunnel</td>\n",
       "      <td>Port Khadijah</td>\n",
       "      <td>NorthCarolina</td>\n",
       "      <td>38365</td>\n",
       "      <td>95000</td>\n",
       "      <td>45000</td>\n",
       "      <td>35000</td>\n",
       "    </tr>\n",
       "    <tr>\n",
       "      <th>2</th>\n",
       "      <td>Bashirian, Kunde and Price</td>\n",
       "      <td>62184 Schamberger Underpass Apt. 231</td>\n",
       "      <td>New Lilianland</td>\n",
       "      <td>Iowa</td>\n",
       "      <td>76517</td>\n",
       "      <td>91000</td>\n",
       "      <td>120000</td>\n",
       "      <td>35000</td>\n",
       "    </tr>\n",
       "    <tr>\n",
       "      <th>3</th>\n",
       "      <td>D'Amore, Gleichner and Bode</td>\n",
       "      <td>155 Fadel Crescent Apt. 144</td>\n",
       "      <td>Hyattburgh</td>\n",
       "      <td>Maine</td>\n",
       "      <td>46021</td>\n",
       "      <td>45000</td>\n",
       "      <td>120000</td>\n",
       "      <td>10000</td>\n",
       "    </tr>\n",
       "    <tr>\n",
       "      <th>4</th>\n",
       "      <td>Bauch-Goldner</td>\n",
       "      <td>7274 Marissa Common</td>\n",
       "      <td>Shanahanchester</td>\n",
       "      <td>California</td>\n",
       "      <td>49681</td>\n",
       "      <td>162000</td>\n",
       "      <td>120000</td>\n",
       "      <td>35000</td>\n",
       "    </tr>\n",
       "  </tbody>\n",
       "</table>\n",
       "</div>"
      ],
      "text/plain": [
       "                          name                                street  \\\n",
       "0   Kerluke, Koepp and Hilpert                    34456 Sean Highway   \n",
       "1               Walter-Trantow                     1311 Alvis Tunnel   \n",
       "2   Bashirian, Kunde and Price  62184 Schamberger Underpass Apt. 231   \n",
       "3  D'Amore, Gleichner and Bode           155 Fadel Crescent Apt. 144   \n",
       "4                Bauch-Goldner                   7274 Marissa Common   \n",
       "\n",
       "              city          state  postal-code     Jan     Feb    Mar  \n",
       "0       New Jaycob          Texas        28752   10000   62000  35000  \n",
       "1    Port Khadijah  NorthCarolina        38365   95000   45000  35000  \n",
       "2   New Lilianland           Iowa        76517   91000  120000  35000  \n",
       "3       Hyattburgh          Maine        46021   45000  120000  10000  \n",
       "4  Shanahanchester     California        49681  162000  120000  35000  "
      ]
     },
     "execution_count": 184,
     "metadata": {},
     "output_type": "execute_result"
    }
   ],
   "source": [
    "df.drop(1)\n",
    "df.head(5)"
   ]
  },
  {
   "cell_type": "code",
   "execution_count": 185,
   "metadata": {
    "ExecuteTime": {
     "end_time": "2021-03-24T06:41:49.322403Z",
     "start_time": "2021-03-24T06:41:49.299447Z"
    }
   },
   "outputs": [
    {
     "data": {
      "text/html": [
       "<div>\n",
       "<style scoped>\n",
       "    .dataframe tbody tr th:only-of-type {\n",
       "        vertical-align: middle;\n",
       "    }\n",
       "\n",
       "    .dataframe tbody tr th {\n",
       "        vertical-align: top;\n",
       "    }\n",
       "\n",
       "    .dataframe thead th {\n",
       "        text-align: right;\n",
       "    }\n",
       "</style>\n",
       "<table border=\"1\" class=\"dataframe\">\n",
       "  <thead>\n",
       "    <tr style=\"text-align: right;\">\n",
       "      <th></th>\n",
       "      <th>name</th>\n",
       "      <th>street</th>\n",
       "      <th>city</th>\n",
       "      <th>state</th>\n",
       "      <th>postal-code</th>\n",
       "      <th>Jan</th>\n",
       "      <th>Feb</th>\n",
       "      <th>Mar</th>\n",
       "    </tr>\n",
       "  </thead>\n",
       "  <tbody>\n",
       "    <tr>\n",
       "      <th>4</th>\n",
       "      <td>Bauch-Goldner</td>\n",
       "      <td>7274 Marissa Common</td>\n",
       "      <td>Shanahanchester</td>\n",
       "      <td>California</td>\n",
       "      <td>49681</td>\n",
       "      <td>162000</td>\n",
       "      <td>120000</td>\n",
       "      <td>35000</td>\n",
       "    </tr>\n",
       "    <tr>\n",
       "      <th>5</th>\n",
       "      <td>Williamson, Schumm and Hettinger</td>\n",
       "      <td>89403 Casimer Spring</td>\n",
       "      <td>Jeremieburgh</td>\n",
       "      <td>Arkansas</td>\n",
       "      <td>62785</td>\n",
       "      <td>150000</td>\n",
       "      <td>120000</td>\n",
       "      <td>35000</td>\n",
       "    </tr>\n",
       "    <tr>\n",
       "      <th>6</th>\n",
       "      <td>Casper LLC</td>\n",
       "      <td>340 Consuela Bridge Apt. 400</td>\n",
       "      <td>Lake Gabriellaton</td>\n",
       "      <td>Mississipi</td>\n",
       "      <td>18008</td>\n",
       "      <td>62000</td>\n",
       "      <td>120000</td>\n",
       "      <td>70000</td>\n",
       "    </tr>\n",
       "    <tr>\n",
       "      <th>7</th>\n",
       "      <td>Kovacek-Johnston</td>\n",
       "      <td>91971 Cronin Vista Suite 601</td>\n",
       "      <td>Deronville</td>\n",
       "      <td>RhodeIsland</td>\n",
       "      <td>53461</td>\n",
       "      <td>145000</td>\n",
       "      <td>95000</td>\n",
       "      <td>35000</td>\n",
       "    </tr>\n",
       "    <tr>\n",
       "      <th>8</th>\n",
       "      <td>Champlin-Morar</td>\n",
       "      <td>26739 Grant Lock</td>\n",
       "      <td>Lake Juliannton</td>\n",
       "      <td>Pennsylvania</td>\n",
       "      <td>64415</td>\n",
       "      <td>70000</td>\n",
       "      <td>95000</td>\n",
       "      <td>35000</td>\n",
       "    </tr>\n",
       "    <tr>\n",
       "      <th>9</th>\n",
       "      <td>Gerhold-Maggio</td>\n",
       "      <td>366 Maggio Grove Apt. 998</td>\n",
       "      <td>North Ras</td>\n",
       "      <td>Idaho</td>\n",
       "      <td>46308</td>\n",
       "      <td>70000</td>\n",
       "      <td>120000</td>\n",
       "      <td>35000</td>\n",
       "    </tr>\n",
       "    <tr>\n",
       "      <th>10</th>\n",
       "      <td>Goodwin, Homenick and Jerde</td>\n",
       "      <td>649 Cierra Forks Apt. 078</td>\n",
       "      <td>Rosaberg</td>\n",
       "      <td>Tenessee</td>\n",
       "      <td>47743</td>\n",
       "      <td>45000</td>\n",
       "      <td>120000</td>\n",
       "      <td>55000</td>\n",
       "    </tr>\n",
       "    <tr>\n",
       "      <th>11</th>\n",
       "      <td>Hahn-Moore</td>\n",
       "      <td>18115 Olivine Throughway</td>\n",
       "      <td>Norbertomouth</td>\n",
       "      <td>NorthDakota</td>\n",
       "      <td>31415</td>\n",
       "      <td>150000</td>\n",
       "      <td>10000</td>\n",
       "      <td>162000</td>\n",
       "    </tr>\n",
       "    <tr>\n",
       "      <th>12</th>\n",
       "      <td>Frami, Anderson and Donnelly</td>\n",
       "      <td>182 Bertie Road</td>\n",
       "      <td>East Davian</td>\n",
       "      <td>Iowa</td>\n",
       "      <td>72686</td>\n",
       "      <td>162000</td>\n",
       "      <td>120000</td>\n",
       "      <td>35000</td>\n",
       "    </tr>\n",
       "    <tr>\n",
       "      <th>13</th>\n",
       "      <td>Walsh-Haley</td>\n",
       "      <td>2624 Beatty Parkways</td>\n",
       "      <td>Goodwinmouth</td>\n",
       "      <td>RhodeIsland</td>\n",
       "      <td>31919</td>\n",
       "      <td>55000</td>\n",
       "      <td>120000</td>\n",
       "      <td>35000</td>\n",
       "    </tr>\n",
       "    <tr>\n",
       "      <th>14</th>\n",
       "      <td>McDermott PLC</td>\n",
       "      <td>8917 Bergstrom Meadow</td>\n",
       "      <td>Kathryneborough</td>\n",
       "      <td>Delaware</td>\n",
       "      <td>27933</td>\n",
       "      <td>150000</td>\n",
       "      <td>120000</td>\n",
       "      <td>70000</td>\n",
       "    </tr>\n",
       "  </tbody>\n",
       "</table>\n",
       "</div>"
      ],
      "text/plain": [
       "                                name                        street  \\\n",
       "4                      Bauch-Goldner           7274 Marissa Common   \n",
       "5   Williamson, Schumm and Hettinger          89403 Casimer Spring   \n",
       "6                         Casper LLC  340 Consuela Bridge Apt. 400   \n",
       "7                   Kovacek-Johnston  91971 Cronin Vista Suite 601   \n",
       "8                     Champlin-Morar              26739 Grant Lock   \n",
       "9                     Gerhold-Maggio     366 Maggio Grove Apt. 998   \n",
       "10       Goodwin, Homenick and Jerde     649 Cierra Forks Apt. 078   \n",
       "11                        Hahn-Moore      18115 Olivine Throughway   \n",
       "12      Frami, Anderson and Donnelly               182 Bertie Road   \n",
       "13                       Walsh-Haley          2624 Beatty Parkways   \n",
       "14                     McDermott PLC         8917 Bergstrom Meadow   \n",
       "\n",
       "                 city         state  postal-code     Jan     Feb     Mar  \n",
       "4     Shanahanchester    California        49681  162000  120000   35000  \n",
       "5        Jeremieburgh      Arkansas        62785  150000  120000   35000  \n",
       "6   Lake Gabriellaton    Mississipi        18008   62000  120000   70000  \n",
       "7          Deronville   RhodeIsland        53461  145000   95000   35000  \n",
       "8     Lake Juliannton  Pennsylvania        64415   70000   95000   35000  \n",
       "9           North Ras         Idaho        46308   70000  120000   35000  \n",
       "10           Rosaberg      Tenessee        47743   45000  120000   55000  \n",
       "11      Norbertomouth   NorthDakota        31415  150000   10000  162000  \n",
       "12        East Davian          Iowa        72686  162000  120000   35000  \n",
       "13       Goodwinmouth   RhodeIsland        31919   55000  120000   35000  \n",
       "14    Kathryneborough      Delaware        27933  150000  120000   70000  "
      ]
     },
     "execution_count": 185,
     "metadata": {},
     "output_type": "execute_result"
    }
   ],
   "source": [
    "df.drop([0,1, 2,3])"
   ]
  },
  {
   "cell_type": "markdown",
   "metadata": {
    "ExecuteTime": {
     "end_time": "2021-03-24T06:36:28.869110Z",
     "start_time": "2021-03-24T06:36:28.845295Z"
    }
   },
   "source": [
    "df.drop(\"city\",axis=1).head()"
   ]
  },
  {
   "cell_type": "code",
   "execution_count": 137,
   "metadata": {
    "ExecuteTime": {
     "end_time": "2021-03-24T06:36:56.043265Z",
     "start_time": "2021-03-24T06:36:56.009108Z"
    }
   },
   "outputs": [
    {
     "data": {
      "text/html": [
       "<div>\n",
       "<style scoped>\n",
       "    .dataframe tbody tr th:only-of-type {\n",
       "        vertical-align: middle;\n",
       "    }\n",
       "\n",
       "    .dataframe tbody tr th {\n",
       "        vertical-align: top;\n",
       "    }\n",
       "\n",
       "    .dataframe thead th {\n",
       "        text-align: right;\n",
       "    }\n",
       "</style>\n",
       "<table border=\"1\" class=\"dataframe\">\n",
       "  <thead>\n",
       "    <tr style=\"text-align: right;\">\n",
       "      <th></th>\n",
       "      <th>account</th>\n",
       "      <th>name</th>\n",
       "      <th>street</th>\n",
       "      <th>postal-code</th>\n",
       "      <th>Jan</th>\n",
       "      <th>Feb</th>\n",
       "      <th>Mar</th>\n",
       "    </tr>\n",
       "  </thead>\n",
       "  <tbody>\n",
       "    <tr>\n",
       "      <th>0</th>\n",
       "      <td>211829</td>\n",
       "      <td>Kerluke, Koepp and Hilpert</td>\n",
       "      <td>34456 Sean Highway</td>\n",
       "      <td>28752</td>\n",
       "      <td>10000</td>\n",
       "      <td>62000</td>\n",
       "      <td>35000</td>\n",
       "    </tr>\n",
       "    <tr>\n",
       "      <th>1</th>\n",
       "      <td>320563</td>\n",
       "      <td>Walter-Trantow</td>\n",
       "      <td>1311 Alvis Tunnel</td>\n",
       "      <td>38365</td>\n",
       "      <td>95000</td>\n",
       "      <td>45000</td>\n",
       "      <td>35000</td>\n",
       "    </tr>\n",
       "    <tr>\n",
       "      <th>2</th>\n",
       "      <td>648336</td>\n",
       "      <td>Bashirian, Kunde and Price</td>\n",
       "      <td>62184 Schamberger Underpass Apt. 231</td>\n",
       "      <td>76517</td>\n",
       "      <td>91000</td>\n",
       "      <td>120000</td>\n",
       "      <td>35000</td>\n",
       "    </tr>\n",
       "    <tr>\n",
       "      <th>3</th>\n",
       "      <td>109996</td>\n",
       "      <td>D'Amore, Gleichner and Bode</td>\n",
       "      <td>155 Fadel Crescent Apt. 144</td>\n",
       "      <td>46021</td>\n",
       "      <td>45000</td>\n",
       "      <td>120000</td>\n",
       "      <td>10000</td>\n",
       "    </tr>\n",
       "    <tr>\n",
       "      <th>4</th>\n",
       "      <td>121213</td>\n",
       "      <td>Bauch-Goldner</td>\n",
       "      <td>7274 Marissa Common</td>\n",
       "      <td>49681</td>\n",
       "      <td>162000</td>\n",
       "      <td>120000</td>\n",
       "      <td>35000</td>\n",
       "    </tr>\n",
       "    <tr>\n",
       "      <th>5</th>\n",
       "      <td>132971</td>\n",
       "      <td>Williamson, Schumm and Hettinger</td>\n",
       "      <td>89403 Casimer Spring</td>\n",
       "      <td>62785</td>\n",
       "      <td>150000</td>\n",
       "      <td>120000</td>\n",
       "      <td>35000</td>\n",
       "    </tr>\n",
       "    <tr>\n",
       "      <th>6</th>\n",
       "      <td>145068</td>\n",
       "      <td>Casper LLC</td>\n",
       "      <td>340 Consuela Bridge Apt. 400</td>\n",
       "      <td>18008</td>\n",
       "      <td>62000</td>\n",
       "      <td>120000</td>\n",
       "      <td>70000</td>\n",
       "    </tr>\n",
       "    <tr>\n",
       "      <th>7</th>\n",
       "      <td>205217</td>\n",
       "      <td>Kovacek-Johnston</td>\n",
       "      <td>91971 Cronin Vista Suite 601</td>\n",
       "      <td>53461</td>\n",
       "      <td>145000</td>\n",
       "      <td>95000</td>\n",
       "      <td>35000</td>\n",
       "    </tr>\n",
       "    <tr>\n",
       "      <th>8</th>\n",
       "      <td>209744</td>\n",
       "      <td>Champlin-Morar</td>\n",
       "      <td>26739 Grant Lock</td>\n",
       "      <td>64415</td>\n",
       "      <td>70000</td>\n",
       "      <td>95000</td>\n",
       "      <td>35000</td>\n",
       "    </tr>\n",
       "    <tr>\n",
       "      <th>9</th>\n",
       "      <td>212303</td>\n",
       "      <td>Gerhold-Maggio</td>\n",
       "      <td>366 Maggio Grove Apt. 998</td>\n",
       "      <td>46308</td>\n",
       "      <td>70000</td>\n",
       "      <td>120000</td>\n",
       "      <td>35000</td>\n",
       "    </tr>\n",
       "    <tr>\n",
       "      <th>10</th>\n",
       "      <td>214098</td>\n",
       "      <td>Goodwin, Homenick and Jerde</td>\n",
       "      <td>649 Cierra Forks Apt. 078</td>\n",
       "      <td>47743</td>\n",
       "      <td>45000</td>\n",
       "      <td>120000</td>\n",
       "      <td>55000</td>\n",
       "    </tr>\n",
       "    <tr>\n",
       "      <th>11</th>\n",
       "      <td>231907</td>\n",
       "      <td>Hahn-Moore</td>\n",
       "      <td>18115 Olivine Throughway</td>\n",
       "      <td>31415</td>\n",
       "      <td>150000</td>\n",
       "      <td>10000</td>\n",
       "      <td>162000</td>\n",
       "    </tr>\n",
       "    <tr>\n",
       "      <th>12</th>\n",
       "      <td>242368</td>\n",
       "      <td>Frami, Anderson and Donnelly</td>\n",
       "      <td>182 Bertie Road</td>\n",
       "      <td>72686</td>\n",
       "      <td>162000</td>\n",
       "      <td>120000</td>\n",
       "      <td>35000</td>\n",
       "    </tr>\n",
       "    <tr>\n",
       "      <th>13</th>\n",
       "      <td>268755</td>\n",
       "      <td>Walsh-Haley</td>\n",
       "      <td>2624 Beatty Parkways</td>\n",
       "      <td>31919</td>\n",
       "      <td>55000</td>\n",
       "      <td>120000</td>\n",
       "      <td>35000</td>\n",
       "    </tr>\n",
       "    <tr>\n",
       "      <th>14</th>\n",
       "      <td>273274</td>\n",
       "      <td>McDermott PLC</td>\n",
       "      <td>8917 Bergstrom Meadow</td>\n",
       "      <td>27933</td>\n",
       "      <td>150000</td>\n",
       "      <td>120000</td>\n",
       "      <td>70000</td>\n",
       "    </tr>\n",
       "  </tbody>\n",
       "</table>\n",
       "</div>"
      ],
      "text/plain": [
       "    account                              name  \\\n",
       "0    211829        Kerluke, Koepp and Hilpert   \n",
       "1    320563                    Walter-Trantow   \n",
       "2    648336        Bashirian, Kunde and Price   \n",
       "3    109996       D'Amore, Gleichner and Bode   \n",
       "4    121213                     Bauch-Goldner   \n",
       "5    132971  Williamson, Schumm and Hettinger   \n",
       "6    145068                        Casper LLC   \n",
       "7    205217                  Kovacek-Johnston   \n",
       "8    209744                    Champlin-Morar   \n",
       "9    212303                    Gerhold-Maggio   \n",
       "10   214098       Goodwin, Homenick and Jerde   \n",
       "11   231907                        Hahn-Moore   \n",
       "12   242368      Frami, Anderson and Donnelly   \n",
       "13   268755                       Walsh-Haley   \n",
       "14   273274                     McDermott PLC   \n",
       "\n",
       "                                  street  postal-code     Jan     Feb     Mar  \n",
       "0                     34456 Sean Highway        28752   10000   62000   35000  \n",
       "1                      1311 Alvis Tunnel        38365   95000   45000   35000  \n",
       "2   62184 Schamberger Underpass Apt. 231        76517   91000  120000   35000  \n",
       "3            155 Fadel Crescent Apt. 144        46021   45000  120000   10000  \n",
       "4                    7274 Marissa Common        49681  162000  120000   35000  \n",
       "5                   89403 Casimer Spring        62785  150000  120000   35000  \n",
       "6           340 Consuela Bridge Apt. 400        18008   62000  120000   70000  \n",
       "7           91971 Cronin Vista Suite 601        53461  145000   95000   35000  \n",
       "8                       26739 Grant Lock        64415   70000   95000   35000  \n",
       "9              366 Maggio Grove Apt. 998        46308   70000  120000   35000  \n",
       "10             649 Cierra Forks Apt. 078        47743   45000  120000   55000  \n",
       "11              18115 Olivine Throughway        31415  150000   10000  162000  \n",
       "12                       182 Bertie Road        72686  162000  120000   35000  \n",
       "13                  2624 Beatty Parkways        31919   55000  120000   35000  \n",
       "14                 8917 Bergstrom Meadow        27933  150000  120000   70000  "
      ]
     },
     "execution_count": 137,
     "metadata": {},
     "output_type": "execute_result"
    }
   ],
   "source": [
    "df.drop([\"city\", \"state\"],axis=1)"
   ]
  },
  {
   "cell_type": "code",
   "execution_count": 189,
   "metadata": {
    "ExecuteTime": {
     "end_time": "2021-03-24T06:43:47.559955Z",
     "start_time": "2021-03-24T06:43:47.537955Z"
    }
   },
   "outputs": [
    {
     "data": {
      "text/html": [
       "<div>\n",
       "<style scoped>\n",
       "    .dataframe tbody tr th:only-of-type {\n",
       "        vertical-align: middle;\n",
       "    }\n",
       "\n",
       "    .dataframe tbody tr th {\n",
       "        vertical-align: top;\n",
       "    }\n",
       "\n",
       "    .dataframe thead th {\n",
       "        text-align: right;\n",
       "    }\n",
       "</style>\n",
       "<table border=\"1\" class=\"dataframe\">\n",
       "  <thead>\n",
       "    <tr style=\"text-align: right;\">\n",
       "      <th></th>\n",
       "      <th>name</th>\n",
       "      <th>street</th>\n",
       "      <th>city</th>\n",
       "      <th>state</th>\n",
       "      <th>postal-code</th>\n",
       "      <th>Jan</th>\n",
       "      <th>Feb</th>\n",
       "      <th>Mar</th>\n",
       "    </tr>\n",
       "  </thead>\n",
       "  <tbody>\n",
       "    <tr>\n",
       "      <th>0</th>\n",
       "      <td>Kerluke, Koepp and Hilpert</td>\n",
       "      <td>34456 Sean Highway</td>\n",
       "      <td>New Jaycob</td>\n",
       "      <td>Texas</td>\n",
       "      <td>28752</td>\n",
       "      <td>10000</td>\n",
       "      <td>62000</td>\n",
       "      <td>35000</td>\n",
       "    </tr>\n",
       "    <tr>\n",
       "      <th>1</th>\n",
       "      <td>Walter-Trantow</td>\n",
       "      <td>1311 Alvis Tunnel</td>\n",
       "      <td>Port Khadijah</td>\n",
       "      <td>NorthCarolina</td>\n",
       "      <td>38365</td>\n",
       "      <td>95000</td>\n",
       "      <td>45000</td>\n",
       "      <td>35000</td>\n",
       "    </tr>\n",
       "    <tr>\n",
       "      <th>2</th>\n",
       "      <td>Bashirian, Kunde and Price</td>\n",
       "      <td>62184 Schamberger Underpass Apt. 231</td>\n",
       "      <td>New Lilianland</td>\n",
       "      <td>Iowa</td>\n",
       "      <td>76517</td>\n",
       "      <td>91000</td>\n",
       "      <td>120000</td>\n",
       "      <td>35000</td>\n",
       "    </tr>\n",
       "    <tr>\n",
       "      <th>3</th>\n",
       "      <td>D'Amore, Gleichner and Bode</td>\n",
       "      <td>155 Fadel Crescent Apt. 144</td>\n",
       "      <td>Hyattburgh</td>\n",
       "      <td>Maine</td>\n",
       "      <td>46021</td>\n",
       "      <td>45000</td>\n",
       "      <td>120000</td>\n",
       "      <td>10000</td>\n",
       "    </tr>\n",
       "    <tr>\n",
       "      <th>4</th>\n",
       "      <td>Bauch-Goldner</td>\n",
       "      <td>7274 Marissa Common</td>\n",
       "      <td>Shanahanchester</td>\n",
       "      <td>California</td>\n",
       "      <td>49681</td>\n",
       "      <td>162000</td>\n",
       "      <td>120000</td>\n",
       "      <td>35000</td>\n",
       "    </tr>\n",
       "    <tr>\n",
       "      <th>5</th>\n",
       "      <td>Williamson, Schumm and Hettinger</td>\n",
       "      <td>89403 Casimer Spring</td>\n",
       "      <td>Jeremieburgh</td>\n",
       "      <td>Arkansas</td>\n",
       "      <td>62785</td>\n",
       "      <td>150000</td>\n",
       "      <td>120000</td>\n",
       "      <td>35000</td>\n",
       "    </tr>\n",
       "    <tr>\n",
       "      <th>6</th>\n",
       "      <td>Casper LLC</td>\n",
       "      <td>340 Consuela Bridge Apt. 400</td>\n",
       "      <td>Lake Gabriellaton</td>\n",
       "      <td>Mississipi</td>\n",
       "      <td>18008</td>\n",
       "      <td>62000</td>\n",
       "      <td>120000</td>\n",
       "      <td>70000</td>\n",
       "    </tr>\n",
       "    <tr>\n",
       "      <th>7</th>\n",
       "      <td>Kovacek-Johnston</td>\n",
       "      <td>91971 Cronin Vista Suite 601</td>\n",
       "      <td>Deronville</td>\n",
       "      <td>RhodeIsland</td>\n",
       "      <td>53461</td>\n",
       "      <td>145000</td>\n",
       "      <td>95000</td>\n",
       "      <td>35000</td>\n",
       "    </tr>\n",
       "    <tr>\n",
       "      <th>8</th>\n",
       "      <td>Champlin-Morar</td>\n",
       "      <td>26739 Grant Lock</td>\n",
       "      <td>Lake Juliannton</td>\n",
       "      <td>Pennsylvania</td>\n",
       "      <td>64415</td>\n",
       "      <td>70000</td>\n",
       "      <td>95000</td>\n",
       "      <td>35000</td>\n",
       "    </tr>\n",
       "    <tr>\n",
       "      <th>9</th>\n",
       "      <td>Gerhold-Maggio</td>\n",
       "      <td>366 Maggio Grove Apt. 998</td>\n",
       "      <td>North Ras</td>\n",
       "      <td>Idaho</td>\n",
       "      <td>46308</td>\n",
       "      <td>70000</td>\n",
       "      <td>120000</td>\n",
       "      <td>35000</td>\n",
       "    </tr>\n",
       "    <tr>\n",
       "      <th>10</th>\n",
       "      <td>Goodwin, Homenick and Jerde</td>\n",
       "      <td>649 Cierra Forks Apt. 078</td>\n",
       "      <td>Rosaberg</td>\n",
       "      <td>Tenessee</td>\n",
       "      <td>47743</td>\n",
       "      <td>45000</td>\n",
       "      <td>120000</td>\n",
       "      <td>55000</td>\n",
       "    </tr>\n",
       "    <tr>\n",
       "      <th>11</th>\n",
       "      <td>Hahn-Moore</td>\n",
       "      <td>18115 Olivine Throughway</td>\n",
       "      <td>Norbertomouth</td>\n",
       "      <td>NorthDakota</td>\n",
       "      <td>31415</td>\n",
       "      <td>150000</td>\n",
       "      <td>10000</td>\n",
       "      <td>162000</td>\n",
       "    </tr>\n",
       "    <tr>\n",
       "      <th>12</th>\n",
       "      <td>Frami, Anderson and Donnelly</td>\n",
       "      <td>182 Bertie Road</td>\n",
       "      <td>East Davian</td>\n",
       "      <td>Iowa</td>\n",
       "      <td>72686</td>\n",
       "      <td>162000</td>\n",
       "      <td>120000</td>\n",
       "      <td>35000</td>\n",
       "    </tr>\n",
       "    <tr>\n",
       "      <th>13</th>\n",
       "      <td>Walsh-Haley</td>\n",
       "      <td>2624 Beatty Parkways</td>\n",
       "      <td>Goodwinmouth</td>\n",
       "      <td>RhodeIsland</td>\n",
       "      <td>31919</td>\n",
       "      <td>55000</td>\n",
       "      <td>120000</td>\n",
       "      <td>35000</td>\n",
       "    </tr>\n",
       "    <tr>\n",
       "      <th>14</th>\n",
       "      <td>McDermott PLC</td>\n",
       "      <td>8917 Bergstrom Meadow</td>\n",
       "      <td>Kathryneborough</td>\n",
       "      <td>Delaware</td>\n",
       "      <td>27933</td>\n",
       "      <td>150000</td>\n",
       "      <td>120000</td>\n",
       "      <td>70000</td>\n",
       "    </tr>\n",
       "  </tbody>\n",
       "</table>\n",
       "</div>"
      ],
      "text/plain": [
       "                                name                                street  \\\n",
       "0         Kerluke, Koepp and Hilpert                    34456 Sean Highway   \n",
       "1                     Walter-Trantow                     1311 Alvis Tunnel   \n",
       "2         Bashirian, Kunde and Price  62184 Schamberger Underpass Apt. 231   \n",
       "3        D'Amore, Gleichner and Bode           155 Fadel Crescent Apt. 144   \n",
       "4                      Bauch-Goldner                   7274 Marissa Common   \n",
       "5   Williamson, Schumm and Hettinger                  89403 Casimer Spring   \n",
       "6                         Casper LLC          340 Consuela Bridge Apt. 400   \n",
       "7                   Kovacek-Johnston          91971 Cronin Vista Suite 601   \n",
       "8                     Champlin-Morar                      26739 Grant Lock   \n",
       "9                     Gerhold-Maggio             366 Maggio Grove Apt. 998   \n",
       "10       Goodwin, Homenick and Jerde             649 Cierra Forks Apt. 078   \n",
       "11                        Hahn-Moore              18115 Olivine Throughway   \n",
       "12      Frami, Anderson and Donnelly                       182 Bertie Road   \n",
       "13                       Walsh-Haley                  2624 Beatty Parkways   \n",
       "14                     McDermott PLC                 8917 Bergstrom Meadow   \n",
       "\n",
       "                 city          state  postal-code     Jan     Feb     Mar  \n",
       "0          New Jaycob          Texas        28752   10000   62000   35000  \n",
       "1       Port Khadijah  NorthCarolina        38365   95000   45000   35000  \n",
       "2      New Lilianland           Iowa        76517   91000  120000   35000  \n",
       "3          Hyattburgh          Maine        46021   45000  120000   10000  \n",
       "4     Shanahanchester     California        49681  162000  120000   35000  \n",
       "5        Jeremieburgh       Arkansas        62785  150000  120000   35000  \n",
       "6   Lake Gabriellaton     Mississipi        18008   62000  120000   70000  \n",
       "7          Deronville    RhodeIsland        53461  145000   95000   35000  \n",
       "8     Lake Juliannton   Pennsylvania        64415   70000   95000   35000  \n",
       "9           North Ras          Idaho        46308   70000  120000   35000  \n",
       "10           Rosaberg       Tenessee        47743   45000  120000   55000  \n",
       "11      Norbertomouth    NorthDakota        31415  150000   10000  162000  \n",
       "12        East Davian           Iowa        72686  162000  120000   35000  \n",
       "13       Goodwinmouth    RhodeIsland        31919   55000  120000   35000  \n",
       "14    Kathryneborough       Delaware        27933  150000  120000   70000  "
      ]
     },
     "execution_count": 189,
     "metadata": {},
     "output_type": "execute_result"
    }
   ],
   "source": [
    "df"
   ]
  },
  {
   "cell_type": "markdown",
   "metadata": {},
   "source": [
    "### Lamda"
   ]
  },
  {
   "cell_type": "code",
   "execution_count": 190,
   "metadata": {
    "ExecuteTime": {
     "end_time": "2021-03-24T06:50:23.226086Z",
     "start_time": "2021-03-24T06:50:23.197636Z"
    }
   },
   "outputs": [
    {
     "data": {
      "text/plain": [
       "5"
      ]
     },
     "execution_count": 190,
     "metadata": {},
     "output_type": "execute_result"
    }
   ],
   "source": [
    "f = lambda x,y: x + y\n",
    "f(1,4)"
   ]
  },
  {
   "cell_type": "code",
   "execution_count": 191,
   "metadata": {
    "ExecuteTime": {
     "end_time": "2021-03-24T06:50:33.053986Z",
     "start_time": "2021-03-24T06:50:33.037882Z"
    }
   },
   "outputs": [],
   "source": [
    "def f(x , y):\n",
    "    return x + y"
   ]
  },
  {
   "cell_type": "code",
   "execution_count": 192,
   "metadata": {
    "ExecuteTime": {
     "end_time": "2021-03-24T06:50:34.033754Z",
     "start_time": "2021-03-24T06:50:34.015769Z"
    }
   },
   "outputs": [
    {
     "data": {
      "text/plain": [
       "9"
      ]
     },
     "execution_count": 192,
     "metadata": {},
     "output_type": "execute_result"
    }
   ],
   "source": [
    "f = lambda x: x ** 2\n",
    "f(3)"
   ]
  },
  {
   "cell_type": "code",
   "execution_count": 193,
   "metadata": {
    "ExecuteTime": {
     "end_time": "2021-03-24T06:50:40.453171Z",
     "start_time": "2021-03-24T06:50:40.444667Z"
    }
   },
   "outputs": [
    {
     "data": {
      "text/plain": [
       "8"
      ]
     },
     "execution_count": 193,
     "metadata": {},
     "output_type": "execute_result"
    }
   ],
   "source": [
    "f = lambda x: x+5\n",
    "f(3)"
   ]
  },
  {
   "cell_type": "code",
   "execution_count": 194,
   "metadata": {
    "ExecuteTime": {
     "end_time": "2021-03-24T06:50:41.077900Z",
     "start_time": "2021-03-24T06:50:41.059517Z"
    }
   },
   "outputs": [
    {
     "data": {
      "text/plain": [
       "6"
      ]
     },
     "execution_count": 194,
     "metadata": {},
     "output_type": "execute_result"
    }
   ],
   "source": [
    "(lambda x: x +1)(5)"
   ]
  },
  {
   "cell_type": "markdown",
   "metadata": {},
   "source": [
    "### map & replace"
   ]
  },
  {
   "cell_type": "code",
   "execution_count": 195,
   "metadata": {
    "ExecuteTime": {
     "end_time": "2021-03-24T06:51:05.253346Z",
     "start_time": "2021-03-24T06:51:05.239585Z"
    }
   },
   "outputs": [
    {
     "data": {
      "text/plain": [
       "[1, 4, 9, 16, 25]"
      ]
     },
     "execution_count": 195,
     "metadata": {},
     "output_type": "execute_result"
    }
   ],
   "source": [
    "ex = [1,2,3,4,5]\n",
    "f = lambda x: x ** 2\n",
    "list(map(f, ex))"
   ]
  },
  {
   "cell_type": "code",
   "execution_count": 196,
   "metadata": {
    "ExecuteTime": {
     "end_time": "2021-03-24T06:51:05.846312Z",
     "start_time": "2021-03-24T06:51:05.834344Z"
    }
   },
   "outputs": [
    {
     "data": {
      "text/plain": [
       "[2, 4, 6, 8, 10]"
      ]
     },
     "execution_count": 196,
     "metadata": {},
     "output_type": "execute_result"
    }
   ],
   "source": [
    "f = lambda x, y: x + y\n",
    "list(map(f, ex, ex))"
   ]
  },
  {
   "cell_type": "code",
   "execution_count": 197,
   "metadata": {
    "ExecuteTime": {
     "end_time": "2021-03-24T06:51:13.120779Z",
     "start_time": "2021-03-24T06:51:13.111581Z"
    }
   },
   "outputs": [
    {
     "data": {
      "text/plain": [
       "[6, 7, 8, 9, 10]"
      ]
     },
     "execution_count": 197,
     "metadata": {},
     "output_type": "execute_result"
    }
   ],
   "source": [
    "list(map(lambda x: x+5, ex)) "
   ]
  },
  {
   "cell_type": "code",
   "execution_count": 198,
   "metadata": {
    "ExecuteTime": {
     "end_time": "2021-03-24T06:51:19.188076Z",
     "start_time": "2021-03-24T06:51:19.160902Z"
    }
   },
   "outputs": [
    {
     "data": {
      "text/plain": [
       "0    0\n",
       "1    1\n",
       "2    2\n",
       "3    3\n",
       "4    4\n",
       "dtype: int32"
      ]
     },
     "execution_count": 198,
     "metadata": {},
     "output_type": "execute_result"
    }
   ],
   "source": [
    "s1 = Series(np.arange(10))\n",
    "s1.head(5)"
   ]
  },
  {
   "cell_type": "code",
   "execution_count": 199,
   "metadata": {
    "ExecuteTime": {
     "end_time": "2021-03-24T06:51:25.052453Z",
     "start_time": "2021-03-24T06:51:25.040777Z"
    }
   },
   "outputs": [
    {
     "data": {
      "text/plain": [
       "0     0\n",
       "1     1\n",
       "2     4\n",
       "3     9\n",
       "4    16\n",
       "dtype: int64"
      ]
     },
     "execution_count": 199,
     "metadata": {},
     "output_type": "execute_result"
    }
   ],
   "source": [
    "s1.map(lambda x: x**2).head(5)"
   ]
  },
  {
   "cell_type": "code",
   "execution_count": 200,
   "metadata": {
    "ExecuteTime": {
     "end_time": "2021-03-24T06:51:29.157748Z",
     "start_time": "2021-03-24T06:51:29.149081Z"
    }
   },
   "outputs": [
    {
     "data": {
      "text/plain": [
       "0    0\n",
       "1    1\n",
       "2    2\n",
       "3    3\n",
       "4    4\n",
       "5    5\n",
       "6    6\n",
       "7    7\n",
       "8    8\n",
       "9    9\n",
       "dtype: int32"
      ]
     },
     "execution_count": 200,
     "metadata": {},
     "output_type": "execute_result"
    }
   ],
   "source": [
    "s1"
   ]
  },
  {
   "cell_type": "code",
   "execution_count": 202,
   "metadata": {
    "ExecuteTime": {
     "end_time": "2021-03-24T06:51:35.310615Z",
     "start_time": "2021-03-24T06:51:35.292327Z"
    }
   },
   "outputs": [
    {
     "data": {
      "text/plain": [
       "0    NaN\n",
       "1      A\n",
       "2      B\n",
       "3      C\n",
       "4    NaN\n",
       "5    NaN\n",
       "6    NaN\n",
       "7    NaN\n",
       "8    NaN\n",
       "9    NaN\n",
       "dtype: object"
      ]
     },
     "execution_count": 202,
     "metadata": {},
     "output_type": "execute_result"
    }
   ],
   "source": [
    "z = {1: 'A', 2: 'B', 3: 'C'}\n",
    "s1.map(z)"
   ]
  },
  {
   "cell_type": "code",
   "execution_count": 203,
   "metadata": {
    "ExecuteTime": {
     "end_time": "2021-03-24T06:51:39.557478Z",
     "start_time": "2021-03-24T06:51:39.544423Z"
    }
   },
   "outputs": [
    {
     "data": {
      "text/plain": [
       "0    0\n",
       "1    1\n",
       "2    2\n",
       "3    3\n",
       "4    4\n",
       "5    5\n",
       "6    6\n",
       "7    7\n",
       "8    8\n",
       "9    9\n",
       "dtype: int32"
      ]
     },
     "execution_count": 203,
     "metadata": {},
     "output_type": "execute_result"
    }
   ],
   "source": [
    "s1"
   ]
  },
  {
   "cell_type": "code",
   "execution_count": 205,
   "metadata": {
    "ExecuteTime": {
     "end_time": "2021-03-24T06:52:23.617649Z",
     "start_time": "2021-03-24T06:52:23.593848Z"
    }
   },
   "outputs": [
    {
     "data": {
      "text/plain": [
       "0    10\n",
       "1    11\n",
       "2    12\n",
       "3    13\n",
       "4    14\n",
       "5    15\n",
       "6    16\n",
       "7    17\n",
       "8    18\n",
       "9    19\n",
       "dtype: int32"
      ]
     },
     "execution_count": 205,
     "metadata": {},
     "output_type": "execute_result"
    }
   ],
   "source": [
    "s2 = Series(np.arange(10,20))\n",
    "s1.map(s2)"
   ]
  },
  {
   "cell_type": "code",
   "execution_count": 207,
   "metadata": {
    "ExecuteTime": {
     "end_time": "2021-03-24T06:52:40.531253Z",
     "start_time": "2021-03-24T06:52:40.511146Z"
    }
   },
   "outputs": [
    {
     "data": {
      "text/html": [
       "<div>\n",
       "<style scoped>\n",
       "    .dataframe tbody tr th:only-of-type {\n",
       "        vertical-align: middle;\n",
       "    }\n",
       "\n",
       "    .dataframe tbody tr th {\n",
       "        vertical-align: top;\n",
       "    }\n",
       "\n",
       "    .dataframe thead th {\n",
       "        text-align: right;\n",
       "    }\n",
       "</style>\n",
       "<table border=\"1\" class=\"dataframe\">\n",
       "  <thead>\n",
       "    <tr style=\"text-align: right;\">\n",
       "      <th></th>\n",
       "      <th>earn</th>\n",
       "      <th>height</th>\n",
       "      <th>sex</th>\n",
       "      <th>race</th>\n",
       "      <th>ed</th>\n",
       "      <th>age</th>\n",
       "    </tr>\n",
       "  </thead>\n",
       "  <tbody>\n",
       "    <tr>\n",
       "      <th>0</th>\n",
       "      <td>79571.299011</td>\n",
       "      <td>73.89</td>\n",
       "      <td>male</td>\n",
       "      <td>white</td>\n",
       "      <td>16</td>\n",
       "      <td>49</td>\n",
       "    </tr>\n",
       "    <tr>\n",
       "      <th>1</th>\n",
       "      <td>96396.988643</td>\n",
       "      <td>66.23</td>\n",
       "      <td>female</td>\n",
       "      <td>white</td>\n",
       "      <td>16</td>\n",
       "      <td>62</td>\n",
       "    </tr>\n",
       "    <tr>\n",
       "      <th>2</th>\n",
       "      <td>48710.666947</td>\n",
       "      <td>63.77</td>\n",
       "      <td>female</td>\n",
       "      <td>white</td>\n",
       "      <td>16</td>\n",
       "      <td>33</td>\n",
       "    </tr>\n",
       "    <tr>\n",
       "      <th>3</th>\n",
       "      <td>80478.096153</td>\n",
       "      <td>63.22</td>\n",
       "      <td>female</td>\n",
       "      <td>other</td>\n",
       "      <td>16</td>\n",
       "      <td>95</td>\n",
       "    </tr>\n",
       "    <tr>\n",
       "      <th>4</th>\n",
       "      <td>82089.345498</td>\n",
       "      <td>63.08</td>\n",
       "      <td>female</td>\n",
       "      <td>white</td>\n",
       "      <td>17</td>\n",
       "      <td>43</td>\n",
       "    </tr>\n",
       "  </tbody>\n",
       "</table>\n",
       "</div>"
      ],
      "text/plain": [
       "           earn  height     sex   race  ed  age\n",
       "0  79571.299011   73.89    male  white  16   49\n",
       "1  96396.988643   66.23  female  white  16   62\n",
       "2  48710.666947   63.77  female  white  16   33\n",
       "3  80478.096153   63.22  female  other  16   95\n",
       "4  82089.345498   63.08  female  white  17   43"
      ]
     },
     "execution_count": 207,
     "metadata": {},
     "output_type": "execute_result"
    }
   ],
   "source": [
    "df = pd.read_csv(\"/data/wages.csv\")\n",
    "df.head()"
   ]
  },
  {
   "cell_type": "code",
   "execution_count": 208,
   "metadata": {
    "ExecuteTime": {
     "end_time": "2021-03-24T06:52:42.642445Z",
     "start_time": "2021-03-24T06:52:42.632414Z"
    }
   },
   "outputs": [
    {
     "data": {
      "text/plain": [
       "array(['male', 'female'], dtype=object)"
      ]
     },
     "execution_count": 208,
     "metadata": {},
     "output_type": "execute_result"
    }
   ],
   "source": [
    "df.sex.unique()"
   ]
  },
  {
   "cell_type": "code",
   "execution_count": 209,
   "metadata": {
    "ExecuteTime": {
     "end_time": "2021-03-24T06:52:49.530761Z",
     "start_time": "2021-03-24T06:52:49.509142Z"
    }
   },
   "outputs": [
    {
     "data": {
      "text/html": [
       "<div>\n",
       "<style scoped>\n",
       "    .dataframe tbody tr th:only-of-type {\n",
       "        vertical-align: middle;\n",
       "    }\n",
       "\n",
       "    .dataframe tbody tr th {\n",
       "        vertical-align: top;\n",
       "    }\n",
       "\n",
       "    .dataframe thead th {\n",
       "        text-align: right;\n",
       "    }\n",
       "</style>\n",
       "<table border=\"1\" class=\"dataframe\">\n",
       "  <thead>\n",
       "    <tr style=\"text-align: right;\">\n",
       "      <th></th>\n",
       "      <th>earn</th>\n",
       "      <th>height</th>\n",
       "      <th>sex</th>\n",
       "      <th>race</th>\n",
       "      <th>ed</th>\n",
       "      <th>age</th>\n",
       "      <th>sex_code</th>\n",
       "    </tr>\n",
       "  </thead>\n",
       "  <tbody>\n",
       "    <tr>\n",
       "      <th>0</th>\n",
       "      <td>79571.299011</td>\n",
       "      <td>73.89</td>\n",
       "      <td>male</td>\n",
       "      <td>white</td>\n",
       "      <td>16</td>\n",
       "      <td>49</td>\n",
       "      <td>0</td>\n",
       "    </tr>\n",
       "    <tr>\n",
       "      <th>1</th>\n",
       "      <td>96396.988643</td>\n",
       "      <td>66.23</td>\n",
       "      <td>female</td>\n",
       "      <td>white</td>\n",
       "      <td>16</td>\n",
       "      <td>62</td>\n",
       "      <td>1</td>\n",
       "    </tr>\n",
       "    <tr>\n",
       "      <th>2</th>\n",
       "      <td>48710.666947</td>\n",
       "      <td>63.77</td>\n",
       "      <td>female</td>\n",
       "      <td>white</td>\n",
       "      <td>16</td>\n",
       "      <td>33</td>\n",
       "      <td>1</td>\n",
       "    </tr>\n",
       "    <tr>\n",
       "      <th>3</th>\n",
       "      <td>80478.096153</td>\n",
       "      <td>63.22</td>\n",
       "      <td>female</td>\n",
       "      <td>other</td>\n",
       "      <td>16</td>\n",
       "      <td>95</td>\n",
       "      <td>1</td>\n",
       "    </tr>\n",
       "    <tr>\n",
       "      <th>4</th>\n",
       "      <td>82089.345498</td>\n",
       "      <td>63.08</td>\n",
       "      <td>female</td>\n",
       "      <td>white</td>\n",
       "      <td>17</td>\n",
       "      <td>43</td>\n",
       "      <td>1</td>\n",
       "    </tr>\n",
       "  </tbody>\n",
       "</table>\n",
       "</div>"
      ],
      "text/plain": [
       "           earn  height     sex   race  ed  age  sex_code\n",
       "0  79571.299011   73.89    male  white  16   49         0\n",
       "1  96396.988643   66.23  female  white  16   62         1\n",
       "2  48710.666947   63.77  female  white  16   33         1\n",
       "3  80478.096153   63.22  female  other  16   95         1\n",
       "4  82089.345498   63.08  female  white  17   43         1"
      ]
     },
     "execution_count": 209,
     "metadata": {},
     "output_type": "execute_result"
    }
   ],
   "source": [
    "df[\"sex_code\"] =  df.sex.map({\"male\":0, \"female\":1})\n",
    "df.head(5)"
   ]
  },
  {
   "cell_type": "code",
   "execution_count": 210,
   "metadata": {
    "ExecuteTime": {
     "end_time": "2021-03-24T06:52:55.299225Z",
     "start_time": "2021-03-24T06:52:55.281296Z"
    }
   },
   "outputs": [
    {
     "data": {
      "text/plain": [
       "0    0\n",
       "1    1\n",
       "2    1\n",
       "3    1\n",
       "4    1\n",
       "Name: sex, dtype: int64"
      ]
     },
     "execution_count": 210,
     "metadata": {},
     "output_type": "execute_result"
    }
   ],
   "source": [
    "df.sex.replace(\n",
    "    {\"male\":0, \"female\":1}\n",
    ").head()"
   ]
  },
  {
   "cell_type": "code",
   "execution_count": 211,
   "metadata": {
    "ExecuteTime": {
     "end_time": "2021-03-24T06:52:59.604849Z",
     "start_time": "2021-03-24T06:52:59.593332Z"
    }
   },
   "outputs": [
    {
     "data": {
      "text/plain": [
       "0      male\n",
       "1    female\n",
       "2    female\n",
       "3    female\n",
       "4    female\n",
       "Name: sex, dtype: object"
      ]
     },
     "execution_count": 211,
     "metadata": {},
     "output_type": "execute_result"
    }
   ],
   "source": [
    "df.sex.head(5)"
   ]
  },
  {
   "cell_type": "code",
   "execution_count": 212,
   "metadata": {
    "ExecuteTime": {
     "end_time": "2021-03-24T06:53:05.254752Z",
     "start_time": "2021-03-24T06:53:05.242179Z"
    }
   },
   "outputs": [],
   "source": [
    "df.sex.replace(\n",
    "    [\"male\", \"female\"], \n",
    "    [0,1], inplace=True)"
   ]
  },
  {
   "cell_type": "code",
   "execution_count": 214,
   "metadata": {
    "ExecuteTime": {
     "end_time": "2021-03-24T06:53:16.634323Z",
     "start_time": "2021-03-24T06:53:16.612235Z"
    }
   },
   "outputs": [
    {
     "data": {
      "text/html": [
       "<div>\n",
       "<style scoped>\n",
       "    .dataframe tbody tr th:only-of-type {\n",
       "        vertical-align: middle;\n",
       "    }\n",
       "\n",
       "    .dataframe tbody tr th {\n",
       "        vertical-align: top;\n",
       "    }\n",
       "\n",
       "    .dataframe thead th {\n",
       "        text-align: right;\n",
       "    }\n",
       "</style>\n",
       "<table border=\"1\" class=\"dataframe\">\n",
       "  <thead>\n",
       "    <tr style=\"text-align: right;\">\n",
       "      <th></th>\n",
       "      <th>earn</th>\n",
       "      <th>height</th>\n",
       "      <th>sex</th>\n",
       "      <th>race</th>\n",
       "      <th>ed</th>\n",
       "      <th>age</th>\n",
       "      <th>sex_code</th>\n",
       "    </tr>\n",
       "  </thead>\n",
       "  <tbody>\n",
       "    <tr>\n",
       "      <th>0</th>\n",
       "      <td>79571.299011</td>\n",
       "      <td>73.89</td>\n",
       "      <td>0</td>\n",
       "      <td>white</td>\n",
       "      <td>16</td>\n",
       "      <td>49</td>\n",
       "      <td>0</td>\n",
       "    </tr>\n",
       "    <tr>\n",
       "      <th>1</th>\n",
       "      <td>96396.988643</td>\n",
       "      <td>66.23</td>\n",
       "      <td>1</td>\n",
       "      <td>white</td>\n",
       "      <td>16</td>\n",
       "      <td>62</td>\n",
       "      <td>1</td>\n",
       "    </tr>\n",
       "    <tr>\n",
       "      <th>2</th>\n",
       "      <td>48710.666947</td>\n",
       "      <td>63.77</td>\n",
       "      <td>1</td>\n",
       "      <td>white</td>\n",
       "      <td>16</td>\n",
       "      <td>33</td>\n",
       "      <td>1</td>\n",
       "    </tr>\n",
       "    <tr>\n",
       "      <th>3</th>\n",
       "      <td>80478.096153</td>\n",
       "      <td>63.22</td>\n",
       "      <td>1</td>\n",
       "      <td>other</td>\n",
       "      <td>16</td>\n",
       "      <td>95</td>\n",
       "      <td>1</td>\n",
       "    </tr>\n",
       "    <tr>\n",
       "      <th>4</th>\n",
       "      <td>82089.345498</td>\n",
       "      <td>63.08</td>\n",
       "      <td>1</td>\n",
       "      <td>white</td>\n",
       "      <td>17</td>\n",
       "      <td>43</td>\n",
       "      <td>1</td>\n",
       "    </tr>\n",
       "  </tbody>\n",
       "</table>\n",
       "</div>"
      ],
      "text/plain": [
       "           earn  height  sex   race  ed  age  sex_code\n",
       "0  79571.299011   73.89    0  white  16   49         0\n",
       "1  96396.988643   66.23    1  white  16   62         1\n",
       "2  48710.666947   63.77    1  white  16   33         1\n",
       "3  80478.096153   63.22    1  other  16   95         1\n",
       "4  82089.345498   63.08    1  white  17   43         1"
      ]
     },
     "execution_count": 214,
     "metadata": {},
     "output_type": "execute_result"
    }
   ],
   "source": [
    "df.head()"
   ]
  },
  {
   "cell_type": "code",
   "execution_count": 215,
   "metadata": {
    "ExecuteTime": {
     "end_time": "2021-03-24T06:53:21.787044Z",
     "start_time": "2021-03-24T06:53:21.777583Z"
    }
   },
   "outputs": [],
   "source": [
    "del df[\"sex_code\"]"
   ]
  },
  {
   "cell_type": "code",
   "execution_count": 216,
   "metadata": {
    "ExecuteTime": {
     "end_time": "2021-03-24T06:53:24.719657Z",
     "start_time": "2021-03-24T06:53:24.703515Z"
    }
   },
   "outputs": [
    {
     "data": {
      "text/html": [
       "<div>\n",
       "<style scoped>\n",
       "    .dataframe tbody tr th:only-of-type {\n",
       "        vertical-align: middle;\n",
       "    }\n",
       "\n",
       "    .dataframe tbody tr th {\n",
       "        vertical-align: top;\n",
       "    }\n",
       "\n",
       "    .dataframe thead th {\n",
       "        text-align: right;\n",
       "    }\n",
       "</style>\n",
       "<table border=\"1\" class=\"dataframe\">\n",
       "  <thead>\n",
       "    <tr style=\"text-align: right;\">\n",
       "      <th></th>\n",
       "      <th>earn</th>\n",
       "      <th>height</th>\n",
       "      <th>sex</th>\n",
       "      <th>race</th>\n",
       "      <th>ed</th>\n",
       "      <th>age</th>\n",
       "    </tr>\n",
       "  </thead>\n",
       "  <tbody>\n",
       "    <tr>\n",
       "      <th>0</th>\n",
       "      <td>79571.299011</td>\n",
       "      <td>73.89</td>\n",
       "      <td>0</td>\n",
       "      <td>white</td>\n",
       "      <td>16</td>\n",
       "      <td>49</td>\n",
       "    </tr>\n",
       "    <tr>\n",
       "      <th>1</th>\n",
       "      <td>96396.988643</td>\n",
       "      <td>66.23</td>\n",
       "      <td>1</td>\n",
       "      <td>white</td>\n",
       "      <td>16</td>\n",
       "      <td>62</td>\n",
       "    </tr>\n",
       "    <tr>\n",
       "      <th>2</th>\n",
       "      <td>48710.666947</td>\n",
       "      <td>63.77</td>\n",
       "      <td>1</td>\n",
       "      <td>white</td>\n",
       "      <td>16</td>\n",
       "      <td>33</td>\n",
       "    </tr>\n",
       "    <tr>\n",
       "      <th>3</th>\n",
       "      <td>80478.096153</td>\n",
       "      <td>63.22</td>\n",
       "      <td>1</td>\n",
       "      <td>other</td>\n",
       "      <td>16</td>\n",
       "      <td>95</td>\n",
       "    </tr>\n",
       "    <tr>\n",
       "      <th>4</th>\n",
       "      <td>82089.345498</td>\n",
       "      <td>63.08</td>\n",
       "      <td>1</td>\n",
       "      <td>white</td>\n",
       "      <td>17</td>\n",
       "      <td>43</td>\n",
       "    </tr>\n",
       "  </tbody>\n",
       "</table>\n",
       "</div>"
      ],
      "text/plain": [
       "           earn  height  sex   race  ed  age\n",
       "0  79571.299011   73.89    0  white  16   49\n",
       "1  96396.988643   66.23    1  white  16   62\n",
       "2  48710.666947   63.77    1  white  16   33\n",
       "3  80478.096153   63.22    1  other  16   95\n",
       "4  82089.345498   63.08    1  white  17   43"
      ]
     },
     "execution_count": 216,
     "metadata": {},
     "output_type": "execute_result"
    }
   ],
   "source": [
    "df.head()"
   ]
  },
  {
   "cell_type": "markdown",
   "metadata": {},
   "source": [
    "### apply & applymap"
   ]
  },
  {
   "cell_type": "code",
   "execution_count": 220,
   "metadata": {
    "ExecuteTime": {
     "end_time": "2021-03-24T06:53:54.199047Z",
     "start_time": "2021-03-24T06:53:54.171990Z"
    }
   },
   "outputs": [
    {
     "data": {
      "text/html": [
       "<div>\n",
       "<style scoped>\n",
       "    .dataframe tbody tr th:only-of-type {\n",
       "        vertical-align: middle;\n",
       "    }\n",
       "\n",
       "    .dataframe tbody tr th {\n",
       "        vertical-align: top;\n",
       "    }\n",
       "\n",
       "    .dataframe thead th {\n",
       "        text-align: right;\n",
       "    }\n",
       "</style>\n",
       "<table border=\"1\" class=\"dataframe\">\n",
       "  <thead>\n",
       "    <tr style=\"text-align: right;\">\n",
       "      <th></th>\n",
       "      <th>earn</th>\n",
       "      <th>height</th>\n",
       "      <th>sex</th>\n",
       "      <th>race</th>\n",
       "      <th>ed</th>\n",
       "      <th>age</th>\n",
       "    </tr>\n",
       "  </thead>\n",
       "  <tbody>\n",
       "    <tr>\n",
       "      <th>0</th>\n",
       "      <td>79571.299011</td>\n",
       "      <td>73.89</td>\n",
       "      <td>male</td>\n",
       "      <td>white</td>\n",
       "      <td>16</td>\n",
       "      <td>49</td>\n",
       "    </tr>\n",
       "    <tr>\n",
       "      <th>1</th>\n",
       "      <td>96396.988643</td>\n",
       "      <td>66.23</td>\n",
       "      <td>female</td>\n",
       "      <td>white</td>\n",
       "      <td>16</td>\n",
       "      <td>62</td>\n",
       "    </tr>\n",
       "    <tr>\n",
       "      <th>2</th>\n",
       "      <td>48710.666947</td>\n",
       "      <td>63.77</td>\n",
       "      <td>female</td>\n",
       "      <td>white</td>\n",
       "      <td>16</td>\n",
       "      <td>33</td>\n",
       "    </tr>\n",
       "    <tr>\n",
       "      <th>3</th>\n",
       "      <td>80478.096153</td>\n",
       "      <td>63.22</td>\n",
       "      <td>female</td>\n",
       "      <td>other</td>\n",
       "      <td>16</td>\n",
       "      <td>95</td>\n",
       "    </tr>\n",
       "    <tr>\n",
       "      <th>4</th>\n",
       "      <td>82089.345498</td>\n",
       "      <td>63.08</td>\n",
       "      <td>female</td>\n",
       "      <td>white</td>\n",
       "      <td>17</td>\n",
       "      <td>43</td>\n",
       "    </tr>\n",
       "  </tbody>\n",
       "</table>\n",
       "</div>"
      ],
      "text/plain": [
       "           earn  height     sex   race  ed  age\n",
       "0  79571.299011   73.89    male  white  16   49\n",
       "1  96396.988643   66.23  female  white  16   62\n",
       "2  48710.666947   63.77  female  white  16   33\n",
       "3  80478.096153   63.22  female  other  16   95\n",
       "4  82089.345498   63.08  female  white  17   43"
      ]
     },
     "execution_count": 220,
     "metadata": {},
     "output_type": "execute_result"
    }
   ],
   "source": [
    "df = pd.read_csv(\"/data/wages.csv\")\n",
    "df.head()"
   ]
  },
  {
   "cell_type": "code",
   "execution_count": 221,
   "metadata": {
    "ExecuteTime": {
     "end_time": "2021-03-24T06:53:56.409086Z",
     "start_time": "2021-03-24T06:53:56.396213Z"
    }
   },
   "outputs": [
    {
     "data": {
      "text/html": [
       "<div>\n",
       "<style scoped>\n",
       "    .dataframe tbody tr th:only-of-type {\n",
       "        vertical-align: middle;\n",
       "    }\n",
       "\n",
       "    .dataframe tbody tr th {\n",
       "        vertical-align: top;\n",
       "    }\n",
       "\n",
       "    .dataframe thead th {\n",
       "        text-align: right;\n",
       "    }\n",
       "</style>\n",
       "<table border=\"1\" class=\"dataframe\">\n",
       "  <thead>\n",
       "    <tr style=\"text-align: right;\">\n",
       "      <th></th>\n",
       "      <th>earn</th>\n",
       "      <th>height</th>\n",
       "      <th>age</th>\n",
       "    </tr>\n",
       "  </thead>\n",
       "  <tbody>\n",
       "    <tr>\n",
       "      <th>0</th>\n",
       "      <td>79571.299011</td>\n",
       "      <td>73.89</td>\n",
       "      <td>49</td>\n",
       "    </tr>\n",
       "    <tr>\n",
       "      <th>1</th>\n",
       "      <td>96396.988643</td>\n",
       "      <td>66.23</td>\n",
       "      <td>62</td>\n",
       "    </tr>\n",
       "    <tr>\n",
       "      <th>2</th>\n",
       "      <td>48710.666947</td>\n",
       "      <td>63.77</td>\n",
       "      <td>33</td>\n",
       "    </tr>\n",
       "    <tr>\n",
       "      <th>3</th>\n",
       "      <td>80478.096153</td>\n",
       "      <td>63.22</td>\n",
       "      <td>95</td>\n",
       "    </tr>\n",
       "    <tr>\n",
       "      <th>4</th>\n",
       "      <td>82089.345498</td>\n",
       "      <td>63.08</td>\n",
       "      <td>43</td>\n",
       "    </tr>\n",
       "  </tbody>\n",
       "</table>\n",
       "</div>"
      ],
      "text/plain": [
       "           earn  height  age\n",
       "0  79571.299011   73.89   49\n",
       "1  96396.988643   66.23   62\n",
       "2  48710.666947   63.77   33\n",
       "3  80478.096153   63.22   95\n",
       "4  82089.345498   63.08   43"
      ]
     },
     "execution_count": 221,
     "metadata": {},
     "output_type": "execute_result"
    }
   ],
   "source": [
    "df_info = df[[\"earn\", \"height\",\"age\"]]\n",
    "df_info.head()"
   ]
  },
  {
   "cell_type": "code",
   "execution_count": 222,
   "metadata": {
    "ExecuteTime": {
     "end_time": "2021-03-24T06:54:09.735921Z",
     "start_time": "2021-03-24T06:54:09.703863Z"
    }
   },
   "outputs": [
    {
     "data": {
      "text/plain": [
       "earn      318047.708444\n",
       "height        19.870000\n",
       "age           73.000000\n",
       "dtype: float64"
      ]
     },
     "execution_count": 222,
     "metadata": {},
     "output_type": "execute_result"
    }
   ],
   "source": [
    "f = lambda x : x.max() - x.min()\n",
    "df_info.apply(f) "
   ]
  },
  {
   "cell_type": "code",
   "execution_count": 223,
   "metadata": {
    "ExecuteTime": {
     "end_time": "2021-03-24T06:54:15.264024Z",
     "start_time": "2021-03-24T06:54:15.238910Z"
    }
   },
   "outputs": [
    {
     "data": {
      "text/plain": [
       "earn      4.474344e+07\n",
       "height    9.183125e+04\n",
       "age       6.250800e+04\n",
       "dtype: float64"
      ]
     },
     "execution_count": 223,
     "metadata": {},
     "output_type": "execute_result"
    }
   ],
   "source": [
    "df_info.apply(sum)"
   ]
  },
  {
   "cell_type": "code",
   "execution_count": 224,
   "metadata": {
    "ExecuteTime": {
     "end_time": "2021-03-24T06:54:19.199940Z",
     "start_time": "2021-03-24T06:54:19.176846Z"
    }
   },
   "outputs": [
    {
     "data": {
      "text/plain": [
       "earn      4.474344e+07\n",
       "height    9.183125e+04\n",
       "age       6.250800e+04\n",
       "dtype: float64"
      ]
     },
     "execution_count": 224,
     "metadata": {},
     "output_type": "execute_result"
    }
   ],
   "source": [
    "df_info.sum()"
   ]
  },
  {
   "cell_type": "code",
   "execution_count": 225,
   "metadata": {
    "ExecuteTime": {
     "end_time": "2021-03-24T06:54:24.900697Z",
     "start_time": "2021-03-24T06:54:24.882924Z"
    }
   },
   "outputs": [
    {
     "data": {
      "text/html": [
       "<div>\n",
       "<style scoped>\n",
       "    .dataframe tbody tr th:only-of-type {\n",
       "        vertical-align: middle;\n",
       "    }\n",
       "\n",
       "    .dataframe tbody tr th {\n",
       "        vertical-align: top;\n",
       "    }\n",
       "\n",
       "    .dataframe thead th {\n",
       "        text-align: right;\n",
       "    }\n",
       "</style>\n",
       "<table border=\"1\" class=\"dataframe\">\n",
       "  <thead>\n",
       "    <tr style=\"text-align: right;\">\n",
       "      <th></th>\n",
       "      <th>earn</th>\n",
       "      <th>height</th>\n",
       "      <th>age</th>\n",
       "    </tr>\n",
       "  </thead>\n",
       "  <tbody>\n",
       "    <tr>\n",
       "      <th>min</th>\n",
       "      <td>-98.580489</td>\n",
       "      <td>57.34000</td>\n",
       "      <td>22.000000</td>\n",
       "    </tr>\n",
       "    <tr>\n",
       "      <th>max</th>\n",
       "      <td>317949.127955</td>\n",
       "      <td>77.21000</td>\n",
       "      <td>95.000000</td>\n",
       "    </tr>\n",
       "    <tr>\n",
       "      <th>mean</th>\n",
       "      <td>32446.292622</td>\n",
       "      <td>66.59264</td>\n",
       "      <td>45.328499</td>\n",
       "    </tr>\n",
       "  </tbody>\n",
       "</table>\n",
       "</div>"
      ],
      "text/plain": [
       "               earn    height        age\n",
       "min      -98.580489  57.34000  22.000000\n",
       "max   317949.127955  77.21000  95.000000\n",
       "mean   32446.292622  66.59264  45.328499"
      ]
     },
     "execution_count": 225,
     "metadata": {},
     "output_type": "execute_result"
    }
   ],
   "source": [
    "def f(x):\n",
    "    return Series([x.min(), x.max(), x.mean()], \n",
    "                    index=[\"min\", \"max\", \"mean\"])\n",
    "df_info.apply(f)"
   ]
  },
  {
   "cell_type": "code",
   "execution_count": 227,
   "metadata": {
    "ExecuteTime": {
     "end_time": "2021-03-24T06:54:36.861075Z",
     "start_time": "2021-03-24T06:54:36.843026Z"
    }
   },
   "outputs": [
    {
     "data": {
      "text/html": [
       "<div>\n",
       "<style scoped>\n",
       "    .dataframe tbody tr th:only-of-type {\n",
       "        vertical-align: middle;\n",
       "    }\n",
       "\n",
       "    .dataframe tbody tr th {\n",
       "        vertical-align: top;\n",
       "    }\n",
       "\n",
       "    .dataframe thead th {\n",
       "        text-align: right;\n",
       "    }\n",
       "</style>\n",
       "<table border=\"1\" class=\"dataframe\">\n",
       "  <thead>\n",
       "    <tr style=\"text-align: right;\">\n",
       "      <th></th>\n",
       "      <th>earn</th>\n",
       "      <th>height</th>\n",
       "      <th>age</th>\n",
       "    </tr>\n",
       "  </thead>\n",
       "  <tbody>\n",
       "    <tr>\n",
       "      <th>0</th>\n",
       "      <td>-79571.299011</td>\n",
       "      <td>-73.89</td>\n",
       "      <td>-49</td>\n",
       "    </tr>\n",
       "    <tr>\n",
       "      <th>1</th>\n",
       "      <td>-96396.988643</td>\n",
       "      <td>-66.23</td>\n",
       "      <td>-62</td>\n",
       "    </tr>\n",
       "    <tr>\n",
       "      <th>2</th>\n",
       "      <td>-48710.666947</td>\n",
       "      <td>-63.77</td>\n",
       "      <td>-33</td>\n",
       "    </tr>\n",
       "    <tr>\n",
       "      <th>3</th>\n",
       "      <td>-80478.096153</td>\n",
       "      <td>-63.22</td>\n",
       "      <td>-95</td>\n",
       "    </tr>\n",
       "    <tr>\n",
       "      <th>4</th>\n",
       "      <td>-82089.345498</td>\n",
       "      <td>-63.08</td>\n",
       "      <td>-43</td>\n",
       "    </tr>\n",
       "  </tbody>\n",
       "</table>\n",
       "</div>"
      ],
      "text/plain": [
       "           earn  height  age\n",
       "0 -79571.299011  -73.89  -49\n",
       "1 -96396.988643  -66.23  -62\n",
       "2 -48710.666947  -63.77  -33\n",
       "3 -80478.096153  -63.22  -95\n",
       "4 -82089.345498  -63.08  -43"
      ]
     },
     "execution_count": 227,
     "metadata": {},
     "output_type": "execute_result"
    }
   ],
   "source": [
    "f = lambda x : -x\n",
    "df_info.applymap(f).head(5)"
   ]
  },
  {
   "cell_type": "code",
   "execution_count": 228,
   "metadata": {
    "ExecuteTime": {
     "end_time": "2021-03-24T06:54:37.205050Z",
     "start_time": "2021-03-24T06:54:37.198008Z"
    }
   },
   "outputs": [
    {
     "data": {
      "text/plain": [
       "0   -79571.299011\n",
       "1   -96396.988643\n",
       "2   -48710.666947\n",
       "3   -80478.096153\n",
       "4   -82089.345498\n",
       "Name: earn, dtype: float64"
      ]
     },
     "execution_count": 228,
     "metadata": {},
     "output_type": "execute_result"
    }
   ],
   "source": [
    "f = lambda x : -x\n",
    "df_info[\"earn\"].apply(f).head(5)"
   ]
  },
  {
   "cell_type": "markdown",
   "metadata": {},
   "source": [
    "### Group by"
   ]
  },
  {
   "cell_type": "code",
   "execution_count": 278,
   "metadata": {
    "ExecuteTime": {
     "end_time": "2021-03-24T07:21:25.752045Z",
     "start_time": "2021-03-24T07:21:25.718637Z"
    }
   },
   "outputs": [
    {
     "data": {
      "text/html": [
       "<div>\n",
       "<style scoped>\n",
       "    .dataframe tbody tr th:only-of-type {\n",
       "        vertical-align: middle;\n",
       "    }\n",
       "\n",
       "    .dataframe tbody tr th {\n",
       "        vertical-align: top;\n",
       "    }\n",
       "\n",
       "    .dataframe thead th {\n",
       "        text-align: right;\n",
       "    }\n",
       "</style>\n",
       "<table border=\"1\" class=\"dataframe\">\n",
       "  <thead>\n",
       "    <tr style=\"text-align: right;\">\n",
       "      <th></th>\n",
       "      <th>Team</th>\n",
       "      <th>Rank</th>\n",
       "      <th>Year</th>\n",
       "      <th>Points</th>\n",
       "    </tr>\n",
       "  </thead>\n",
       "  <tbody>\n",
       "    <tr>\n",
       "      <th>0</th>\n",
       "      <td>Riders</td>\n",
       "      <td>1</td>\n",
       "      <td>2014</td>\n",
       "      <td>876</td>\n",
       "    </tr>\n",
       "    <tr>\n",
       "      <th>1</th>\n",
       "      <td>Riders</td>\n",
       "      <td>2</td>\n",
       "      <td>2015</td>\n",
       "      <td>789</td>\n",
       "    </tr>\n",
       "    <tr>\n",
       "      <th>2</th>\n",
       "      <td>Devils</td>\n",
       "      <td>2</td>\n",
       "      <td>2014</td>\n",
       "      <td>863</td>\n",
       "    </tr>\n",
       "    <tr>\n",
       "      <th>3</th>\n",
       "      <td>Devils</td>\n",
       "      <td>3</td>\n",
       "      <td>2015</td>\n",
       "      <td>673</td>\n",
       "    </tr>\n",
       "    <tr>\n",
       "      <th>4</th>\n",
       "      <td>Kings</td>\n",
       "      <td>3</td>\n",
       "      <td>2014</td>\n",
       "      <td>741</td>\n",
       "    </tr>\n",
       "  </tbody>\n",
       "</table>\n",
       "</div>"
      ],
      "text/plain": [
       "     Team  Rank  Year  Points\n",
       "0  Riders     1  2014     876\n",
       "1  Riders     2  2015     789\n",
       "2  Devils     2  2014     863\n",
       "3  Devils     3  2015     673\n",
       "4   Kings     3  2014     741"
      ]
     },
     "execution_count": 278,
     "metadata": {},
     "output_type": "execute_result"
    }
   ],
   "source": [
    "ipl_data = {'Team': ['Riders', 'Riders', 'Devils', 'Devils', 'Kings',\n",
    "         'kings', 'Kings', 'Kings', 'Riders', 'Royals', 'Royals', 'Riders'],\n",
    "         'Rank': [1, 2, 2, 3, 3,4 ,1 ,1,2 , 4,1,2],\n",
    "         'Year': [2014,2015,2014,2015,2014,2015,2016,2017,2016,2014,2015,2017],\n",
    "         'Points':[876,789,863,673,741,812,756,788,694,701,804,690]}\n",
    "\n",
    "df = pd.DataFrame(ipl_data)\n",
    "df.head()"
   ]
  },
  {
   "cell_type": "code",
   "execution_count": 279,
   "metadata": {
    "ExecuteTime": {
     "end_time": "2021-03-24T07:21:26.079470Z",
     "start_time": "2021-03-24T07:21:26.061213Z"
    }
   },
   "outputs": [
    {
     "data": {
      "text/plain": [
       "Team\n",
       "Devils    1536\n",
       "Kings     2285\n",
       "Riders    3049\n",
       "Royals    1505\n",
       "kings      812\n",
       "Name: Points, dtype: int64"
      ]
     },
     "execution_count": 279,
     "metadata": {},
     "output_type": "execute_result"
    }
   ],
   "source": [
    "# groupby(기준컬럼, 적용컬럼, 연산)\n",
    "df.groupby(\"Team\")[\"Points\"].sum()"
   ]
  },
  {
   "cell_type": "code",
   "execution_count": 280,
   "metadata": {
    "ExecuteTime": {
     "end_time": "2021-03-24T07:21:26.311911Z",
     "start_time": "2021-03-24T07:21:26.291903Z"
    }
   },
   "outputs": [
    {
     "data": {
      "text/plain": [
       "Team    Year\n",
       "Devils  2014    863\n",
       "        2015    673\n",
       "Kings   2014    741\n",
       "        2016    756\n",
       "        2017    788\n",
       "Riders  2014    876\n",
       "        2015    789\n",
       "        2016    694\n",
       "        2017    690\n",
       "Royals  2014    701\n",
       "        2015    804\n",
       "kings   2015    812\n",
       "Name: Points, dtype: int64"
      ]
     },
     "execution_count": 280,
     "metadata": {},
     "output_type": "execute_result"
    }
   ],
   "source": [
    "h_index = df.groupby([\"Team\", \"Year\"])[\"Points\"].sum()\n",
    "h_index"
   ]
  },
  {
   "cell_type": "code",
   "execution_count": 281,
   "metadata": {
    "ExecuteTime": {
     "end_time": "2021-03-24T07:21:26.497563Z",
     "start_time": "2021-03-24T07:21:26.487714Z"
    }
   },
   "outputs": [
    {
     "data": {
      "text/plain": [
       "MultiIndex([('Devils', 2014),\n",
       "            ('Devils', 2015),\n",
       "            ( 'Kings', 2014),\n",
       "            ( 'Kings', 2016),\n",
       "            ( 'Kings', 2017),\n",
       "            ('Riders', 2014),\n",
       "            ('Riders', 2015),\n",
       "            ('Riders', 2016),\n",
       "            ('Riders', 2017),\n",
       "            ('Royals', 2014),\n",
       "            ('Royals', 2015),\n",
       "            ( 'kings', 2015)],\n",
       "           names=['Team', 'Year'])"
      ]
     },
     "execution_count": 281,
     "metadata": {},
     "output_type": "execute_result"
    }
   ],
   "source": [
    "h_index.index"
   ]
  },
  {
   "cell_type": "code",
   "execution_count": 282,
   "metadata": {
    "ExecuteTime": {
     "end_time": "2021-03-24T07:21:26.683116Z",
     "start_time": "2021-03-24T07:21:26.669973Z"
    }
   },
   "outputs": [
    {
     "data": {
      "text/plain": [
       "Team    Year\n",
       "Devils  2014    863\n",
       "        2015    673\n",
       "Kings   2014    741\n",
       "        2016    756\n",
       "        2017    788\n",
       "Name: Points, dtype: int64"
      ]
     },
     "execution_count": 282,
     "metadata": {},
     "output_type": "execute_result"
    }
   ],
   "source": [
    "h_index[\"Devils\":\"Kings\"]"
   ]
  },
  {
   "cell_type": "code",
   "execution_count": 283,
   "metadata": {
    "ExecuteTime": {
     "end_time": "2021-03-24T07:21:26.885222Z",
     "start_time": "2021-03-24T07:21:26.859263Z"
    }
   },
   "outputs": [
    {
     "data": {
      "text/html": [
       "<div>\n",
       "<style scoped>\n",
       "    .dataframe tbody tr th:only-of-type {\n",
       "        vertical-align: middle;\n",
       "    }\n",
       "\n",
       "    .dataframe tbody tr th {\n",
       "        vertical-align: top;\n",
       "    }\n",
       "\n",
       "    .dataframe thead th {\n",
       "        text-align: right;\n",
       "    }\n",
       "</style>\n",
       "<table border=\"1\" class=\"dataframe\">\n",
       "  <thead>\n",
       "    <tr style=\"text-align: right;\">\n",
       "      <th>Year</th>\n",
       "      <th>2014</th>\n",
       "      <th>2015</th>\n",
       "      <th>2016</th>\n",
       "      <th>2017</th>\n",
       "    </tr>\n",
       "    <tr>\n",
       "      <th>Team</th>\n",
       "      <th></th>\n",
       "      <th></th>\n",
       "      <th></th>\n",
       "      <th></th>\n",
       "    </tr>\n",
       "  </thead>\n",
       "  <tbody>\n",
       "    <tr>\n",
       "      <th>Devils</th>\n",
       "      <td>863.0</td>\n",
       "      <td>673.0</td>\n",
       "      <td>NaN</td>\n",
       "      <td>NaN</td>\n",
       "    </tr>\n",
       "    <tr>\n",
       "      <th>Kings</th>\n",
       "      <td>741.0</td>\n",
       "      <td>NaN</td>\n",
       "      <td>756.0</td>\n",
       "      <td>788.0</td>\n",
       "    </tr>\n",
       "    <tr>\n",
       "      <th>Riders</th>\n",
       "      <td>876.0</td>\n",
       "      <td>789.0</td>\n",
       "      <td>694.0</td>\n",
       "      <td>690.0</td>\n",
       "    </tr>\n",
       "    <tr>\n",
       "      <th>Royals</th>\n",
       "      <td>701.0</td>\n",
       "      <td>804.0</td>\n",
       "      <td>NaN</td>\n",
       "      <td>NaN</td>\n",
       "    </tr>\n",
       "    <tr>\n",
       "      <th>kings</th>\n",
       "      <td>NaN</td>\n",
       "      <td>812.0</td>\n",
       "      <td>NaN</td>\n",
       "      <td>NaN</td>\n",
       "    </tr>\n",
       "  </tbody>\n",
       "</table>\n",
       "</div>"
      ],
      "text/plain": [
       "Year     2014   2015   2016   2017\n",
       "Team                              \n",
       "Devils  863.0  673.0    NaN    NaN\n",
       "Kings   741.0    NaN  756.0  788.0\n",
       "Riders  876.0  789.0  694.0  690.0\n",
       "Royals  701.0  804.0    NaN    NaN\n",
       "kings     NaN  812.0    NaN    NaN"
      ]
     },
     "execution_count": 283,
     "metadata": {},
     "output_type": "execute_result"
    }
   ],
   "source": [
    "h_index.unstack()"
   ]
  },
  {
   "cell_type": "code",
   "execution_count": 284,
   "metadata": {
    "ExecuteTime": {
     "end_time": "2021-03-24T07:21:27.040137Z",
     "start_time": "2021-03-24T07:21:27.034133Z"
    }
   },
   "outputs": [
    {
     "data": {
      "text/plain": [
       "Year  Team  \n",
       "2014  Devils    863\n",
       "2015  Devils    673\n",
       "2014  Kings     741\n",
       "2016  Kings     756\n",
       "2017  Kings     788\n",
       "2014  Riders    876\n",
       "2015  Riders    789\n",
       "2016  Riders    694\n",
       "2017  Riders    690\n",
       "2014  Royals    701\n",
       "2015  Royals    804\n",
       "      kings     812\n",
       "Name: Points, dtype: int64"
      ]
     },
     "execution_count": 284,
     "metadata": {},
     "output_type": "execute_result"
    }
   ],
   "source": [
    "h_index.swaplevel()"
   ]
  },
  {
   "cell_type": "code",
   "execution_count": 285,
   "metadata": {
    "ExecuteTime": {
     "end_time": "2021-03-24T07:21:27.257913Z",
     "start_time": "2021-03-24T07:21:27.244934Z"
    }
   },
   "outputs": [
    {
     "data": {
      "text/plain": [
       "Team\n",
       "Devils    1536\n",
       "Kings     2285\n",
       "Riders    3049\n",
       "Royals    1505\n",
       "kings      812\n",
       "Name: Points, dtype: int64"
      ]
     },
     "execution_count": 285,
     "metadata": {},
     "output_type": "execute_result"
    }
   ],
   "source": [
    "h_index.sum(level=0)"
   ]
  },
  {
   "cell_type": "code",
   "execution_count": 286,
   "metadata": {
    "ExecuteTime": {
     "end_time": "2021-03-24T07:21:27.508047Z",
     "start_time": "2021-03-24T07:21:27.476074Z"
    }
   },
   "outputs": [
    {
     "data": {
      "text/plain": [
       "Year\n",
       "2014    3181\n",
       "2015    3078\n",
       "2016    1450\n",
       "2017    1478\n",
       "Name: Points, dtype: int64"
      ]
     },
     "execution_count": 286,
     "metadata": {},
     "output_type": "execute_result"
    }
   ],
   "source": [
    "h_index.sum(level=1)"
   ]
  },
  {
   "cell_type": "code",
   "execution_count": 298,
   "metadata": {
    "ExecuteTime": {
     "end_time": "2021-03-24T07:22:56.801118Z",
     "start_time": "2021-03-24T07:22:56.784714Z"
    }
   },
   "outputs": [],
   "source": [
    "grouped = df.groupby(\"Team\")"
   ]
  },
  {
   "cell_type": "code",
   "execution_count": 288,
   "metadata": {
    "ExecuteTime": {
     "end_time": "2021-03-24T07:21:27.910825Z",
     "start_time": "2021-03-24T07:21:27.892826Z"
    }
   },
   "outputs": [
    {
     "name": "stdout",
     "output_type": "stream",
     "text": [
      "<class 'str'>\n",
      "<class 'pandas.core.frame.DataFrame'>\n",
      "<class 'str'>\n",
      "<class 'pandas.core.frame.DataFrame'>\n",
      "<class 'str'>\n",
      "<class 'pandas.core.frame.DataFrame'>\n",
      "<class 'str'>\n",
      "<class 'pandas.core.frame.DataFrame'>\n",
      "<class 'str'>\n",
      "<class 'pandas.core.frame.DataFrame'>\n"
     ]
    }
   ],
   "source": [
    "for name,group in grouped:\n",
    "    print (type(name))\n",
    "    print (type(group))\n"
   ]
  },
  {
   "cell_type": "code",
   "execution_count": 289,
   "metadata": {
    "ExecuteTime": {
     "end_time": "2021-03-24T07:21:28.132709Z",
     "start_time": "2021-03-24T07:21:28.115263Z"
    }
   },
   "outputs": [
    {
     "data": {
      "text/html": [
       "<div>\n",
       "<style scoped>\n",
       "    .dataframe tbody tr th:only-of-type {\n",
       "        vertical-align: middle;\n",
       "    }\n",
       "\n",
       "    .dataframe tbody tr th {\n",
       "        vertical-align: top;\n",
       "    }\n",
       "\n",
       "    .dataframe thead th {\n",
       "        text-align: right;\n",
       "    }\n",
       "</style>\n",
       "<table border=\"1\" class=\"dataframe\">\n",
       "  <thead>\n",
       "    <tr style=\"text-align: right;\">\n",
       "      <th></th>\n",
       "      <th>Team</th>\n",
       "      <th>Rank</th>\n",
       "      <th>Year</th>\n",
       "      <th>Points</th>\n",
       "    </tr>\n",
       "  </thead>\n",
       "  <tbody>\n",
       "    <tr>\n",
       "      <th>0</th>\n",
       "      <td>Riders</td>\n",
       "      <td>1</td>\n",
       "      <td>2014</td>\n",
       "      <td>876</td>\n",
       "    </tr>\n",
       "    <tr>\n",
       "      <th>1</th>\n",
       "      <td>Riders</td>\n",
       "      <td>2</td>\n",
       "      <td>2015</td>\n",
       "      <td>789</td>\n",
       "    </tr>\n",
       "    <tr>\n",
       "      <th>8</th>\n",
       "      <td>Riders</td>\n",
       "      <td>2</td>\n",
       "      <td>2016</td>\n",
       "      <td>694</td>\n",
       "    </tr>\n",
       "    <tr>\n",
       "      <th>11</th>\n",
       "      <td>Riders</td>\n",
       "      <td>2</td>\n",
       "      <td>2017</td>\n",
       "      <td>690</td>\n",
       "    </tr>\n",
       "  </tbody>\n",
       "</table>\n",
       "</div>"
      ],
      "text/plain": [
       "      Team  Rank  Year  Points\n",
       "0   Riders     1  2014     876\n",
       "1   Riders     2  2015     789\n",
       "8   Riders     2  2016     694\n",
       "11  Riders     2  2017     690"
      ]
     },
     "execution_count": 289,
     "metadata": {},
     "output_type": "execute_result"
    }
   ],
   "source": [
    "grouped.get_group(\"Riders\")"
   ]
  },
  {
   "cell_type": "code",
   "execution_count": 290,
   "metadata": {
    "ExecuteTime": {
     "end_time": "2021-03-24T07:21:28.366887Z",
     "start_time": "2021-03-24T07:21:28.354927Z"
    }
   },
   "outputs": [
    {
     "data": {
      "text/html": [
       "<div>\n",
       "<style scoped>\n",
       "    .dataframe tbody tr th:only-of-type {\n",
       "        vertical-align: middle;\n",
       "    }\n",
       "\n",
       "    .dataframe tbody tr th {\n",
       "        vertical-align: top;\n",
       "    }\n",
       "\n",
       "    .dataframe thead th {\n",
       "        text-align: right;\n",
       "    }\n",
       "</style>\n",
       "<table border=\"1\" class=\"dataframe\">\n",
       "  <thead>\n",
       "    <tr style=\"text-align: right;\">\n",
       "      <th></th>\n",
       "      <th>Rank</th>\n",
       "      <th>Year</th>\n",
       "      <th>Points</th>\n",
       "    </tr>\n",
       "    <tr>\n",
       "      <th>Team</th>\n",
       "      <th></th>\n",
       "      <th></th>\n",
       "      <th></th>\n",
       "    </tr>\n",
       "  </thead>\n",
       "  <tbody>\n",
       "    <tr>\n",
       "      <th>Devils</th>\n",
       "      <td>2</td>\n",
       "      <td>2014</td>\n",
       "      <td>673</td>\n",
       "    </tr>\n",
       "    <tr>\n",
       "      <th>Kings</th>\n",
       "      <td>1</td>\n",
       "      <td>2014</td>\n",
       "      <td>741</td>\n",
       "    </tr>\n",
       "    <tr>\n",
       "      <th>Riders</th>\n",
       "      <td>1</td>\n",
       "      <td>2014</td>\n",
       "      <td>690</td>\n",
       "    </tr>\n",
       "    <tr>\n",
       "      <th>Royals</th>\n",
       "      <td>1</td>\n",
       "      <td>2014</td>\n",
       "      <td>701</td>\n",
       "    </tr>\n",
       "    <tr>\n",
       "      <th>kings</th>\n",
       "      <td>4</td>\n",
       "      <td>2015</td>\n",
       "      <td>812</td>\n",
       "    </tr>\n",
       "  </tbody>\n",
       "</table>\n",
       "</div>"
      ],
      "text/plain": [
       "        Rank  Year  Points\n",
       "Team                      \n",
       "Devils     2  2014     673\n",
       "Kings      1  2014     741\n",
       "Riders     1  2014     690\n",
       "Royals     1  2014     701\n",
       "kings      4  2015     812"
      ]
     },
     "execution_count": 290,
     "metadata": {},
     "output_type": "execute_result"
    }
   ],
   "source": [
    "grouped.agg(min)"
   ]
  },
  {
   "cell_type": "code",
   "execution_count": 291,
   "metadata": {
    "ExecuteTime": {
     "end_time": "2021-03-24T07:21:28.650957Z",
     "start_time": "2021-03-24T07:21:28.614129Z"
    }
   },
   "outputs": [
    {
     "data": {
      "text/html": [
       "<div>\n",
       "<style scoped>\n",
       "    .dataframe tbody tr th:only-of-type {\n",
       "        vertical-align: middle;\n",
       "    }\n",
       "\n",
       "    .dataframe tbody tr th {\n",
       "        vertical-align: top;\n",
       "    }\n",
       "\n",
       "    .dataframe thead th {\n",
       "        text-align: right;\n",
       "    }\n",
       "</style>\n",
       "<table border=\"1\" class=\"dataframe\">\n",
       "  <thead>\n",
       "    <tr style=\"text-align: right;\">\n",
       "      <th></th>\n",
       "      <th>Rank</th>\n",
       "      <th>Year</th>\n",
       "      <th>Points</th>\n",
       "    </tr>\n",
       "    <tr>\n",
       "      <th>Team</th>\n",
       "      <th></th>\n",
       "      <th></th>\n",
       "      <th></th>\n",
       "    </tr>\n",
       "  </thead>\n",
       "  <tbody>\n",
       "    <tr>\n",
       "      <th>Devils</th>\n",
       "      <td>2.500000</td>\n",
       "      <td>2014.500000</td>\n",
       "      <td>768.000000</td>\n",
       "    </tr>\n",
       "    <tr>\n",
       "      <th>Kings</th>\n",
       "      <td>1.666667</td>\n",
       "      <td>2015.666667</td>\n",
       "      <td>761.666667</td>\n",
       "    </tr>\n",
       "    <tr>\n",
       "      <th>Riders</th>\n",
       "      <td>1.750000</td>\n",
       "      <td>2015.500000</td>\n",
       "      <td>762.250000</td>\n",
       "    </tr>\n",
       "    <tr>\n",
       "      <th>Royals</th>\n",
       "      <td>2.500000</td>\n",
       "      <td>2014.500000</td>\n",
       "      <td>752.500000</td>\n",
       "    </tr>\n",
       "    <tr>\n",
       "      <th>kings</th>\n",
       "      <td>4.000000</td>\n",
       "      <td>2015.000000</td>\n",
       "      <td>812.000000</td>\n",
       "    </tr>\n",
       "  </tbody>\n",
       "</table>\n",
       "</div>"
      ],
      "text/plain": [
       "            Rank         Year      Points\n",
       "Team                                     \n",
       "Devils  2.500000  2014.500000  768.000000\n",
       "Kings   1.666667  2015.666667  761.666667\n",
       "Riders  1.750000  2015.500000  762.250000\n",
       "Royals  2.500000  2014.500000  752.500000\n",
       "kings   4.000000  2015.000000  812.000000"
      ]
     },
     "execution_count": 291,
     "metadata": {},
     "output_type": "execute_result"
    }
   ],
   "source": [
    "grouped.agg(np.mean)"
   ]
  },
  {
   "cell_type": "code",
   "execution_count": 292,
   "metadata": {
    "ExecuteTime": {
     "end_time": "2021-03-24T07:21:28.856048Z",
     "start_time": "2021-03-24T07:21:28.839043Z"
    },
    "scrolled": true
   },
   "outputs": [
    {
     "data": {
      "text/html": [
       "<div>\n",
       "<style scoped>\n",
       "    .dataframe tbody tr th:only-of-type {\n",
       "        vertical-align: middle;\n",
       "    }\n",
       "\n",
       "    .dataframe tbody tr th {\n",
       "        vertical-align: top;\n",
       "    }\n",
       "\n",
       "    .dataframe thead th {\n",
       "        text-align: right;\n",
       "    }\n",
       "</style>\n",
       "<table border=\"1\" class=\"dataframe\">\n",
       "  <thead>\n",
       "    <tr style=\"text-align: right;\">\n",
       "      <th></th>\n",
       "      <th>sum</th>\n",
       "      <th>mean</th>\n",
       "      <th>std</th>\n",
       "    </tr>\n",
       "    <tr>\n",
       "      <th>Team</th>\n",
       "      <th></th>\n",
       "      <th></th>\n",
       "      <th></th>\n",
       "    </tr>\n",
       "  </thead>\n",
       "  <tbody>\n",
       "    <tr>\n",
       "      <th>Devils</th>\n",
       "      <td>1536</td>\n",
       "      <td>768.000000</td>\n",
       "      <td>134.350288</td>\n",
       "    </tr>\n",
       "    <tr>\n",
       "      <th>Kings</th>\n",
       "      <td>2285</td>\n",
       "      <td>761.666667</td>\n",
       "      <td>24.006943</td>\n",
       "    </tr>\n",
       "    <tr>\n",
       "      <th>Riders</th>\n",
       "      <td>3049</td>\n",
       "      <td>762.250000</td>\n",
       "      <td>88.567771</td>\n",
       "    </tr>\n",
       "    <tr>\n",
       "      <th>Royals</th>\n",
       "      <td>1505</td>\n",
       "      <td>752.500000</td>\n",
       "      <td>72.831998</td>\n",
       "    </tr>\n",
       "    <tr>\n",
       "      <th>kings</th>\n",
       "      <td>812</td>\n",
       "      <td>812.000000</td>\n",
       "      <td>NaN</td>\n",
       "    </tr>\n",
       "  </tbody>\n",
       "</table>\n",
       "</div>"
      ],
      "text/plain": [
       "         sum        mean         std\n",
       "Team                                \n",
       "Devils  1536  768.000000  134.350288\n",
       "Kings   2285  761.666667   24.006943\n",
       "Riders  3049  762.250000   88.567771\n",
       "Royals  1505  752.500000   72.831998\n",
       "kings    812  812.000000         NaN"
      ]
     },
     "execution_count": 292,
     "metadata": {},
     "output_type": "execute_result"
    }
   ],
   "source": [
    "grouped['Points'].agg([np.sum, np.mean, np.std])"
   ]
  },
  {
   "cell_type": "code",
   "execution_count": 293,
   "metadata": {
    "ExecuteTime": {
     "end_time": "2021-03-24T07:21:29.105141Z",
     "start_time": "2021-03-24T07:21:29.058264Z"
    }
   },
   "outputs": [
    {
     "data": {
      "text/html": [
       "<div>\n",
       "<style scoped>\n",
       "    .dataframe tbody tr th:only-of-type {\n",
       "        vertical-align: middle;\n",
       "    }\n",
       "\n",
       "    .dataframe tbody tr th {\n",
       "        vertical-align: top;\n",
       "    }\n",
       "\n",
       "    .dataframe thead th {\n",
       "        text-align: right;\n",
       "    }\n",
       "</style>\n",
       "<table border=\"1\" class=\"dataframe\">\n",
       "  <thead>\n",
       "    <tr style=\"text-align: right;\">\n",
       "      <th></th>\n",
       "      <th>Rank</th>\n",
       "      <th>Year</th>\n",
       "      <th>Points</th>\n",
       "    </tr>\n",
       "  </thead>\n",
       "  <tbody>\n",
       "    <tr>\n",
       "      <th>0</th>\n",
       "      <td>-1.500000</td>\n",
       "      <td>-1.161895</td>\n",
       "      <td>1.284327</td>\n",
       "    </tr>\n",
       "    <tr>\n",
       "      <th>1</th>\n",
       "      <td>0.500000</td>\n",
       "      <td>-0.387298</td>\n",
       "      <td>0.302029</td>\n",
       "    </tr>\n",
       "    <tr>\n",
       "      <th>2</th>\n",
       "      <td>-0.707107</td>\n",
       "      <td>-0.707107</td>\n",
       "      <td>0.707107</td>\n",
       "    </tr>\n",
       "    <tr>\n",
       "      <th>3</th>\n",
       "      <td>0.707107</td>\n",
       "      <td>0.707107</td>\n",
       "      <td>-0.707107</td>\n",
       "    </tr>\n",
       "    <tr>\n",
       "      <th>4</th>\n",
       "      <td>1.154701</td>\n",
       "      <td>-1.091089</td>\n",
       "      <td>-0.860862</td>\n",
       "    </tr>\n",
       "    <tr>\n",
       "      <th>5</th>\n",
       "      <td>NaN</td>\n",
       "      <td>NaN</td>\n",
       "      <td>NaN</td>\n",
       "    </tr>\n",
       "    <tr>\n",
       "      <th>6</th>\n",
       "      <td>-0.577350</td>\n",
       "      <td>0.218218</td>\n",
       "      <td>-0.236043</td>\n",
       "    </tr>\n",
       "    <tr>\n",
       "      <th>7</th>\n",
       "      <td>-0.577350</td>\n",
       "      <td>0.872872</td>\n",
       "      <td>1.096905</td>\n",
       "    </tr>\n",
       "    <tr>\n",
       "      <th>8</th>\n",
       "      <td>0.500000</td>\n",
       "      <td>0.387298</td>\n",
       "      <td>-0.770596</td>\n",
       "    </tr>\n",
       "    <tr>\n",
       "      <th>9</th>\n",
       "      <td>0.707107</td>\n",
       "      <td>-0.707107</td>\n",
       "      <td>-0.707107</td>\n",
       "    </tr>\n",
       "    <tr>\n",
       "      <th>10</th>\n",
       "      <td>-0.707107</td>\n",
       "      <td>0.707107</td>\n",
       "      <td>0.707107</td>\n",
       "    </tr>\n",
       "    <tr>\n",
       "      <th>11</th>\n",
       "      <td>0.500000</td>\n",
       "      <td>1.161895</td>\n",
       "      <td>-0.815759</td>\n",
       "    </tr>\n",
       "  </tbody>\n",
       "</table>\n",
       "</div>"
      ],
      "text/plain": [
       "        Rank      Year    Points\n",
       "0  -1.500000 -1.161895  1.284327\n",
       "1   0.500000 -0.387298  0.302029\n",
       "2  -0.707107 -0.707107  0.707107\n",
       "3   0.707107  0.707107 -0.707107\n",
       "4   1.154701 -1.091089 -0.860862\n",
       "5        NaN       NaN       NaN\n",
       "6  -0.577350  0.218218 -0.236043\n",
       "7  -0.577350  0.872872  1.096905\n",
       "8   0.500000  0.387298 -0.770596\n",
       "9   0.707107 -0.707107 -0.707107\n",
       "10 -0.707107  0.707107  0.707107\n",
       "11  0.500000  1.161895 -0.815759"
      ]
     },
     "execution_count": 293,
     "metadata": {},
     "output_type": "execute_result"
    }
   ],
   "source": [
    "score = lambda x: (x - x.mean()) / x.std()\n",
    "grouped.transform(score) "
   ]
  },
  {
   "cell_type": "code",
   "execution_count": 294,
   "metadata": {
    "ExecuteTime": {
     "end_time": "2021-03-24T07:21:29.275056Z",
     "start_time": "2021-03-24T07:21:29.259926Z"
    }
   },
   "outputs": [
    {
     "data": {
      "text/html": [
       "<div>\n",
       "<style scoped>\n",
       "    .dataframe tbody tr th:only-of-type {\n",
       "        vertical-align: middle;\n",
       "    }\n",
       "\n",
       "    .dataframe tbody tr th {\n",
       "        vertical-align: top;\n",
       "    }\n",
       "\n",
       "    .dataframe thead th {\n",
       "        text-align: right;\n",
       "    }\n",
       "</style>\n",
       "<table border=\"1\" class=\"dataframe\">\n",
       "  <thead>\n",
       "    <tr style=\"text-align: right;\">\n",
       "      <th></th>\n",
       "      <th>Team</th>\n",
       "      <th>Rank</th>\n",
       "      <th>Year</th>\n",
       "      <th>Points</th>\n",
       "    </tr>\n",
       "  </thead>\n",
       "  <tbody>\n",
       "    <tr>\n",
       "      <th>0</th>\n",
       "      <td>Riders</td>\n",
       "      <td>1</td>\n",
       "      <td>2014</td>\n",
       "      <td>876</td>\n",
       "    </tr>\n",
       "    <tr>\n",
       "      <th>1</th>\n",
       "      <td>Riders</td>\n",
       "      <td>2</td>\n",
       "      <td>2015</td>\n",
       "      <td>789</td>\n",
       "    </tr>\n",
       "    <tr>\n",
       "      <th>4</th>\n",
       "      <td>Kings</td>\n",
       "      <td>3</td>\n",
       "      <td>2014</td>\n",
       "      <td>741</td>\n",
       "    </tr>\n",
       "    <tr>\n",
       "      <th>6</th>\n",
       "      <td>Kings</td>\n",
       "      <td>1</td>\n",
       "      <td>2016</td>\n",
       "      <td>756</td>\n",
       "    </tr>\n",
       "    <tr>\n",
       "      <th>7</th>\n",
       "      <td>Kings</td>\n",
       "      <td>1</td>\n",
       "      <td>2017</td>\n",
       "      <td>788</td>\n",
       "    </tr>\n",
       "    <tr>\n",
       "      <th>8</th>\n",
       "      <td>Riders</td>\n",
       "      <td>2</td>\n",
       "      <td>2016</td>\n",
       "      <td>694</td>\n",
       "    </tr>\n",
       "    <tr>\n",
       "      <th>11</th>\n",
       "      <td>Riders</td>\n",
       "      <td>2</td>\n",
       "      <td>2017</td>\n",
       "      <td>690</td>\n",
       "    </tr>\n",
       "  </tbody>\n",
       "</table>\n",
       "</div>"
      ],
      "text/plain": [
       "      Team  Rank  Year  Points\n",
       "0   Riders     1  2014     876\n",
       "1   Riders     2  2015     789\n",
       "4    Kings     3  2014     741\n",
       "6    Kings     1  2016     756\n",
       "7    Kings     1  2017     788\n",
       "8   Riders     2  2016     694\n",
       "11  Riders     2  2017     690"
      ]
     },
     "execution_count": 294,
     "metadata": {},
     "output_type": "execute_result"
    }
   ],
   "source": [
    "df.groupby('Team').filter(lambda x: len(x) >= 3)"
   ]
  },
  {
   "cell_type": "code",
   "execution_count": 295,
   "metadata": {
    "ExecuteTime": {
     "end_time": "2021-03-24T07:21:29.571524Z",
     "start_time": "2021-03-24T07:21:29.553934Z"
    }
   },
   "outputs": [
    {
     "data": {
      "text/html": [
       "<div>\n",
       "<style scoped>\n",
       "    .dataframe tbody tr th:only-of-type {\n",
       "        vertical-align: middle;\n",
       "    }\n",
       "\n",
       "    .dataframe tbody tr th {\n",
       "        vertical-align: top;\n",
       "    }\n",
       "\n",
       "    .dataframe thead th {\n",
       "        text-align: right;\n",
       "    }\n",
       "</style>\n",
       "<table border=\"1\" class=\"dataframe\">\n",
       "  <thead>\n",
       "    <tr style=\"text-align: right;\">\n",
       "      <th></th>\n",
       "      <th>Team</th>\n",
       "      <th>Rank</th>\n",
       "      <th>Year</th>\n",
       "      <th>Points</th>\n",
       "    </tr>\n",
       "  </thead>\n",
       "  <tbody>\n",
       "    <tr>\n",
       "      <th>0</th>\n",
       "      <td>Riders</td>\n",
       "      <td>1</td>\n",
       "      <td>2014</td>\n",
       "      <td>876</td>\n",
       "    </tr>\n",
       "    <tr>\n",
       "      <th>1</th>\n",
       "      <td>Riders</td>\n",
       "      <td>2</td>\n",
       "      <td>2015</td>\n",
       "      <td>789</td>\n",
       "    </tr>\n",
       "    <tr>\n",
       "      <th>2</th>\n",
       "      <td>Devils</td>\n",
       "      <td>2</td>\n",
       "      <td>2014</td>\n",
       "      <td>863</td>\n",
       "    </tr>\n",
       "    <tr>\n",
       "      <th>3</th>\n",
       "      <td>Devils</td>\n",
       "      <td>3</td>\n",
       "      <td>2015</td>\n",
       "      <td>673</td>\n",
       "    </tr>\n",
       "    <tr>\n",
       "      <th>5</th>\n",
       "      <td>kings</td>\n",
       "      <td>4</td>\n",
       "      <td>2015</td>\n",
       "      <td>812</td>\n",
       "    </tr>\n",
       "    <tr>\n",
       "      <th>8</th>\n",
       "      <td>Riders</td>\n",
       "      <td>2</td>\n",
       "      <td>2016</td>\n",
       "      <td>694</td>\n",
       "    </tr>\n",
       "    <tr>\n",
       "      <th>9</th>\n",
       "      <td>Royals</td>\n",
       "      <td>4</td>\n",
       "      <td>2014</td>\n",
       "      <td>701</td>\n",
       "    </tr>\n",
       "    <tr>\n",
       "      <th>10</th>\n",
       "      <td>Royals</td>\n",
       "      <td>1</td>\n",
       "      <td>2015</td>\n",
       "      <td>804</td>\n",
       "    </tr>\n",
       "    <tr>\n",
       "      <th>11</th>\n",
       "      <td>Riders</td>\n",
       "      <td>2</td>\n",
       "      <td>2017</td>\n",
       "      <td>690</td>\n",
       "    </tr>\n",
       "  </tbody>\n",
       "</table>\n",
       "</div>"
      ],
      "text/plain": [
       "      Team  Rank  Year  Points\n",
       "0   Riders     1  2014     876\n",
       "1   Riders     2  2015     789\n",
       "2   Devils     2  2014     863\n",
       "3   Devils     3  2015     673\n",
       "5    kings     4  2015     812\n",
       "8   Riders     2  2016     694\n",
       "9   Royals     4  2014     701\n",
       "10  Royals     1  2015     804\n",
       "11  Riders     2  2017     690"
      ]
     },
     "execution_count": 295,
     "metadata": {},
     "output_type": "execute_result"
    }
   ],
   "source": [
    "df.groupby('Team').filter(lambda x: x[\"Points\"].max() > 800)"
   ]
  },
  {
   "cell_type": "code",
   "execution_count": 252,
   "metadata": {
    "ExecuteTime": {
     "end_time": "2021-03-24T07:13:28.163144Z",
     "start_time": "2021-03-24T07:13:28.132341Z"
    }
   },
   "outputs": [
    {
     "data": {
      "text/html": [
       "<div>\n",
       "<style scoped>\n",
       "    .dataframe tbody tr th:only-of-type {\n",
       "        vertical-align: middle;\n",
       "    }\n",
       "\n",
       "    .dataframe tbody tr th {\n",
       "        vertical-align: top;\n",
       "    }\n",
       "\n",
       "    .dataframe thead th {\n",
       "        text-align: right;\n",
       "    }\n",
       "</style>\n",
       "<table border=\"1\" class=\"dataframe\">\n",
       "  <thead>\n",
       "    <tr style=\"text-align: right;\">\n",
       "      <th></th>\n",
       "      <th>index</th>\n",
       "      <th>date</th>\n",
       "      <th>duration</th>\n",
       "      <th>item</th>\n",
       "      <th>month</th>\n",
       "      <th>network</th>\n",
       "      <th>network_type</th>\n",
       "    </tr>\n",
       "  </thead>\n",
       "  <tbody>\n",
       "    <tr>\n",
       "      <th>0</th>\n",
       "      <td>0</td>\n",
       "      <td>15/10/14 06:58</td>\n",
       "      <td>34.429</td>\n",
       "      <td>data</td>\n",
       "      <td>2014-11</td>\n",
       "      <td>data</td>\n",
       "      <td>data</td>\n",
       "    </tr>\n",
       "    <tr>\n",
       "      <th>1</th>\n",
       "      <td>1</td>\n",
       "      <td>15/10/14 06:58</td>\n",
       "      <td>13.000</td>\n",
       "      <td>call</td>\n",
       "      <td>2014-11</td>\n",
       "      <td>Vodafone</td>\n",
       "      <td>mobile</td>\n",
       "    </tr>\n",
       "    <tr>\n",
       "      <th>2</th>\n",
       "      <td>2</td>\n",
       "      <td>15/10/14 14:46</td>\n",
       "      <td>23.000</td>\n",
       "      <td>call</td>\n",
       "      <td>2014-11</td>\n",
       "      <td>Meteor</td>\n",
       "      <td>mobile</td>\n",
       "    </tr>\n",
       "    <tr>\n",
       "      <th>3</th>\n",
       "      <td>3</td>\n",
       "      <td>15/10/14 14:48</td>\n",
       "      <td>4.000</td>\n",
       "      <td>call</td>\n",
       "      <td>2014-11</td>\n",
       "      <td>Tesco</td>\n",
       "      <td>mobile</td>\n",
       "    </tr>\n",
       "    <tr>\n",
       "      <th>4</th>\n",
       "      <td>4</td>\n",
       "      <td>15/10/14 17:27</td>\n",
       "      <td>4.000</td>\n",
       "      <td>call</td>\n",
       "      <td>2014-11</td>\n",
       "      <td>Tesco</td>\n",
       "      <td>mobile</td>\n",
       "    </tr>\n",
       "  </tbody>\n",
       "</table>\n",
       "</div>"
      ],
      "text/plain": [
       "   index            date  duration  item    month   network network_type\n",
       "0      0  15/10/14 06:58    34.429  data  2014-11      data         data\n",
       "1      1  15/10/14 06:58    13.000  call  2014-11  Vodafone       mobile\n",
       "2      2  15/10/14 14:46    23.000  call  2014-11    Meteor       mobile\n",
       "3      3  15/10/14 14:48     4.000  call  2014-11     Tesco       mobile\n",
       "4      4  15/10/14 17:27     4.000  call  2014-11     Tesco       mobile"
      ]
     },
     "execution_count": 252,
     "metadata": {},
     "output_type": "execute_result"
    }
   ],
   "source": [
    "df_phone = pd.read_csv(\"/data/phone_data.csv\")\n",
    "df_phone.head()"
   ]
  },
  {
   "cell_type": "code",
   "execution_count": 253,
   "metadata": {
    "ExecuteTime": {
     "end_time": "2021-03-24T07:13:33.355681Z",
     "start_time": "2021-03-24T07:13:33.266520Z"
    }
   },
   "outputs": [
    {
     "data": {
      "text/html": [
       "<div>\n",
       "<style scoped>\n",
       "    .dataframe tbody tr th:only-of-type {\n",
       "        vertical-align: middle;\n",
       "    }\n",
       "\n",
       "    .dataframe tbody tr th {\n",
       "        vertical-align: top;\n",
       "    }\n",
       "\n",
       "    .dataframe thead th {\n",
       "        text-align: right;\n",
       "    }\n",
       "</style>\n",
       "<table border=\"1\" class=\"dataframe\">\n",
       "  <thead>\n",
       "    <tr style=\"text-align: right;\">\n",
       "      <th></th>\n",
       "      <th>index</th>\n",
       "      <th>date</th>\n",
       "      <th>duration</th>\n",
       "      <th>item</th>\n",
       "      <th>month</th>\n",
       "      <th>network</th>\n",
       "      <th>network_type</th>\n",
       "    </tr>\n",
       "  </thead>\n",
       "  <tbody>\n",
       "    <tr>\n",
       "      <th>0</th>\n",
       "      <td>0</td>\n",
       "      <td>2014-10-15 06:58:00</td>\n",
       "      <td>34.429</td>\n",
       "      <td>data</td>\n",
       "      <td>2014-11</td>\n",
       "      <td>data</td>\n",
       "      <td>data</td>\n",
       "    </tr>\n",
       "    <tr>\n",
       "      <th>1</th>\n",
       "      <td>1</td>\n",
       "      <td>2014-10-15 06:58:00</td>\n",
       "      <td>13.000</td>\n",
       "      <td>call</td>\n",
       "      <td>2014-11</td>\n",
       "      <td>Vodafone</td>\n",
       "      <td>mobile</td>\n",
       "    </tr>\n",
       "    <tr>\n",
       "      <th>2</th>\n",
       "      <td>2</td>\n",
       "      <td>2014-10-15 14:46:00</td>\n",
       "      <td>23.000</td>\n",
       "      <td>call</td>\n",
       "      <td>2014-11</td>\n",
       "      <td>Meteor</td>\n",
       "      <td>mobile</td>\n",
       "    </tr>\n",
       "    <tr>\n",
       "      <th>3</th>\n",
       "      <td>3</td>\n",
       "      <td>2014-10-15 14:48:00</td>\n",
       "      <td>4.000</td>\n",
       "      <td>call</td>\n",
       "      <td>2014-11</td>\n",
       "      <td>Tesco</td>\n",
       "      <td>mobile</td>\n",
       "    </tr>\n",
       "    <tr>\n",
       "      <th>4</th>\n",
       "      <td>4</td>\n",
       "      <td>2014-10-15 17:27:00</td>\n",
       "      <td>4.000</td>\n",
       "      <td>call</td>\n",
       "      <td>2014-11</td>\n",
       "      <td>Tesco</td>\n",
       "      <td>mobile</td>\n",
       "    </tr>\n",
       "  </tbody>\n",
       "</table>\n",
       "</div>"
      ],
      "text/plain": [
       "   index                date  duration  item    month   network network_type\n",
       "0      0 2014-10-15 06:58:00    34.429  data  2014-11      data         data\n",
       "1      1 2014-10-15 06:58:00    13.000  call  2014-11  Vodafone       mobile\n",
       "2      2 2014-10-15 14:46:00    23.000  call  2014-11    Meteor       mobile\n",
       "3      3 2014-10-15 14:48:00     4.000  call  2014-11     Tesco       mobile\n",
       "4      4 2014-10-15 17:27:00     4.000  call  2014-11     Tesco       mobile"
      ]
     },
     "execution_count": 253,
     "metadata": {},
     "output_type": "execute_result"
    }
   ],
   "source": [
    "import dateutil\n",
    "df_phone['date'] = df_phone['date'].apply(dateutil.parser.parse, dayfirst=True)\n",
    "df_phone.head()"
   ]
  },
  {
   "cell_type": "code",
   "execution_count": 254,
   "metadata": {
    "ExecuteTime": {
     "end_time": "2021-03-24T07:13:39.408775Z",
     "start_time": "2021-03-24T07:13:39.396517Z"
    }
   },
   "outputs": [
    {
     "data": {
      "text/plain": [
       "month\n",
       "2014-11    26639.441\n",
       "2014-12    14641.870\n",
       "2015-01    18223.299\n",
       "2015-02    15522.299\n",
       "2015-03    22750.441\n",
       "Name: duration, dtype: float64"
      ]
     },
     "execution_count": 254,
     "metadata": {},
     "output_type": "execute_result"
    }
   ],
   "source": [
    "df_phone.groupby('month')['duration'].sum()"
   ]
  },
  {
   "cell_type": "code",
   "execution_count": 255,
   "metadata": {
    "ExecuteTime": {
     "end_time": "2021-03-24T07:13:42.968666Z",
     "start_time": "2021-03-24T07:13:42.953666Z"
    }
   },
   "outputs": [
    {
     "data": {
      "text/plain": [
       "month\n",
       "2014-11    25547.0\n",
       "2014-12    13561.0\n",
       "2015-01    17070.0\n",
       "2015-02    14416.0\n",
       "2015-03    21727.0\n",
       "Name: duration, dtype: float64"
      ]
     },
     "execution_count": 255,
     "metadata": {},
     "output_type": "execute_result"
    }
   ],
   "source": [
    "df_phone[df_phone['item'] == 'call'].groupby('month')['duration'].sum()"
   ]
  },
  {
   "cell_type": "code",
   "execution_count": 256,
   "metadata": {
    "ExecuteTime": {
     "end_time": "2021-03-24T07:13:46.435890Z",
     "start_time": "2021-03-24T07:13:46.412960Z"
    }
   },
   "outputs": [
    {
     "data": {
      "text/plain": [
       "month    item\n",
       "2014-11  call    25547.000\n",
       "         data      998.441\n",
       "         sms        94.000\n",
       "2014-12  call    13561.000\n",
       "         data     1032.870\n",
       "         sms        48.000\n",
       "2015-01  call    17070.000\n",
       "         data     1067.299\n",
       "         sms        86.000\n",
       "2015-02  call    14416.000\n",
       "         data     1067.299\n",
       "         sms        39.000\n",
       "2015-03  call    21727.000\n",
       "         data      998.441\n",
       "         sms        25.000\n",
       "Name: duration, dtype: float64"
      ]
     },
     "execution_count": 256,
     "metadata": {},
     "output_type": "execute_result"
    }
   ],
   "source": [
    "df_phone.groupby(['month', 'item'])['duration'].sum()"
   ]
  },
  {
   "cell_type": "code",
   "execution_count": 257,
   "metadata": {
    "ExecuteTime": {
     "end_time": "2021-03-24T07:13:51.034650Z",
     "start_time": "2021-03-24T07:13:51.012589Z"
    }
   },
   "outputs": [
    {
     "data": {
      "text/html": [
       "<div>\n",
       "<style scoped>\n",
       "    .dataframe tbody tr th:only-of-type {\n",
       "        vertical-align: middle;\n",
       "    }\n",
       "\n",
       "    .dataframe tbody tr th {\n",
       "        vertical-align: top;\n",
       "    }\n",
       "\n",
       "    .dataframe thead th {\n",
       "        text-align: right;\n",
       "    }\n",
       "</style>\n",
       "<table border=\"1\" class=\"dataframe\">\n",
       "  <thead>\n",
       "    <tr style=\"text-align: right;\">\n",
       "      <th>item</th>\n",
       "      <th>call</th>\n",
       "      <th>data</th>\n",
       "      <th>sms</th>\n",
       "    </tr>\n",
       "    <tr>\n",
       "      <th>month</th>\n",
       "      <th></th>\n",
       "      <th></th>\n",
       "      <th></th>\n",
       "    </tr>\n",
       "  </thead>\n",
       "  <tbody>\n",
       "    <tr>\n",
       "      <th>2014-11</th>\n",
       "      <td>107</td>\n",
       "      <td>29</td>\n",
       "      <td>94</td>\n",
       "    </tr>\n",
       "    <tr>\n",
       "      <th>2014-12</th>\n",
       "      <td>79</td>\n",
       "      <td>30</td>\n",
       "      <td>48</td>\n",
       "    </tr>\n",
       "    <tr>\n",
       "      <th>2015-01</th>\n",
       "      <td>88</td>\n",
       "      <td>31</td>\n",
       "      <td>86</td>\n",
       "    </tr>\n",
       "    <tr>\n",
       "      <th>2015-02</th>\n",
       "      <td>67</td>\n",
       "      <td>31</td>\n",
       "      <td>39</td>\n",
       "    </tr>\n",
       "    <tr>\n",
       "      <th>2015-03</th>\n",
       "      <td>47</td>\n",
       "      <td>29</td>\n",
       "      <td>25</td>\n",
       "    </tr>\n",
       "  </tbody>\n",
       "</table>\n",
       "</div>"
      ],
      "text/plain": [
       "item     call  data  sms\n",
       "month                   \n",
       "2014-11   107    29   94\n",
       "2014-12    79    30   48\n",
       "2015-01    88    31   86\n",
       "2015-02    67    31   39\n",
       "2015-03    47    29   25"
      ]
     },
     "execution_count": 257,
     "metadata": {},
     "output_type": "execute_result"
    }
   ],
   "source": [
    "df_phone.groupby(['month', 'item'])['date'].count().unstack()"
   ]
  },
  {
   "cell_type": "code",
   "execution_count": 258,
   "metadata": {
    "ExecuteTime": {
     "end_time": "2021-03-24T07:13:55.369247Z",
     "start_time": "2021-03-24T07:13:55.349935Z"
    }
   },
   "outputs": [
    {
     "data": {
      "text/html": [
       "<div>\n",
       "<style scoped>\n",
       "    .dataframe tbody tr th:only-of-type {\n",
       "        vertical-align: middle;\n",
       "    }\n",
       "\n",
       "    .dataframe tbody tr th {\n",
       "        vertical-align: top;\n",
       "    }\n",
       "\n",
       "    .dataframe thead th {\n",
       "        text-align: right;\n",
       "    }\n",
       "</style>\n",
       "<table border=\"1\" class=\"dataframe\">\n",
       "  <thead>\n",
       "    <tr style=\"text-align: right;\">\n",
       "      <th></th>\n",
       "      <th>month</th>\n",
       "      <th>duration</th>\n",
       "    </tr>\n",
       "  </thead>\n",
       "  <tbody>\n",
       "    <tr>\n",
       "      <th>0</th>\n",
       "      <td>2014-11</td>\n",
       "      <td>26639.441</td>\n",
       "    </tr>\n",
       "    <tr>\n",
       "      <th>1</th>\n",
       "      <td>2014-12</td>\n",
       "      <td>14641.870</td>\n",
       "    </tr>\n",
       "    <tr>\n",
       "      <th>2</th>\n",
       "      <td>2015-01</td>\n",
       "      <td>18223.299</td>\n",
       "    </tr>\n",
       "    <tr>\n",
       "      <th>3</th>\n",
       "      <td>2015-02</td>\n",
       "      <td>15522.299</td>\n",
       "    </tr>\n",
       "    <tr>\n",
       "      <th>4</th>\n",
       "      <td>2015-03</td>\n",
       "      <td>22750.441</td>\n",
       "    </tr>\n",
       "  </tbody>\n",
       "</table>\n",
       "</div>"
      ],
      "text/plain": [
       "     month   duration\n",
       "0  2014-11  26639.441\n",
       "1  2014-12  14641.870\n",
       "2  2015-01  18223.299\n",
       "3  2015-02  15522.299\n",
       "4  2015-03  22750.441"
      ]
     },
     "execution_count": 258,
     "metadata": {},
     "output_type": "execute_result"
    }
   ],
   "source": [
    "df_phone.groupby('month', as_index=False).agg({\"duration\": \"sum\"})"
   ]
  },
  {
   "cell_type": "code",
   "execution_count": 259,
   "metadata": {
    "ExecuteTime": {
     "end_time": "2021-03-24T07:14:03.885799Z",
     "start_time": "2021-03-24T07:14:03.859741Z"
    }
   },
   "outputs": [
    {
     "data": {
      "text/html": [
       "<div>\n",
       "<style scoped>\n",
       "    .dataframe tbody tr th:only-of-type {\n",
       "        vertical-align: middle;\n",
       "    }\n",
       "\n",
       "    .dataframe tbody tr th {\n",
       "        vertical-align: top;\n",
       "    }\n",
       "\n",
       "    .dataframe thead th {\n",
       "        text-align: right;\n",
       "    }\n",
       "</style>\n",
       "<table border=\"1\" class=\"dataframe\">\n",
       "  <thead>\n",
       "    <tr style=\"text-align: right;\">\n",
       "      <th></th>\n",
       "      <th></th>\n",
       "      <th>duration</th>\n",
       "      <th>network_type</th>\n",
       "      <th>date</th>\n",
       "    </tr>\n",
       "    <tr>\n",
       "      <th>month</th>\n",
       "      <th>item</th>\n",
       "      <th></th>\n",
       "      <th></th>\n",
       "      <th></th>\n",
       "    </tr>\n",
       "  </thead>\n",
       "  <tbody>\n",
       "    <tr>\n",
       "      <th rowspan=\"3\" valign=\"top\">2014-11</th>\n",
       "      <th>call</th>\n",
       "      <td>25547.000</td>\n",
       "      <td>107</td>\n",
       "      <td>2014-10-15 06:58:00</td>\n",
       "    </tr>\n",
       "    <tr>\n",
       "      <th>data</th>\n",
       "      <td>998.441</td>\n",
       "      <td>29</td>\n",
       "      <td>2014-10-15 06:58:00</td>\n",
       "    </tr>\n",
       "    <tr>\n",
       "      <th>sms</th>\n",
       "      <td>94.000</td>\n",
       "      <td>94</td>\n",
       "      <td>2014-10-16 22:18:00</td>\n",
       "    </tr>\n",
       "    <tr>\n",
       "      <th rowspan=\"3\" valign=\"top\">2014-12</th>\n",
       "      <th>call</th>\n",
       "      <td>13561.000</td>\n",
       "      <td>79</td>\n",
       "      <td>2014-11-14 17:24:00</td>\n",
       "    </tr>\n",
       "    <tr>\n",
       "      <th>data</th>\n",
       "      <td>1032.870</td>\n",
       "      <td>30</td>\n",
       "      <td>2014-11-13 06:58:00</td>\n",
       "    </tr>\n",
       "    <tr>\n",
       "      <th>sms</th>\n",
       "      <td>48.000</td>\n",
       "      <td>48</td>\n",
       "      <td>2014-11-14 17:28:00</td>\n",
       "    </tr>\n",
       "    <tr>\n",
       "      <th rowspan=\"3\" valign=\"top\">2015-01</th>\n",
       "      <th>call</th>\n",
       "      <td>17070.000</td>\n",
       "      <td>88</td>\n",
       "      <td>2014-12-15 20:03:00</td>\n",
       "    </tr>\n",
       "    <tr>\n",
       "      <th>data</th>\n",
       "      <td>1067.299</td>\n",
       "      <td>31</td>\n",
       "      <td>2014-12-13 06:58:00</td>\n",
       "    </tr>\n",
       "    <tr>\n",
       "      <th>sms</th>\n",
       "      <td>86.000</td>\n",
       "      <td>86</td>\n",
       "      <td>2014-12-15 19:56:00</td>\n",
       "    </tr>\n",
       "    <tr>\n",
       "      <th rowspan=\"3\" valign=\"top\">2015-02</th>\n",
       "      <th>call</th>\n",
       "      <td>14416.000</td>\n",
       "      <td>67</td>\n",
       "      <td>2015-01-15 10:36:00</td>\n",
       "    </tr>\n",
       "    <tr>\n",
       "      <th>data</th>\n",
       "      <td>1067.299</td>\n",
       "      <td>31</td>\n",
       "      <td>2015-01-13 06:58:00</td>\n",
       "    </tr>\n",
       "    <tr>\n",
       "      <th>sms</th>\n",
       "      <td>39.000</td>\n",
       "      <td>39</td>\n",
       "      <td>2015-01-15 12:23:00</td>\n",
       "    </tr>\n",
       "    <tr>\n",
       "      <th rowspan=\"3\" valign=\"top\">2015-03</th>\n",
       "      <th>call</th>\n",
       "      <td>21727.000</td>\n",
       "      <td>47</td>\n",
       "      <td>2015-02-12 20:15:00</td>\n",
       "    </tr>\n",
       "    <tr>\n",
       "      <th>data</th>\n",
       "      <td>998.441</td>\n",
       "      <td>29</td>\n",
       "      <td>2015-02-13 06:58:00</td>\n",
       "    </tr>\n",
       "    <tr>\n",
       "      <th>sms</th>\n",
       "      <td>25.000</td>\n",
       "      <td>25</td>\n",
       "      <td>2015-02-19 18:46:00</td>\n",
       "    </tr>\n",
       "  </tbody>\n",
       "</table>\n",
       "</div>"
      ],
      "text/plain": [
       "               duration  network_type                date\n",
       "month   item                                             \n",
       "2014-11 call  25547.000           107 2014-10-15 06:58:00\n",
       "        data    998.441            29 2014-10-15 06:58:00\n",
       "        sms      94.000            94 2014-10-16 22:18:00\n",
       "2014-12 call  13561.000            79 2014-11-14 17:24:00\n",
       "        data   1032.870            30 2014-11-13 06:58:00\n",
       "        sms      48.000            48 2014-11-14 17:28:00\n",
       "2015-01 call  17070.000            88 2014-12-15 20:03:00\n",
       "        data   1067.299            31 2014-12-13 06:58:00\n",
       "        sms      86.000            86 2014-12-15 19:56:00\n",
       "2015-02 call  14416.000            67 2015-01-15 10:36:00\n",
       "        data   1067.299            31 2015-01-13 06:58:00\n",
       "        sms      39.000            39 2015-01-15 12:23:00\n",
       "2015-03 call  21727.000            47 2015-02-12 20:15:00\n",
       "        data    998.441            29 2015-02-13 06:58:00\n",
       "        sms      25.000            25 2015-02-19 18:46:00"
      ]
     },
     "execution_count": 259,
     "metadata": {},
     "output_type": "execute_result"
    }
   ],
   "source": [
    "df_phone.groupby(['month', 'item']).agg({'duration':sum,      # find the sum of the durations for each group\n",
    "                                     'network_type': \"count\", # find the number of network type entries\n",
    "                                     'date': 'first'})"
   ]
  },
  {
   "cell_type": "code",
   "execution_count": 261,
   "metadata": {
    "ExecuteTime": {
     "end_time": "2021-03-24T07:14:19.793160Z",
     "start_time": "2021-03-24T07:14:19.748566Z"
    }
   },
   "outputs": [
    {
     "data": {
      "text/html": [
       "<div>\n",
       "<style scoped>\n",
       "    .dataframe tbody tr th:only-of-type {\n",
       "        vertical-align: middle;\n",
       "    }\n",
       "\n",
       "    .dataframe tbody tr th {\n",
       "        vertical-align: top;\n",
       "    }\n",
       "\n",
       "    .dataframe thead tr th {\n",
       "        text-align: left;\n",
       "    }\n",
       "\n",
       "    .dataframe thead tr:last-of-type th {\n",
       "        text-align: right;\n",
       "    }\n",
       "</style>\n",
       "<table border=\"1\" class=\"dataframe\">\n",
       "  <thead>\n",
       "    <tr>\n",
       "      <th></th>\n",
       "      <th></th>\n",
       "      <th>duration</th>\n",
       "      <th>network_type</th>\n",
       "      <th colspan=\"3\" halign=\"left\">date</th>\n",
       "    </tr>\n",
       "    <tr>\n",
       "      <th></th>\n",
       "      <th></th>\n",
       "      <th>min</th>\n",
       "      <th>count</th>\n",
       "      <th>min</th>\n",
       "      <th>first</th>\n",
       "      <th>nunique</th>\n",
       "    </tr>\n",
       "    <tr>\n",
       "      <th>month</th>\n",
       "      <th>item</th>\n",
       "      <th></th>\n",
       "      <th></th>\n",
       "      <th></th>\n",
       "      <th></th>\n",
       "      <th></th>\n",
       "    </tr>\n",
       "  </thead>\n",
       "  <tbody>\n",
       "    <tr>\n",
       "      <th rowspan=\"3\" valign=\"top\">2014-11</th>\n",
       "      <th>call</th>\n",
       "      <td>1.000</td>\n",
       "      <td>107</td>\n",
       "      <td>2014-10-15 06:58:00</td>\n",
       "      <td>2014-10-15 06:58:00</td>\n",
       "      <td>104</td>\n",
       "    </tr>\n",
       "    <tr>\n",
       "      <th>data</th>\n",
       "      <td>34.429</td>\n",
       "      <td>29</td>\n",
       "      <td>2014-10-15 06:58:00</td>\n",
       "      <td>2014-10-15 06:58:00</td>\n",
       "      <td>29</td>\n",
       "    </tr>\n",
       "    <tr>\n",
       "      <th>sms</th>\n",
       "      <td>1.000</td>\n",
       "      <td>94</td>\n",
       "      <td>2014-10-16 22:18:00</td>\n",
       "      <td>2014-10-16 22:18:00</td>\n",
       "      <td>79</td>\n",
       "    </tr>\n",
       "    <tr>\n",
       "      <th rowspan=\"3\" valign=\"top\">2014-12</th>\n",
       "      <th>call</th>\n",
       "      <td>2.000</td>\n",
       "      <td>79</td>\n",
       "      <td>2014-11-14 17:24:00</td>\n",
       "      <td>2014-11-14 17:24:00</td>\n",
       "      <td>76</td>\n",
       "    </tr>\n",
       "    <tr>\n",
       "      <th>data</th>\n",
       "      <td>34.429</td>\n",
       "      <td>30</td>\n",
       "      <td>2014-11-13 06:58:00</td>\n",
       "      <td>2014-11-13 06:58:00</td>\n",
       "      <td>30</td>\n",
       "    </tr>\n",
       "    <tr>\n",
       "      <th>sms</th>\n",
       "      <td>1.000</td>\n",
       "      <td>48</td>\n",
       "      <td>2014-11-14 17:28:00</td>\n",
       "      <td>2014-11-14 17:28:00</td>\n",
       "      <td>41</td>\n",
       "    </tr>\n",
       "    <tr>\n",
       "      <th rowspan=\"3\" valign=\"top\">2015-01</th>\n",
       "      <th>call</th>\n",
       "      <td>2.000</td>\n",
       "      <td>88</td>\n",
       "      <td>2014-12-15 20:03:00</td>\n",
       "      <td>2014-12-15 20:03:00</td>\n",
       "      <td>84</td>\n",
       "    </tr>\n",
       "    <tr>\n",
       "      <th>data</th>\n",
       "      <td>34.429</td>\n",
       "      <td>31</td>\n",
       "      <td>2014-12-13 06:58:00</td>\n",
       "      <td>2014-12-13 06:58:00</td>\n",
       "      <td>31</td>\n",
       "    </tr>\n",
       "    <tr>\n",
       "      <th>sms</th>\n",
       "      <td>1.000</td>\n",
       "      <td>86</td>\n",
       "      <td>2014-12-15 19:56:00</td>\n",
       "      <td>2014-12-15 19:56:00</td>\n",
       "      <td>58</td>\n",
       "    </tr>\n",
       "    <tr>\n",
       "      <th rowspan=\"3\" valign=\"top\">2015-02</th>\n",
       "      <th>call</th>\n",
       "      <td>1.000</td>\n",
       "      <td>67</td>\n",
       "      <td>2015-01-15 10:36:00</td>\n",
       "      <td>2015-01-15 10:36:00</td>\n",
       "      <td>67</td>\n",
       "    </tr>\n",
       "    <tr>\n",
       "      <th>data</th>\n",
       "      <td>34.429</td>\n",
       "      <td>31</td>\n",
       "      <td>2015-01-13 06:58:00</td>\n",
       "      <td>2015-01-13 06:58:00</td>\n",
       "      <td>31</td>\n",
       "    </tr>\n",
       "    <tr>\n",
       "      <th>sms</th>\n",
       "      <td>1.000</td>\n",
       "      <td>39</td>\n",
       "      <td>2015-01-15 12:23:00</td>\n",
       "      <td>2015-01-15 12:23:00</td>\n",
       "      <td>27</td>\n",
       "    </tr>\n",
       "    <tr>\n",
       "      <th rowspan=\"3\" valign=\"top\">2015-03</th>\n",
       "      <th>call</th>\n",
       "      <td>2.000</td>\n",
       "      <td>47</td>\n",
       "      <td>2015-02-12 20:15:00</td>\n",
       "      <td>2015-02-12 20:15:00</td>\n",
       "      <td>47</td>\n",
       "    </tr>\n",
       "    <tr>\n",
       "      <th>data</th>\n",
       "      <td>34.429</td>\n",
       "      <td>29</td>\n",
       "      <td>2015-02-13 06:58:00</td>\n",
       "      <td>2015-02-13 06:58:00</td>\n",
       "      <td>29</td>\n",
       "    </tr>\n",
       "    <tr>\n",
       "      <th>sms</th>\n",
       "      <td>1.000</td>\n",
       "      <td>25</td>\n",
       "      <td>2015-02-19 18:46:00</td>\n",
       "      <td>2015-02-19 18:46:00</td>\n",
       "      <td>17</td>\n",
       "    </tr>\n",
       "  </tbody>\n",
       "</table>\n",
       "</div>"
      ],
      "text/plain": [
       "             duration network_type                date                      \\\n",
       "                  min        count                 min               first   \n",
       "month   item                                                                 \n",
       "2014-11 call    1.000          107 2014-10-15 06:58:00 2014-10-15 06:58:00   \n",
       "        data   34.429           29 2014-10-15 06:58:00 2014-10-15 06:58:00   \n",
       "        sms     1.000           94 2014-10-16 22:18:00 2014-10-16 22:18:00   \n",
       "2014-12 call    2.000           79 2014-11-14 17:24:00 2014-11-14 17:24:00   \n",
       "        data   34.429           30 2014-11-13 06:58:00 2014-11-13 06:58:00   \n",
       "        sms     1.000           48 2014-11-14 17:28:00 2014-11-14 17:28:00   \n",
       "2015-01 call    2.000           88 2014-12-15 20:03:00 2014-12-15 20:03:00   \n",
       "        data   34.429           31 2014-12-13 06:58:00 2014-12-13 06:58:00   \n",
       "        sms     1.000           86 2014-12-15 19:56:00 2014-12-15 19:56:00   \n",
       "2015-02 call    1.000           67 2015-01-15 10:36:00 2015-01-15 10:36:00   \n",
       "        data   34.429           31 2015-01-13 06:58:00 2015-01-13 06:58:00   \n",
       "        sms     1.000           39 2015-01-15 12:23:00 2015-01-15 12:23:00   \n",
       "2015-03 call    2.000           47 2015-02-12 20:15:00 2015-02-12 20:15:00   \n",
       "        data   34.429           29 2015-02-13 06:58:00 2015-02-13 06:58:00   \n",
       "        sms     1.000           25 2015-02-19 18:46:00 2015-02-19 18:46:00   \n",
       "\n",
       "                      \n",
       "             nunique  \n",
       "month   item          \n",
       "2014-11 call     104  \n",
       "        data      29  \n",
       "        sms       79  \n",
       "2014-12 call      76  \n",
       "        data      30  \n",
       "        sms       41  \n",
       "2015-01 call      84  \n",
       "        data      31  \n",
       "        sms       58  \n",
       "2015-02 call      67  \n",
       "        data      31  \n",
       "        sms       27  \n",
       "2015-03 call      47  \n",
       "        data      29  \n",
       "        sms       17  "
      ]
     },
     "execution_count": 261,
     "metadata": {},
     "output_type": "execute_result"
    }
   ],
   "source": [
    "df_phone.groupby(['month', 'item']).agg({'duration': [min],      # find the min, max, and sum of the duration column\n",
    "                                     'network_type': \"count\", # find the number of network type entries\n",
    "                                     'date': [min, 'first', 'nunique']})    # get the min, first, and number of unique dates"
   ]
  },
  {
   "cell_type": "code",
   "execution_count": 263,
   "metadata": {
    "ExecuteTime": {
     "end_time": "2021-03-24T07:14:27.097855Z",
     "start_time": "2021-03-24T07:14:27.062812Z"
    }
   },
   "outputs": [
    {
     "data": {
      "text/html": [
       "<div>\n",
       "<style scoped>\n",
       "    .dataframe tbody tr th:only-of-type {\n",
       "        vertical-align: middle;\n",
       "    }\n",
       "\n",
       "    .dataframe tbody tr th {\n",
       "        vertical-align: top;\n",
       "    }\n",
       "\n",
       "    .dataframe thead tr th {\n",
       "        text-align: left;\n",
       "    }\n",
       "\n",
       "    .dataframe thead tr:last-of-type th {\n",
       "        text-align: right;\n",
       "    }\n",
       "</style>\n",
       "<table border=\"1\" class=\"dataframe\">\n",
       "  <thead>\n",
       "    <tr>\n",
       "      <th></th>\n",
       "      <th colspan=\"3\" halign=\"left\">duration</th>\n",
       "    </tr>\n",
       "    <tr>\n",
       "      <th></th>\n",
       "      <th>min</th>\n",
       "      <th>max</th>\n",
       "      <th>mean</th>\n",
       "    </tr>\n",
       "    <tr>\n",
       "      <th>month</th>\n",
       "      <th></th>\n",
       "      <th></th>\n",
       "      <th></th>\n",
       "    </tr>\n",
       "  </thead>\n",
       "  <tbody>\n",
       "    <tr>\n",
       "      <th>2014-11</th>\n",
       "      <td>1.0</td>\n",
       "      <td>1940.0</td>\n",
       "      <td>115.823657</td>\n",
       "    </tr>\n",
       "    <tr>\n",
       "      <th>2014-12</th>\n",
       "      <td>1.0</td>\n",
       "      <td>2120.0</td>\n",
       "      <td>93.260318</td>\n",
       "    </tr>\n",
       "    <tr>\n",
       "      <th>2015-01</th>\n",
       "      <td>1.0</td>\n",
       "      <td>1859.0</td>\n",
       "      <td>88.894141</td>\n",
       "    </tr>\n",
       "    <tr>\n",
       "      <th>2015-02</th>\n",
       "      <td>1.0</td>\n",
       "      <td>1863.0</td>\n",
       "      <td>113.301453</td>\n",
       "    </tr>\n",
       "    <tr>\n",
       "      <th>2015-03</th>\n",
       "      <td>1.0</td>\n",
       "      <td>10528.0</td>\n",
       "      <td>225.251891</td>\n",
       "    </tr>\n",
       "  </tbody>\n",
       "</table>\n",
       "</div>"
      ],
      "text/plain": [
       "        duration                     \n",
       "             min      max        mean\n",
       "month                                \n",
       "2014-11      1.0   1940.0  115.823657\n",
       "2014-12      1.0   2120.0   93.260318\n",
       "2015-01      1.0   1859.0   88.894141\n",
       "2015-02      1.0   1863.0  113.301453\n",
       "2015-03      1.0  10528.0  225.251891"
      ]
     },
     "execution_count": 263,
     "metadata": {},
     "output_type": "execute_result"
    }
   ],
   "source": [
    "grouped = df_phone.groupby('month').agg( {\"duration\" : [min, max, np.mean]})\n",
    "grouped"
   ]
  },
  {
   "cell_type": "code",
   "execution_count": 264,
   "metadata": {
    "ExecuteTime": {
     "end_time": "2021-03-24T07:14:32.174002Z",
     "start_time": "2021-03-24T07:14:32.155914Z"
    }
   },
   "outputs": [
    {
     "data": {
      "text/html": [
       "<div>\n",
       "<style scoped>\n",
       "    .dataframe tbody tr th:only-of-type {\n",
       "        vertical-align: middle;\n",
       "    }\n",
       "\n",
       "    .dataframe tbody tr th {\n",
       "        vertical-align: top;\n",
       "    }\n",
       "\n",
       "    .dataframe thead th {\n",
       "        text-align: right;\n",
       "    }\n",
       "</style>\n",
       "<table border=\"1\" class=\"dataframe\">\n",
       "  <thead>\n",
       "    <tr style=\"text-align: right;\">\n",
       "      <th></th>\n",
       "      <th>min</th>\n",
       "      <th>max</th>\n",
       "      <th>mean</th>\n",
       "    </tr>\n",
       "    <tr>\n",
       "      <th>month</th>\n",
       "      <th></th>\n",
       "      <th></th>\n",
       "      <th></th>\n",
       "    </tr>\n",
       "  </thead>\n",
       "  <tbody>\n",
       "    <tr>\n",
       "      <th>2014-11</th>\n",
       "      <td>1.0</td>\n",
       "      <td>1940.0</td>\n",
       "      <td>115.823657</td>\n",
       "    </tr>\n",
       "    <tr>\n",
       "      <th>2014-12</th>\n",
       "      <td>1.0</td>\n",
       "      <td>2120.0</td>\n",
       "      <td>93.260318</td>\n",
       "    </tr>\n",
       "    <tr>\n",
       "      <th>2015-01</th>\n",
       "      <td>1.0</td>\n",
       "      <td>1859.0</td>\n",
       "      <td>88.894141</td>\n",
       "    </tr>\n",
       "    <tr>\n",
       "      <th>2015-02</th>\n",
       "      <td>1.0</td>\n",
       "      <td>1863.0</td>\n",
       "      <td>113.301453</td>\n",
       "    </tr>\n",
       "    <tr>\n",
       "      <th>2015-03</th>\n",
       "      <td>1.0</td>\n",
       "      <td>10528.0</td>\n",
       "      <td>225.251891</td>\n",
       "    </tr>\n",
       "  </tbody>\n",
       "</table>\n",
       "</div>"
      ],
      "text/plain": [
       "         min      max        mean\n",
       "month                            \n",
       "2014-11  1.0   1940.0  115.823657\n",
       "2014-12  1.0   2120.0   93.260318\n",
       "2015-01  1.0   1859.0   88.894141\n",
       "2015-02  1.0   1863.0  113.301453\n",
       "2015-03  1.0  10528.0  225.251891"
      ]
     },
     "execution_count": 264,
     "metadata": {},
     "output_type": "execute_result"
    }
   ],
   "source": [
    "grouped.columns = grouped.columns.droplevel(level=0)\n",
    "grouped"
   ]
  },
  {
   "cell_type": "code",
   "execution_count": 265,
   "metadata": {
    "ExecuteTime": {
     "end_time": "2021-03-24T07:14:36.774834Z",
     "start_time": "2021-03-24T07:14:36.752508Z"
    }
   },
   "outputs": [
    {
     "data": {
      "text/html": [
       "<div>\n",
       "<style scoped>\n",
       "    .dataframe tbody tr th:only-of-type {\n",
       "        vertical-align: middle;\n",
       "    }\n",
       "\n",
       "    .dataframe tbody tr th {\n",
       "        vertical-align: top;\n",
       "    }\n",
       "\n",
       "    .dataframe thead th {\n",
       "        text-align: right;\n",
       "    }\n",
       "</style>\n",
       "<table border=\"1\" class=\"dataframe\">\n",
       "  <thead>\n",
       "    <tr style=\"text-align: right;\">\n",
       "      <th></th>\n",
       "      <th>min_duration</th>\n",
       "      <th>max_duration</th>\n",
       "      <th>mean_duration</th>\n",
       "    </tr>\n",
       "    <tr>\n",
       "      <th>month</th>\n",
       "      <th></th>\n",
       "      <th></th>\n",
       "      <th></th>\n",
       "    </tr>\n",
       "  </thead>\n",
       "  <tbody>\n",
       "    <tr>\n",
       "      <th>2014-11</th>\n",
       "      <td>1.0</td>\n",
       "      <td>1940.0</td>\n",
       "      <td>115.823657</td>\n",
       "    </tr>\n",
       "    <tr>\n",
       "      <th>2014-12</th>\n",
       "      <td>1.0</td>\n",
       "      <td>2120.0</td>\n",
       "      <td>93.260318</td>\n",
       "    </tr>\n",
       "    <tr>\n",
       "      <th>2015-01</th>\n",
       "      <td>1.0</td>\n",
       "      <td>1859.0</td>\n",
       "      <td>88.894141</td>\n",
       "    </tr>\n",
       "    <tr>\n",
       "      <th>2015-02</th>\n",
       "      <td>1.0</td>\n",
       "      <td>1863.0</td>\n",
       "      <td>113.301453</td>\n",
       "    </tr>\n",
       "    <tr>\n",
       "      <th>2015-03</th>\n",
       "      <td>1.0</td>\n",
       "      <td>10528.0</td>\n",
       "      <td>225.251891</td>\n",
       "    </tr>\n",
       "  </tbody>\n",
       "</table>\n",
       "</div>"
      ],
      "text/plain": [
       "         min_duration  max_duration  mean_duration\n",
       "month                                             \n",
       "2014-11           1.0        1940.0     115.823657\n",
       "2014-12           1.0        2120.0      93.260318\n",
       "2015-01           1.0        1859.0      88.894141\n",
       "2015-02           1.0        1863.0     113.301453\n",
       "2015-03           1.0       10528.0     225.251891"
      ]
     },
     "execution_count": 265,
     "metadata": {},
     "output_type": "execute_result"
    }
   ],
   "source": [
    "grouped.rename(columns={\"min\": \"min_duration\", \"max\": \"max_duration\", \"mean\": \"mean_duration\"})"
   ]
  },
  {
   "cell_type": "code",
   "execution_count": 267,
   "metadata": {
    "ExecuteTime": {
     "end_time": "2021-03-24T07:14:47.053564Z",
     "start_time": "2021-03-24T07:14:47.025503Z"
    }
   },
   "outputs": [
    {
     "data": {
      "text/html": [
       "<div>\n",
       "<style scoped>\n",
       "    .dataframe tbody tr th:only-of-type {\n",
       "        vertical-align: middle;\n",
       "    }\n",
       "\n",
       "    .dataframe tbody tr th {\n",
       "        vertical-align: top;\n",
       "    }\n",
       "\n",
       "    .dataframe thead tr th {\n",
       "        text-align: left;\n",
       "    }\n",
       "\n",
       "    .dataframe thead tr:last-of-type th {\n",
       "        text-align: right;\n",
       "    }\n",
       "</style>\n",
       "<table border=\"1\" class=\"dataframe\">\n",
       "  <thead>\n",
       "    <tr>\n",
       "      <th></th>\n",
       "      <th colspan=\"3\" halign=\"left\">duration</th>\n",
       "    </tr>\n",
       "    <tr>\n",
       "      <th></th>\n",
       "      <th>min</th>\n",
       "      <th>max</th>\n",
       "      <th>mean</th>\n",
       "    </tr>\n",
       "    <tr>\n",
       "      <th>month</th>\n",
       "      <th></th>\n",
       "      <th></th>\n",
       "      <th></th>\n",
       "    </tr>\n",
       "  </thead>\n",
       "  <tbody>\n",
       "    <tr>\n",
       "      <th>2014-11</th>\n",
       "      <td>1.0</td>\n",
       "      <td>1940.0</td>\n",
       "      <td>115.823657</td>\n",
       "    </tr>\n",
       "    <tr>\n",
       "      <th>2014-12</th>\n",
       "      <td>1.0</td>\n",
       "      <td>2120.0</td>\n",
       "      <td>93.260318</td>\n",
       "    </tr>\n",
       "    <tr>\n",
       "      <th>2015-01</th>\n",
       "      <td>1.0</td>\n",
       "      <td>1859.0</td>\n",
       "      <td>88.894141</td>\n",
       "    </tr>\n",
       "    <tr>\n",
       "      <th>2015-02</th>\n",
       "      <td>1.0</td>\n",
       "      <td>1863.0</td>\n",
       "      <td>113.301453</td>\n",
       "    </tr>\n",
       "    <tr>\n",
       "      <th>2015-03</th>\n",
       "      <td>1.0</td>\n",
       "      <td>10528.0</td>\n",
       "      <td>225.251891</td>\n",
       "    </tr>\n",
       "  </tbody>\n",
       "</table>\n",
       "</div>"
      ],
      "text/plain": [
       "        duration                     \n",
       "             min      max        mean\n",
       "month                                \n",
       "2014-11      1.0   1940.0  115.823657\n",
       "2014-12      1.0   2120.0   93.260318\n",
       "2015-01      1.0   1859.0   88.894141\n",
       "2015-02      1.0   1863.0  113.301453\n",
       "2015-03      1.0  10528.0  225.251891"
      ]
     },
     "execution_count": 267,
     "metadata": {},
     "output_type": "execute_result"
    }
   ],
   "source": [
    "grouped = df_phone.groupby('month').agg( {\"duration\" : [min, max, np.mean]})\n",
    "grouped"
   ]
  },
  {
   "cell_type": "code",
   "execution_count": 268,
   "metadata": {
    "ExecuteTime": {
     "end_time": "2021-03-24T07:14:51.275495Z",
     "start_time": "2021-03-24T07:14:51.257882Z"
    }
   },
   "outputs": [
    {
     "data": {
      "text/html": [
       "<div>\n",
       "<style scoped>\n",
       "    .dataframe tbody tr th:only-of-type {\n",
       "        vertical-align: middle;\n",
       "    }\n",
       "\n",
       "    .dataframe tbody tr th {\n",
       "        vertical-align: top;\n",
       "    }\n",
       "\n",
       "    .dataframe thead th {\n",
       "        text-align: right;\n",
       "    }\n",
       "</style>\n",
       "<table border=\"1\" class=\"dataframe\">\n",
       "  <thead>\n",
       "    <tr style=\"text-align: right;\">\n",
       "      <th></th>\n",
       "      <th>min</th>\n",
       "      <th>max</th>\n",
       "      <th>mean</th>\n",
       "    </tr>\n",
       "    <tr>\n",
       "      <th>month</th>\n",
       "      <th></th>\n",
       "      <th></th>\n",
       "      <th></th>\n",
       "    </tr>\n",
       "  </thead>\n",
       "  <tbody>\n",
       "    <tr>\n",
       "      <th>2014-11</th>\n",
       "      <td>1.0</td>\n",
       "      <td>1940.0</td>\n",
       "      <td>115.823657</td>\n",
       "    </tr>\n",
       "    <tr>\n",
       "      <th>2014-12</th>\n",
       "      <td>1.0</td>\n",
       "      <td>2120.0</td>\n",
       "      <td>93.260318</td>\n",
       "    </tr>\n",
       "    <tr>\n",
       "      <th>2015-01</th>\n",
       "      <td>1.0</td>\n",
       "      <td>1859.0</td>\n",
       "      <td>88.894141</td>\n",
       "    </tr>\n",
       "    <tr>\n",
       "      <th>2015-02</th>\n",
       "      <td>1.0</td>\n",
       "      <td>1863.0</td>\n",
       "      <td>113.301453</td>\n",
       "    </tr>\n",
       "    <tr>\n",
       "      <th>2015-03</th>\n",
       "      <td>1.0</td>\n",
       "      <td>10528.0</td>\n",
       "      <td>225.251891</td>\n",
       "    </tr>\n",
       "  </tbody>\n",
       "</table>\n",
       "</div>"
      ],
      "text/plain": [
       "         min      max        mean\n",
       "month                            \n",
       "2014-11  1.0   1940.0  115.823657\n",
       "2014-12  1.0   2120.0   93.260318\n",
       "2015-01  1.0   1859.0   88.894141\n",
       "2015-02  1.0   1863.0  113.301453\n",
       "2015-03  1.0  10528.0  225.251891"
      ]
     },
     "execution_count": 268,
     "metadata": {},
     "output_type": "execute_result"
    }
   ],
   "source": [
    "grouped.columns = grouped.columns.droplevel(level=0)\n",
    "grouped"
   ]
  },
  {
   "cell_type": "code",
   "execution_count": 269,
   "metadata": {
    "ExecuteTime": {
     "end_time": "2021-03-24T07:14:55.668617Z",
     "start_time": "2021-03-24T07:14:55.650509Z"
    }
   },
   "outputs": [
    {
     "data": {
      "text/html": [
       "<div>\n",
       "<style scoped>\n",
       "    .dataframe tbody tr th:only-of-type {\n",
       "        vertical-align: middle;\n",
       "    }\n",
       "\n",
       "    .dataframe tbody tr th {\n",
       "        vertical-align: top;\n",
       "    }\n",
       "\n",
       "    .dataframe thead th {\n",
       "        text-align: right;\n",
       "    }\n",
       "</style>\n",
       "<table border=\"1\" class=\"dataframe\">\n",
       "  <thead>\n",
       "    <tr style=\"text-align: right;\">\n",
       "      <th></th>\n",
       "      <th>duration_min</th>\n",
       "      <th>duration_max</th>\n",
       "      <th>duration_mean</th>\n",
       "    </tr>\n",
       "    <tr>\n",
       "      <th>month</th>\n",
       "      <th></th>\n",
       "      <th></th>\n",
       "      <th></th>\n",
       "    </tr>\n",
       "  </thead>\n",
       "  <tbody>\n",
       "    <tr>\n",
       "      <th>2014-11</th>\n",
       "      <td>1.0</td>\n",
       "      <td>1940.0</td>\n",
       "      <td>115.823657</td>\n",
       "    </tr>\n",
       "    <tr>\n",
       "      <th>2014-12</th>\n",
       "      <td>1.0</td>\n",
       "      <td>2120.0</td>\n",
       "      <td>93.260318</td>\n",
       "    </tr>\n",
       "    <tr>\n",
       "      <th>2015-01</th>\n",
       "      <td>1.0</td>\n",
       "      <td>1859.0</td>\n",
       "      <td>88.894141</td>\n",
       "    </tr>\n",
       "    <tr>\n",
       "      <th>2015-02</th>\n",
       "      <td>1.0</td>\n",
       "      <td>1863.0</td>\n",
       "      <td>113.301453</td>\n",
       "    </tr>\n",
       "    <tr>\n",
       "      <th>2015-03</th>\n",
       "      <td>1.0</td>\n",
       "      <td>10528.0</td>\n",
       "      <td>225.251891</td>\n",
       "    </tr>\n",
       "  </tbody>\n",
       "</table>\n",
       "</div>"
      ],
      "text/plain": [
       "         duration_min  duration_max  duration_mean\n",
       "month                                             \n",
       "2014-11           1.0        1940.0     115.823657\n",
       "2014-12           1.0        2120.0      93.260318\n",
       "2015-01           1.0        1859.0      88.894141\n",
       "2015-02           1.0        1863.0     113.301453\n",
       "2015-03           1.0       10528.0     225.251891"
      ]
     },
     "execution_count": 269,
     "metadata": {},
     "output_type": "execute_result"
    }
   ],
   "source": [
    "grouped.add_prefix(\"duration_\")"
   ]
  },
  {
   "cell_type": "code",
   "execution_count": 272,
   "metadata": {
    "ExecuteTime": {
     "end_time": "2021-03-24T07:15:10.498015Z",
     "start_time": "2021-03-24T07:15:10.477487Z"
    }
   },
   "outputs": [
    {
     "data": {
      "text/html": [
       "<div>\n",
       "<style scoped>\n",
       "    .dataframe tbody tr th:only-of-type {\n",
       "        vertical-align: middle;\n",
       "    }\n",
       "\n",
       "    .dataframe tbody tr th {\n",
       "        vertical-align: top;\n",
       "    }\n",
       "\n",
       "    .dataframe thead th {\n",
       "        text-align: right;\n",
       "    }\n",
       "</style>\n",
       "<table border=\"1\" class=\"dataframe\">\n",
       "  <thead>\n",
       "    <tr style=\"text-align: right;\">\n",
       "      <th></th>\n",
       "      <th>index</th>\n",
       "      <th>date</th>\n",
       "      <th>duration</th>\n",
       "      <th>item</th>\n",
       "      <th>month</th>\n",
       "      <th>network</th>\n",
       "      <th>network_type</th>\n",
       "    </tr>\n",
       "  </thead>\n",
       "  <tbody>\n",
       "    <tr>\n",
       "      <th>0</th>\n",
       "      <td>0</td>\n",
       "      <td>2014-10-15 06:58:00</td>\n",
       "      <td>34.429</td>\n",
       "      <td>data</td>\n",
       "      <td>2014-11</td>\n",
       "      <td>data</td>\n",
       "      <td>data</td>\n",
       "    </tr>\n",
       "    <tr>\n",
       "      <th>1</th>\n",
       "      <td>1</td>\n",
       "      <td>2014-10-15 06:58:00</td>\n",
       "      <td>13.000</td>\n",
       "      <td>call</td>\n",
       "      <td>2014-11</td>\n",
       "      <td>Vodafone</td>\n",
       "      <td>mobile</td>\n",
       "    </tr>\n",
       "    <tr>\n",
       "      <th>2</th>\n",
       "      <td>2</td>\n",
       "      <td>2014-10-15 14:46:00</td>\n",
       "      <td>23.000</td>\n",
       "      <td>call</td>\n",
       "      <td>2014-11</td>\n",
       "      <td>Meteor</td>\n",
       "      <td>mobile</td>\n",
       "    </tr>\n",
       "    <tr>\n",
       "      <th>3</th>\n",
       "      <td>3</td>\n",
       "      <td>2014-10-15 14:48:00</td>\n",
       "      <td>4.000</td>\n",
       "      <td>call</td>\n",
       "      <td>2014-11</td>\n",
       "      <td>Tesco</td>\n",
       "      <td>mobile</td>\n",
       "    </tr>\n",
       "    <tr>\n",
       "      <th>4</th>\n",
       "      <td>4</td>\n",
       "      <td>2014-10-15 17:27:00</td>\n",
       "      <td>4.000</td>\n",
       "      <td>call</td>\n",
       "      <td>2014-11</td>\n",
       "      <td>Tesco</td>\n",
       "      <td>mobile</td>\n",
       "    </tr>\n",
       "  </tbody>\n",
       "</table>\n",
       "</div>"
      ],
      "text/plain": [
       "   index                date  duration  item    month   network network_type\n",
       "0      0 2014-10-15 06:58:00    34.429  data  2014-11      data         data\n",
       "1      1 2014-10-15 06:58:00    13.000  call  2014-11  Vodafone       mobile\n",
       "2      2 2014-10-15 14:46:00    23.000  call  2014-11    Meteor       mobile\n",
       "3      3 2014-10-15 14:48:00     4.000  call  2014-11     Tesco       mobile\n",
       "4      4 2014-10-15 17:27:00     4.000  call  2014-11     Tesco       mobile"
      ]
     },
     "execution_count": 272,
     "metadata": {},
     "output_type": "execute_result"
    }
   ],
   "source": [
    "df_phone.head()"
   ]
  },
  {
   "cell_type": "markdown",
   "metadata": {},
   "source": [
    "### pivot table"
   ]
  },
  {
   "cell_type": "code",
   "execution_count": 301,
   "metadata": {
    "ExecuteTime": {
     "end_time": "2021-03-24T07:40:32.194876Z",
     "start_time": "2021-03-24T07:40:32.072559Z"
    }
   },
   "outputs": [
    {
     "data": {
      "text/html": [
       "<div>\n",
       "<style scoped>\n",
       "    .dataframe tbody tr th:only-of-type {\n",
       "        vertical-align: middle;\n",
       "    }\n",
       "\n",
       "    .dataframe tbody tr th {\n",
       "        vertical-align: top;\n",
       "    }\n",
       "\n",
       "    .dataframe thead th {\n",
       "        text-align: right;\n",
       "    }\n",
       "</style>\n",
       "<table border=\"1\" class=\"dataframe\">\n",
       "  <thead>\n",
       "    <tr style=\"text-align: right;\">\n",
       "      <th></th>\n",
       "      <th>index</th>\n",
       "      <th>date</th>\n",
       "      <th>duration</th>\n",
       "      <th>item</th>\n",
       "      <th>month</th>\n",
       "      <th>network</th>\n",
       "      <th>network_type</th>\n",
       "    </tr>\n",
       "  </thead>\n",
       "  <tbody>\n",
       "    <tr>\n",
       "      <th>0</th>\n",
       "      <td>0</td>\n",
       "      <td>2014-10-15 06:58:00</td>\n",
       "      <td>34.429</td>\n",
       "      <td>data</td>\n",
       "      <td>2014-11</td>\n",
       "      <td>data</td>\n",
       "      <td>data</td>\n",
       "    </tr>\n",
       "    <tr>\n",
       "      <th>1</th>\n",
       "      <td>1</td>\n",
       "      <td>2014-10-15 06:58:00</td>\n",
       "      <td>13.000</td>\n",
       "      <td>call</td>\n",
       "      <td>2014-11</td>\n",
       "      <td>Vodafone</td>\n",
       "      <td>mobile</td>\n",
       "    </tr>\n",
       "    <tr>\n",
       "      <th>2</th>\n",
       "      <td>2</td>\n",
       "      <td>2014-10-15 14:46:00</td>\n",
       "      <td>23.000</td>\n",
       "      <td>call</td>\n",
       "      <td>2014-11</td>\n",
       "      <td>Meteor</td>\n",
       "      <td>mobile</td>\n",
       "    </tr>\n",
       "    <tr>\n",
       "      <th>3</th>\n",
       "      <td>3</td>\n",
       "      <td>2014-10-15 14:48:00</td>\n",
       "      <td>4.000</td>\n",
       "      <td>call</td>\n",
       "      <td>2014-11</td>\n",
       "      <td>Tesco</td>\n",
       "      <td>mobile</td>\n",
       "    </tr>\n",
       "    <tr>\n",
       "      <th>4</th>\n",
       "      <td>4</td>\n",
       "      <td>2014-10-15 17:27:00</td>\n",
       "      <td>4.000</td>\n",
       "      <td>call</td>\n",
       "      <td>2014-11</td>\n",
       "      <td>Tesco</td>\n",
       "      <td>mobile</td>\n",
       "    </tr>\n",
       "  </tbody>\n",
       "</table>\n",
       "</div>"
      ],
      "text/plain": [
       "   index                date  duration  item    month   network network_type\n",
       "0      0 2014-10-15 06:58:00    34.429  data  2014-11      data         data\n",
       "1      1 2014-10-15 06:58:00    13.000  call  2014-11  Vodafone       mobile\n",
       "2      2 2014-10-15 14:46:00    23.000  call  2014-11    Meteor       mobile\n",
       "3      3 2014-10-15 14:48:00     4.000  call  2014-11     Tesco       mobile\n",
       "4      4 2014-10-15 17:27:00     4.000  call  2014-11     Tesco       mobile"
      ]
     },
     "execution_count": 301,
     "metadata": {},
     "output_type": "execute_result"
    }
   ],
   "source": [
    "df_phone = pd.read_csv(\"/data/phone_data.csv\")\n",
    "df_phone['date'] = df_phone['date'].apply(dateutil.parser.parse, dayfirst=True)\n",
    "df_phone.head()"
   ]
  },
  {
   "cell_type": "code",
   "execution_count": 302,
   "metadata": {
    "ExecuteTime": {
     "end_time": "2021-03-24T07:40:34.297703Z",
     "start_time": "2021-03-24T07:40:34.245959Z"
    }
   },
   "outputs": [
    {
     "data": {
      "text/html": [
       "<div>\n",
       "<style scoped>\n",
       "    .dataframe tbody tr th:only-of-type {\n",
       "        vertical-align: middle;\n",
       "    }\n",
       "\n",
       "    .dataframe tbody tr th {\n",
       "        vertical-align: top;\n",
       "    }\n",
       "\n",
       "    .dataframe thead tr th {\n",
       "        text-align: left;\n",
       "    }\n",
       "\n",
       "    .dataframe thead tr:last-of-type th {\n",
       "        text-align: right;\n",
       "    }\n",
       "</style>\n",
       "<table border=\"1\" class=\"dataframe\">\n",
       "  <thead>\n",
       "    <tr>\n",
       "      <th></th>\n",
       "      <th></th>\n",
       "      <th colspan=\"9\" halign=\"left\">duration</th>\n",
       "    </tr>\n",
       "    <tr>\n",
       "      <th></th>\n",
       "      <th>network</th>\n",
       "      <th>Meteor</th>\n",
       "      <th>Tesco</th>\n",
       "      <th>Three</th>\n",
       "      <th>Vodafone</th>\n",
       "      <th>data</th>\n",
       "      <th>landline</th>\n",
       "      <th>special</th>\n",
       "      <th>voicemail</th>\n",
       "      <th>world</th>\n",
       "    </tr>\n",
       "    <tr>\n",
       "      <th>month</th>\n",
       "      <th>item</th>\n",
       "      <th></th>\n",
       "      <th></th>\n",
       "      <th></th>\n",
       "      <th></th>\n",
       "      <th></th>\n",
       "      <th></th>\n",
       "      <th></th>\n",
       "      <th></th>\n",
       "      <th></th>\n",
       "    </tr>\n",
       "  </thead>\n",
       "  <tbody>\n",
       "    <tr>\n",
       "      <th rowspan=\"3\" valign=\"top\">2014-11</th>\n",
       "      <th>call</th>\n",
       "      <td>1521</td>\n",
       "      <td>4045</td>\n",
       "      <td>12458</td>\n",
       "      <td>4316</td>\n",
       "      <td>0.000</td>\n",
       "      <td>2906</td>\n",
       "      <td>0</td>\n",
       "      <td>301</td>\n",
       "      <td>0</td>\n",
       "    </tr>\n",
       "    <tr>\n",
       "      <th>data</th>\n",
       "      <td>0</td>\n",
       "      <td>0</td>\n",
       "      <td>0</td>\n",
       "      <td>0</td>\n",
       "      <td>998.441</td>\n",
       "      <td>0</td>\n",
       "      <td>0</td>\n",
       "      <td>0</td>\n",
       "      <td>0</td>\n",
       "    </tr>\n",
       "    <tr>\n",
       "      <th>sms</th>\n",
       "      <td>10</td>\n",
       "      <td>3</td>\n",
       "      <td>25</td>\n",
       "      <td>55</td>\n",
       "      <td>0.000</td>\n",
       "      <td>0</td>\n",
       "      <td>1</td>\n",
       "      <td>0</td>\n",
       "      <td>0</td>\n",
       "    </tr>\n",
       "    <tr>\n",
       "      <th rowspan=\"3\" valign=\"top\">2014-12</th>\n",
       "      <th>call</th>\n",
       "      <td>2010</td>\n",
       "      <td>1819</td>\n",
       "      <td>6316</td>\n",
       "      <td>1302</td>\n",
       "      <td>0.000</td>\n",
       "      <td>1424</td>\n",
       "      <td>0</td>\n",
       "      <td>690</td>\n",
       "      <td>0</td>\n",
       "    </tr>\n",
       "    <tr>\n",
       "      <th>data</th>\n",
       "      <td>0</td>\n",
       "      <td>0</td>\n",
       "      <td>0</td>\n",
       "      <td>0</td>\n",
       "      <td>1032.870</td>\n",
       "      <td>0</td>\n",
       "      <td>0</td>\n",
       "      <td>0</td>\n",
       "      <td>0</td>\n",
       "    </tr>\n",
       "    <tr>\n",
       "      <th>sms</th>\n",
       "      <td>12</td>\n",
       "      <td>1</td>\n",
       "      <td>13</td>\n",
       "      <td>18</td>\n",
       "      <td>0.000</td>\n",
       "      <td>0</td>\n",
       "      <td>0</td>\n",
       "      <td>0</td>\n",
       "      <td>4</td>\n",
       "    </tr>\n",
       "    <tr>\n",
       "      <th rowspan=\"3\" valign=\"top\">2015-01</th>\n",
       "      <th>call</th>\n",
       "      <td>2207</td>\n",
       "      <td>2904</td>\n",
       "      <td>6445</td>\n",
       "      <td>3626</td>\n",
       "      <td>0.000</td>\n",
       "      <td>1603</td>\n",
       "      <td>0</td>\n",
       "      <td>285</td>\n",
       "      <td>0</td>\n",
       "    </tr>\n",
       "    <tr>\n",
       "      <th>data</th>\n",
       "      <td>0</td>\n",
       "      <td>0</td>\n",
       "      <td>0</td>\n",
       "      <td>0</td>\n",
       "      <td>1067.299</td>\n",
       "      <td>0</td>\n",
       "      <td>0</td>\n",
       "      <td>0</td>\n",
       "      <td>0</td>\n",
       "    </tr>\n",
       "    <tr>\n",
       "      <th>sms</th>\n",
       "      <td>10</td>\n",
       "      <td>3</td>\n",
       "      <td>33</td>\n",
       "      <td>40</td>\n",
       "      <td>0.000</td>\n",
       "      <td>0</td>\n",
       "      <td>0</td>\n",
       "      <td>0</td>\n",
       "      <td>0</td>\n",
       "    </tr>\n",
       "    <tr>\n",
       "      <th rowspan=\"3\" valign=\"top\">2015-02</th>\n",
       "      <th>call</th>\n",
       "      <td>1188</td>\n",
       "      <td>4087</td>\n",
       "      <td>6279</td>\n",
       "      <td>1864</td>\n",
       "      <td>0.000</td>\n",
       "      <td>730</td>\n",
       "      <td>0</td>\n",
       "      <td>268</td>\n",
       "      <td>0</td>\n",
       "    </tr>\n",
       "    <tr>\n",
       "      <th>data</th>\n",
       "      <td>0</td>\n",
       "      <td>0</td>\n",
       "      <td>0</td>\n",
       "      <td>0</td>\n",
       "      <td>1067.299</td>\n",
       "      <td>0</td>\n",
       "      <td>0</td>\n",
       "      <td>0</td>\n",
       "      <td>0</td>\n",
       "    </tr>\n",
       "    <tr>\n",
       "      <th>sms</th>\n",
       "      <td>1</td>\n",
       "      <td>2</td>\n",
       "      <td>11</td>\n",
       "      <td>23</td>\n",
       "      <td>0.000</td>\n",
       "      <td>0</td>\n",
       "      <td>2</td>\n",
       "      <td>0</td>\n",
       "      <td>0</td>\n",
       "    </tr>\n",
       "    <tr>\n",
       "      <th rowspan=\"3\" valign=\"top\">2015-03</th>\n",
       "      <th>call</th>\n",
       "      <td>274</td>\n",
       "      <td>973</td>\n",
       "      <td>4966</td>\n",
       "      <td>3513</td>\n",
       "      <td>0.000</td>\n",
       "      <td>11770</td>\n",
       "      <td>0</td>\n",
       "      <td>231</td>\n",
       "      <td>0</td>\n",
       "    </tr>\n",
       "    <tr>\n",
       "      <th>data</th>\n",
       "      <td>0</td>\n",
       "      <td>0</td>\n",
       "      <td>0</td>\n",
       "      <td>0</td>\n",
       "      <td>998.441</td>\n",
       "      <td>0</td>\n",
       "      <td>0</td>\n",
       "      <td>0</td>\n",
       "      <td>0</td>\n",
       "    </tr>\n",
       "    <tr>\n",
       "      <th>sms</th>\n",
       "      <td>0</td>\n",
       "      <td>4</td>\n",
       "      <td>5</td>\n",
       "      <td>13</td>\n",
       "      <td>0.000</td>\n",
       "      <td>0</td>\n",
       "      <td>0</td>\n",
       "      <td>0</td>\n",
       "      <td>3</td>\n",
       "    </tr>\n",
       "  </tbody>\n",
       "</table>\n",
       "</div>"
      ],
      "text/plain": [
       "             duration                                                   \\\n",
       "network        Meteor Tesco  Three Vodafone      data landline special   \n",
       "month   item                                                             \n",
       "2014-11 call     1521  4045  12458     4316     0.000     2906       0   \n",
       "        data        0     0      0        0   998.441        0       0   \n",
       "        sms        10     3     25       55     0.000        0       1   \n",
       "2014-12 call     2010  1819   6316     1302     0.000     1424       0   \n",
       "        data        0     0      0        0  1032.870        0       0   \n",
       "        sms        12     1     13       18     0.000        0       0   \n",
       "2015-01 call     2207  2904   6445     3626     0.000     1603       0   \n",
       "        data        0     0      0        0  1067.299        0       0   \n",
       "        sms        10     3     33       40     0.000        0       0   \n",
       "2015-02 call     1188  4087   6279     1864     0.000      730       0   \n",
       "        data        0     0      0        0  1067.299        0       0   \n",
       "        sms         1     2     11       23     0.000        0       2   \n",
       "2015-03 call      274   973   4966     3513     0.000    11770       0   \n",
       "        data        0     0      0        0   998.441        0       0   \n",
       "        sms         0     4      5       13     0.000        0       0   \n",
       "\n",
       "                              \n",
       "network      voicemail world  \n",
       "month   item                  \n",
       "2014-11 call       301     0  \n",
       "        data         0     0  \n",
       "        sms          0     0  \n",
       "2014-12 call       690     0  \n",
       "        data         0     0  \n",
       "        sms          0     4  \n",
       "2015-01 call       285     0  \n",
       "        data         0     0  \n",
       "        sms          0     0  \n",
       "2015-02 call       268     0  \n",
       "        data         0     0  \n",
       "        sms          0     0  \n",
       "2015-03 call       231     0  \n",
       "        data         0     0  \n",
       "        sms          0     3  "
      ]
     },
     "execution_count": 302,
     "metadata": {},
     "output_type": "execute_result"
    }
   ],
   "source": [
    "df_phone.pivot_table([\"duration\"],\n",
    "                     index=[df_phone.month,df_phone.item], \n",
    "                     columns=df_phone.network, aggfunc=\"sum\", fill_value=0)"
   ]
  },
  {
   "cell_type": "code",
   "execution_count": 304,
   "metadata": {
    "ExecuteTime": {
     "end_time": "2021-03-24T07:41:23.015733Z",
     "start_time": "2021-03-24T07:41:22.985082Z"
    }
   },
   "outputs": [
    {
     "data": {
      "text/html": [
       "<div>\n",
       "<style scoped>\n",
       "    .dataframe tbody tr th:only-of-type {\n",
       "        vertical-align: middle;\n",
       "    }\n",
       "\n",
       "    .dataframe tbody tr th {\n",
       "        vertical-align: top;\n",
       "    }\n",
       "\n",
       "    .dataframe thead th {\n",
       "        text-align: right;\n",
       "    }\n",
       "</style>\n",
       "<table border=\"1\" class=\"dataframe\">\n",
       "  <thead>\n",
       "    <tr style=\"text-align: right;\">\n",
       "      <th></th>\n",
       "      <th>critic</th>\n",
       "      <th>title</th>\n",
       "      <th>rating</th>\n",
       "    </tr>\n",
       "  </thead>\n",
       "  <tbody>\n",
       "    <tr>\n",
       "      <th>0</th>\n",
       "      <td>Jack Matthews</td>\n",
       "      <td>Lady in the Water</td>\n",
       "      <td>3.0</td>\n",
       "    </tr>\n",
       "    <tr>\n",
       "      <th>1</th>\n",
       "      <td>Jack Matthews</td>\n",
       "      <td>Snakes on a Plane</td>\n",
       "      <td>4.0</td>\n",
       "    </tr>\n",
       "    <tr>\n",
       "      <th>2</th>\n",
       "      <td>Jack Matthews</td>\n",
       "      <td>You Me and Dupree</td>\n",
       "      <td>3.5</td>\n",
       "    </tr>\n",
       "    <tr>\n",
       "      <th>3</th>\n",
       "      <td>Jack Matthews</td>\n",
       "      <td>Superman Returns</td>\n",
       "      <td>5.0</td>\n",
       "    </tr>\n",
       "    <tr>\n",
       "      <th>4</th>\n",
       "      <td>Jack Matthews</td>\n",
       "      <td>The Night Listener</td>\n",
       "      <td>3.0</td>\n",
       "    </tr>\n",
       "  </tbody>\n",
       "</table>\n",
       "</div>"
      ],
      "text/plain": [
       "          critic               title  rating\n",
       "0  Jack Matthews   Lady in the Water     3.0\n",
       "1  Jack Matthews   Snakes on a Plane     4.0\n",
       "2  Jack Matthews   You Me and Dupree     3.5\n",
       "3  Jack Matthews    Superman Returns     5.0\n",
       "4  Jack Matthews  The Night Listener     3.0"
      ]
     },
     "execution_count": 304,
     "metadata": {},
     "output_type": "execute_result"
    }
   ],
   "source": [
    "df_movie = pd.read_csv(\"/data/movie_rating.csv\")\n",
    "df_movie.head()"
   ]
  },
  {
   "cell_type": "code",
   "execution_count": 305,
   "metadata": {
    "ExecuteTime": {
     "end_time": "2021-03-24T07:41:30.679172Z",
     "start_time": "2021-03-24T07:41:30.649335Z"
    }
   },
   "outputs": [
    {
     "data": {
      "text/html": [
       "<div>\n",
       "<style scoped>\n",
       "    .dataframe tbody tr th:only-of-type {\n",
       "        vertical-align: middle;\n",
       "    }\n",
       "\n",
       "    .dataframe tbody tr th {\n",
       "        vertical-align: top;\n",
       "    }\n",
       "\n",
       "    .dataframe thead tr th {\n",
       "        text-align: left;\n",
       "    }\n",
       "\n",
       "    .dataframe thead tr:last-of-type th {\n",
       "        text-align: right;\n",
       "    }\n",
       "</style>\n",
       "<table border=\"1\" class=\"dataframe\">\n",
       "  <thead>\n",
       "    <tr>\n",
       "      <th></th>\n",
       "      <th colspan=\"6\" halign=\"left\">rating</th>\n",
       "    </tr>\n",
       "    <tr>\n",
       "      <th>title</th>\n",
       "      <th>Just My Luck</th>\n",
       "      <th>Lady in the Water</th>\n",
       "      <th>Snakes on a Plane</th>\n",
       "      <th>Superman Returns</th>\n",
       "      <th>The Night Listener</th>\n",
       "      <th>You Me and Dupree</th>\n",
       "    </tr>\n",
       "    <tr>\n",
       "      <th>critic</th>\n",
       "      <th></th>\n",
       "      <th></th>\n",
       "      <th></th>\n",
       "      <th></th>\n",
       "      <th></th>\n",
       "      <th></th>\n",
       "    </tr>\n",
       "  </thead>\n",
       "  <tbody>\n",
       "    <tr>\n",
       "      <th>Claudia Puig</th>\n",
       "      <td>3.0</td>\n",
       "      <td>0.0</td>\n",
       "      <td>3.5</td>\n",
       "      <td>4.0</td>\n",
       "      <td>4.5</td>\n",
       "      <td>2.5</td>\n",
       "    </tr>\n",
       "    <tr>\n",
       "      <th>Gene Seymour</th>\n",
       "      <td>1.5</td>\n",
       "      <td>3.0</td>\n",
       "      <td>3.5</td>\n",
       "      <td>5.0</td>\n",
       "      <td>3.0</td>\n",
       "      <td>3.5</td>\n",
       "    </tr>\n",
       "    <tr>\n",
       "      <th>Jack Matthews</th>\n",
       "      <td>0.0</td>\n",
       "      <td>3.0</td>\n",
       "      <td>4.0</td>\n",
       "      <td>5.0</td>\n",
       "      <td>3.0</td>\n",
       "      <td>3.5</td>\n",
       "    </tr>\n",
       "    <tr>\n",
       "      <th>Lisa Rose</th>\n",
       "      <td>3.0</td>\n",
       "      <td>2.5</td>\n",
       "      <td>3.5</td>\n",
       "      <td>3.5</td>\n",
       "      <td>3.0</td>\n",
       "      <td>2.5</td>\n",
       "    </tr>\n",
       "    <tr>\n",
       "      <th>Mick LaSalle</th>\n",
       "      <td>2.0</td>\n",
       "      <td>3.0</td>\n",
       "      <td>4.0</td>\n",
       "      <td>3.0</td>\n",
       "      <td>3.0</td>\n",
       "      <td>2.0</td>\n",
       "    </tr>\n",
       "    <tr>\n",
       "      <th>Toby</th>\n",
       "      <td>0.0</td>\n",
       "      <td>0.0</td>\n",
       "      <td>4.5</td>\n",
       "      <td>4.0</td>\n",
       "      <td>0.0</td>\n",
       "      <td>1.0</td>\n",
       "    </tr>\n",
       "  </tbody>\n",
       "</table>\n",
       "</div>"
      ],
      "text/plain": [
       "                    rating                                      \\\n",
       "title         Just My Luck Lady in the Water Snakes on a Plane   \n",
       "critic                                                           \n",
       "Claudia Puig           3.0               0.0               3.5   \n",
       "Gene Seymour           1.5               3.0               3.5   \n",
       "Jack Matthews          0.0               3.0               4.0   \n",
       "Lisa Rose              3.0               2.5               3.5   \n",
       "Mick LaSalle           2.0               3.0               4.0   \n",
       "Toby                   0.0               0.0               4.5   \n",
       "\n",
       "                                                                     \n",
       "title         Superman Returns The Night Listener You Me and Dupree  \n",
       "critic                                                               \n",
       "Claudia Puig               4.0                4.5               2.5  \n",
       "Gene Seymour               5.0                3.0               3.5  \n",
       "Jack Matthews              5.0                3.0               3.5  \n",
       "Lisa Rose                  3.5                3.0               2.5  \n",
       "Mick LaSalle               3.0                3.0               2.0  \n",
       "Toby                       4.0                0.0               1.0  "
      ]
     },
     "execution_count": 305,
     "metadata": {},
     "output_type": "execute_result"
    }
   ],
   "source": [
    "df_movie.pivot_table([\"rating\"], index=df_movie.critic, columns=df_movie.title,\n",
    "                     aggfunc=\"sum\", fill_value=0)"
   ]
  },
  {
   "cell_type": "code",
   "execution_count": 306,
   "metadata": {
    "ExecuteTime": {
     "end_time": "2021-03-24T07:41:36.574411Z",
     "start_time": "2021-03-24T07:41:36.514637Z"
    }
   },
   "outputs": [
    {
     "data": {
      "text/html": [
       "<div>\n",
       "<style scoped>\n",
       "    .dataframe tbody tr th:only-of-type {\n",
       "        vertical-align: middle;\n",
       "    }\n",
       "\n",
       "    .dataframe tbody tr th {\n",
       "        vertical-align: top;\n",
       "    }\n",
       "\n",
       "    .dataframe thead th {\n",
       "        text-align: right;\n",
       "    }\n",
       "</style>\n",
       "<table border=\"1\" class=\"dataframe\">\n",
       "  <thead>\n",
       "    <tr style=\"text-align: right;\">\n",
       "      <th>title</th>\n",
       "      <th>Just My Luck</th>\n",
       "      <th>Lady in the Water</th>\n",
       "      <th>Snakes on a Plane</th>\n",
       "      <th>Superman Returns</th>\n",
       "      <th>The Night Listener</th>\n",
       "      <th>You Me and Dupree</th>\n",
       "    </tr>\n",
       "    <tr>\n",
       "      <th>critic</th>\n",
       "      <th></th>\n",
       "      <th></th>\n",
       "      <th></th>\n",
       "      <th></th>\n",
       "      <th></th>\n",
       "      <th></th>\n",
       "    </tr>\n",
       "  </thead>\n",
       "  <tbody>\n",
       "    <tr>\n",
       "      <th>Claudia Puig</th>\n",
       "      <td>3.0</td>\n",
       "      <td>0.0</td>\n",
       "      <td>3.5</td>\n",
       "      <td>4.0</td>\n",
       "      <td>4.5</td>\n",
       "      <td>2.5</td>\n",
       "    </tr>\n",
       "    <tr>\n",
       "      <th>Gene Seymour</th>\n",
       "      <td>1.5</td>\n",
       "      <td>3.0</td>\n",
       "      <td>3.5</td>\n",
       "      <td>5.0</td>\n",
       "      <td>3.0</td>\n",
       "      <td>3.5</td>\n",
       "    </tr>\n",
       "    <tr>\n",
       "      <th>Jack Matthews</th>\n",
       "      <td>0.0</td>\n",
       "      <td>3.0</td>\n",
       "      <td>4.0</td>\n",
       "      <td>5.0</td>\n",
       "      <td>3.0</td>\n",
       "      <td>3.5</td>\n",
       "    </tr>\n",
       "    <tr>\n",
       "      <th>Lisa Rose</th>\n",
       "      <td>3.0</td>\n",
       "      <td>2.5</td>\n",
       "      <td>3.5</td>\n",
       "      <td>3.5</td>\n",
       "      <td>3.0</td>\n",
       "      <td>2.5</td>\n",
       "    </tr>\n",
       "    <tr>\n",
       "      <th>Mick LaSalle</th>\n",
       "      <td>2.0</td>\n",
       "      <td>3.0</td>\n",
       "      <td>4.0</td>\n",
       "      <td>3.0</td>\n",
       "      <td>3.0</td>\n",
       "      <td>2.0</td>\n",
       "    </tr>\n",
       "    <tr>\n",
       "      <th>Toby</th>\n",
       "      <td>0.0</td>\n",
       "      <td>0.0</td>\n",
       "      <td>4.5</td>\n",
       "      <td>4.0</td>\n",
       "      <td>0.0</td>\n",
       "      <td>1.0</td>\n",
       "    </tr>\n",
       "  </tbody>\n",
       "</table>\n",
       "</div>"
      ],
      "text/plain": [
       "title          Just My Luck  Lady in the Water  Snakes on a Plane  \\\n",
       "critic                                                              \n",
       "Claudia Puig            3.0                0.0                3.5   \n",
       "Gene Seymour            1.5                3.0                3.5   \n",
       "Jack Matthews           0.0                3.0                4.0   \n",
       "Lisa Rose               3.0                2.5                3.5   \n",
       "Mick LaSalle            2.0                3.0                4.0   \n",
       "Toby                    0.0                0.0                4.5   \n",
       "\n",
       "title          Superman Returns  The Night Listener  You Me and Dupree  \n",
       "critic                                                                  \n",
       "Claudia Puig                4.0                 4.5                2.5  \n",
       "Gene Seymour                5.0                 3.0                3.5  \n",
       "Jack Matthews               5.0                 3.0                3.5  \n",
       "Lisa Rose                   3.5                 3.0                2.5  \n",
       "Mick LaSalle                3.0                 3.0                2.0  \n",
       "Toby                        4.0                 0.0                1.0  "
      ]
     },
     "execution_count": 306,
     "metadata": {},
     "output_type": "execute_result"
    }
   ],
   "source": [
    "pd.crosstab(index=df_movie.critic,columns=df_movie.title,values=df_movie.rating,\n",
    "            aggfunc=\"first\").fillna(0)"
   ]
  },
  {
   "cell_type": "code",
   "execution_count": 332,
   "metadata": {
    "ExecuteTime": {
     "end_time": "2021-03-24T08:09:36.323389Z",
     "start_time": "2021-03-24T08:09:36.298668Z"
    }
   },
   "outputs": [
    {
     "data": {
      "text/html": [
       "<div>\n",
       "<style scoped>\n",
       "    .dataframe tbody tr th:only-of-type {\n",
       "        vertical-align: middle;\n",
       "    }\n",
       "\n",
       "    .dataframe tbody tr th {\n",
       "        vertical-align: top;\n",
       "    }\n",
       "\n",
       "    .dataframe thead tr th {\n",
       "        text-align: left;\n",
       "    }\n",
       "\n",
       "    .dataframe thead tr:last-of-type th {\n",
       "        text-align: right;\n",
       "    }\n",
       "</style>\n",
       "<table border=\"1\" class=\"dataframe\">\n",
       "  <thead>\n",
       "    <tr>\n",
       "      <th></th>\n",
       "      <th colspan=\"6\" halign=\"left\">rating</th>\n",
       "    </tr>\n",
       "    <tr>\n",
       "      <th>title</th>\n",
       "      <th>Just My Luck</th>\n",
       "      <th>Lady in the Water</th>\n",
       "      <th>Snakes on a Plane</th>\n",
       "      <th>Superman Returns</th>\n",
       "      <th>The Night Listener</th>\n",
       "      <th>You Me and Dupree</th>\n",
       "    </tr>\n",
       "    <tr>\n",
       "      <th>critic</th>\n",
       "      <th></th>\n",
       "      <th></th>\n",
       "      <th></th>\n",
       "      <th></th>\n",
       "      <th></th>\n",
       "      <th></th>\n",
       "    </tr>\n",
       "  </thead>\n",
       "  <tbody>\n",
       "    <tr>\n",
       "      <th>Claudia Puig</th>\n",
       "      <td>3.0</td>\n",
       "      <td>0.0</td>\n",
       "      <td>3.5</td>\n",
       "      <td>4.0</td>\n",
       "      <td>4.5</td>\n",
       "      <td>2.5</td>\n",
       "    </tr>\n",
       "    <tr>\n",
       "      <th>Gene Seymour</th>\n",
       "      <td>1.5</td>\n",
       "      <td>3.0</td>\n",
       "      <td>3.5</td>\n",
       "      <td>5.0</td>\n",
       "      <td>3.0</td>\n",
       "      <td>3.5</td>\n",
       "    </tr>\n",
       "    <tr>\n",
       "      <th>Jack Matthews</th>\n",
       "      <td>0.0</td>\n",
       "      <td>3.0</td>\n",
       "      <td>4.0</td>\n",
       "      <td>5.0</td>\n",
       "      <td>3.0</td>\n",
       "      <td>3.5</td>\n",
       "    </tr>\n",
       "    <tr>\n",
       "      <th>Lisa Rose</th>\n",
       "      <td>3.0</td>\n",
       "      <td>2.5</td>\n",
       "      <td>3.5</td>\n",
       "      <td>3.5</td>\n",
       "      <td>3.0</td>\n",
       "      <td>2.5</td>\n",
       "    </tr>\n",
       "    <tr>\n",
       "      <th>Mick LaSalle</th>\n",
       "      <td>2.0</td>\n",
       "      <td>3.0</td>\n",
       "      <td>4.0</td>\n",
       "      <td>3.0</td>\n",
       "      <td>3.0</td>\n",
       "      <td>2.0</td>\n",
       "    </tr>\n",
       "    <tr>\n",
       "      <th>Toby</th>\n",
       "      <td>0.0</td>\n",
       "      <td>0.0</td>\n",
       "      <td>4.5</td>\n",
       "      <td>4.0</td>\n",
       "      <td>0.0</td>\n",
       "      <td>1.0</td>\n",
       "    </tr>\n",
       "  </tbody>\n",
       "</table>\n",
       "</div>"
      ],
      "text/plain": [
       "                    rating                                      \\\n",
       "title         Just My Luck Lady in the Water Snakes on a Plane   \n",
       "critic                                                           \n",
       "Claudia Puig           3.0               0.0               3.5   \n",
       "Gene Seymour           1.5               3.0               3.5   \n",
       "Jack Matthews          0.0               3.0               4.0   \n",
       "Lisa Rose              3.0               2.5               3.5   \n",
       "Mick LaSalle           2.0               3.0               4.0   \n",
       "Toby                   0.0               0.0               4.5   \n",
       "\n",
       "                                                                     \n",
       "title         Superman Returns The Night Listener You Me and Dupree  \n",
       "critic                                                               \n",
       "Claudia Puig               4.0                4.5               2.5  \n",
       "Gene Seymour               5.0                3.0               3.5  \n",
       "Jack Matthews              5.0                3.0               3.5  \n",
       "Lisa Rose                  3.5                3.0               2.5  \n",
       "Mick LaSalle               3.0                3.0               2.0  \n",
       "Toby                       4.0                0.0               1.0  "
      ]
     },
     "execution_count": 332,
     "metadata": {},
     "output_type": "execute_result"
    }
   ],
   "source": [
    "df_movie.groupby([\"critic\",\"title\"]).agg({\"rating\":\"first\"}).unstack().fillna(0)"
   ]
  },
  {
   "cell_type": "markdown",
   "metadata": {},
   "source": [
    "### Merge & concat"
   ]
  },
  {
   "cell_type": "code",
   "execution_count": 312,
   "metadata": {
    "ExecuteTime": {
     "end_time": "2021-03-24T07:56:45.611677Z",
     "start_time": "2021-03-24T07:56:45.587370Z"
    }
   },
   "outputs": [
    {
     "data": {
      "text/html": [
       "<div>\n",
       "<style scoped>\n",
       "    .dataframe tbody tr th:only-of-type {\n",
       "        vertical-align: middle;\n",
       "    }\n",
       "\n",
       "    .dataframe tbody tr th {\n",
       "        vertical-align: top;\n",
       "    }\n",
       "\n",
       "    .dataframe thead th {\n",
       "        text-align: right;\n",
       "    }\n",
       "</style>\n",
       "<table border=\"1\" class=\"dataframe\">\n",
       "  <thead>\n",
       "    <tr style=\"text-align: right;\">\n",
       "      <th></th>\n",
       "      <th>subject_id</th>\n",
       "      <th>test_score</th>\n",
       "    </tr>\n",
       "  </thead>\n",
       "  <tbody>\n",
       "    <tr>\n",
       "      <th>0</th>\n",
       "      <td>1</td>\n",
       "      <td>51</td>\n",
       "    </tr>\n",
       "    <tr>\n",
       "      <th>1</th>\n",
       "      <td>2</td>\n",
       "      <td>15</td>\n",
       "    </tr>\n",
       "    <tr>\n",
       "      <th>2</th>\n",
       "      <td>3</td>\n",
       "      <td>15</td>\n",
       "    </tr>\n",
       "    <tr>\n",
       "      <th>3</th>\n",
       "      <td>4</td>\n",
       "      <td>61</td>\n",
       "    </tr>\n",
       "    <tr>\n",
       "      <th>4</th>\n",
       "      <td>5</td>\n",
       "      <td>16</td>\n",
       "    </tr>\n",
       "    <tr>\n",
       "      <th>5</th>\n",
       "      <td>7</td>\n",
       "      <td>14</td>\n",
       "    </tr>\n",
       "    <tr>\n",
       "      <th>6</th>\n",
       "      <td>8</td>\n",
       "      <td>15</td>\n",
       "    </tr>\n",
       "    <tr>\n",
       "      <th>7</th>\n",
       "      <td>9</td>\n",
       "      <td>1</td>\n",
       "    </tr>\n",
       "    <tr>\n",
       "      <th>8</th>\n",
       "      <td>10</td>\n",
       "      <td>61</td>\n",
       "    </tr>\n",
       "    <tr>\n",
       "      <th>9</th>\n",
       "      <td>11</td>\n",
       "      <td>16</td>\n",
       "    </tr>\n",
       "  </tbody>\n",
       "</table>\n",
       "</div>"
      ],
      "text/plain": [
       "  subject_id  test_score\n",
       "0          1          51\n",
       "1          2          15\n",
       "2          3          15\n",
       "3          4          61\n",
       "4          5          16\n",
       "5          7          14\n",
       "6          8          15\n",
       "7          9           1\n",
       "8         10          61\n",
       "9         11          16"
      ]
     },
     "execution_count": 312,
     "metadata": {},
     "output_type": "execute_result"
    }
   ],
   "source": [
    "raw_data = {\n",
    "        'subject_id': ['1', '2', '3', '4', '5', '7', '8', '9', '10', '11'],\n",
    "        'test_score': [51, 15, 15, 61, 16, 14, 15, 1, 61, 16]}\n",
    "df_a = pd.DataFrame(raw_data, columns = ['subject_id', 'test_score'])\n",
    "df_a"
   ]
  },
  {
   "cell_type": "code",
   "execution_count": 313,
   "metadata": {
    "ExecuteTime": {
     "end_time": "2021-03-24T07:57:09.544215Z",
     "start_time": "2021-03-24T07:57:09.511846Z"
    }
   },
   "outputs": [
    {
     "data": {
      "text/html": [
       "<div>\n",
       "<style scoped>\n",
       "    .dataframe tbody tr th:only-of-type {\n",
       "        vertical-align: middle;\n",
       "    }\n",
       "\n",
       "    .dataframe tbody tr th {\n",
       "        vertical-align: top;\n",
       "    }\n",
       "\n",
       "    .dataframe thead th {\n",
       "        text-align: right;\n",
       "    }\n",
       "</style>\n",
       "<table border=\"1\" class=\"dataframe\">\n",
       "  <thead>\n",
       "    <tr style=\"text-align: right;\">\n",
       "      <th></th>\n",
       "      <th>subject_id</th>\n",
       "      <th>first_name</th>\n",
       "      <th>last_name</th>\n",
       "    </tr>\n",
       "  </thead>\n",
       "  <tbody>\n",
       "    <tr>\n",
       "      <th>0</th>\n",
       "      <td>4</td>\n",
       "      <td>Billy</td>\n",
       "      <td>Bonder</td>\n",
       "    </tr>\n",
       "    <tr>\n",
       "      <th>1</th>\n",
       "      <td>5</td>\n",
       "      <td>Brian</td>\n",
       "      <td>Black</td>\n",
       "    </tr>\n",
       "    <tr>\n",
       "      <th>2</th>\n",
       "      <td>6</td>\n",
       "      <td>Bran</td>\n",
       "      <td>Balwner</td>\n",
       "    </tr>\n",
       "    <tr>\n",
       "      <th>3</th>\n",
       "      <td>7</td>\n",
       "      <td>Bryce</td>\n",
       "      <td>Brice</td>\n",
       "    </tr>\n",
       "    <tr>\n",
       "      <th>4</th>\n",
       "      <td>8</td>\n",
       "      <td>Betty</td>\n",
       "      <td>Btisan</td>\n",
       "    </tr>\n",
       "  </tbody>\n",
       "</table>\n",
       "</div>"
      ],
      "text/plain": [
       "  subject_id first_name last_name\n",
       "0          4      Billy    Bonder\n",
       "1          5      Brian     Black\n",
       "2          6       Bran   Balwner\n",
       "3          7      Bryce     Brice\n",
       "4          8      Betty    Btisan"
      ]
     },
     "execution_count": 313,
     "metadata": {},
     "output_type": "execute_result"
    }
   ],
   "source": [
    "raw_data = {\n",
    "        'subject_id': ['4', '5', '6', '7', '8'],\n",
    "        'first_name': ['Billy', 'Brian', 'Bran', 'Bryce', 'Betty'], \n",
    "        'last_name': ['Bonder', 'Black', 'Balwner', 'Brice', 'Btisan']}\n",
    "df_b = pd.DataFrame(raw_data, columns = ['subject_id', 'first_name', 'last_name'])\n",
    "df_b"
   ]
  },
  {
   "cell_type": "code",
   "execution_count": 315,
   "metadata": {
    "ExecuteTime": {
     "end_time": "2021-03-24T07:57:17.456885Z",
     "start_time": "2021-03-24T07:57:17.443998Z"
    }
   },
   "outputs": [
    {
     "data": {
      "text/html": [
       "<div>\n",
       "<style scoped>\n",
       "    .dataframe tbody tr th:only-of-type {\n",
       "        vertical-align: middle;\n",
       "    }\n",
       "\n",
       "    .dataframe tbody tr th {\n",
       "        vertical-align: top;\n",
       "    }\n",
       "\n",
       "    .dataframe thead th {\n",
       "        text-align: right;\n",
       "    }\n",
       "</style>\n",
       "<table border=\"1\" class=\"dataframe\">\n",
       "  <thead>\n",
       "    <tr style=\"text-align: right;\">\n",
       "      <th></th>\n",
       "      <th>subject_id</th>\n",
       "      <th>test_score</th>\n",
       "      <th>first_name</th>\n",
       "      <th>last_name</th>\n",
       "    </tr>\n",
       "  </thead>\n",
       "  <tbody>\n",
       "    <tr>\n",
       "      <th>0</th>\n",
       "      <td>4</td>\n",
       "      <td>61</td>\n",
       "      <td>Billy</td>\n",
       "      <td>Bonder</td>\n",
       "    </tr>\n",
       "    <tr>\n",
       "      <th>1</th>\n",
       "      <td>5</td>\n",
       "      <td>16</td>\n",
       "      <td>Brian</td>\n",
       "      <td>Black</td>\n",
       "    </tr>\n",
       "    <tr>\n",
       "      <th>2</th>\n",
       "      <td>7</td>\n",
       "      <td>14</td>\n",
       "      <td>Bryce</td>\n",
       "      <td>Brice</td>\n",
       "    </tr>\n",
       "    <tr>\n",
       "      <th>3</th>\n",
       "      <td>8</td>\n",
       "      <td>15</td>\n",
       "      <td>Betty</td>\n",
       "      <td>Btisan</td>\n",
       "    </tr>\n",
       "  </tbody>\n",
       "</table>\n",
       "</div>"
      ],
      "text/plain": [
       "  subject_id  test_score first_name last_name\n",
       "0          4          61      Billy    Bonder\n",
       "1          5          16      Brian     Black\n",
       "2          7          14      Bryce     Brice\n",
       "3          8          15      Betty    Btisan"
      ]
     },
     "execution_count": 315,
     "metadata": {},
     "output_type": "execute_result"
    }
   ],
   "source": [
    "pd.merge(df_a, df_b, on='subject_id')"
   ]
  },
  {
   "cell_type": "code",
   "execution_count": 316,
   "metadata": {
    "ExecuteTime": {
     "end_time": "2021-03-24T07:57:22.174284Z",
     "start_time": "2021-03-24T07:57:22.153435Z"
    }
   },
   "outputs": [
    {
     "data": {
      "text/html": [
       "<div>\n",
       "<style scoped>\n",
       "    .dataframe tbody tr th:only-of-type {\n",
       "        vertical-align: middle;\n",
       "    }\n",
       "\n",
       "    .dataframe tbody tr th {\n",
       "        vertical-align: top;\n",
       "    }\n",
       "\n",
       "    .dataframe thead th {\n",
       "        text-align: right;\n",
       "    }\n",
       "</style>\n",
       "<table border=\"1\" class=\"dataframe\">\n",
       "  <thead>\n",
       "    <tr style=\"text-align: right;\">\n",
       "      <th></th>\n",
       "      <th>subject_id</th>\n",
       "      <th>test_score</th>\n",
       "      <th>first_name</th>\n",
       "      <th>last_name</th>\n",
       "    </tr>\n",
       "  </thead>\n",
       "  <tbody>\n",
       "    <tr>\n",
       "      <th>0</th>\n",
       "      <td>4</td>\n",
       "      <td>61</td>\n",
       "      <td>Billy</td>\n",
       "      <td>Bonder</td>\n",
       "    </tr>\n",
       "    <tr>\n",
       "      <th>1</th>\n",
       "      <td>5</td>\n",
       "      <td>16</td>\n",
       "      <td>Brian</td>\n",
       "      <td>Black</td>\n",
       "    </tr>\n",
       "    <tr>\n",
       "      <th>2</th>\n",
       "      <td>7</td>\n",
       "      <td>14</td>\n",
       "      <td>Bryce</td>\n",
       "      <td>Brice</td>\n",
       "    </tr>\n",
       "    <tr>\n",
       "      <th>3</th>\n",
       "      <td>8</td>\n",
       "      <td>15</td>\n",
       "      <td>Betty</td>\n",
       "      <td>Btisan</td>\n",
       "    </tr>\n",
       "  </tbody>\n",
       "</table>\n",
       "</div>"
      ],
      "text/plain": [
       "  subject_id  test_score first_name last_name\n",
       "0          4          61      Billy    Bonder\n",
       "1          5          16      Brian     Black\n",
       "2          7          14      Bryce     Brice\n",
       "3          8          15      Betty    Btisan"
      ]
     },
     "execution_count": 316,
     "metadata": {},
     "output_type": "execute_result"
    }
   ],
   "source": [
    "pd.merge(df_a, df_b, left_on='subject_id', right_on='subject_id')"
   ]
  },
  {
   "cell_type": "code",
   "execution_count": 317,
   "metadata": {
    "ExecuteTime": {
     "end_time": "2021-03-24T07:57:25.868223Z",
     "start_time": "2021-03-24T07:57:25.842860Z"
    }
   },
   "outputs": [
    {
     "data": {
      "text/html": [
       "<div>\n",
       "<style scoped>\n",
       "    .dataframe tbody tr th:only-of-type {\n",
       "        vertical-align: middle;\n",
       "    }\n",
       "\n",
       "    .dataframe tbody tr th {\n",
       "        vertical-align: top;\n",
       "    }\n",
       "\n",
       "    .dataframe thead th {\n",
       "        text-align: right;\n",
       "    }\n",
       "</style>\n",
       "<table border=\"1\" class=\"dataframe\">\n",
       "  <thead>\n",
       "    <tr style=\"text-align: right;\">\n",
       "      <th></th>\n",
       "      <th>subject_id</th>\n",
       "      <th>test_score</th>\n",
       "      <th>first_name</th>\n",
       "      <th>last_name</th>\n",
       "    </tr>\n",
       "  </thead>\n",
       "  <tbody>\n",
       "    <tr>\n",
       "      <th>0</th>\n",
       "      <td>1</td>\n",
       "      <td>51</td>\n",
       "      <td>NaN</td>\n",
       "      <td>NaN</td>\n",
       "    </tr>\n",
       "    <tr>\n",
       "      <th>1</th>\n",
       "      <td>2</td>\n",
       "      <td>15</td>\n",
       "      <td>NaN</td>\n",
       "      <td>NaN</td>\n",
       "    </tr>\n",
       "    <tr>\n",
       "      <th>2</th>\n",
       "      <td>3</td>\n",
       "      <td>15</td>\n",
       "      <td>NaN</td>\n",
       "      <td>NaN</td>\n",
       "    </tr>\n",
       "    <tr>\n",
       "      <th>3</th>\n",
       "      <td>4</td>\n",
       "      <td>61</td>\n",
       "      <td>Billy</td>\n",
       "      <td>Bonder</td>\n",
       "    </tr>\n",
       "    <tr>\n",
       "      <th>4</th>\n",
       "      <td>5</td>\n",
       "      <td>16</td>\n",
       "      <td>Brian</td>\n",
       "      <td>Black</td>\n",
       "    </tr>\n",
       "    <tr>\n",
       "      <th>5</th>\n",
       "      <td>7</td>\n",
       "      <td>14</td>\n",
       "      <td>Bryce</td>\n",
       "      <td>Brice</td>\n",
       "    </tr>\n",
       "    <tr>\n",
       "      <th>6</th>\n",
       "      <td>8</td>\n",
       "      <td>15</td>\n",
       "      <td>Betty</td>\n",
       "      <td>Btisan</td>\n",
       "    </tr>\n",
       "    <tr>\n",
       "      <th>7</th>\n",
       "      <td>9</td>\n",
       "      <td>1</td>\n",
       "      <td>NaN</td>\n",
       "      <td>NaN</td>\n",
       "    </tr>\n",
       "    <tr>\n",
       "      <th>8</th>\n",
       "      <td>10</td>\n",
       "      <td>61</td>\n",
       "      <td>NaN</td>\n",
       "      <td>NaN</td>\n",
       "    </tr>\n",
       "    <tr>\n",
       "      <th>9</th>\n",
       "      <td>11</td>\n",
       "      <td>16</td>\n",
       "      <td>NaN</td>\n",
       "      <td>NaN</td>\n",
       "    </tr>\n",
       "  </tbody>\n",
       "</table>\n",
       "</div>"
      ],
      "text/plain": [
       "  subject_id  test_score first_name last_name\n",
       "0          1          51        NaN       NaN\n",
       "1          2          15        NaN       NaN\n",
       "2          3          15        NaN       NaN\n",
       "3          4          61      Billy    Bonder\n",
       "4          5          16      Brian     Black\n",
       "5          7          14      Bryce     Brice\n",
       "6          8          15      Betty    Btisan\n",
       "7          9           1        NaN       NaN\n",
       "8         10          61        NaN       NaN\n",
       "9         11          16        NaN       NaN"
      ]
     },
     "execution_count": 317,
     "metadata": {},
     "output_type": "execute_result"
    }
   ],
   "source": [
    "pd.merge(df_a, df_b, on='subject_id', how='left')"
   ]
  },
  {
   "cell_type": "code",
   "execution_count": 318,
   "metadata": {
    "ExecuteTime": {
     "end_time": "2021-03-24T07:57:30.214367Z",
     "start_time": "2021-03-24T07:57:30.191398Z"
    }
   },
   "outputs": [
    {
     "data": {
      "text/html": [
       "<div>\n",
       "<style scoped>\n",
       "    .dataframe tbody tr th:only-of-type {\n",
       "        vertical-align: middle;\n",
       "    }\n",
       "\n",
       "    .dataframe tbody tr th {\n",
       "        vertical-align: top;\n",
       "    }\n",
       "\n",
       "    .dataframe thead th {\n",
       "        text-align: right;\n",
       "    }\n",
       "</style>\n",
       "<table border=\"1\" class=\"dataframe\">\n",
       "  <thead>\n",
       "    <tr style=\"text-align: right;\">\n",
       "      <th></th>\n",
       "      <th>subject_id</th>\n",
       "      <th>test_score</th>\n",
       "      <th>first_name</th>\n",
       "      <th>last_name</th>\n",
       "    </tr>\n",
       "  </thead>\n",
       "  <tbody>\n",
       "    <tr>\n",
       "      <th>0</th>\n",
       "      <td>4</td>\n",
       "      <td>61.0</td>\n",
       "      <td>Billy</td>\n",
       "      <td>Bonder</td>\n",
       "    </tr>\n",
       "    <tr>\n",
       "      <th>1</th>\n",
       "      <td>5</td>\n",
       "      <td>16.0</td>\n",
       "      <td>Brian</td>\n",
       "      <td>Black</td>\n",
       "    </tr>\n",
       "    <tr>\n",
       "      <th>2</th>\n",
       "      <td>6</td>\n",
       "      <td>NaN</td>\n",
       "      <td>Bran</td>\n",
       "      <td>Balwner</td>\n",
       "    </tr>\n",
       "    <tr>\n",
       "      <th>3</th>\n",
       "      <td>7</td>\n",
       "      <td>14.0</td>\n",
       "      <td>Bryce</td>\n",
       "      <td>Brice</td>\n",
       "    </tr>\n",
       "    <tr>\n",
       "      <th>4</th>\n",
       "      <td>8</td>\n",
       "      <td>15.0</td>\n",
       "      <td>Betty</td>\n",
       "      <td>Btisan</td>\n",
       "    </tr>\n",
       "  </tbody>\n",
       "</table>\n",
       "</div>"
      ],
      "text/plain": [
       "  subject_id  test_score first_name last_name\n",
       "0          4        61.0      Billy    Bonder\n",
       "1          5        16.0      Brian     Black\n",
       "2          6         NaN       Bran   Balwner\n",
       "3          7        14.0      Bryce     Brice\n",
       "4          8        15.0      Betty    Btisan"
      ]
     },
     "execution_count": 318,
     "metadata": {},
     "output_type": "execute_result"
    }
   ],
   "source": [
    "pd.merge(df_a, df_b, on='subject_id', how='right')"
   ]
  },
  {
   "cell_type": "code",
   "execution_count": 319,
   "metadata": {
    "ExecuteTime": {
     "end_time": "2021-03-24T07:57:33.870148Z",
     "start_time": "2021-03-24T07:57:33.843829Z"
    }
   },
   "outputs": [
    {
     "data": {
      "text/html": [
       "<div>\n",
       "<style scoped>\n",
       "    .dataframe tbody tr th:only-of-type {\n",
       "        vertical-align: middle;\n",
       "    }\n",
       "\n",
       "    .dataframe tbody tr th {\n",
       "        vertical-align: top;\n",
       "    }\n",
       "\n",
       "    .dataframe thead th {\n",
       "        text-align: right;\n",
       "    }\n",
       "</style>\n",
       "<table border=\"1\" class=\"dataframe\">\n",
       "  <thead>\n",
       "    <tr style=\"text-align: right;\">\n",
       "      <th></th>\n",
       "      <th>subject_id</th>\n",
       "      <th>test_score</th>\n",
       "      <th>first_name</th>\n",
       "      <th>last_name</th>\n",
       "    </tr>\n",
       "  </thead>\n",
       "  <tbody>\n",
       "    <tr>\n",
       "      <th>0</th>\n",
       "      <td>1</td>\n",
       "      <td>51.0</td>\n",
       "      <td>NaN</td>\n",
       "      <td>NaN</td>\n",
       "    </tr>\n",
       "    <tr>\n",
       "      <th>1</th>\n",
       "      <td>2</td>\n",
       "      <td>15.0</td>\n",
       "      <td>NaN</td>\n",
       "      <td>NaN</td>\n",
       "    </tr>\n",
       "    <tr>\n",
       "      <th>2</th>\n",
       "      <td>3</td>\n",
       "      <td>15.0</td>\n",
       "      <td>NaN</td>\n",
       "      <td>NaN</td>\n",
       "    </tr>\n",
       "    <tr>\n",
       "      <th>3</th>\n",
       "      <td>4</td>\n",
       "      <td>61.0</td>\n",
       "      <td>Billy</td>\n",
       "      <td>Bonder</td>\n",
       "    </tr>\n",
       "    <tr>\n",
       "      <th>4</th>\n",
       "      <td>5</td>\n",
       "      <td>16.0</td>\n",
       "      <td>Brian</td>\n",
       "      <td>Black</td>\n",
       "    </tr>\n",
       "    <tr>\n",
       "      <th>5</th>\n",
       "      <td>7</td>\n",
       "      <td>14.0</td>\n",
       "      <td>Bryce</td>\n",
       "      <td>Brice</td>\n",
       "    </tr>\n",
       "    <tr>\n",
       "      <th>6</th>\n",
       "      <td>8</td>\n",
       "      <td>15.0</td>\n",
       "      <td>Betty</td>\n",
       "      <td>Btisan</td>\n",
       "    </tr>\n",
       "    <tr>\n",
       "      <th>7</th>\n",
       "      <td>9</td>\n",
       "      <td>1.0</td>\n",
       "      <td>NaN</td>\n",
       "      <td>NaN</td>\n",
       "    </tr>\n",
       "    <tr>\n",
       "      <th>8</th>\n",
       "      <td>10</td>\n",
       "      <td>61.0</td>\n",
       "      <td>NaN</td>\n",
       "      <td>NaN</td>\n",
       "    </tr>\n",
       "    <tr>\n",
       "      <th>9</th>\n",
       "      <td>11</td>\n",
       "      <td>16.0</td>\n",
       "      <td>NaN</td>\n",
       "      <td>NaN</td>\n",
       "    </tr>\n",
       "    <tr>\n",
       "      <th>10</th>\n",
       "      <td>6</td>\n",
       "      <td>NaN</td>\n",
       "      <td>Bran</td>\n",
       "      <td>Balwner</td>\n",
       "    </tr>\n",
       "  </tbody>\n",
       "</table>\n",
       "</div>"
      ],
      "text/plain": [
       "   subject_id  test_score first_name last_name\n",
       "0           1        51.0        NaN       NaN\n",
       "1           2        15.0        NaN       NaN\n",
       "2           3        15.0        NaN       NaN\n",
       "3           4        61.0      Billy    Bonder\n",
       "4           5        16.0      Brian     Black\n",
       "5           7        14.0      Bryce     Brice\n",
       "6           8        15.0      Betty    Btisan\n",
       "7           9         1.0        NaN       NaN\n",
       "8          10        61.0        NaN       NaN\n",
       "9          11        16.0        NaN       NaN\n",
       "10          6         NaN       Bran   Balwner"
      ]
     },
     "execution_count": 319,
     "metadata": {},
     "output_type": "execute_result"
    }
   ],
   "source": [
    "pd.merge(df_a, df_b, on='subject_id', how='outer')"
   ]
  },
  {
   "cell_type": "code",
   "execution_count": 320,
   "metadata": {
    "ExecuteTime": {
     "end_time": "2021-03-24T07:57:37.969582Z",
     "start_time": "2021-03-24T07:57:37.950920Z"
    }
   },
   "outputs": [
    {
     "data": {
      "text/html": [
       "<div>\n",
       "<style scoped>\n",
       "    .dataframe tbody tr th:only-of-type {\n",
       "        vertical-align: middle;\n",
       "    }\n",
       "\n",
       "    .dataframe tbody tr th {\n",
       "        vertical-align: top;\n",
       "    }\n",
       "\n",
       "    .dataframe thead th {\n",
       "        text-align: right;\n",
       "    }\n",
       "</style>\n",
       "<table border=\"1\" class=\"dataframe\">\n",
       "  <thead>\n",
       "    <tr style=\"text-align: right;\">\n",
       "      <th></th>\n",
       "      <th>subject_id</th>\n",
       "      <th>test_score</th>\n",
       "      <th>first_name</th>\n",
       "      <th>last_name</th>\n",
       "    </tr>\n",
       "  </thead>\n",
       "  <tbody>\n",
       "    <tr>\n",
       "      <th>0</th>\n",
       "      <td>4</td>\n",
       "      <td>61</td>\n",
       "      <td>Billy</td>\n",
       "      <td>Bonder</td>\n",
       "    </tr>\n",
       "    <tr>\n",
       "      <th>1</th>\n",
       "      <td>5</td>\n",
       "      <td>16</td>\n",
       "      <td>Brian</td>\n",
       "      <td>Black</td>\n",
       "    </tr>\n",
       "    <tr>\n",
       "      <th>2</th>\n",
       "      <td>7</td>\n",
       "      <td>14</td>\n",
       "      <td>Bryce</td>\n",
       "      <td>Brice</td>\n",
       "    </tr>\n",
       "    <tr>\n",
       "      <th>3</th>\n",
       "      <td>8</td>\n",
       "      <td>15</td>\n",
       "      <td>Betty</td>\n",
       "      <td>Btisan</td>\n",
       "    </tr>\n",
       "  </tbody>\n",
       "</table>\n",
       "</div>"
      ],
      "text/plain": [
       "  subject_id  test_score first_name last_name\n",
       "0          4          61      Billy    Bonder\n",
       "1          5          16      Brian     Black\n",
       "2          7          14      Bryce     Brice\n",
       "3          8          15      Betty    Btisan"
      ]
     },
     "execution_count": 320,
     "metadata": {},
     "output_type": "execute_result"
    }
   ],
   "source": [
    "pd.merge(df_a, df_b, on='subject_id', how='inner')"
   ]
  },
  {
   "cell_type": "code",
   "execution_count": 322,
   "metadata": {
    "ExecuteTime": {
     "end_time": "2021-03-24T07:57:44.410449Z",
     "start_time": "2021-03-24T07:57:44.383280Z"
    }
   },
   "outputs": [
    {
     "data": {
      "text/html": [
       "<div>\n",
       "<style scoped>\n",
       "    .dataframe tbody tr th:only-of-type {\n",
       "        vertical-align: middle;\n",
       "    }\n",
       "\n",
       "    .dataframe tbody tr th {\n",
       "        vertical-align: top;\n",
       "    }\n",
       "\n",
       "    .dataframe thead th {\n",
       "        text-align: right;\n",
       "    }\n",
       "</style>\n",
       "<table border=\"1\" class=\"dataframe\">\n",
       "  <thead>\n",
       "    <tr style=\"text-align: right;\">\n",
       "      <th></th>\n",
       "      <th>subject_id_x</th>\n",
       "      <th>test_score</th>\n",
       "      <th>subject_id_y</th>\n",
       "      <th>first_name</th>\n",
       "      <th>last_name</th>\n",
       "    </tr>\n",
       "  </thead>\n",
       "  <tbody>\n",
       "    <tr>\n",
       "      <th>0</th>\n",
       "      <td>1</td>\n",
       "      <td>51</td>\n",
       "      <td>4</td>\n",
       "      <td>Billy</td>\n",
       "      <td>Bonder</td>\n",
       "    </tr>\n",
       "    <tr>\n",
       "      <th>1</th>\n",
       "      <td>2</td>\n",
       "      <td>15</td>\n",
       "      <td>5</td>\n",
       "      <td>Brian</td>\n",
       "      <td>Black</td>\n",
       "    </tr>\n",
       "    <tr>\n",
       "      <th>2</th>\n",
       "      <td>3</td>\n",
       "      <td>15</td>\n",
       "      <td>6</td>\n",
       "      <td>Bran</td>\n",
       "      <td>Balwner</td>\n",
       "    </tr>\n",
       "    <tr>\n",
       "      <th>3</th>\n",
       "      <td>4</td>\n",
       "      <td>61</td>\n",
       "      <td>7</td>\n",
       "      <td>Bryce</td>\n",
       "      <td>Brice</td>\n",
       "    </tr>\n",
       "    <tr>\n",
       "      <th>4</th>\n",
       "      <td>5</td>\n",
       "      <td>16</td>\n",
       "      <td>8</td>\n",
       "      <td>Betty</td>\n",
       "      <td>Btisan</td>\n",
       "    </tr>\n",
       "  </tbody>\n",
       "</table>\n",
       "</div>"
      ],
      "text/plain": [
       "  subject_id_x  test_score subject_id_y first_name last_name\n",
       "0            1          51            4      Billy    Bonder\n",
       "1            2          15            5      Brian     Black\n",
       "2            3          15            6       Bran   Balwner\n",
       "3            4          61            7      Bryce     Brice\n",
       "4            5          16            8      Betty    Btisan"
      ]
     },
     "execution_count": 322,
     "metadata": {},
     "output_type": "execute_result"
    }
   ],
   "source": [
    "pd.merge(df_a, df_b, right_index=True, left_index=True)"
   ]
  },
  {
   "cell_type": "markdown",
   "metadata": {},
   "source": [
    "### concat"
   ]
  },
  {
   "cell_type": "code",
   "execution_count": 323,
   "metadata": {
    "ExecuteTime": {
     "end_time": "2021-03-24T07:57:59.669615Z",
     "start_time": "2021-03-24T07:57:59.638233Z"
    }
   },
   "outputs": [
    {
     "data": {
      "text/html": [
       "<div>\n",
       "<style scoped>\n",
       "    .dataframe tbody tr th:only-of-type {\n",
       "        vertical-align: middle;\n",
       "    }\n",
       "\n",
       "    .dataframe tbody tr th {\n",
       "        vertical-align: top;\n",
       "    }\n",
       "\n",
       "    .dataframe thead th {\n",
       "        text-align: right;\n",
       "    }\n",
       "</style>\n",
       "<table border=\"1\" class=\"dataframe\">\n",
       "  <thead>\n",
       "    <tr style=\"text-align: right;\">\n",
       "      <th></th>\n",
       "      <th>subject_id</th>\n",
       "      <th>first_name</th>\n",
       "      <th>last_name</th>\n",
       "    </tr>\n",
       "  </thead>\n",
       "  <tbody>\n",
       "    <tr>\n",
       "      <th>0</th>\n",
       "      <td>1</td>\n",
       "      <td>Alex</td>\n",
       "      <td>Anderson</td>\n",
       "    </tr>\n",
       "    <tr>\n",
       "      <th>1</th>\n",
       "      <td>2</td>\n",
       "      <td>Amy</td>\n",
       "      <td>Ackerman</td>\n",
       "    </tr>\n",
       "    <tr>\n",
       "      <th>2</th>\n",
       "      <td>3</td>\n",
       "      <td>Allen</td>\n",
       "      <td>Ali</td>\n",
       "    </tr>\n",
       "    <tr>\n",
       "      <th>3</th>\n",
       "      <td>4</td>\n",
       "      <td>Alice</td>\n",
       "      <td>Aoni</td>\n",
       "    </tr>\n",
       "    <tr>\n",
       "      <th>4</th>\n",
       "      <td>5</td>\n",
       "      <td>Ayoung</td>\n",
       "      <td>Atiches</td>\n",
       "    </tr>\n",
       "  </tbody>\n",
       "</table>\n",
       "</div>"
      ],
      "text/plain": [
       "  subject_id first_name last_name\n",
       "0          1       Alex  Anderson\n",
       "1          2        Amy  Ackerman\n",
       "2          3      Allen       Ali\n",
       "3          4      Alice      Aoni\n",
       "4          5     Ayoung   Atiches"
      ]
     },
     "execution_count": 323,
     "metadata": {},
     "output_type": "execute_result"
    }
   ],
   "source": [
    "raw_data = {\n",
    "        'subject_id': ['1', '2', '3', '4', '5'],\n",
    "        'first_name': ['Alex', 'Amy', 'Allen', 'Alice', 'Ayoung'], \n",
    "        'last_name': ['Anderson', 'Ackerman', 'Ali', 'Aoni', 'Atiches']}\n",
    "df_a = pd.DataFrame(raw_data, columns = ['subject_id', 'first_name', 'last_name'])\n",
    "df_a"
   ]
  },
  {
   "cell_type": "code",
   "execution_count": 324,
   "metadata": {
    "ExecuteTime": {
     "end_time": "2021-03-24T07:58:14.034013Z",
     "start_time": "2021-03-24T07:58:14.016362Z"
    }
   },
   "outputs": [
    {
     "data": {
      "text/html": [
       "<div>\n",
       "<style scoped>\n",
       "    .dataframe tbody tr th:only-of-type {\n",
       "        vertical-align: middle;\n",
       "    }\n",
       "\n",
       "    .dataframe tbody tr th {\n",
       "        vertical-align: top;\n",
       "    }\n",
       "\n",
       "    .dataframe thead th {\n",
       "        text-align: right;\n",
       "    }\n",
       "</style>\n",
       "<table border=\"1\" class=\"dataframe\">\n",
       "  <thead>\n",
       "    <tr style=\"text-align: right;\">\n",
       "      <th></th>\n",
       "      <th>subject_id</th>\n",
       "      <th>first_name</th>\n",
       "      <th>last_name</th>\n",
       "    </tr>\n",
       "  </thead>\n",
       "  <tbody>\n",
       "    <tr>\n",
       "      <th>0</th>\n",
       "      <td>4</td>\n",
       "      <td>Billy</td>\n",
       "      <td>Bonder</td>\n",
       "    </tr>\n",
       "    <tr>\n",
       "      <th>1</th>\n",
       "      <td>5</td>\n",
       "      <td>Brian</td>\n",
       "      <td>Black</td>\n",
       "    </tr>\n",
       "    <tr>\n",
       "      <th>2</th>\n",
       "      <td>6</td>\n",
       "      <td>Bran</td>\n",
       "      <td>Balwner</td>\n",
       "    </tr>\n",
       "    <tr>\n",
       "      <th>3</th>\n",
       "      <td>7</td>\n",
       "      <td>Bryce</td>\n",
       "      <td>Brice</td>\n",
       "    </tr>\n",
       "    <tr>\n",
       "      <th>4</th>\n",
       "      <td>8</td>\n",
       "      <td>Betty</td>\n",
       "      <td>Btisan</td>\n",
       "    </tr>\n",
       "  </tbody>\n",
       "</table>\n",
       "</div>"
      ],
      "text/plain": [
       "  subject_id first_name last_name\n",
       "0          4      Billy    Bonder\n",
       "1          5      Brian     Black\n",
       "2          6       Bran   Balwner\n",
       "3          7      Bryce     Brice\n",
       "4          8      Betty    Btisan"
      ]
     },
     "execution_count": 324,
     "metadata": {},
     "output_type": "execute_result"
    }
   ],
   "source": [
    "raw_data = {\n",
    "        'subject_id': ['4', '5', '6', '7', '8'],\n",
    "        'first_name': ['Billy', 'Brian', 'Bran', 'Bryce', 'Betty'], \n",
    "        'last_name': ['Bonder', 'Black', 'Balwner', 'Brice', 'Btisan']}\n",
    "df_b = pd.DataFrame(raw_data, columns = ['subject_id', 'first_name', 'last_name'])\n",
    "df_b"
   ]
  },
  {
   "cell_type": "code",
   "execution_count": 326,
   "metadata": {
    "ExecuteTime": {
     "end_time": "2021-03-24T07:58:22.139654Z",
     "start_time": "2021-03-24T07:58:22.117374Z"
    }
   },
   "outputs": [
    {
     "data": {
      "text/html": [
       "<div>\n",
       "<style scoped>\n",
       "    .dataframe tbody tr th:only-of-type {\n",
       "        vertical-align: middle;\n",
       "    }\n",
       "\n",
       "    .dataframe tbody tr th {\n",
       "        vertical-align: top;\n",
       "    }\n",
       "\n",
       "    .dataframe thead th {\n",
       "        text-align: right;\n",
       "    }\n",
       "</style>\n",
       "<table border=\"1\" class=\"dataframe\">\n",
       "  <thead>\n",
       "    <tr style=\"text-align: right;\">\n",
       "      <th></th>\n",
       "      <th>index</th>\n",
       "      <th>subject_id</th>\n",
       "      <th>first_name</th>\n",
       "      <th>last_name</th>\n",
       "    </tr>\n",
       "  </thead>\n",
       "  <tbody>\n",
       "    <tr>\n",
       "      <th>0</th>\n",
       "      <td>0</td>\n",
       "      <td>1</td>\n",
       "      <td>Alex</td>\n",
       "      <td>Anderson</td>\n",
       "    </tr>\n",
       "    <tr>\n",
       "      <th>1</th>\n",
       "      <td>1</td>\n",
       "      <td>2</td>\n",
       "      <td>Amy</td>\n",
       "      <td>Ackerman</td>\n",
       "    </tr>\n",
       "    <tr>\n",
       "      <th>2</th>\n",
       "      <td>2</td>\n",
       "      <td>3</td>\n",
       "      <td>Allen</td>\n",
       "      <td>Ali</td>\n",
       "    </tr>\n",
       "    <tr>\n",
       "      <th>3</th>\n",
       "      <td>3</td>\n",
       "      <td>4</td>\n",
       "      <td>Alice</td>\n",
       "      <td>Aoni</td>\n",
       "    </tr>\n",
       "    <tr>\n",
       "      <th>4</th>\n",
       "      <td>4</td>\n",
       "      <td>5</td>\n",
       "      <td>Ayoung</td>\n",
       "      <td>Atiches</td>\n",
       "    </tr>\n",
       "    <tr>\n",
       "      <th>5</th>\n",
       "      <td>0</td>\n",
       "      <td>4</td>\n",
       "      <td>Billy</td>\n",
       "      <td>Bonder</td>\n",
       "    </tr>\n",
       "    <tr>\n",
       "      <th>6</th>\n",
       "      <td>1</td>\n",
       "      <td>5</td>\n",
       "      <td>Brian</td>\n",
       "      <td>Black</td>\n",
       "    </tr>\n",
       "    <tr>\n",
       "      <th>7</th>\n",
       "      <td>2</td>\n",
       "      <td>6</td>\n",
       "      <td>Bran</td>\n",
       "      <td>Balwner</td>\n",
       "    </tr>\n",
       "    <tr>\n",
       "      <th>8</th>\n",
       "      <td>3</td>\n",
       "      <td>7</td>\n",
       "      <td>Bryce</td>\n",
       "      <td>Brice</td>\n",
       "    </tr>\n",
       "    <tr>\n",
       "      <th>9</th>\n",
       "      <td>4</td>\n",
       "      <td>8</td>\n",
       "      <td>Betty</td>\n",
       "      <td>Btisan</td>\n",
       "    </tr>\n",
       "  </tbody>\n",
       "</table>\n",
       "</div>"
      ],
      "text/plain": [
       "   index subject_id first_name last_name\n",
       "0      0          1       Alex  Anderson\n",
       "1      1          2        Amy  Ackerman\n",
       "2      2          3      Allen       Ali\n",
       "3      3          4      Alice      Aoni\n",
       "4      4          5     Ayoung   Atiches\n",
       "5      0          4      Billy    Bonder\n",
       "6      1          5      Brian     Black\n",
       "7      2          6       Bran   Balwner\n",
       "8      3          7      Bryce     Brice\n",
       "9      4          8      Betty    Btisan"
      ]
     },
     "execution_count": 326,
     "metadata": {},
     "output_type": "execute_result"
    }
   ],
   "source": [
    "df_new = pd.concat([df_a, df_b])\n",
    "df_new.reset_index()"
   ]
  },
  {
   "cell_type": "code",
   "execution_count": 327,
   "metadata": {
    "ExecuteTime": {
     "end_time": "2021-03-24T07:58:27.392854Z",
     "start_time": "2021-03-24T07:58:27.361357Z"
    }
   },
   "outputs": [
    {
     "data": {
      "text/html": [
       "<div>\n",
       "<style scoped>\n",
       "    .dataframe tbody tr th:only-of-type {\n",
       "        vertical-align: middle;\n",
       "    }\n",
       "\n",
       "    .dataframe tbody tr th {\n",
       "        vertical-align: top;\n",
       "    }\n",
       "\n",
       "    .dataframe thead th {\n",
       "        text-align: right;\n",
       "    }\n",
       "</style>\n",
       "<table border=\"1\" class=\"dataframe\">\n",
       "  <thead>\n",
       "    <tr style=\"text-align: right;\">\n",
       "      <th></th>\n",
       "      <th>subject_id</th>\n",
       "      <th>first_name</th>\n",
       "      <th>last_name</th>\n",
       "    </tr>\n",
       "  </thead>\n",
       "  <tbody>\n",
       "    <tr>\n",
       "      <th>0</th>\n",
       "      <td>1</td>\n",
       "      <td>Alex</td>\n",
       "      <td>Anderson</td>\n",
       "    </tr>\n",
       "    <tr>\n",
       "      <th>1</th>\n",
       "      <td>2</td>\n",
       "      <td>Amy</td>\n",
       "      <td>Ackerman</td>\n",
       "    </tr>\n",
       "    <tr>\n",
       "      <th>2</th>\n",
       "      <td>3</td>\n",
       "      <td>Allen</td>\n",
       "      <td>Ali</td>\n",
       "    </tr>\n",
       "    <tr>\n",
       "      <th>3</th>\n",
       "      <td>4</td>\n",
       "      <td>Alice</td>\n",
       "      <td>Aoni</td>\n",
       "    </tr>\n",
       "    <tr>\n",
       "      <th>4</th>\n",
       "      <td>5</td>\n",
       "      <td>Ayoung</td>\n",
       "      <td>Atiches</td>\n",
       "    </tr>\n",
       "    <tr>\n",
       "      <th>0</th>\n",
       "      <td>4</td>\n",
       "      <td>Billy</td>\n",
       "      <td>Bonder</td>\n",
       "    </tr>\n",
       "    <tr>\n",
       "      <th>1</th>\n",
       "      <td>5</td>\n",
       "      <td>Brian</td>\n",
       "      <td>Black</td>\n",
       "    </tr>\n",
       "    <tr>\n",
       "      <th>2</th>\n",
       "      <td>6</td>\n",
       "      <td>Bran</td>\n",
       "      <td>Balwner</td>\n",
       "    </tr>\n",
       "    <tr>\n",
       "      <th>3</th>\n",
       "      <td>7</td>\n",
       "      <td>Bryce</td>\n",
       "      <td>Brice</td>\n",
       "    </tr>\n",
       "    <tr>\n",
       "      <th>4</th>\n",
       "      <td>8</td>\n",
       "      <td>Betty</td>\n",
       "      <td>Btisan</td>\n",
       "    </tr>\n",
       "  </tbody>\n",
       "</table>\n",
       "</div>"
      ],
      "text/plain": [
       "  subject_id first_name last_name\n",
       "0          1       Alex  Anderson\n",
       "1          2        Amy  Ackerman\n",
       "2          3      Allen       Ali\n",
       "3          4      Alice      Aoni\n",
       "4          5     Ayoung   Atiches\n",
       "0          4      Billy    Bonder\n",
       "1          5      Brian     Black\n",
       "2          6       Bran   Balwner\n",
       "3          7      Bryce     Brice\n",
       "4          8      Betty    Btisan"
      ]
     },
     "execution_count": 327,
     "metadata": {},
     "output_type": "execute_result"
    }
   ],
   "source": [
    "df_a.append(df_b)"
   ]
  },
  {
   "cell_type": "code",
   "execution_count": 328,
   "metadata": {
    "ExecuteTime": {
     "end_time": "2021-03-24T07:58:35.149918Z",
     "start_time": "2021-03-24T07:58:35.124920Z"
    }
   },
   "outputs": [
    {
     "data": {
      "text/html": [
       "<div>\n",
       "<style scoped>\n",
       "    .dataframe tbody tr th:only-of-type {\n",
       "        vertical-align: middle;\n",
       "    }\n",
       "\n",
       "    .dataframe tbody tr th {\n",
       "        vertical-align: top;\n",
       "    }\n",
       "\n",
       "    .dataframe thead th {\n",
       "        text-align: right;\n",
       "    }\n",
       "</style>\n",
       "<table border=\"1\" class=\"dataframe\">\n",
       "  <thead>\n",
       "    <tr style=\"text-align: right;\">\n",
       "      <th></th>\n",
       "      <th>index</th>\n",
       "      <th>subject_id</th>\n",
       "      <th>first_name</th>\n",
       "      <th>last_name</th>\n",
       "      <th>subject_id</th>\n",
       "      <th>first_name</th>\n",
       "      <th>last_name</th>\n",
       "    </tr>\n",
       "  </thead>\n",
       "  <tbody>\n",
       "    <tr>\n",
       "      <th>0</th>\n",
       "      <td>0</td>\n",
       "      <td>1</td>\n",
       "      <td>Alex</td>\n",
       "      <td>Anderson</td>\n",
       "      <td>4</td>\n",
       "      <td>Billy</td>\n",
       "      <td>Bonder</td>\n",
       "    </tr>\n",
       "    <tr>\n",
       "      <th>1</th>\n",
       "      <td>1</td>\n",
       "      <td>2</td>\n",
       "      <td>Amy</td>\n",
       "      <td>Ackerman</td>\n",
       "      <td>5</td>\n",
       "      <td>Brian</td>\n",
       "      <td>Black</td>\n",
       "    </tr>\n",
       "    <tr>\n",
       "      <th>2</th>\n",
       "      <td>2</td>\n",
       "      <td>3</td>\n",
       "      <td>Allen</td>\n",
       "      <td>Ali</td>\n",
       "      <td>6</td>\n",
       "      <td>Bran</td>\n",
       "      <td>Balwner</td>\n",
       "    </tr>\n",
       "    <tr>\n",
       "      <th>3</th>\n",
       "      <td>3</td>\n",
       "      <td>4</td>\n",
       "      <td>Alice</td>\n",
       "      <td>Aoni</td>\n",
       "      <td>7</td>\n",
       "      <td>Bryce</td>\n",
       "      <td>Brice</td>\n",
       "    </tr>\n",
       "    <tr>\n",
       "      <th>4</th>\n",
       "      <td>4</td>\n",
       "      <td>5</td>\n",
       "      <td>Ayoung</td>\n",
       "      <td>Atiches</td>\n",
       "      <td>8</td>\n",
       "      <td>Betty</td>\n",
       "      <td>Btisan</td>\n",
       "    </tr>\n",
       "  </tbody>\n",
       "</table>\n",
       "</div>"
      ],
      "text/plain": [
       "   index subject_id first_name last_name subject_id first_name last_name\n",
       "0      0          1       Alex  Anderson          4      Billy    Bonder\n",
       "1      1          2        Amy  Ackerman          5      Brian     Black\n",
       "2      2          3      Allen       Ali          6       Bran   Balwner\n",
       "3      3          4      Alice      Aoni          7      Bryce     Brice\n",
       "4      4          5     Ayoung   Atiches          8      Betty    Btisan"
      ]
     },
     "execution_count": 328,
     "metadata": {},
     "output_type": "execute_result"
    }
   ],
   "source": [
    "df_new = pd.concat([df_a, df_b], axis=1)\n",
    "df_new.reset_index()"
   ]
  },
  {
   "cell_type": "markdown",
   "metadata": {},
   "source": [
    "### Data persistence"
   ]
  },
  {
   "cell_type": "code",
   "execution_count": 334,
   "metadata": {
    "ExecuteTime": {
     "end_time": "2021-03-24T08:15:04.210276Z",
     "start_time": "2021-03-24T08:15:04.193277Z"
    }
   },
   "outputs": [
    {
     "data": {
      "text/plain": [
       "[(0, '1', 'Private flight', '\\\\N', '-', None, None, None, 'Y'),\n",
       " (1, '2', '135 Airways', '\\\\N', None, 'GNL', 'GENERAL', 'United States', 'N'),\n",
       " (2, '3', '1Time Airline', '\\\\N', '1T', 'RNX', 'NEXTIME', 'South Africa', 'Y'),\n",
       " (3,\n",
       "  '4',\n",
       "  '2 Sqn No 1 Elementary Flying Training School',\n",
       "  '\\\\N',\n",
       "  None,\n",
       "  'WYT',\n",
       "  None,\n",
       "  'United Kingdom',\n",
       "  'N'),\n",
       " (4, '5', '213 Flight Unit', '\\\\N', None, 'TFU', None, 'Russia', 'N')]"
      ]
     },
     "execution_count": 334,
     "metadata": {},
     "output_type": "execute_result"
    }
   ],
   "source": [
    "import sqlite3\n",
    "\n",
    "conn = sqlite3.connect(\"/data/flights.db\")\n",
    "cur = conn.cursor()\n",
    "cur.execute(\"select * from airlines limit 5;\")\n",
    "results = cur.fetchall()\n",
    "results"
   ]
  },
  {
   "cell_type": "code",
   "execution_count": 335,
   "metadata": {
    "ExecuteTime": {
     "end_time": "2021-03-24T08:15:14.220131Z",
     "start_time": "2021-03-24T08:15:13.916347Z"
    }
   },
   "outputs": [
    {
     "data": {
      "text/html": [
       "<div>\n",
       "<style scoped>\n",
       "    .dataframe tbody tr th:only-of-type {\n",
       "        vertical-align: middle;\n",
       "    }\n",
       "\n",
       "    .dataframe tbody tr th {\n",
       "        vertical-align: top;\n",
       "    }\n",
       "\n",
       "    .dataframe thead th {\n",
       "        text-align: right;\n",
       "    }\n",
       "</style>\n",
       "<table border=\"1\" class=\"dataframe\">\n",
       "  <thead>\n",
       "    <tr style=\"text-align: right;\">\n",
       "      <th></th>\n",
       "      <th>index</th>\n",
       "      <th>id</th>\n",
       "      <th>name</th>\n",
       "      <th>alias</th>\n",
       "      <th>iata</th>\n",
       "      <th>icao</th>\n",
       "      <th>callsign</th>\n",
       "      <th>country</th>\n",
       "      <th>active</th>\n",
       "    </tr>\n",
       "  </thead>\n",
       "  <tbody>\n",
       "    <tr>\n",
       "      <th>0</th>\n",
       "      <td>0</td>\n",
       "      <td>1</td>\n",
       "      <td>Private flight</td>\n",
       "      <td>\\N</td>\n",
       "      <td>-</td>\n",
       "      <td>None</td>\n",
       "      <td>None</td>\n",
       "      <td>None</td>\n",
       "      <td>Y</td>\n",
       "    </tr>\n",
       "    <tr>\n",
       "      <th>1</th>\n",
       "      <td>1</td>\n",
       "      <td>2</td>\n",
       "      <td>135 Airways</td>\n",
       "      <td>\\N</td>\n",
       "      <td>None</td>\n",
       "      <td>GNL</td>\n",
       "      <td>GENERAL</td>\n",
       "      <td>United States</td>\n",
       "      <td>N</td>\n",
       "    </tr>\n",
       "    <tr>\n",
       "      <th>2</th>\n",
       "      <td>2</td>\n",
       "      <td>3</td>\n",
       "      <td>1Time Airline</td>\n",
       "      <td>\\N</td>\n",
       "      <td>1T</td>\n",
       "      <td>RNX</td>\n",
       "      <td>NEXTIME</td>\n",
       "      <td>South Africa</td>\n",
       "      <td>Y</td>\n",
       "    </tr>\n",
       "    <tr>\n",
       "      <th>3</th>\n",
       "      <td>3</td>\n",
       "      <td>4</td>\n",
       "      <td>2 Sqn No 1 Elementary Flying Training School</td>\n",
       "      <td>\\N</td>\n",
       "      <td>None</td>\n",
       "      <td>WYT</td>\n",
       "      <td>None</td>\n",
       "      <td>United Kingdom</td>\n",
       "      <td>N</td>\n",
       "    </tr>\n",
       "    <tr>\n",
       "      <th>4</th>\n",
       "      <td>4</td>\n",
       "      <td>5</td>\n",
       "      <td>213 Flight Unit</td>\n",
       "      <td>\\N</td>\n",
       "      <td>None</td>\n",
       "      <td>TFU</td>\n",
       "      <td>None</td>\n",
       "      <td>Russia</td>\n",
       "      <td>N</td>\n",
       "    </tr>\n",
       "    <tr>\n",
       "      <th>...</th>\n",
       "      <td>...</td>\n",
       "      <td>...</td>\n",
       "      <td>...</td>\n",
       "      <td>...</td>\n",
       "      <td>...</td>\n",
       "      <td>...</td>\n",
       "      <td>...</td>\n",
       "      <td>...</td>\n",
       "      <td>...</td>\n",
       "    </tr>\n",
       "    <tr>\n",
       "      <th>6043</th>\n",
       "      <td>6043</td>\n",
       "      <td>19828</td>\n",
       "      <td>Vuela Cuba</td>\n",
       "      <td>Vuela Cuba</td>\n",
       "      <td>6C</td>\n",
       "      <td>6CC</td>\n",
       "      <td>None</td>\n",
       "      <td>Cuba</td>\n",
       "      <td>Y</td>\n",
       "    </tr>\n",
       "    <tr>\n",
       "      <th>6044</th>\n",
       "      <td>6044</td>\n",
       "      <td>19830</td>\n",
       "      <td>All Australia</td>\n",
       "      <td>All Australia</td>\n",
       "      <td>88</td>\n",
       "      <td>8K8</td>\n",
       "      <td>None</td>\n",
       "      <td>Australia</td>\n",
       "      <td>Y</td>\n",
       "    </tr>\n",
       "    <tr>\n",
       "      <th>6045</th>\n",
       "      <td>6045</td>\n",
       "      <td>19831</td>\n",
       "      <td>Fly Europa</td>\n",
       "      <td>None</td>\n",
       "      <td>ER</td>\n",
       "      <td>RWW</td>\n",
       "      <td>None</td>\n",
       "      <td>Spain</td>\n",
       "      <td>Y</td>\n",
       "    </tr>\n",
       "    <tr>\n",
       "      <th>6046</th>\n",
       "      <td>6046</td>\n",
       "      <td>19834</td>\n",
       "      <td>FlyPortugal</td>\n",
       "      <td>None</td>\n",
       "      <td>PO</td>\n",
       "      <td>FPT</td>\n",
       "      <td>FlyPortugal</td>\n",
       "      <td>Portugal</td>\n",
       "      <td>Y</td>\n",
       "    </tr>\n",
       "    <tr>\n",
       "      <th>6047</th>\n",
       "      <td>6047</td>\n",
       "      <td>19845</td>\n",
       "      <td>FTI Fluggesellschaft</td>\n",
       "      <td>None</td>\n",
       "      <td>None</td>\n",
       "      <td>FTI</td>\n",
       "      <td>None</td>\n",
       "      <td>Germany</td>\n",
       "      <td>N</td>\n",
       "    </tr>\n",
       "  </tbody>\n",
       "</table>\n",
       "<p>6048 rows × 9 columns</p>\n",
       "</div>"
      ],
      "text/plain": [
       "      index     id                                          name  \\\n",
       "0         0      1                                Private flight   \n",
       "1         1      2                                   135 Airways   \n",
       "2         2      3                                 1Time Airline   \n",
       "3         3      4  2 Sqn No 1 Elementary Flying Training School   \n",
       "4         4      5                               213 Flight Unit   \n",
       "...     ...    ...                                           ...   \n",
       "6043   6043  19828                                    Vuela Cuba   \n",
       "6044   6044  19830                                 All Australia   \n",
       "6045   6045  19831                                    Fly Europa   \n",
       "6046   6046  19834                                   FlyPortugal   \n",
       "6047   6047  19845                          FTI Fluggesellschaft   \n",
       "\n",
       "              alias  iata  icao     callsign         country active  \n",
       "0                \\N     -  None         None            None      Y  \n",
       "1                \\N  None   GNL      GENERAL   United States      N  \n",
       "2                \\N    1T   RNX      NEXTIME    South Africa      Y  \n",
       "3                \\N  None   WYT         None  United Kingdom      N  \n",
       "4                \\N  None   TFU         None          Russia      N  \n",
       "...             ...   ...   ...          ...             ...    ...  \n",
       "6043     Vuela Cuba    6C   6CC         None            Cuba      Y  \n",
       "6044  All Australia    88   8K8         None       Australia      Y  \n",
       "6045           None    ER   RWW         None           Spain      Y  \n",
       "6046           None    PO   FPT  FlyPortugal        Portugal      Y  \n",
       "6047           None  None   FTI         None         Germany      N  \n",
       "\n",
       "[6048 rows x 9 columns]"
      ]
     },
     "execution_count": 335,
     "metadata": {},
     "output_type": "execute_result"
    }
   ],
   "source": [
    "df_airplines = pd.read_sql_query(\"select * from airlines;\", conn)\n",
    "df_airplines"
   ]
  },
  {
   "cell_type": "code",
   "execution_count": 336,
   "metadata": {
    "ExecuteTime": {
     "end_time": "2021-03-24T08:15:21.673810Z",
     "start_time": "2021-03-24T08:15:21.204898Z"
    }
   },
   "outputs": [],
   "source": [
    "df_airports = pd.read_sql_query(\"select * from airports;\", conn)\n",
    "df_routes = pd.read_sql_query(\"select * from routes;\", conn)"
   ]
  },
  {
   "cell_type": "code",
   "execution_count": 337,
   "metadata": {
    "ExecuteTime": {
     "end_time": "2021-03-24T08:15:27.722031Z",
     "start_time": "2021-03-24T08:15:27.689786Z"
    }
   },
   "outputs": [
    {
     "data": {
      "text/html": [
       "<div>\n",
       "<style scoped>\n",
       "    .dataframe tbody tr th:only-of-type {\n",
       "        vertical-align: middle;\n",
       "    }\n",
       "\n",
       "    .dataframe tbody tr th {\n",
       "        vertical-align: top;\n",
       "    }\n",
       "\n",
       "    .dataframe thead th {\n",
       "        text-align: right;\n",
       "    }\n",
       "</style>\n",
       "<table border=\"1\" class=\"dataframe\">\n",
       "  <thead>\n",
       "    <tr style=\"text-align: right;\">\n",
       "      <th></th>\n",
       "      <th>index</th>\n",
       "      <th>id</th>\n",
       "      <th>name</th>\n",
       "      <th>alias</th>\n",
       "      <th>iata</th>\n",
       "      <th>icao</th>\n",
       "      <th>callsign</th>\n",
       "      <th>country</th>\n",
       "      <th>active</th>\n",
       "    </tr>\n",
       "  </thead>\n",
       "  <tbody>\n",
       "    <tr>\n",
       "      <th>0</th>\n",
       "      <td>0</td>\n",
       "      <td>1</td>\n",
       "      <td>Private flight</td>\n",
       "      <td>\\N</td>\n",
       "      <td>-</td>\n",
       "      <td>None</td>\n",
       "      <td>None</td>\n",
       "      <td>None</td>\n",
       "      <td>Y</td>\n",
       "    </tr>\n",
       "    <tr>\n",
       "      <th>1</th>\n",
       "      <td>1</td>\n",
       "      <td>2</td>\n",
       "      <td>135 Airways</td>\n",
       "      <td>\\N</td>\n",
       "      <td>None</td>\n",
       "      <td>GNL</td>\n",
       "      <td>GENERAL</td>\n",
       "      <td>United States</td>\n",
       "      <td>N</td>\n",
       "    </tr>\n",
       "    <tr>\n",
       "      <th>2</th>\n",
       "      <td>2</td>\n",
       "      <td>3</td>\n",
       "      <td>1Time Airline</td>\n",
       "      <td>\\N</td>\n",
       "      <td>1T</td>\n",
       "      <td>RNX</td>\n",
       "      <td>NEXTIME</td>\n",
       "      <td>South Africa</td>\n",
       "      <td>Y</td>\n",
       "    </tr>\n",
       "    <tr>\n",
       "      <th>3</th>\n",
       "      <td>3</td>\n",
       "      <td>4</td>\n",
       "      <td>2 Sqn No 1 Elementary Flying Training School</td>\n",
       "      <td>\\N</td>\n",
       "      <td>None</td>\n",
       "      <td>WYT</td>\n",
       "      <td>None</td>\n",
       "      <td>United Kingdom</td>\n",
       "      <td>N</td>\n",
       "    </tr>\n",
       "    <tr>\n",
       "      <th>4</th>\n",
       "      <td>4</td>\n",
       "      <td>5</td>\n",
       "      <td>213 Flight Unit</td>\n",
       "      <td>\\N</td>\n",
       "      <td>None</td>\n",
       "      <td>TFU</td>\n",
       "      <td>None</td>\n",
       "      <td>Russia</td>\n",
       "      <td>N</td>\n",
       "    </tr>\n",
       "  </tbody>\n",
       "</table>\n",
       "</div>"
      ],
      "text/plain": [
       "   index id                                          name alias  iata  icao  \\\n",
       "0      0  1                                Private flight    \\N     -  None   \n",
       "1      1  2                                   135 Airways    \\N  None   GNL   \n",
       "2      2  3                                 1Time Airline    \\N    1T   RNX   \n",
       "3      3  4  2 Sqn No 1 Elementary Flying Training School    \\N  None   WYT   \n",
       "4      4  5                               213 Flight Unit    \\N  None   TFU   \n",
       "\n",
       "  callsign         country active  \n",
       "0     None            None      Y  \n",
       "1  GENERAL   United States      N  \n",
       "2  NEXTIME    South Africa      Y  \n",
       "3     None  United Kingdom      N  \n",
       "4     None          Russia      N  "
      ]
     },
     "execution_count": 337,
     "metadata": {},
     "output_type": "execute_result"
    }
   ],
   "source": [
    "df_airplines.head()"
   ]
  },
  {
   "cell_type": "code",
   "execution_count": 338,
   "metadata": {
    "ExecuteTime": {
     "end_time": "2021-03-24T08:15:36.318185Z",
     "start_time": "2021-03-24T08:15:36.292986Z"
    }
   },
   "outputs": [
    {
     "data": {
      "text/html": [
       "<div>\n",
       "<style scoped>\n",
       "    .dataframe tbody tr th:only-of-type {\n",
       "        vertical-align: middle;\n",
       "    }\n",
       "\n",
       "    .dataframe tbody tr th {\n",
       "        vertical-align: top;\n",
       "    }\n",
       "\n",
       "    .dataframe thead th {\n",
       "        text-align: right;\n",
       "    }\n",
       "</style>\n",
       "<table border=\"1\" class=\"dataframe\">\n",
       "  <thead>\n",
       "    <tr style=\"text-align: right;\">\n",
       "      <th></th>\n",
       "      <th>index</th>\n",
       "      <th>id</th>\n",
       "      <th>name</th>\n",
       "      <th>city</th>\n",
       "      <th>country</th>\n",
       "      <th>code</th>\n",
       "      <th>icao</th>\n",
       "      <th>latitude</th>\n",
       "      <th>longitude</th>\n",
       "      <th>altitude</th>\n",
       "      <th>offset</th>\n",
       "      <th>dst</th>\n",
       "      <th>timezone</th>\n",
       "    </tr>\n",
       "  </thead>\n",
       "  <tbody>\n",
       "    <tr>\n",
       "      <th>0</th>\n",
       "      <td>0</td>\n",
       "      <td>1</td>\n",
       "      <td>Goroka</td>\n",
       "      <td>Goroka</td>\n",
       "      <td>Papua New Guinea</td>\n",
       "      <td>GKA</td>\n",
       "      <td>AYGA</td>\n",
       "      <td>-6.081689</td>\n",
       "      <td>145.391881</td>\n",
       "      <td>5282</td>\n",
       "      <td>10</td>\n",
       "      <td>U</td>\n",
       "      <td>Pacific/Port_Moresby</td>\n",
       "    </tr>\n",
       "    <tr>\n",
       "      <th>1</th>\n",
       "      <td>1</td>\n",
       "      <td>2</td>\n",
       "      <td>Madang</td>\n",
       "      <td>Madang</td>\n",
       "      <td>Papua New Guinea</td>\n",
       "      <td>MAG</td>\n",
       "      <td>AYMD</td>\n",
       "      <td>-5.207083</td>\n",
       "      <td>145.7887</td>\n",
       "      <td>20</td>\n",
       "      <td>10</td>\n",
       "      <td>U</td>\n",
       "      <td>Pacific/Port_Moresby</td>\n",
       "    </tr>\n",
       "    <tr>\n",
       "      <th>2</th>\n",
       "      <td>2</td>\n",
       "      <td>3</td>\n",
       "      <td>Mount Hagen</td>\n",
       "      <td>Mount Hagen</td>\n",
       "      <td>Papua New Guinea</td>\n",
       "      <td>HGU</td>\n",
       "      <td>AYMH</td>\n",
       "      <td>-5.826789</td>\n",
       "      <td>144.295861</td>\n",
       "      <td>5388</td>\n",
       "      <td>10</td>\n",
       "      <td>U</td>\n",
       "      <td>Pacific/Port_Moresby</td>\n",
       "    </tr>\n",
       "    <tr>\n",
       "      <th>3</th>\n",
       "      <td>3</td>\n",
       "      <td>4</td>\n",
       "      <td>Nadzab</td>\n",
       "      <td>Nadzab</td>\n",
       "      <td>Papua New Guinea</td>\n",
       "      <td>LAE</td>\n",
       "      <td>AYNZ</td>\n",
       "      <td>-6.569828</td>\n",
       "      <td>146.726242</td>\n",
       "      <td>239</td>\n",
       "      <td>10</td>\n",
       "      <td>U</td>\n",
       "      <td>Pacific/Port_Moresby</td>\n",
       "    </tr>\n",
       "    <tr>\n",
       "      <th>4</th>\n",
       "      <td>4</td>\n",
       "      <td>5</td>\n",
       "      <td>Port Moresby Jacksons Intl</td>\n",
       "      <td>Port Moresby</td>\n",
       "      <td>Papua New Guinea</td>\n",
       "      <td>POM</td>\n",
       "      <td>AYPY</td>\n",
       "      <td>-9.443383</td>\n",
       "      <td>147.22005</td>\n",
       "      <td>146</td>\n",
       "      <td>10</td>\n",
       "      <td>U</td>\n",
       "      <td>Pacific/Port_Moresby</td>\n",
       "    </tr>\n",
       "  </tbody>\n",
       "</table>\n",
       "</div>"
      ],
      "text/plain": [
       "   index id                        name          city           country code  \\\n",
       "0      0  1                      Goroka        Goroka  Papua New Guinea  GKA   \n",
       "1      1  2                      Madang        Madang  Papua New Guinea  MAG   \n",
       "2      2  3                 Mount Hagen   Mount Hagen  Papua New Guinea  HGU   \n",
       "3      3  4                      Nadzab        Nadzab  Papua New Guinea  LAE   \n",
       "4      4  5  Port Moresby Jacksons Intl  Port Moresby  Papua New Guinea  POM   \n",
       "\n",
       "   icao   latitude   longitude altitude offset dst              timezone  \n",
       "0  AYGA  -6.081689  145.391881     5282     10   U  Pacific/Port_Moresby  \n",
       "1  AYMD  -5.207083    145.7887       20     10   U  Pacific/Port_Moresby  \n",
       "2  AYMH  -5.826789  144.295861     5388     10   U  Pacific/Port_Moresby  \n",
       "3  AYNZ  -6.569828  146.726242      239     10   U  Pacific/Port_Moresby  \n",
       "4  AYPY  -9.443383   147.22005      146     10   U  Pacific/Port_Moresby  "
      ]
     },
     "execution_count": 338,
     "metadata": {},
     "output_type": "execute_result"
    }
   ],
   "source": [
    "df_airports.head()"
   ]
  },
  {
   "cell_type": "code",
   "execution_count": 339,
   "metadata": {
    "ExecuteTime": {
     "end_time": "2021-03-24T08:15:41.059241Z",
     "start_time": "2021-03-24T08:15:41.041008Z"
    }
   },
   "outputs": [
    {
     "data": {
      "text/html": [
       "<div>\n",
       "<style scoped>\n",
       "    .dataframe tbody tr th:only-of-type {\n",
       "        vertical-align: middle;\n",
       "    }\n",
       "\n",
       "    .dataframe tbody tr th {\n",
       "        vertical-align: top;\n",
       "    }\n",
       "\n",
       "    .dataframe thead th {\n",
       "        text-align: right;\n",
       "    }\n",
       "</style>\n",
       "<table border=\"1\" class=\"dataframe\">\n",
       "  <thead>\n",
       "    <tr style=\"text-align: right;\">\n",
       "      <th></th>\n",
       "      <th>index</th>\n",
       "      <th>airline</th>\n",
       "      <th>airline_id</th>\n",
       "      <th>source</th>\n",
       "      <th>source_id</th>\n",
       "      <th>dest</th>\n",
       "      <th>dest_id</th>\n",
       "      <th>codeshare</th>\n",
       "      <th>stops</th>\n",
       "      <th>equipment</th>\n",
       "    </tr>\n",
       "  </thead>\n",
       "  <tbody>\n",
       "    <tr>\n",
       "      <th>0</th>\n",
       "      <td>0</td>\n",
       "      <td>2B</td>\n",
       "      <td>410</td>\n",
       "      <td>AER</td>\n",
       "      <td>2965</td>\n",
       "      <td>KZN</td>\n",
       "      <td>2990</td>\n",
       "      <td>None</td>\n",
       "      <td>0</td>\n",
       "      <td>CR2</td>\n",
       "    </tr>\n",
       "    <tr>\n",
       "      <th>1</th>\n",
       "      <td>1</td>\n",
       "      <td>2B</td>\n",
       "      <td>410</td>\n",
       "      <td>ASF</td>\n",
       "      <td>2966</td>\n",
       "      <td>KZN</td>\n",
       "      <td>2990</td>\n",
       "      <td>None</td>\n",
       "      <td>0</td>\n",
       "      <td>CR2</td>\n",
       "    </tr>\n",
       "    <tr>\n",
       "      <th>2</th>\n",
       "      <td>2</td>\n",
       "      <td>2B</td>\n",
       "      <td>410</td>\n",
       "      <td>ASF</td>\n",
       "      <td>2966</td>\n",
       "      <td>MRV</td>\n",
       "      <td>2962</td>\n",
       "      <td>None</td>\n",
       "      <td>0</td>\n",
       "      <td>CR2</td>\n",
       "    </tr>\n",
       "    <tr>\n",
       "      <th>3</th>\n",
       "      <td>3</td>\n",
       "      <td>2B</td>\n",
       "      <td>410</td>\n",
       "      <td>CEK</td>\n",
       "      <td>2968</td>\n",
       "      <td>KZN</td>\n",
       "      <td>2990</td>\n",
       "      <td>None</td>\n",
       "      <td>0</td>\n",
       "      <td>CR2</td>\n",
       "    </tr>\n",
       "    <tr>\n",
       "      <th>4</th>\n",
       "      <td>4</td>\n",
       "      <td>2B</td>\n",
       "      <td>410</td>\n",
       "      <td>CEK</td>\n",
       "      <td>2968</td>\n",
       "      <td>OVB</td>\n",
       "      <td>4078</td>\n",
       "      <td>None</td>\n",
       "      <td>0</td>\n",
       "      <td>CR2</td>\n",
       "    </tr>\n",
       "  </tbody>\n",
       "</table>\n",
       "</div>"
      ],
      "text/plain": [
       "   index airline airline_id source source_id dest dest_id codeshare stops  \\\n",
       "0      0      2B        410    AER      2965  KZN    2990      None     0   \n",
       "1      1      2B        410    ASF      2966  KZN    2990      None     0   \n",
       "2      2      2B        410    ASF      2966  MRV    2962      None     0   \n",
       "3      3      2B        410    CEK      2968  KZN    2990      None     0   \n",
       "4      4      2B        410    CEK      2968  OVB    4078      None     0   \n",
       "\n",
       "  equipment  \n",
       "0       CR2  \n",
       "1       CR2  \n",
       "2       CR2  \n",
       "3       CR2  \n",
       "4       CR2  "
      ]
     },
     "execution_count": 339,
     "metadata": {},
     "output_type": "execute_result"
    }
   ],
   "source": [
    "df_routes.head()"
   ]
  },
  {
   "cell_type": "code",
   "execution_count": 340,
   "metadata": {
    "ExecuteTime": {
     "end_time": "2021-03-24T08:16:00.629108Z",
     "start_time": "2021-03-24T08:15:52.365176Z"
    }
   },
   "outputs": [],
   "source": [
    "writer = pd.ExcelWriter('./data/df_routes.xlsx', engine='xlsxwriter')\n",
    "df_routes.to_excel(writer, sheet_name='Sheet1')"
   ]
  },
  {
   "cell_type": "code",
   "execution_count": 342,
   "metadata": {
    "ExecuteTime": {
     "end_time": "2021-03-24T08:16:11.062130Z",
     "start_time": "2021-03-24T08:16:10.852077Z"
    }
   },
   "outputs": [],
   "source": [
    "df_routes.to_pickle(\"/data/df_routes.pickle\")"
   ]
  },
  {
   "cell_type": "code",
   "execution_count": 344,
   "metadata": {
    "ExecuteTime": {
     "end_time": "2021-03-24T08:16:18.715006Z",
     "start_time": "2021-03-24T08:16:18.596231Z"
    }
   },
   "outputs": [
    {
     "data": {
      "text/html": [
       "<div>\n",
       "<style scoped>\n",
       "    .dataframe tbody tr th:only-of-type {\n",
       "        vertical-align: middle;\n",
       "    }\n",
       "\n",
       "    .dataframe tbody tr th {\n",
       "        vertical-align: top;\n",
       "    }\n",
       "\n",
       "    .dataframe thead th {\n",
       "        text-align: right;\n",
       "    }\n",
       "</style>\n",
       "<table border=\"1\" class=\"dataframe\">\n",
       "  <thead>\n",
       "    <tr style=\"text-align: right;\">\n",
       "      <th></th>\n",
       "      <th>index</th>\n",
       "      <th>airline</th>\n",
       "      <th>airline_id</th>\n",
       "      <th>source</th>\n",
       "      <th>source_id</th>\n",
       "      <th>dest</th>\n",
       "      <th>dest_id</th>\n",
       "      <th>codeshare</th>\n",
       "      <th>stops</th>\n",
       "      <th>equipment</th>\n",
       "    </tr>\n",
       "  </thead>\n",
       "  <tbody>\n",
       "    <tr>\n",
       "      <th>0</th>\n",
       "      <td>0</td>\n",
       "      <td>2B</td>\n",
       "      <td>410</td>\n",
       "      <td>AER</td>\n",
       "      <td>2965</td>\n",
       "      <td>KZN</td>\n",
       "      <td>2990</td>\n",
       "      <td>None</td>\n",
       "      <td>0</td>\n",
       "      <td>CR2</td>\n",
       "    </tr>\n",
       "    <tr>\n",
       "      <th>1</th>\n",
       "      <td>1</td>\n",
       "      <td>2B</td>\n",
       "      <td>410</td>\n",
       "      <td>ASF</td>\n",
       "      <td>2966</td>\n",
       "      <td>KZN</td>\n",
       "      <td>2990</td>\n",
       "      <td>None</td>\n",
       "      <td>0</td>\n",
       "      <td>CR2</td>\n",
       "    </tr>\n",
       "    <tr>\n",
       "      <th>2</th>\n",
       "      <td>2</td>\n",
       "      <td>2B</td>\n",
       "      <td>410</td>\n",
       "      <td>ASF</td>\n",
       "      <td>2966</td>\n",
       "      <td>MRV</td>\n",
       "      <td>2962</td>\n",
       "      <td>None</td>\n",
       "      <td>0</td>\n",
       "      <td>CR2</td>\n",
       "    </tr>\n",
       "    <tr>\n",
       "      <th>3</th>\n",
       "      <td>3</td>\n",
       "      <td>2B</td>\n",
       "      <td>410</td>\n",
       "      <td>CEK</td>\n",
       "      <td>2968</td>\n",
       "      <td>KZN</td>\n",
       "      <td>2990</td>\n",
       "      <td>None</td>\n",
       "      <td>0</td>\n",
       "      <td>CR2</td>\n",
       "    </tr>\n",
       "    <tr>\n",
       "      <th>4</th>\n",
       "      <td>4</td>\n",
       "      <td>2B</td>\n",
       "      <td>410</td>\n",
       "      <td>CEK</td>\n",
       "      <td>2968</td>\n",
       "      <td>OVB</td>\n",
       "      <td>4078</td>\n",
       "      <td>None</td>\n",
       "      <td>0</td>\n",
       "      <td>CR2</td>\n",
       "    </tr>\n",
       "  </tbody>\n",
       "</table>\n",
       "</div>"
      ],
      "text/plain": [
       "   index airline airline_id source source_id dest dest_id codeshare stops  \\\n",
       "0      0      2B        410    AER      2965  KZN    2990      None     0   \n",
       "1      1      2B        410    ASF      2966  KZN    2990      None     0   \n",
       "2      2      2B        410    ASF      2966  MRV    2962      None     0   \n",
       "3      3      2B        410    CEK      2968  KZN    2990      None     0   \n",
       "4      4      2B        410    CEK      2968  OVB    4078      None     0   \n",
       "\n",
       "  equipment  \n",
       "0       CR2  \n",
       "1       CR2  \n",
       "2       CR2  \n",
       "3       CR2  \n",
       "4       CR2  "
      ]
     },
     "execution_count": 344,
     "metadata": {},
     "output_type": "execute_result"
    }
   ],
   "source": [
    "df_routes_pickle = pd.read_pickle(\"/data/df_routes.pickle\")\n",
    "df_routes_pickle.head()"
   ]
  },
  {
   "cell_type": "code",
   "execution_count": 345,
   "metadata": {
    "ExecuteTime": {
     "end_time": "2021-03-24T08:16:23.616079Z",
     "start_time": "2021-03-24T08:16:23.590660Z"
    }
   },
   "outputs": [
    {
     "data": {
      "text/html": [
       "<div>\n",
       "<style scoped>\n",
       "    .dataframe tbody tr th:only-of-type {\n",
       "        vertical-align: middle;\n",
       "    }\n",
       "\n",
       "    .dataframe tbody tr th {\n",
       "        vertical-align: top;\n",
       "    }\n",
       "\n",
       "    .dataframe thead th {\n",
       "        text-align: right;\n",
       "    }\n",
       "</style>\n",
       "<table border=\"1\" class=\"dataframe\">\n",
       "  <thead>\n",
       "    <tr style=\"text-align: right;\">\n",
       "      <th></th>\n",
       "      <th>index</th>\n",
       "    </tr>\n",
       "  </thead>\n",
       "  <tbody>\n",
       "    <tr>\n",
       "      <th>count</th>\n",
       "      <td>67663.000000</td>\n",
       "    </tr>\n",
       "    <tr>\n",
       "      <th>mean</th>\n",
       "      <td>33831.000000</td>\n",
       "    </tr>\n",
       "    <tr>\n",
       "      <th>std</th>\n",
       "      <td>19532.769969</td>\n",
       "    </tr>\n",
       "    <tr>\n",
       "      <th>min</th>\n",
       "      <td>0.000000</td>\n",
       "    </tr>\n",
       "    <tr>\n",
       "      <th>25%</th>\n",
       "      <td>16915.500000</td>\n",
       "    </tr>\n",
       "    <tr>\n",
       "      <th>50%</th>\n",
       "      <td>33831.000000</td>\n",
       "    </tr>\n",
       "    <tr>\n",
       "      <th>75%</th>\n",
       "      <td>50746.500000</td>\n",
       "    </tr>\n",
       "    <tr>\n",
       "      <th>max</th>\n",
       "      <td>67662.000000</td>\n",
       "    </tr>\n",
       "  </tbody>\n",
       "</table>\n",
       "</div>"
      ],
      "text/plain": [
       "              index\n",
       "count  67663.000000\n",
       "mean   33831.000000\n",
       "std    19532.769969\n",
       "min        0.000000\n",
       "25%    16915.500000\n",
       "50%    33831.000000\n",
       "75%    50746.500000\n",
       "max    67662.000000"
      ]
     },
     "execution_count": 345,
     "metadata": {},
     "output_type": "execute_result"
    }
   ],
   "source": [
    "df_routes_pickle.describe()"
   ]
  },
  {
   "cell_type": "code",
   "execution_count": null,
   "metadata": {},
   "outputs": [],
   "source": []
  }
 ],
 "metadata": {
  "kernelspec": {
   "display_name": "Python 3",
   "language": "python",
   "name": "python3"
  },
  "language_info": {
   "codemirror_mode": {
    "name": "ipython",
    "version": 3
   },
   "file_extension": ".py",
   "mimetype": "text/x-python",
   "name": "python",
   "nbconvert_exporter": "python",
   "pygments_lexer": "ipython3",
   "version": "3.8.5"
  },
  "toc": {
   "base_numbering": 1,
   "nav_menu": {},
   "number_sections": true,
   "sideBar": true,
   "skip_h1_title": false,
   "title_cell": "Table of Contents",
   "title_sidebar": "Contents",
   "toc_cell": false,
   "toc_position": {},
   "toc_section_display": true,
   "toc_window_display": true
  }
 },
 "nbformat": 4,
 "nbformat_minor": 4
}
