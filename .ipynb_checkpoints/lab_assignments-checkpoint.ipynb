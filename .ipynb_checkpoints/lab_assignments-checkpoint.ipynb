{
 "cells": [
  {
   "cell_type": "code",
   "execution_count": 1,
   "metadata": {
    "ExecuteTime": {
     "end_time": "2021-03-25T09:24:10.892108Z",
     "start_time": "2021-03-25T09:24:08.367281Z"
    }
   },
   "outputs": [],
   "source": [
    "import numpy as np"
   ]
  },
  {
   "cell_type": "markdown",
   "metadata": {},
   "source": [
    "### n X n matrix"
   ]
  },
  {
   "cell_type": "code",
   "execution_count": 36,
   "metadata": {
    "ExecuteTime": {
     "end_time": "2021-03-25T10:04:27.487467Z",
     "start_time": "2021-03-25T10:04:27.471331Z"
    }
   },
   "outputs": [],
   "source": [
    "def n_size_ndarray_creation(n, dtype=np.int):\n",
    "    return np.arange(n**2).reshape(n,n)"
   ]
  },
  {
   "cell_type": "code",
   "execution_count": 37,
   "metadata": {
    "ExecuteTime": {
     "end_time": "2021-03-25T10:04:27.704911Z",
     "start_time": "2021-03-25T10:04:27.685847Z"
    }
   },
   "outputs": [
    {
     "data": {
      "text/plain": [
       "array([[ 0,  1,  2,  3,  4],\n",
       "       [ 5,  6,  7,  8,  9],\n",
       "       [10, 11, 12, 13, 14],\n",
       "       [15, 16, 17, 18, 19],\n",
       "       [20, 21, 22, 23, 24]])"
      ]
     },
     "execution_count": 37,
     "metadata": {},
     "output_type": "execute_result"
    }
   ],
   "source": [
    "n_size_ndarray_creation(5)"
   ]
  },
  {
   "cell_type": "markdown",
   "metadata": {},
   "source": [
    "### zero_or_one_or_empty_ndarray"
   ]
  },
  {
   "cell_type": "code",
   "execution_count": 38,
   "metadata": {
    "ExecuteTime": {
     "end_time": "2021-03-25T10:04:31.985283Z",
     "start_time": "2021-03-25T10:04:31.967118Z"
    }
   },
   "outputs": [],
   "source": [
    "def zero_or_one_or_empty_ndarray(shape, type, dtype):\n",
    "    if type==0:\n",
    "        return np.zeros(shape=shape, dtype=dtype)\n",
    "    if type==1:\n",
    "        return np.ones(shape=shape, dtype=dtype)\n",
    "    if type==99:\n",
    "        return np.empty(shape=shape, dtype=dtype)"
   ]
  },
  {
   "cell_type": "code",
   "execution_count": 39,
   "metadata": {
    "ExecuteTime": {
     "end_time": "2021-03-25T10:04:32.125297Z",
     "start_time": "2021-03-25T10:04:32.111269Z"
    }
   },
   "outputs": [
    {
     "data": {
      "text/plain": [
       "array([[1, 1],\n",
       "       [1, 1]])"
      ]
     },
     "execution_count": 39,
     "metadata": {},
     "output_type": "execute_result"
    }
   ],
   "source": [
    "zero_or_one_or_empty_ndarray(shape = (2,2), type=1,dtype=int)"
   ]
  },
  {
   "cell_type": "code",
   "execution_count": 34,
   "metadata": {
    "ExecuteTime": {
     "end_time": "2021-03-25T10:03:21.515316Z",
     "start_time": "2021-03-25T10:03:21.508215Z"
    }
   },
   "outputs": [
    {
     "data": {
      "text/plain": [
       "array([[0, 0, 0],\n",
       "       [0, 0, 0],\n",
       "       [0, 0, 0]])"
      ]
     },
     "execution_count": 34,
     "metadata": {},
     "output_type": "execute_result"
    }
   ],
   "source": [
    "zero_or_one_or_empty_ndarray(shape = (3,3), type=99,dtype=int)"
   ]
  },
  {
   "cell_type": "markdown",
   "metadata": {},
   "source": [
    "### change_shape_of_ndarray"
   ]
  },
  {
   "cell_type": "code",
   "execution_count": 69,
   "metadata": {
    "ExecuteTime": {
     "end_time": "2021-03-25T10:16:32.477532Z",
     "start_time": "2021-03-25T10:16:32.460401Z"
    }
   },
   "outputs": [],
   "source": [
    "def change_shape_of_ndarray(X, n_row):\n",
    "    return X.flatten() if n_row==1 else X.reshape(n_row,-1)"
   ]
  },
  {
   "cell_type": "code",
   "execution_count": 70,
   "metadata": {
    "ExecuteTime": {
     "end_time": "2021-03-25T10:16:33.410436Z",
     "start_time": "2021-03-25T10:16:33.396550Z"
    }
   },
   "outputs": [
    {
     "data": {
      "text/plain": [
       "array([1, 1, 1, ..., 1, 1, 1])"
      ]
     },
     "execution_count": 70,
     "metadata": {},
     "output_type": "execute_result"
    }
   ],
   "source": [
    "X = np.ones((32,32), dtype=np.int)\n",
    "\n",
    "change_shape_of_ndarray(X,1)"
   ]
  },
  {
   "cell_type": "code",
   "execution_count": 71,
   "metadata": {
    "ExecuteTime": {
     "end_time": "2021-03-25T10:16:35.526580Z",
     "start_time": "2021-03-25T10:16:35.515852Z"
    }
   },
   "outputs": [
    {
     "data": {
      "text/plain": [
       "array([[1, 1],\n",
       "       [1, 1],\n",
       "       [1, 1],\n",
       "       ...,\n",
       "       [1, 1],\n",
       "       [1, 1],\n",
       "       [1, 1]])"
      ]
     },
     "execution_count": 71,
     "metadata": {},
     "output_type": "execute_result"
    }
   ],
   "source": [
    "change_shape_of_ndarray(X,512)"
   ]
  },
  {
   "cell_type": "markdown",
   "metadata": {},
   "source": [
    "### concat_ndarray"
   ]
  },
  {
   "cell_type": "code",
   "execution_count": 73,
   "metadata": {
    "ExecuteTime": {
     "end_time": "2021-03-25T10:21:05.613358Z",
     "start_time": "2021-03-25T10:21:05.595150Z"
    }
   },
   "outputs": [],
   "source": [
    "def concat_ndarray(X_1, X_2, axis):\n",
    "    try:\n",
    "        if X_1.ndim == 1:\n",
    "            X_1 = X_1.reshape(1,-1)\n",
    "        if X_2.ndim == 1:\n",
    "            X_2 = X_2.reshape(1,-1)\n",
    "        return np.concatenate((X_1,X_2), axis=axis)\n",
    "    except ValueError as e:\n",
    "        return False\n",
    "    \n",
    "a = np.array([[1, 2], [3, 4]])\n",
    "b = np.array([[5, 6]])\n",
    "concat_ndarray(a, b, 0)"
   ]
  },
  {
   "cell_type": "code",
   "execution_count": 94,
   "metadata": {
    "ExecuteTime": {
     "end_time": "2021-03-25T10:37:58.909054Z",
     "start_time": "2021-03-25T10:37:58.899073Z"
    }
   },
   "outputs": [
    {
     "data": {
      "text/plain": [
       "array([[1, 2],\n",
       "       [3, 4],\n",
       "       [5, 6]])"
      ]
     },
     "execution_count": 94,
     "metadata": {},
     "output_type": "execute_result"
    }
   ],
   "source": [
    "a = np.array([[1, 2], [3, 4]])\n",
    "b = np.array([[5, 6]])\n",
    "concat_ndarray(a, b, 0)\n"
   ]
  },
  {
   "cell_type": "code",
   "execution_count": 75,
   "metadata": {
    "ExecuteTime": {
     "end_time": "2021-03-25T10:21:46.986577Z",
     "start_time": "2021-03-25T10:21:46.974293Z"
    }
   },
   "outputs": [
    {
     "data": {
      "text/plain": [
       "False"
      ]
     },
     "execution_count": 75,
     "metadata": {},
     "output_type": "execute_result"
    }
   ],
   "source": [
    "concat_ndarray(a, b, 1)"
   ]
  },
  {
   "cell_type": "code",
   "execution_count": 91,
   "metadata": {
    "ExecuteTime": {
     "end_time": "2021-03-25T10:37:22.215307Z",
     "start_time": "2021-03-25T10:37:22.199309Z"
    }
   },
   "outputs": [
    {
     "data": {
      "text/plain": [
       "0.5"
      ]
     },
     "execution_count": 91,
     "metadata": {},
     "output_type": "execute_result"
    }
   ],
   "source": [
    "a = np.array([1, 2])\n",
    "b = np.array([5, 6, 7])\n",
    "concat_ndarray(a, b, 1)\n"
   ]
  },
  {
   "cell_type": "code",
   "execution_count": 77,
   "metadata": {
    "ExecuteTime": {
     "end_time": "2021-03-25T10:22:22.373315Z",
     "start_time": "2021-03-25T10:22:22.347023Z"
    }
   },
   "outputs": [
    {
     "data": {
      "text/plain": [
       "False"
      ]
     },
     "execution_count": 77,
     "metadata": {},
     "output_type": "execute_result"
    }
   ],
   "source": [
    "concat_ndarray(a, b, 0)"
   ]
  },
  {
   "cell_type": "markdown",
   "metadata": {},
   "source": [
    "### normalize_ndarray"
   ]
  },
  {
   "cell_type": "code",
   "execution_count": 126,
   "metadata": {
    "ExecuteTime": {
     "end_time": "2021-03-25T10:49:37.128094Z",
     "start_time": "2021-03-25T10:49:37.117744Z"
    }
   },
   "outputs": [],
   "source": [
    "def normalize_ndarray(X, axis=99, dtype=np.float32):\n",
    "    if axis == 1:\n",
    "        x_mean = np.mean(X,1).reshape(-1,1)\n",
    "        x_std = np.std(X,1).reshape(-1,1)\n",
    "        Z = (X - x_mean) / x_std\n",
    "    if axis == 0:\n",
    "        x_mean = np.mean(X,0)\n",
    "        x_std = np.std(X,0)\n",
    "        Z = (X - x_mean) / x_std\n",
    "    else:\n",
    "        x_mean = np.mean(X)\n",
    "        x_std = np.std(X)\n",
    "        Z = (X - x_mean) / x_std\n",
    "    return Z"
   ]
  },
  {
   "cell_type": "code",
   "execution_count": 127,
   "metadata": {
    "ExecuteTime": {
     "end_time": "2021-03-25T10:49:40.669480Z",
     "start_time": "2021-03-25T10:49:40.656495Z"
    }
   },
   "outputs": [
    {
     "data": {
      "text/plain": [
       "array([[-1.593255  , -1.3035723 ],\n",
       "       [-1.0138896 , -0.7242068 ],\n",
       "       [-0.4345241 , -0.14484136],\n",
       "       [ 0.14484136,  0.4345241 ],\n",
       "       [ 0.7242068 ,  1.0138896 ],\n",
       "       [ 1.3035723 ,  1.593255  ]], dtype=float32)"
      ]
     },
     "execution_count": 127,
     "metadata": {},
     "output_type": "execute_result"
    }
   ],
   "source": [
    "X = np.arange(12, dtype=np.float32).reshape(6,2)\n",
    "normalize_ndarray(X)"
   ]
  },
  {
   "cell_type": "code",
   "execution_count": 128,
   "metadata": {
    "ExecuteTime": {
     "end_time": "2021-03-25T10:49:41.382921Z",
     "start_time": "2021-03-25T10:49:41.368861Z"
    }
   },
   "outputs": [
    {
     "data": {
      "text/plain": [
       "array([[-1.593255  , -1.3035723 ],\n",
       "       [-1.0138896 , -0.7242068 ],\n",
       "       [-0.4345241 , -0.14484136],\n",
       "       [ 0.14484136,  0.4345241 ],\n",
       "       [ 0.7242068 ,  1.0138896 ],\n",
       "       [ 1.3035723 ,  1.593255  ]], dtype=float32)"
      ]
     },
     "execution_count": 128,
     "metadata": {},
     "output_type": "execute_result"
    }
   ],
   "source": [
    "normalize_ndarray(X, 1)"
   ]
  },
  {
   "cell_type": "code",
   "execution_count": 129,
   "metadata": {
    "ExecuteTime": {
     "end_time": "2021-03-25T10:49:41.832574Z",
     "start_time": "2021-03-25T10:49:41.816493Z"
    }
   },
   "outputs": [
    {
     "data": {
      "text/plain": [
       "array([[-1.46385, -1.46385],\n",
       "       [-0.87831, -0.87831],\n",
       "       [-0.29277, -0.29277],\n",
       "       [ 0.29277,  0.29277],\n",
       "       [ 0.87831,  0.87831],\n",
       "       [ 1.46385,  1.46385]], dtype=float32)"
      ]
     },
     "execution_count": 129,
     "metadata": {},
     "output_type": "execute_result"
    }
   ],
   "source": [
    "normalize_ndarray(X, 0)"
   ]
  },
  {
   "cell_type": "markdown",
   "metadata": {},
   "source": [
    "### save_ndarray"
   ]
  },
  {
   "cell_type": "code",
   "execution_count": 149,
   "metadata": {
    "ExecuteTime": {
     "end_time": "2021-03-25T11:00:57.245442Z",
     "start_time": "2021-03-25T11:00:57.227929Z"
    }
   },
   "outputs": [],
   "source": [
    "def save_ndarray(X, filename=\"test.npy\"):\n",
    "    file_test = open(filename,\"wb\")\n",
    "    np.save(X,file_test)"
   ]
  },
  {
   "cell_type": "code",
   "execution_count": 150,
   "metadata": {
    "ExecuteTime": {
     "end_time": "2021-03-25T11:00:58.256371Z",
     "start_time": "2021-03-25T11:00:58.230454Z"
    }
   },
   "outputs": [
    {
     "ename": "TypeError",
     "evalue": "expected str, bytes or os.PathLike object, not numpy.ndarray",
     "output_type": "error",
     "traceback": [
      "\u001b[1;31m---------------------------------------------------------------------------\u001b[0m",
      "\u001b[1;31mTypeError\u001b[0m                                 Traceback (most recent call last)",
      "\u001b[1;32m<ipython-input-150-6621733addd5>\u001b[0m in \u001b[0;36m<module>\u001b[1;34m\u001b[0m\n\u001b[0;32m      1\u001b[0m \u001b[0mX\u001b[0m \u001b[1;33m=\u001b[0m \u001b[0mnp\u001b[0m\u001b[1;33m.\u001b[0m\u001b[0marange\u001b[0m\u001b[1;33m(\u001b[0m\u001b[1;36m32\u001b[0m\u001b[1;33m,\u001b[0m \u001b[0mdtype\u001b[0m\u001b[1;33m=\u001b[0m\u001b[0mnp\u001b[0m\u001b[1;33m.\u001b[0m\u001b[0mfloat32\u001b[0m\u001b[1;33m)\u001b[0m\u001b[1;33m.\u001b[0m\u001b[0mreshape\u001b[0m\u001b[1;33m(\u001b[0m\u001b[1;36m4\u001b[0m\u001b[1;33m,\u001b[0m \u001b[1;33m-\u001b[0m\u001b[1;36m1\u001b[0m\u001b[1;33m)\u001b[0m\u001b[1;33m\u001b[0m\u001b[1;33m\u001b[0m\u001b[0m\n\u001b[0;32m      2\u001b[0m \u001b[0mfilename\u001b[0m \u001b[1;33m=\u001b[0m \u001b[1;34m\"test.npy\"\u001b[0m\u001b[1;33m\u001b[0m\u001b[1;33m\u001b[0m\u001b[0m\n\u001b[1;32m----> 3\u001b[1;33m \u001b[0msave_ndarray\u001b[0m\u001b[1;33m(\u001b[0m\u001b[0mX\u001b[0m\u001b[1;33m,\u001b[0m \u001b[0mfilename\u001b[0m\u001b[1;33m)\u001b[0m\u001b[1;33m\u001b[0m\u001b[1;33m\u001b[0m\u001b[0m\n\u001b[0m",
      "\u001b[1;32m<ipython-input-149-2e5ab8f9a9e6>\u001b[0m in \u001b[0;36msave_ndarray\u001b[1;34m(X, filename)\u001b[0m\n\u001b[0;32m      1\u001b[0m \u001b[1;32mdef\u001b[0m \u001b[0msave_ndarray\u001b[0m\u001b[1;33m(\u001b[0m\u001b[0mX\u001b[0m\u001b[1;33m,\u001b[0m \u001b[0mfilename\u001b[0m\u001b[1;33m=\u001b[0m\u001b[1;34m\"test.npy\"\u001b[0m\u001b[1;33m)\u001b[0m\u001b[1;33m:\u001b[0m\u001b[1;33m\u001b[0m\u001b[1;33m\u001b[0m\u001b[0m\n\u001b[0;32m      2\u001b[0m     \u001b[0mfile_test\u001b[0m \u001b[1;33m=\u001b[0m \u001b[0mopen\u001b[0m\u001b[1;33m(\u001b[0m\u001b[0mfilename\u001b[0m\u001b[1;33m,\u001b[0m\u001b[1;34m\"wb\"\u001b[0m\u001b[1;33m)\u001b[0m\u001b[1;33m\u001b[0m\u001b[1;33m\u001b[0m\u001b[0m\n\u001b[1;32m----> 3\u001b[1;33m     \u001b[0mnp\u001b[0m\u001b[1;33m.\u001b[0m\u001b[0msave\u001b[0m\u001b[1;33m(\u001b[0m\u001b[0mX\u001b[0m\u001b[1;33m,\u001b[0m\u001b[0mfile_test\u001b[0m\u001b[1;33m)\u001b[0m\u001b[1;33m\u001b[0m\u001b[1;33m\u001b[0m\u001b[0m\n\u001b[0m",
      "\u001b[1;32m<__array_function__ internals>\u001b[0m in \u001b[0;36msave\u001b[1;34m(*args, **kwargs)\u001b[0m\n",
      "\u001b[1;32m~\\anaconda3\\lib\\site-packages\\numpy\\lib\\npyio.py\u001b[0m in \u001b[0;36msave\u001b[1;34m(file, arr, allow_pickle, fix_imports)\u001b[0m\n\u001b[0;32m    519\u001b[0m         \u001b[0mfile_ctx\u001b[0m \u001b[1;33m=\u001b[0m \u001b[0mcontextlib_nullcontext\u001b[0m\u001b[1;33m(\u001b[0m\u001b[0mfile\u001b[0m\u001b[1;33m)\u001b[0m\u001b[1;33m\u001b[0m\u001b[1;33m\u001b[0m\u001b[0m\n\u001b[0;32m    520\u001b[0m     \u001b[1;32melse\u001b[0m\u001b[1;33m:\u001b[0m\u001b[1;33m\u001b[0m\u001b[1;33m\u001b[0m\u001b[0m\n\u001b[1;32m--> 521\u001b[1;33m         \u001b[0mfile\u001b[0m \u001b[1;33m=\u001b[0m \u001b[0mos_fspath\u001b[0m\u001b[1;33m(\u001b[0m\u001b[0mfile\u001b[0m\u001b[1;33m)\u001b[0m\u001b[1;33m\u001b[0m\u001b[1;33m\u001b[0m\u001b[0m\n\u001b[0m\u001b[0;32m    522\u001b[0m         \u001b[1;32mif\u001b[0m \u001b[1;32mnot\u001b[0m \u001b[0mfile\u001b[0m\u001b[1;33m.\u001b[0m\u001b[0mendswith\u001b[0m\u001b[1;33m(\u001b[0m\u001b[1;34m'.npy'\u001b[0m\u001b[1;33m)\u001b[0m\u001b[1;33m:\u001b[0m\u001b[1;33m\u001b[0m\u001b[1;33m\u001b[0m\u001b[0m\n\u001b[0;32m    523\u001b[0m             \u001b[0mfile\u001b[0m \u001b[1;33m=\u001b[0m \u001b[0mfile\u001b[0m \u001b[1;33m+\u001b[0m \u001b[1;34m'.npy'\u001b[0m\u001b[1;33m\u001b[0m\u001b[1;33m\u001b[0m\u001b[0m\n",
      "\u001b[1;31mTypeError\u001b[0m: expected str, bytes or os.PathLike object, not numpy.ndarray"
     ]
    }
   ],
   "source": [
    "X = np.arange(32, dtype=np.float32).reshape(4, -1)\n",
    "filename = \"test.npy\"\n",
    "save_ndarray(X, filename)"
   ]
  },
  {
   "cell_type": "markdown",
   "metadata": {},
   "source": [
    "### boolean_index"
   ]
  },
  {
   "cell_type": "code",
   "execution_count": 169,
   "metadata": {
    "ExecuteTime": {
     "end_time": "2021-03-25T11:08:59.894698Z",
     "start_time": "2021-03-25T11:08:59.890714Z"
    }
   },
   "outputs": [],
   "source": [
    "def boolean_index(X, condition):\n",
    "    condition = eval(str(\"X\") + condition) == 1\n",
    "    return np.where(condition)"
   ]
  },
  {
   "cell_type": "code",
   "execution_count": 170,
   "metadata": {
    "ExecuteTime": {
     "end_time": "2021-03-25T11:09:02.449277Z",
     "start_time": "2021-03-25T11:09:02.435057Z"
    }
   },
   "outputs": [
    {
     "data": {
      "text/plain": [
       "(array([0], dtype=int64), array([3], dtype=int64))"
      ]
     },
     "execution_count": 170,
     "metadata": {},
     "output_type": "execute_result"
    }
   ],
   "source": [
    "X = np.arange(32, dtype=np.float32).reshape(4, -1)\n",
    "boolean_index(X, \"== 3\")"
   ]
  },
  {
   "cell_type": "markdown",
   "metadata": {},
   "source": [
    "### find_nearest_value"
   ]
  },
  {
   "cell_type": "code",
   "execution_count": 179,
   "metadata": {
    "ExecuteTime": {
     "end_time": "2021-03-25T11:16:38.271847Z",
     "start_time": "2021-03-25T11:16:38.263532Z"
    }
   },
   "outputs": [],
   "source": [
    "def find_nearest_value(X, target_value):\n",
    "    return X[np.argmin(np.abs(X - target_value))]"
   ]
  },
  {
   "cell_type": "code",
   "execution_count": 181,
   "metadata": {
    "ExecuteTime": {
     "end_time": "2021-03-25T11:17:12.552225Z",
     "start_time": "2021-03-25T11:17:12.528013Z"
    }
   },
   "outputs": [
    {
     "name": "stdout",
     "output_type": "stream",
     "text": [
      "[0.44182213 0.25502409 0.74972348 0.05831013 0.61920294 0.70662908\n",
      " 0.12411368 0.65568702 0.35941233 0.36709125 0.12261389 0.71978705\n",
      " 0.03378425 0.29180237 0.45434175 0.18619834 0.62102721 0.72913206\n",
      " 0.75956237 0.16747628 0.11401423 0.81341183 0.21927813 0.9214057\n",
      " 0.86907756 0.92307254 0.08242895 0.99499849 0.8802616  0.23776162\n",
      " 0.74531954 0.23934539 0.66424226 0.89690577 0.52844245 0.15952445\n",
      " 0.9993787  0.50918228 0.65540707 0.80867507 0.89897586 0.45791163\n",
      " 0.11245392 0.52789616 0.49214655 0.86882384 0.73670576 0.03586156\n",
      " 0.99011527 0.89470718 0.36236512 0.7358793  0.38005689 0.93675096\n",
      " 0.8183859  0.88951976 0.51036545 0.71909919 0.77154948 0.66157148\n",
      " 0.28259618 0.44139553 0.13088315 0.11469986 0.27983015 0.34156674\n",
      " 0.52510696 0.17083696 0.84752933 0.60624689 0.84948579 0.3118716\n",
      " 0.68981322 0.70694938 0.95757809 0.61419567 0.09942558 0.01121086\n",
      " 0.20175955 0.71015355 0.16490519 0.90477669 0.73754224 0.88528279\n",
      " 0.51073503 0.76532051 0.91264933 0.6132991  0.89106933 0.31687666\n",
      " 0.18074868 0.77694019 0.71837859 0.71746996 0.66234754 0.21208366\n",
      " 0.42616277 0.71323383 0.27128963 0.73874293]\n"
     ]
    },
    {
     "data": {
      "text/plain": [
       "0.29180236726517783"
      ]
     },
     "execution_count": 181,
     "metadata": {},
     "output_type": "execute_result"
    }
   ],
   "source": [
    "X = np.random.uniform(0, 1, 100)\n",
    "print(X)\n",
    "target_value = 0.3\n",
    "find_nearest_value(X, target_value)"
   ]
  },
  {
   "cell_type": "markdown",
   "metadata": {},
   "source": [
    "### get_n_largest_values"
   ]
  },
  {
   "cell_type": "code",
   "execution_count": 200,
   "metadata": {
    "ExecuteTime": {
     "end_time": "2021-03-25T11:24:54.277085Z",
     "start_time": "2021-03-25T11:24:54.265357Z"
    }
   },
   "outputs": [],
   "source": [
    "def get_n_largest_values(X, n):\n",
    "    return X[np.argsort(X)[::-1][:n]]"
   ]
  },
  {
   "cell_type": "code",
   "execution_count": 201,
   "metadata": {
    "ExecuteTime": {
     "end_time": "2021-03-25T11:24:54.882771Z",
     "start_time": "2021-03-25T11:24:54.858763Z"
    }
   },
   "outputs": [
    {
     "data": {
      "text/plain": [
       "array([0.98188972, 0.97898659, 0.97868012])"
      ]
     },
     "execution_count": 201,
     "metadata": {},
     "output_type": "execute_result"
    }
   ],
   "source": [
    "X = np.random.uniform(0, 1, 100)\n",
    "get_n_largest_values(X, 3)"
   ]
  },
  {
   "cell_type": "code",
   "execution_count": 199,
   "metadata": {
    "ExecuteTime": {
     "end_time": "2021-03-25T11:24:20.594663Z",
     "start_time": "2021-03-25T11:24:20.574063Z"
    }
   },
   "outputs": [
    {
     "data": {
      "text/plain": [
       "array([0.87903997, 0.2852035 , 0.38638126, 0.47207264, 0.56581892,\n",
       "       0.67427353, 0.89488965, 0.52530376, 0.45470521, 0.6956676 ,\n",
       "       0.60888481, 0.50352416, 0.19939584, 0.60258536, 0.81682244,\n",
       "       0.16008888, 0.43966713, 0.75760316, 0.58877865, 0.7308327 ,\n",
       "       0.39823471, 0.90559746, 0.77417196, 0.8571986 , 0.42137334,\n",
       "       0.01501171, 0.87311126, 0.4366294 , 0.50190608, 0.40889909,\n",
       "       0.45814173, 0.50566666, 0.75462491, 0.91653081, 0.01756067,\n",
       "       0.21875916, 0.32444719, 0.27119788, 0.84795797, 0.30121537,\n",
       "       0.20038661, 0.88630267, 0.14379885, 0.32715445, 0.96952572,\n",
       "       0.02015501, 0.70507019, 0.630676  , 0.82377328, 0.31489001,\n",
       "       0.15937166, 0.32875083, 0.82868427, 0.61095521, 0.88124178,\n",
       "       0.09470324, 0.92955253, 0.04567717, 0.79520347, 0.2037086 ,\n",
       "       0.17137815, 0.1493502 , 0.52212684, 0.86454533, 0.6655483 ,\n",
       "       0.48489271, 0.93683526, 0.71522833, 0.62762491, 0.05062625,\n",
       "       0.14887955, 0.73909686, 0.48289202, 0.71398948, 0.70978011,\n",
       "       0.65164473, 0.21766978, 0.70085711, 0.33975293, 0.20177929,\n",
       "       0.24431738, 0.57368475, 0.18451587, 0.49468545, 0.51650355,\n",
       "       0.42470519, 0.85555979, 0.85529088, 0.26799091, 0.62039017,\n",
       "       0.29206997, 0.01276343, 0.52441903, 0.44677541, 0.0661289 ,\n",
       "       0.23242064, 0.3787033 , 0.526384  , 0.64900941, 0.45914509])"
      ]
     },
     "execution_count": 199,
     "metadata": {},
     "output_type": "execute_result"
    }
   ],
   "source": [
    "X[np.argsort(X[::-1])]"
   ]
  },
  {
   "cell_type": "code",
   "execution_count": null,
   "metadata": {},
   "outputs": [],
   "source": []
  }
 ],
 "metadata": {
  "kernelspec": {
   "display_name": "Python 3",
   "language": "python",
   "name": "python3"
  },
  "language_info": {
   "codemirror_mode": {
    "name": "ipython",
    "version": 3
   },
   "file_extension": ".py",
   "mimetype": "text/x-python",
   "name": "python",
   "nbconvert_exporter": "python",
   "pygments_lexer": "ipython3",
   "version": "3.8.5"
  },
  "toc": {
   "base_numbering": 1,
   "nav_menu": {},
   "number_sections": true,
   "sideBar": true,
   "skip_h1_title": false,
   "title_cell": "Table of Contents",
   "title_sidebar": "Contents",
   "toc_cell": false,
   "toc_position": {},
   "toc_section_display": true,
   "toc_window_display": false
  }
 },
 "nbformat": 4,
 "nbformat_minor": 4
}
