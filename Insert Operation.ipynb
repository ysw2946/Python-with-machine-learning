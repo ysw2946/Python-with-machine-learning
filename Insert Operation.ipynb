{
 "cells": [
  {
   "cell_type": "markdown",
   "metadata": {},
   "source": [
    "### 연산자 끼워넣기 알고리즘"
   ]
  },
  {
   "cell_type": "code",
   "execution_count": 6,
   "metadata": {
    "ExecuteTime": {
     "end_time": "2021-03-22T08:46:15.086313Z",
     "start_time": "2021-03-22T08:46:15.056744Z"
    }
   },
   "outputs": [
    {
     "name": "stdout",
     "output_type": "stream",
     "text": [
      "[('A', 'B', 'C', 'D'), ('A', 'B', 'D', 'C'), ('A', 'C', 'B', 'D'), ('A', 'C', 'D', 'B'), ('A', 'D', 'B', 'C'), ('A', 'D', 'C', 'B'), ('B', 'A', 'C', 'D'), ('B', 'A', 'D', 'C'), ('B', 'C', 'A', 'D'), ('B', 'C', 'D', 'A'), ('B', 'D', 'A', 'C'), ('B', 'D', 'C', 'A'), ('C', 'A', 'B', 'D'), ('C', 'A', 'D', 'B'), ('C', 'B', 'A', 'D'), ('C', 'B', 'D', 'A'), ('C', 'D', 'A', 'B'), ('C', 'D', 'B', 'A'), ('D', 'A', 'B', 'C'), ('D', 'A', 'C', 'B'), ('D', 'B', 'A', 'C'), ('D', 'B', 'C', 'A'), ('D', 'C', 'A', 'B'), ('D', 'C', 'B', 'A')]\n",
      "52.0\n",
      "-21.0\n"
     ]
    }
   ],
   "source": [
    "import itertools\n",
    "from functools import reduce\n",
    "import sys\n",
    "import time\n",
    "\n",
    "def insert_operation(length, input_num, input_oper):\n",
    "    ops={\"0\" : (lambda x,y : x+y), \"1\" : (lambda x,y : x-y),\n",
    "         \"2\" : (lambda x,y : x*y), \"3\" : (lambda x,y : x/y)}\n",
    "    oper_permutation = []\n",
    "    result = []\n",
    "    list(oper_permutation.extend(\n",
    "        [str(index)]*value) for index, value in enumerate(input_oper) if value>0)\n",
    "    permutation = [list(x) for x in set(itertools.permutations(oper_permutation))]\n",
    "    for i in permutation:\n",
    "        result.append(reduce(lambda x,y : ops[i.pop()](x,y), input_num))\n",
    "        \n",
    "    print(str(max(result))+\"\\n\"+str(min(result)))\n",
    "    \n",
    "print(list(itertools.permutations('ABCD')))\n",
    "\n",
    "\n",
    "n = 6\n",
    "numbers = [1,2,3,4,5,6]\n",
    "arithmetics = [2,1,1,1]\n",
    "\n",
    "insert_operation(n,numbers,arithmetics)"
   ]
  },
  {
   "cell_type": "code",
   "execution_count": null,
   "metadata": {},
   "outputs": [],
   "source": []
  }
 ],
 "metadata": {
  "kernelspec": {
   "display_name": "Python 3",
   "language": "python",
   "name": "python3"
  },
  "language_info": {
   "codemirror_mode": {
    "name": "ipython",
    "version": 3
   },
   "file_extension": ".py",
   "mimetype": "text/x-python",
   "name": "python",
   "nbconvert_exporter": "python",
   "pygments_lexer": "ipython3",
   "version": "3.8.5"
  },
  "toc": {
   "base_numbering": 1,
   "nav_menu": {},
   "number_sections": true,
   "sideBar": true,
   "skip_h1_title": false,
   "title_cell": "Table of Contents",
   "title_sidebar": "Contents",
   "toc_cell": false,
   "toc_position": {},
   "toc_section_display": true,
   "toc_window_display": false
  }
 },
 "nbformat": 4,
 "nbformat_minor": 4
}
