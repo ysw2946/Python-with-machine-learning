{
 "cells": [
  {
   "cell_type": "markdown",
   "metadata": {},
   "source": [
    "### normal_equation code"
   ]
  },
  {
   "cell_type": "code",
   "execution_count": 20,
   "metadata": {
    "ExecuteTime": {
     "end_time": "2021-04-26T05:43:00.509110Z",
     "start_time": "2021-04-26T05:43:00.504110Z"
    }
   },
   "outputs": [],
   "source": [
    "import numpy as np\n",
    "\n",
    "\n",
    "class LinearRegression(object):\n",
    "    def __init__(self, fit_intercept=True, copy_X=True):\n",
    "        self.fit_intercept = fit_intercept\n",
    "        self.copy_X = copy_X\n",
    "\n",
    "        self._coef = None\n",
    "        self._intercept = None\n",
    "        self._new_X = None\n",
    "\n",
    "    def fit(self, X, y):\n",
    "        \"\"\"\n",
    "        Linear regression 모델을 적합한다.\n",
    "        Matrix X와 Vector Y가 입력 값으로 들어오면 Normal equation을 활용하여, weight값을\n",
    "        찾는다. 이 때, instance가 생성될 때, fit_intercept 설정에 따라 fit 실행이 달라진다.\n",
    "        fit을 할 때는 입력되는 X의 값은 반드시 새로운 변수(self._new_X)에 저장\n",
    "        된 후 실행되어야 한다.\n",
    "        fit_intercept가 True일 경우:\n",
    "            - Matrix X의 0번째 Column에 값이 1인 column vector를추가한다.\n",
    "        적합이 종료된 후 각 변수의 계수(coefficient 또는 weight값을 의미)는 self._coef와\n",
    "        self._intercept_coef에 저장된다. 이때 self._coef는 numpy array을 각 변수항의\n",
    "        weight값을 저장한 1차원 vector이며, self._intercept_coef는 상수항의 weight를\n",
    "        저장한 scalar(float) 이다.\n",
    "        Parameters\n",
    "        ----------\n",
    "        X : numpy array, 2차원 matrix 형태로 [n_samples,n_features] 구조를 가진다\n",
    "        y : numpy array, 1차원 vector 형태로 [n_targets]의 구조를 가진다.\n",
    "        Returns\n",
    "        -------\n",
    "        self : 현재의 인스턴스가 리턴된다\n",
    "        \"\"\"\n",
    "        pass\n",
    "\n",
    "    def predict(self, X):\n",
    "        \"\"\"\n",
    "        적합된 Linear regression 모델을 사용하여 입력된 Matrix X의 예측값을 반환한다.\n",
    "        이 때, 입력된 Matrix X는 별도의 전처리가 없는 상태로 입력되는 걸로 가정한다.\n",
    "        fit_intercept가 True일 경우:\n",
    "            - Matrix X의 0번째 Column에 값이 1인 column vector를추가한다.\n",
    "        normalize가 True일 경우:\n",
    "            - Standard normalization으로 Matrix X의 column 0(상수)를 제외한 모든 값을\n",
    "              정규화을 실행함\n",
    "            - 정규화를 할때는 self._mu_X와 self._std_X 에 있는 값을 사용한다.\n",
    "        Parameters\n",
    "        ----------\n",
    "        X : numpy array, 2차원 matrix 형태로 [n_samples,n_features] 구조를 가진다\n",
    "        Returns\n",
    "        -------\n",
    "        y : numpy array, 예측된 값을 1차원 vector 형태로 [n_predicted_targets]의\n",
    "            구조를 가진다.\n",
    "        \"\"\"\n",
    "        return None\n",
    "\n",
    "    @property\n",
    "    def coef(self):\n",
    "        return self._coef\n",
    "\n",
    "    @property\n",
    "    def intercept(self):\n",
    "        return self._intercept"
   ]
  },
  {
   "cell_type": "markdown",
   "metadata": {},
   "source": [
    "### linear_regression_example"
   ]
  },
  {
   "cell_type": "code",
   "execution_count": 7,
   "metadata": {
    "ExecuteTime": {
     "end_time": "2021-04-28T05:31:54.677955Z",
     "start_time": "2021-04-28T05:31:54.642492Z"
    }
   },
   "outputs": [],
   "source": [
    "class LinearRegression(object):\n",
    "    def __init__(self, fit_intercept=True, copy_X=True):\n",
    "        self.fit_intercept = fit_intercept\n",
    "        self.copy_X = copy_X\n",
    "        \n",
    "        self._coef = None\n",
    "        self._intercept = None\n",
    "        self._new_X = None\n",
    "        \n",
    "    def fit(self, x, y):\n",
    "        self._new_X = np.array(x)\n",
    "        y = y.reshape(-1,1)\n",
    "        \n",
    "        if self.fit_intercept:\n",
    "            intercept_vector = np.ones([len(self._new_X), 1])\n",
    "            self._new_X = np.concatenate(\n",
    "                    (intercept_vector, self._new_X), axis=1)\n",
    "            \n",
    "        weights = np.linalg.inv(\n",
    "                self._new_X.T.dot(self._new_X)).dot(\n",
    "                                            self._new_X.T.dot(y)).flatten()\n",
    "        \n",
    "        if self.fit_intercept:\n",
    "            self._intercept = weights[0]\n",
    "            self._coef = weights[1:]\n",
    "        else:\n",
    "            self._coef = weights\n",
    "    \n",
    "    def predict(self, x):\n",
    "        test_X = np.array(x)\n",
    "        \n",
    "        if self.fit_intercept:\n",
    "            intercept_vector = np.ones([len(test_X), 1])\n",
    "            test_X = np.concatenate(\n",
    "                    (intercept_vector, test_X), axis=1)\n",
    "            \n",
    "            weights = np.concatenate(([self._intercept],self._coef), axis=0)\n",
    "        \n",
    "        else:\n",
    "            weights = self._coef\n",
    "        return test_X.dot(weights)\n",
    "\n",
    "    @property\n",
    "    def coef(self):\n",
    "        return self._coef\n",
    "    @property\n",
    "    def intercept(self):\n",
    "        return self._intercept"
   ]
  },
  {
   "cell_type": "code",
   "execution_count": 8,
   "metadata": {
    "ExecuteTime": {
     "end_time": "2021-04-28T05:31:57.696868Z",
     "start_time": "2021-04-28T05:31:55.861675Z"
    }
   },
   "outputs": [],
   "source": [
    "import pandas as pd\n",
    "import numpy as np\n",
    "import imp"
   ]
  },
  {
   "cell_type": "code",
   "execution_count": 188,
   "metadata": {
    "ExecuteTime": {
     "end_time": "2021-04-26T06:36:40.030005Z",
     "start_time": "2021-04-26T06:36:40.001959Z"
    }
   },
   "outputs": [
    {
     "data": {
      "text/html": [
       "<div>\n",
       "<style scoped>\n",
       "    .dataframe tbody tr th:only-of-type {\n",
       "        vertical-align: middle;\n",
       "    }\n",
       "\n",
       "    .dataframe tbody tr th {\n",
       "        vertical-align: top;\n",
       "    }\n",
       "\n",
       "    .dataframe thead th {\n",
       "        text-align: right;\n",
       "    }\n",
       "</style>\n",
       "<table border=\"1\" class=\"dataframe\">\n",
       "  <thead>\n",
       "    <tr style=\"text-align: right;\">\n",
       "      <th></th>\n",
       "      <th>x</th>\n",
       "      <th>y</th>\n",
       "    </tr>\n",
       "  </thead>\n",
       "  <tbody>\n",
       "    <tr>\n",
       "      <th>0</th>\n",
       "      <td>77</td>\n",
       "      <td>79.775152</td>\n",
       "    </tr>\n",
       "    <tr>\n",
       "      <th>1</th>\n",
       "      <td>21</td>\n",
       "      <td>23.177279</td>\n",
       "    </tr>\n",
       "    <tr>\n",
       "      <th>2</th>\n",
       "      <td>22</td>\n",
       "      <td>25.609262</td>\n",
       "    </tr>\n",
       "    <tr>\n",
       "      <th>3</th>\n",
       "      <td>20</td>\n",
       "      <td>17.857388</td>\n",
       "    </tr>\n",
       "    <tr>\n",
       "      <th>4</th>\n",
       "      <td>36</td>\n",
       "      <td>41.849864</td>\n",
       "    </tr>\n",
       "  </tbody>\n",
       "</table>\n",
       "</div>"
      ],
      "text/plain": [
       "    x          y\n",
       "0  77  79.775152\n",
       "1  21  23.177279\n",
       "2  22  25.609262\n",
       "3  20  17.857388\n",
       "4  36  41.849864"
      ]
     },
     "execution_count": 188,
     "metadata": {},
     "output_type": "execute_result"
    }
   ],
   "source": [
    "df = pd.read_csv(\"C:/Data/test2.csv\")\n",
    "df.head()"
   ]
  },
  {
   "cell_type": "code",
   "execution_count": 189,
   "metadata": {
    "ExecuteTime": {
     "end_time": "2021-04-26T06:36:40.218943Z",
     "start_time": "2021-04-26T06:36:40.202962Z"
    }
   },
   "outputs": [],
   "source": [
    "x = df[\"x\"].values.reshape(-1,1)\n",
    "y = df[\"y\"].values"
   ]
  },
  {
   "cell_type": "code",
   "execution_count": 190,
   "metadata": {
    "ExecuteTime": {
     "end_time": "2021-04-26T06:36:40.527680Z",
     "start_time": "2021-04-26T06:36:40.515681Z"
    }
   },
   "outputs": [],
   "source": [
    "lr = LinearRegression(fit_intercept=True)"
   ]
  },
  {
   "cell_type": "code",
   "execution_count": 191,
   "metadata": {
    "ExecuteTime": {
     "end_time": "2021-04-26T06:36:40.794090Z",
     "start_time": "2021-04-26T06:36:40.777100Z"
    }
   },
   "outputs": [],
   "source": [
    "lr.fit(x,y)"
   ]
  },
  {
   "cell_type": "code",
   "execution_count": 192,
   "metadata": {
    "ExecuteTime": {
     "end_time": "2021-04-26T06:36:41.077678Z",
     "start_time": "2021-04-26T06:36:41.051686Z"
    }
   },
   "outputs": [
    {
     "data": {
      "text/plain": [
       "(300,)"
      ]
     },
     "execution_count": 192,
     "metadata": {},
     "output_type": "execute_result"
    }
   ],
   "source": [
    "y.shape"
   ]
  },
  {
   "cell_type": "code",
   "execution_count": 193,
   "metadata": {
    "ExecuteTime": {
     "end_time": "2021-04-26T06:36:41.313986Z",
     "start_time": "2021-04-26T06:36:41.300988Z"
    }
   },
   "outputs": [],
   "source": [
    "lr.fit(x,y)"
   ]
  },
  {
   "cell_type": "code",
   "execution_count": 194,
   "metadata": {
    "ExecuteTime": {
     "end_time": "2021-04-26T06:36:41.548964Z",
     "start_time": "2021-04-26T06:36:41.527975Z"
    }
   },
   "outputs": [
    {
     "data": {
      "text/plain": [
       "-0.46181077366111367"
      ]
     },
     "execution_count": 194,
     "metadata": {},
     "output_type": "execute_result"
    }
   ],
   "source": [
    "lr.intercept"
   ]
  },
  {
   "cell_type": "code",
   "execution_count": 195,
   "metadata": {
    "ExecuteTime": {
     "end_time": "2021-04-26T06:36:41.815656Z",
     "start_time": "2021-04-26T06:36:41.797622Z"
    },
    "scrolled": true
   },
   "outputs": [
    {
     "data": {
      "text/plain": [
       "array([1.01433536])"
      ]
     },
     "execution_count": 195,
     "metadata": {},
     "output_type": "execute_result"
    }
   ],
   "source": [
    "lr.coef"
   ]
  },
  {
   "cell_type": "code",
   "execution_count": 196,
   "metadata": {
    "ExecuteTime": {
     "end_time": "2021-04-26T06:36:42.424400Z",
     "start_time": "2021-04-26T06:36:42.414596Z"
    }
   },
   "outputs": [
    {
     "data": {
      "text/plain": [
       "array([77.64201157, 20.83923168, 21.85356704, 19.82489633, 36.05426201,\n",
       "       14.75321955, 62.42698124, 95.90004796, 19.82489633,  4.609866  ])"
      ]
     },
     "execution_count": 196,
     "metadata": {},
     "output_type": "execute_result"
    }
   ],
   "source": [
    "lr.predict(x)[:10]"
   ]
  },
  {
   "cell_type": "markdown",
   "metadata": {},
   "source": [
    "### Validation"
   ]
  },
  {
   "cell_type": "code",
   "execution_count": 197,
   "metadata": {
    "ExecuteTime": {
     "end_time": "2021-04-26T06:36:43.028588Z",
     "start_time": "2021-04-26T06:36:43.019595Z"
    }
   },
   "outputs": [
    {
     "data": {
      "text/plain": [
       "LinearRegression()"
      ]
     },
     "execution_count": 197,
     "metadata": {},
     "output_type": "execute_result"
    }
   ],
   "source": [
    "from sklearn import linear_model\n",
    "sk_lr = linear_model.LinearRegression(normalize=False)\n",
    "sk_lr.fit(x,y)"
   ]
  },
  {
   "cell_type": "code",
   "execution_count": 198,
   "metadata": {
    "ExecuteTime": {
     "end_time": "2021-04-26T06:36:43.328289Z",
     "start_time": "2021-04-26T06:36:43.319611Z"
    }
   },
   "outputs": [
    {
     "data": {
      "text/plain": [
       "-0.4618107736611776"
      ]
     },
     "execution_count": 198,
     "metadata": {},
     "output_type": "execute_result"
    }
   ],
   "source": [
    "sk_lr.intercept_"
   ]
  },
  {
   "cell_type": "code",
   "execution_count": 199,
   "metadata": {
    "ExecuteTime": {
     "end_time": "2021-04-26T06:36:43.687292Z",
     "start_time": "2021-04-26T06:36:43.673285Z"
    }
   },
   "outputs": [],
   "source": [
    "import numpy.testing as npt\n",
    "npt.assert_almost_equal(sk_lr.intercept_, lr.intercept)"
   ]
  },
  {
   "cell_type": "code",
   "execution_count": 201,
   "metadata": {
    "ExecuteTime": {
     "end_time": "2021-04-26T06:36:50.875856Z",
     "start_time": "2021-04-26T06:36:50.869868Z"
    }
   },
   "outputs": [
    {
     "data": {
      "text/plain": [
       "array([1.01433536])"
      ]
     },
     "execution_count": 201,
     "metadata": {},
     "output_type": "execute_result"
    }
   ],
   "source": [
    "sk_lr.coef_"
   ]
  },
  {
   "cell_type": "code",
   "execution_count": 204,
   "metadata": {
    "ExecuteTime": {
     "end_time": "2021-04-26T06:38:07.731320Z",
     "start_time": "2021-04-26T06:38:07.722061Z"
    }
   },
   "outputs": [],
   "source": [
    "X_test = df[\"x\"].values.reshape(-1,1)"
   ]
  },
  {
   "cell_type": "code",
   "execution_count": 206,
   "metadata": {
    "ExecuteTime": {
     "end_time": "2021-04-26T06:38:17.763596Z",
     "start_time": "2021-04-26T06:38:17.745425Z"
    }
   },
   "outputs": [
    {
     "data": {
      "text/plain": [
       "array([77.64201157, 20.83923168, 21.85356704, 19.82489633, 36.05426201])"
      ]
     },
     "execution_count": 206,
     "metadata": {},
     "output_type": "execute_result"
    }
   ],
   "source": [
    "lr.predict(X_test)[:5]"
   ]
  },
  {
   "cell_type": "code",
   "execution_count": 205,
   "metadata": {
    "ExecuteTime": {
     "end_time": "2021-04-26T06:38:09.454029Z",
     "start_time": "2021-04-26T06:38:09.437871Z"
    }
   },
   "outputs": [
    {
     "data": {
      "text/plain": [
       "array([77.64201157, 20.83923168, 21.85356704, 19.82489633, 36.05426201])"
      ]
     },
     "execution_count": 205,
     "metadata": {},
     "output_type": "execute_result"
    }
   ],
   "source": [
    "sk_lr.predict(X_test)[:5]"
   ]
  },
  {
   "cell_type": "markdown",
   "metadata": {},
   "source": [
    "### Load Dataset"
   ]
  },
  {
   "cell_type": "code",
   "execution_count": 209,
   "metadata": {
    "ExecuteTime": {
     "end_time": "2021-04-26T06:39:26.399591Z",
     "start_time": "2021-04-26T06:39:26.383685Z"
    }
   },
   "outputs": [
    {
     "data": {
      "text/html": [
       "<div>\n",
       "<style scoped>\n",
       "    .dataframe tbody tr th:only-of-type {\n",
       "        vertical-align: middle;\n",
       "    }\n",
       "\n",
       "    .dataframe tbody tr th {\n",
       "        vertical-align: top;\n",
       "    }\n",
       "\n",
       "    .dataframe thead th {\n",
       "        text-align: right;\n",
       "    }\n",
       "</style>\n",
       "<table border=\"1\" class=\"dataframe\">\n",
       "  <thead>\n",
       "    <tr style=\"text-align: right;\">\n",
       "      <th></th>\n",
       "      <th>height_in_feet</th>\n",
       "      <th>weight_in_pounds</th>\n",
       "      <th>successful_field_goals</th>\n",
       "      <th>percent_of_successful_free_throws</th>\n",
       "      <th>average_points_scored</th>\n",
       "    </tr>\n",
       "  </thead>\n",
       "  <tbody>\n",
       "    <tr>\n",
       "      <th>0</th>\n",
       "      <td>6.8</td>\n",
       "      <td>225</td>\n",
       "      <td>0.442</td>\n",
       "      <td>0.672</td>\n",
       "      <td>9.2</td>\n",
       "    </tr>\n",
       "    <tr>\n",
       "      <th>1</th>\n",
       "      <td>6.3</td>\n",
       "      <td>180</td>\n",
       "      <td>0.435</td>\n",
       "      <td>0.797</td>\n",
       "      <td>11.7</td>\n",
       "    </tr>\n",
       "    <tr>\n",
       "      <th>2</th>\n",
       "      <td>6.4</td>\n",
       "      <td>190</td>\n",
       "      <td>0.456</td>\n",
       "      <td>0.761</td>\n",
       "      <td>15.8</td>\n",
       "    </tr>\n",
       "    <tr>\n",
       "      <th>3</th>\n",
       "      <td>6.2</td>\n",
       "      <td>180</td>\n",
       "      <td>0.416</td>\n",
       "      <td>0.651</td>\n",
       "      <td>8.6</td>\n",
       "    </tr>\n",
       "    <tr>\n",
       "      <th>4</th>\n",
       "      <td>6.9</td>\n",
       "      <td>205</td>\n",
       "      <td>0.449</td>\n",
       "      <td>0.900</td>\n",
       "      <td>23.2</td>\n",
       "    </tr>\n",
       "  </tbody>\n",
       "</table>\n",
       "</div>"
      ],
      "text/plain": [
       "   height_in_feet  weight_in_pounds  successful_field_goals  \\\n",
       "0             6.8               225                   0.442   \n",
       "1             6.3               180                   0.435   \n",
       "2             6.4               190                   0.456   \n",
       "3             6.2               180                   0.416   \n",
       "4             6.9               205                   0.449   \n",
       "\n",
       "   percent_of_successful_free_throws  average_points_scored  \n",
       "0                              0.672                    9.2  \n",
       "1                              0.797                   11.7  \n",
       "2                              0.761                   15.8  \n",
       "3                              0.651                    8.6  \n",
       "4                              0.900                   23.2  "
      ]
     },
     "execution_count": 209,
     "metadata": {},
     "output_type": "execute_result"
    }
   ],
   "source": [
    "df = pd.read_csv(\"C:/Data/mlr09.csv\")\n",
    "df.head()"
   ]
  },
  {
   "cell_type": "code",
   "execution_count": 212,
   "metadata": {
    "ExecuteTime": {
     "end_time": "2021-04-26T06:39:50.574816Z",
     "start_time": "2021-04-26T06:39:50.554770Z"
    }
   },
   "outputs": [
    {
     "data": {
      "text/plain": [
       "array([ 9.2, 11.7, 15.8,  8.6, 23.2, 27.4,  9.3, 16. ,  4.7, 12.5, 20.1,\n",
       "        9.1,  8.1,  8.6, 20.3, 25. , 19.2,  3.3, 11.2, 10.5, 10.1,  7.2,\n",
       "       13.6,  9. , 24.6, 12.6,  5.6,  8.7,  7.7, 24.1, 11.7,  7.7,  9.6,\n",
       "        7.2, 12.3,  8.9, 13.6, 11.2,  2.8,  3.2,  9.4, 11.9, 15.4,  7.4,\n",
       "       18.9,  7.9, 12.2, 11. ,  2.8, 11.8, 17.1, 11.6,  5.8,  8.3])"
      ]
     },
     "execution_count": 212,
     "metadata": {},
     "output_type": "execute_result"
    }
   ],
   "source": [
    "y = df[\"average_points_scored\"].values\n",
    "y"
   ]
  },
  {
   "cell_type": "code",
   "execution_count": 213,
   "metadata": {
    "ExecuteTime": {
     "end_time": "2021-04-26T06:40:01.743938Z",
     "start_time": "2021-04-26T06:40:01.728129Z"
    }
   },
   "outputs": [
    {
     "data": {
      "text/html": [
       "<div>\n",
       "<style scoped>\n",
       "    .dataframe tbody tr th:only-of-type {\n",
       "        vertical-align: middle;\n",
       "    }\n",
       "\n",
       "    .dataframe tbody tr th {\n",
       "        vertical-align: top;\n",
       "    }\n",
       "\n",
       "    .dataframe thead th {\n",
       "        text-align: right;\n",
       "    }\n",
       "</style>\n",
       "<table border=\"1\" class=\"dataframe\">\n",
       "  <thead>\n",
       "    <tr style=\"text-align: right;\">\n",
       "      <th></th>\n",
       "      <th>height_in_feet</th>\n",
       "      <th>weight_in_pounds</th>\n",
       "      <th>successful_field_goals</th>\n",
       "      <th>percent_of_successful_free_throws</th>\n",
       "    </tr>\n",
       "  </thead>\n",
       "  <tbody>\n",
       "    <tr>\n",
       "      <th>0</th>\n",
       "      <td>6.8</td>\n",
       "      <td>225</td>\n",
       "      <td>0.442</td>\n",
       "      <td>0.672</td>\n",
       "    </tr>\n",
       "    <tr>\n",
       "      <th>1</th>\n",
       "      <td>6.3</td>\n",
       "      <td>180</td>\n",
       "      <td>0.435</td>\n",
       "      <td>0.797</td>\n",
       "    </tr>\n",
       "    <tr>\n",
       "      <th>2</th>\n",
       "      <td>6.4</td>\n",
       "      <td>190</td>\n",
       "      <td>0.456</td>\n",
       "      <td>0.761</td>\n",
       "    </tr>\n",
       "    <tr>\n",
       "      <th>3</th>\n",
       "      <td>6.2</td>\n",
       "      <td>180</td>\n",
       "      <td>0.416</td>\n",
       "      <td>0.651</td>\n",
       "    </tr>\n",
       "    <tr>\n",
       "      <th>4</th>\n",
       "      <td>6.9</td>\n",
       "      <td>205</td>\n",
       "      <td>0.449</td>\n",
       "      <td>0.900</td>\n",
       "    </tr>\n",
       "  </tbody>\n",
       "</table>\n",
       "</div>"
      ],
      "text/plain": [
       "   height_in_feet  weight_in_pounds  successful_field_goals  \\\n",
       "0             6.8               225                   0.442   \n",
       "1             6.3               180                   0.435   \n",
       "2             6.4               190                   0.456   \n",
       "3             6.2               180                   0.416   \n",
       "4             6.9               205                   0.449   \n",
       "\n",
       "   percent_of_successful_free_throws  \n",
       "0                              0.672  \n",
       "1                              0.797  \n",
       "2                              0.761  \n",
       "3                              0.651  \n",
       "4                              0.900  "
      ]
     },
     "execution_count": 213,
     "metadata": {},
     "output_type": "execute_result"
    }
   ],
   "source": [
    "df.iloc[:,:-1].head()"
   ]
  },
  {
   "cell_type": "code",
   "execution_count": 214,
   "metadata": {
    "ExecuteTime": {
     "end_time": "2021-04-26T06:41:49.396118Z",
     "start_time": "2021-04-26T06:41:49.386890Z"
    }
   },
   "outputs": [],
   "source": [
    "X = df.iloc[:,:-1].values"
   ]
  },
  {
   "cell_type": "code",
   "execution_count": 215,
   "metadata": {
    "ExecuteTime": {
     "end_time": "2021-04-26T06:41:52.398177Z",
     "start_time": "2021-04-26T06:41:52.387172Z"
    },
    "scrolled": true
   },
   "outputs": [
    {
     "data": {
      "text/plain": [
       "array([[  6.8  , 225.   ,   0.442,   0.672],\n",
       "       [  6.3  , 180.   ,   0.435,   0.797],\n",
       "       [  6.4  , 190.   ,   0.456,   0.761],\n",
       "       [  6.2  , 180.   ,   0.416,   0.651],\n",
       "       [  6.9  , 205.   ,   0.449,   0.9  ]])"
      ]
     },
     "execution_count": 215,
     "metadata": {},
     "output_type": "execute_result"
    }
   ],
   "source": [
    "X[:5]"
   ]
  },
  {
   "cell_type": "markdown",
   "metadata": {},
   "source": [
    "### Rescaled"
   ]
  },
  {
   "cell_type": "code",
   "execution_count": 221,
   "metadata": {
    "ExecuteTime": {
     "end_time": "2021-04-26T06:43:12.297548Z",
     "start_time": "2021-04-26T06:43:12.285495Z"
    }
   },
   "outputs": [],
   "source": [
    "mu_X = np.mean(X, axis=0)\n",
    "std_X = np.std(X, axis=0)\n",
    "\n",
    "rescaled_X = (X - mu_X) / std_X"
   ]
  },
  {
   "cell_type": "code",
   "execution_count": 219,
   "metadata": {
    "ExecuteTime": {
     "end_time": "2021-04-26T06:42:56.251963Z",
     "start_time": "2021-04-26T06:42:56.242288Z"
    }
   },
   "outputs": [
    {
     "data": {
      "text/plain": [
       "array([  6.58703704, 209.90740741,   0.44911111,   0.74185185])"
      ]
     },
     "execution_count": 219,
     "metadata": {},
     "output_type": "execute_result"
    }
   ],
   "source": [
    "mu_X"
   ]
  },
  {
   "cell_type": "code",
   "execution_count": 217,
   "metadata": {
    "ExecuteTime": {
     "end_time": "2021-04-26T06:42:45.713649Z",
     "start_time": "2021-04-26T06:42:45.699568Z"
    }
   },
   "outputs": [
    {
     "data": {
      "text/plain": [
       "array([[ 0.46843663,  0.50336336, -0.12692668, -0.70404955],\n",
       "       [-0.63137111, -0.99746237, -0.25187012,  0.55584824],\n",
       "       [-0.41140956, -0.66394554,  0.12296022,  0.19299768],\n",
       "       [-0.85133266, -0.99746237, -0.59100234, -0.91571238],\n",
       "       [ 0.68839818, -0.1636703 , -0.00198323,  1.59400403]])"
      ]
     },
     "execution_count": 217,
     "metadata": {},
     "output_type": "execute_result"
    }
   ],
   "source": [
    "rescaled_X[:5]"
   ]
  },
  {
   "cell_type": "markdown",
   "metadata": {},
   "source": [
    "### Validation"
   ]
  },
  {
   "cell_type": "code",
   "execution_count": 222,
   "metadata": {
    "ExecuteTime": {
     "end_time": "2021-04-26T06:44:00.609940Z",
     "start_time": "2021-04-26T06:44:00.600897Z"
    }
   },
   "outputs": [],
   "source": [
    "lr.fit(rescaled_X,y)"
   ]
  },
  {
   "cell_type": "code",
   "execution_count": 223,
   "metadata": {
    "ExecuteTime": {
     "end_time": "2021-04-26T06:44:05.506436Z",
     "start_time": "2021-04-26T06:44:05.497169Z"
    }
   },
   "outputs": [
    {
     "data": {
      "text/plain": [
       "array([-1.67779283,  0.28359762,  2.68586629,  1.12816882])"
      ]
     },
     "execution_count": 223,
     "metadata": {},
     "output_type": "execute_result"
    }
   ],
   "source": [
    "lr.coef"
   ]
  },
  {
   "cell_type": "code",
   "execution_count": 225,
   "metadata": {
    "ExecuteTime": {
     "end_time": "2021-04-26T06:44:11.218178Z",
     "start_time": "2021-04-26T06:44:11.209901Z"
    }
   },
   "outputs": [
    {
     "data": {
      "text/plain": [
       "11.790740740740738"
      ]
     },
     "execution_count": 225,
     "metadata": {},
     "output_type": "execute_result"
    }
   ],
   "source": [
    "lr.intercept"
   ]
  },
  {
   "cell_type": "code",
   "execution_count": 226,
   "metadata": {
    "ExecuteTime": {
     "end_time": "2021-04-26T06:44:22.229861Z",
     "start_time": "2021-04-26T06:44:22.219726Z"
    }
   },
   "outputs": [
    {
     "data": {
      "text/plain": [
       "LinearRegression()"
      ]
     },
     "execution_count": 226,
     "metadata": {},
     "output_type": "execute_result"
    }
   ],
   "source": [
    "sk_lr.fit(rescaled_X,y)"
   ]
  },
  {
   "cell_type": "code",
   "execution_count": 227,
   "metadata": {
    "ExecuteTime": {
     "end_time": "2021-04-26T06:44:28.315277Z",
     "start_time": "2021-04-26T06:44:28.295238Z"
    }
   },
   "outputs": [
    {
     "data": {
      "text/plain": [
       "array([-1.67779283,  0.28359762,  2.68586629,  1.12816882])"
      ]
     },
     "execution_count": 227,
     "metadata": {},
     "output_type": "execute_result"
    }
   ],
   "source": [
    "sk_lr.coef_"
   ]
  },
  {
   "cell_type": "code",
   "execution_count": 228,
   "metadata": {
    "ExecuteTime": {
     "end_time": "2021-04-26T06:44:34.377778Z",
     "start_time": "2021-04-26T06:44:34.363818Z"
    }
   },
   "outputs": [
    {
     "data": {
      "text/plain": [
       "11.790740740740736"
      ]
     },
     "execution_count": 228,
     "metadata": {},
     "output_type": "execute_result"
    }
   ],
   "source": [
    "sk_lr.intercept_"
   ]
  },
  {
   "cell_type": "markdown",
   "metadata": {},
   "source": [
    "### Linear Regression with sklearn"
   ]
  },
  {
   "cell_type": "code",
   "execution_count": 3,
   "metadata": {
    "ExecuteTime": {
     "end_time": "2021-04-27T07:27:43.358451Z",
     "start_time": "2021-04-27T07:27:41.259476Z"
    }
   },
   "outputs": [],
   "source": [
    "from sklearn.datasets import load_boston\n",
    "import matplotlib.pyplot as plt\n",
    "import numpy as np"
   ]
  },
  {
   "cell_type": "code",
   "execution_count": 234,
   "metadata": {
    "ExecuteTime": {
     "end_time": "2021-04-26T08:57:59.118444Z",
     "start_time": "2021-04-26T08:57:59.099611Z"
    }
   },
   "outputs": [],
   "source": [
    "boston = load_boston()"
   ]
  },
  {
   "cell_type": "code",
   "execution_count": 235,
   "metadata": {
    "ExecuteTime": {
     "end_time": "2021-04-26T08:58:07.422823Z",
     "start_time": "2021-04-26T08:58:07.413273Z"
    }
   },
   "outputs": [
    {
     "data": {
      "text/plain": [
       "dict_keys(['data', 'target', 'feature_names', 'DESCR', 'filename'])"
      ]
     },
     "execution_count": 235,
     "metadata": {},
     "output_type": "execute_result"
    }
   ],
   "source": [
    "boston.keys()"
   ]
  },
  {
   "cell_type": "code",
   "execution_count": 240,
   "metadata": {
    "ExecuteTime": {
     "end_time": "2021-04-26T08:59:55.943828Z",
     "start_time": "2021-04-26T08:59:55.934334Z"
    }
   },
   "outputs": [
    {
     "name": "stdout",
     "output_type": "stream",
     "text": [
      "[[6.3200e-03 1.8000e+01 2.3100e+00 ... 1.5300e+01 3.9690e+02 4.9800e+00]\n",
      " [2.7310e-02 0.0000e+00 7.0700e+00 ... 1.7800e+01 3.9690e+02 9.1400e+00]\n",
      " [2.7290e-02 0.0000e+00 7.0700e+00 ... 1.7800e+01 3.9283e+02 4.0300e+00]\n",
      " ...\n",
      " [6.0760e-02 0.0000e+00 1.1930e+01 ... 2.1000e+01 3.9690e+02 5.6400e+00]\n",
      " [1.0959e-01 0.0000e+00 1.1930e+01 ... 2.1000e+01 3.9345e+02 6.4800e+00]\n",
      " [4.7410e-02 0.0000e+00 1.1930e+01 ... 2.1000e+01 3.9690e+02 7.8800e+00]]\n"
     ]
    }
   ],
   "source": [
    "print(boston[\"data\"])"
   ]
  },
  {
   "cell_type": "code",
   "execution_count": 241,
   "metadata": {
    "ExecuteTime": {
     "end_time": "2021-04-26T09:00:29.953467Z",
     "start_time": "2021-04-26T09:00:29.939365Z"
    }
   },
   "outputs": [
    {
     "data": {
      "text/plain": [
       "array([[6.3200e-03, 1.8000e+01, 2.3100e+00, 0.0000e+00, 5.3800e-01,\n",
       "        6.5750e+00, 6.5200e+01, 4.0900e+00, 1.0000e+00, 2.9600e+02,\n",
       "        1.5300e+01, 3.9690e+02, 4.9800e+00],\n",
       "       [2.7310e-02, 0.0000e+00, 7.0700e+00, 0.0000e+00, 4.6900e-01,\n",
       "        6.4210e+00, 7.8900e+01, 4.9671e+00, 2.0000e+00, 2.4200e+02,\n",
       "        1.7800e+01, 3.9690e+02, 9.1400e+00],\n",
       "       [2.7290e-02, 0.0000e+00, 7.0700e+00, 0.0000e+00, 4.6900e-01,\n",
       "        7.1850e+00, 6.1100e+01, 4.9671e+00, 2.0000e+00, 2.4200e+02,\n",
       "        1.7800e+01, 3.9283e+02, 4.0300e+00]])"
      ]
     },
     "execution_count": 241,
     "metadata": {},
     "output_type": "execute_result"
    }
   ],
   "source": [
    "x_data = boston.data\n",
    "y_data = boston.target.reshape(boston.target.size,1)\n",
    "\n",
    "x_data[:3]"
   ]
  },
  {
   "cell_type": "code",
   "execution_count": 243,
   "metadata": {
    "ExecuteTime": {
     "end_time": "2021-04-26T09:01:47.563672Z",
     "start_time": "2021-04-26T09:01:47.537626Z"
    }
   },
   "outputs": [
    {
     "data": {
      "text/plain": [
       "array([[0.00000000e+00, 1.80000000e-01, 6.78152493e-02, 0.00000000e+00,\n",
       "        3.14814815e-01, 5.77505269e-01, 6.41606591e-01, 2.69203139e-01,\n",
       "        0.00000000e+00, 2.08015267e-01, 2.87234043e-01, 1.00000000e+00,\n",
       "        8.96799117e-02],\n",
       "       [2.35922539e-04, 0.00000000e+00, 2.42302053e-01, 0.00000000e+00,\n",
       "        1.72839506e-01, 5.47997701e-01, 7.82698249e-01, 3.48961980e-01,\n",
       "        4.34782609e-02, 1.04961832e-01, 5.53191489e-01, 1.00000000e+00,\n",
       "        2.04470199e-01],\n",
       "       [2.35697744e-04, 0.00000000e+00, 2.42302053e-01, 0.00000000e+00,\n",
       "        1.72839506e-01, 6.94385898e-01, 5.99382080e-01, 3.48961980e-01,\n",
       "        4.34782609e-02, 1.04961832e-01, 5.53191489e-01, 9.89737254e-01,\n",
       "        6.34657837e-02]])"
      ]
     },
     "execution_count": 243,
     "metadata": {},
     "output_type": "execute_result"
    }
   ],
   "source": [
    "from sklearn import preprocessing\n",
    "\n",
    "minmax_scale = preprocessing.MinMaxScaler().fit(x_data)\n",
    "x_scaled_data = minmax_scale.transform(x_data)\n",
    "\n",
    "x_scaled_data[:3]"
   ]
  },
  {
   "cell_type": "code",
   "execution_count": 263,
   "metadata": {
    "ExecuteTime": {
     "end_time": "2021-04-26T09:12:01.508277Z",
     "start_time": "2021-04-26T09:12:01.475538Z"
    }
   },
   "outputs": [
    {
     "data": {
      "text/plain": [
       "LinearRegression(n_jobs=8)"
      ]
     },
     "execution_count": 263,
     "metadata": {},
     "output_type": "execute_result"
    }
   ],
   "source": [
    "from sklearn import linear_model\n",
    "\n",
    "regr = linear_model.LinearRegression(fit_intercept=True,\n",
    "                                    normalize=False,\n",
    "                                    copy_X=True,\n",
    "                                    n_jobs=8)\n",
    "\n",
    "regr.fit(x_scaled_data, y_data)\n",
    "regr"
   ]
  },
  {
   "cell_type": "code",
   "execution_count": 248,
   "metadata": {
    "ExecuteTime": {
     "end_time": "2021-04-26T09:03:46.812136Z",
     "start_time": "2021-04-26T09:03:46.800848Z"
    }
   },
   "outputs": [
    {
     "data": {
      "text/plain": [
       "array([[ -9.60975755,   4.64204584,   0.56083933,   2.68673382,\n",
       "         -8.63457306,  19.88368651,   0.06721501, -16.22666104,\n",
       "          7.03913802,  -6.46332721,  -8.95582398,   3.69282735,\n",
       "        -19.01724361]])"
      ]
     },
     "execution_count": 248,
     "metadata": {},
     "output_type": "execute_result"
    }
   ],
   "source": [
    "regr.coef_"
   ]
  },
  {
   "cell_type": "code",
   "execution_count": 249,
   "metadata": {
    "ExecuteTime": {
     "end_time": "2021-04-26T09:03:52.132432Z",
     "start_time": "2021-04-26T09:03:52.120433Z"
    }
   },
   "outputs": [
    {
     "data": {
      "text/plain": [
       "array([26.62026758])"
      ]
     },
     "execution_count": 249,
     "metadata": {},
     "output_type": "execute_result"
    }
   ],
   "source": [
    "regr.intercept_"
   ]
  },
  {
   "cell_type": "code",
   "execution_count": 254,
   "metadata": {
    "ExecuteTime": {
     "end_time": "2021-04-26T09:06:47.332745Z",
     "start_time": "2021-04-26T09:06:47.321728Z"
    }
   },
   "outputs": [
    {
     "data": {
      "text/plain": [
       "array([[30.00384338],\n",
       "       [25.02556238],\n",
       "       [30.56759672],\n",
       "       [28.60703649],\n",
       "       [27.94352423],\n",
       "       [25.25628446],\n",
       "       [23.00180827],\n",
       "       [19.53598843],\n",
       "       [11.52363685],\n",
       "       [18.92026211]])"
      ]
     },
     "execution_count": 254,
     "metadata": {},
     "output_type": "execute_result"
    }
   ],
   "source": [
    "regr.predict(x_scaled_data[:10])"
   ]
  },
  {
   "cell_type": "code",
   "execution_count": 266,
   "metadata": {
    "ExecuteTime": {
     "end_time": "2021-04-26T09:13:49.275993Z",
     "start_time": "2021-04-26T09:13:49.267407Z"
    }
   },
   "outputs": [],
   "source": [
    "from sklearn.model_selection import train_test_split\n",
    "\n",
    "X_train, X_test, y_train, y_test =train_test_split(x_scaled_data, y_data, test_size=0.2)"
   ]
  },
  {
   "cell_type": "code",
   "execution_count": 267,
   "metadata": {
    "ExecuteTime": {
     "end_time": "2021-04-26T09:13:49.430685Z",
     "start_time": "2021-04-26T09:13:49.409593Z"
    }
   },
   "outputs": [
    {
     "data": {
      "text/plain": [
       "LinearRegression(n_jobs=8)"
      ]
     },
     "execution_count": 267,
     "metadata": {},
     "output_type": "execute_result"
    }
   ],
   "source": [
    "from sklearn import linear_model\n",
    "\n",
    "regr = linear_model.LinearRegression(fit_intercept=True,\n",
    "                                    normalize=False,\n",
    "                                    copy_X=True,\n",
    "                                    n_jobs=8)\n",
    "\n",
    "regr.fit(X_train, y_train)\n",
    "regr"
   ]
  },
  {
   "cell_type": "code",
   "execution_count": 269,
   "metadata": {
    "ExecuteTime": {
     "end_time": "2021-04-26T09:15:34.106318Z",
     "start_time": "2021-04-26T09:15:34.098108Z"
    }
   },
   "outputs": [],
   "source": [
    "y_true = y_test\n",
    "y_pred = regr.predict(X_test)"
   ]
  },
  {
   "cell_type": "code",
   "execution_count": 270,
   "metadata": {
    "ExecuteTime": {
     "end_time": "2021-04-26T09:15:34.247408Z",
     "start_time": "2021-04-26T09:15:34.237312Z"
    }
   },
   "outputs": [
    {
     "data": {
      "text/plain": [
       "5.311009812970682"
      ]
     },
     "execution_count": 270,
     "metadata": {},
     "output_type": "execute_result"
    }
   ],
   "source": [
    "np.sqrt(((y_true - y_pred)** 2).sum()/len(y_true))"
   ]
  },
  {
   "cell_type": "code",
   "execution_count": 271,
   "metadata": {
    "ExecuteTime": {
     "end_time": "2021-04-26T09:16:12.571305Z",
     "start_time": "2021-04-26T09:16:12.560646Z"
    }
   },
   "outputs": [
    {
     "data": {
      "text/plain": [
       "5.311009812970682"
      ]
     },
     "execution_count": 271,
     "metadata": {},
     "output_type": "execute_result"
    }
   ],
   "source": [
    "from sklearn.metrics import mean_squared_error\n",
    "np.sqrt(mean_squared_error(y_true, y_pred))"
   ]
  },
  {
   "cell_type": "markdown",
   "metadata": {},
   "source": [
    "### sklearn lr"
   ]
  },
  {
   "cell_type": "code",
   "execution_count": 4,
   "metadata": {
    "ExecuteTime": {
     "end_time": "2021-04-27T07:28:12.559633Z",
     "start_time": "2021-04-27T07:28:12.542616Z"
    }
   },
   "outputs": [],
   "source": [
    "%matplotlib inline\n",
    "\n",
    "import numpy as np\n",
    "import pandas as pd\n",
    "import matplotlib.pyplot as plt"
   ]
  },
  {
   "cell_type": "code",
   "execution_count": 14,
   "metadata": {
    "ExecuteTime": {
     "end_time": "2021-04-27T07:31:08.434572Z",
     "start_time": "2021-04-27T07:31:08.410253Z"
    }
   },
   "outputs": [],
   "source": [
    "from sklearn.datasets import load_boston\n",
    "boston = load_boston()"
   ]
  },
  {
   "cell_type": "code",
   "execution_count": 9,
   "metadata": {
    "ExecuteTime": {
     "end_time": "2021-04-27T07:29:51.100064Z",
     "start_time": "2021-04-27T07:29:51.080664Z"
    }
   },
   "outputs": [
    {
     "data": {
      "text/plain": [
       "array(['CRIM', 'ZN', 'INDUS', 'CHAS', 'NOX', 'RM', 'AGE', 'DIS', 'RAD',\n",
       "       'TAX', 'PTRATIO', 'B', 'LSTAT'], dtype='<U7')"
      ]
     },
     "execution_count": 9,
     "metadata": {},
     "output_type": "execute_result"
    }
   ],
   "source": [
    "boston.feature_names"
   ]
  },
  {
   "cell_type": "code",
   "execution_count": 10,
   "metadata": {
    "ExecuteTime": {
     "end_time": "2021-04-27T07:30:22.765572Z",
     "start_time": "2021-04-27T07:30:22.744057Z"
    }
   },
   "outputs": [
    {
     "data": {
      "text/html": [
       "<div>\n",
       "<style scoped>\n",
       "    .dataframe tbody tr th:only-of-type {\n",
       "        vertical-align: middle;\n",
       "    }\n",
       "\n",
       "    .dataframe tbody tr th {\n",
       "        vertical-align: top;\n",
       "    }\n",
       "\n",
       "    .dataframe thead th {\n",
       "        text-align: right;\n",
       "    }\n",
       "</style>\n",
       "<table border=\"1\" class=\"dataframe\">\n",
       "  <thead>\n",
       "    <tr style=\"text-align: right;\">\n",
       "      <th></th>\n",
       "      <th>CRIM</th>\n",
       "      <th>ZN</th>\n",
       "      <th>INDUS</th>\n",
       "      <th>CHAS</th>\n",
       "      <th>NOX</th>\n",
       "      <th>RM</th>\n",
       "      <th>AGE</th>\n",
       "      <th>DIS</th>\n",
       "      <th>RAD</th>\n",
       "      <th>TAX</th>\n",
       "      <th>PTRATIO</th>\n",
       "      <th>B</th>\n",
       "      <th>LSTAT</th>\n",
       "    </tr>\n",
       "  </thead>\n",
       "  <tbody>\n",
       "    <tr>\n",
       "      <th>0</th>\n",
       "      <td>0.00632</td>\n",
       "      <td>18.0</td>\n",
       "      <td>2.31</td>\n",
       "      <td>0.0</td>\n",
       "      <td>0.538</td>\n",
       "      <td>6.575</td>\n",
       "      <td>65.2</td>\n",
       "      <td>4.0900</td>\n",
       "      <td>1.0</td>\n",
       "      <td>296.0</td>\n",
       "      <td>15.3</td>\n",
       "      <td>396.90</td>\n",
       "      <td>4.98</td>\n",
       "    </tr>\n",
       "    <tr>\n",
       "      <th>1</th>\n",
       "      <td>0.02731</td>\n",
       "      <td>0.0</td>\n",
       "      <td>7.07</td>\n",
       "      <td>0.0</td>\n",
       "      <td>0.469</td>\n",
       "      <td>6.421</td>\n",
       "      <td>78.9</td>\n",
       "      <td>4.9671</td>\n",
       "      <td>2.0</td>\n",
       "      <td>242.0</td>\n",
       "      <td>17.8</td>\n",
       "      <td>396.90</td>\n",
       "      <td>9.14</td>\n",
       "    </tr>\n",
       "    <tr>\n",
       "      <th>2</th>\n",
       "      <td>0.02729</td>\n",
       "      <td>0.0</td>\n",
       "      <td>7.07</td>\n",
       "      <td>0.0</td>\n",
       "      <td>0.469</td>\n",
       "      <td>7.185</td>\n",
       "      <td>61.1</td>\n",
       "      <td>4.9671</td>\n",
       "      <td>2.0</td>\n",
       "      <td>242.0</td>\n",
       "      <td>17.8</td>\n",
       "      <td>392.83</td>\n",
       "      <td>4.03</td>\n",
       "    </tr>\n",
       "    <tr>\n",
       "      <th>3</th>\n",
       "      <td>0.03237</td>\n",
       "      <td>0.0</td>\n",
       "      <td>2.18</td>\n",
       "      <td>0.0</td>\n",
       "      <td>0.458</td>\n",
       "      <td>6.998</td>\n",
       "      <td>45.8</td>\n",
       "      <td>6.0622</td>\n",
       "      <td>3.0</td>\n",
       "      <td>222.0</td>\n",
       "      <td>18.7</td>\n",
       "      <td>394.63</td>\n",
       "      <td>2.94</td>\n",
       "    </tr>\n",
       "    <tr>\n",
       "      <th>4</th>\n",
       "      <td>0.06905</td>\n",
       "      <td>0.0</td>\n",
       "      <td>2.18</td>\n",
       "      <td>0.0</td>\n",
       "      <td>0.458</td>\n",
       "      <td>7.147</td>\n",
       "      <td>54.2</td>\n",
       "      <td>6.0622</td>\n",
       "      <td>3.0</td>\n",
       "      <td>222.0</td>\n",
       "      <td>18.7</td>\n",
       "      <td>396.90</td>\n",
       "      <td>5.33</td>\n",
       "    </tr>\n",
       "  </tbody>\n",
       "</table>\n",
       "</div>"
      ],
      "text/plain": [
       "      CRIM    ZN  INDUS  CHAS    NOX     RM   AGE     DIS  RAD    TAX  \\\n",
       "0  0.00632  18.0   2.31   0.0  0.538  6.575  65.2  4.0900  1.0  296.0   \n",
       "1  0.02731   0.0   7.07   0.0  0.469  6.421  78.9  4.9671  2.0  242.0   \n",
       "2  0.02729   0.0   7.07   0.0  0.469  7.185  61.1  4.9671  2.0  242.0   \n",
       "3  0.03237   0.0   2.18   0.0  0.458  6.998  45.8  6.0622  3.0  222.0   \n",
       "4  0.06905   0.0   2.18   0.0  0.458  7.147  54.2  6.0622  3.0  222.0   \n",
       "\n",
       "   PTRATIO       B  LSTAT  \n",
       "0     15.3  396.90   4.98  \n",
       "1     17.8  396.90   9.14  \n",
       "2     17.8  392.83   4.03  \n",
       "3     18.7  394.63   2.94  \n",
       "4     18.7  396.90   5.33  "
      ]
     },
     "execution_count": 10,
     "metadata": {},
     "output_type": "execute_result"
    }
   ],
   "source": [
    "df = pd.DataFrame(boston.data, columns=boston.feature_names)\n",
    "df.head()"
   ]
  },
  {
   "cell_type": "code",
   "execution_count": 11,
   "metadata": {
    "ExecuteTime": {
     "end_time": "2021-04-27T07:30:34.904412Z",
     "start_time": "2021-04-27T07:30:34.888845Z"
    }
   },
   "outputs": [],
   "source": [
    "x = df.values\n",
    "y = boston.target"
   ]
  },
  {
   "cell_type": "code",
   "execution_count": 19,
   "metadata": {
    "ExecuteTime": {
     "end_time": "2021-04-27T07:33:35.842328Z",
     "start_time": "2021-04-27T07:33:35.838269Z"
    }
   },
   "outputs": [],
   "source": [
    "from sklearn.linear_model import LinearRegression\n",
    "lr_ne = LinearRegression(fit_intercept=True)"
   ]
  },
  {
   "cell_type": "code",
   "execution_count": 20,
   "metadata": {
    "ExecuteTime": {
     "end_time": "2021-04-27T07:33:36.340945Z",
     "start_time": "2021-04-27T07:33:36.325716Z"
    }
   },
   "outputs": [],
   "source": [
    "from sklearn.model_selection import train_test_split\n",
    "X_train,X_test,y_train,y_test = train_test_split(x,y,test_size=0.33, random_state=42)"
   ]
  },
  {
   "cell_type": "code",
   "execution_count": 22,
   "metadata": {
    "ExecuteTime": {
     "end_time": "2021-04-27T07:33:42.337784Z",
     "start_time": "2021-04-27T07:33:42.294851Z"
    }
   },
   "outputs": [
    {
     "data": {
      "text/plain": [
       "LinearRegression()"
      ]
     },
     "execution_count": 22,
     "metadata": {},
     "output_type": "execute_result"
    }
   ],
   "source": [
    "lr_ne.fit(X_train, y_train)"
   ]
  },
  {
   "cell_type": "code",
   "execution_count": 27,
   "metadata": {
    "ExecuteTime": {
     "end_time": "2021-04-27T07:34:30.971014Z",
     "start_time": "2021-04-27T07:34:30.953112Z"
    }
   },
   "outputs": [],
   "source": [
    "y_hat = lr_ne.predict(X_test)\n",
    "y_true = y_test"
   ]
  },
  {
   "cell_type": "code",
   "execution_count": 29,
   "metadata": {
    "ExecuteTime": {
     "end_time": "2021-04-27T07:36:18.251743Z",
     "start_time": "2021-04-27T07:36:18.239742Z"
    }
   },
   "outputs": [
    {
     "data": {
      "text/plain": [
       "4.552364598463056"
      ]
     },
     "execution_count": 29,
     "metadata": {},
     "output_type": "execute_result"
    }
   ],
   "source": [
    "rmse = np.sqrt(((y_hat - y_true)**2).sum() / len(y_true))\n",
    "rmse"
   ]
  },
  {
   "cell_type": "code",
   "execution_count": 31,
   "metadata": {
    "ExecuteTime": {
     "end_time": "2021-04-27T07:36:44.417669Z",
     "start_time": "2021-04-27T07:36:44.401293Z"
    }
   },
   "outputs": [
    {
     "data": {
      "text/plain": [
       "20.724023437339703"
      ]
     },
     "execution_count": 31,
     "metadata": {},
     "output_type": "execute_result"
    }
   ],
   "source": [
    "import sklearn\n",
    "mse = sklearn.metrics.mean_squared_error(y_hat,y_true)\n",
    "mse"
   ]
  },
  {
   "cell_type": "code",
   "execution_count": 32,
   "metadata": {
    "ExecuteTime": {
     "end_time": "2021-04-27T07:38:08.112171Z",
     "start_time": "2021-04-27T07:38:07.623793Z"
    }
   },
   "outputs": [
    {
     "data": {
      "text/plain": [
       "Text(0.5, 1.0, 'Prices vs Predicted prices: $Y_i$ vs $\\\\hat{Y}_i$')"
      ]
     },
     "execution_count": 32,
     "metadata": {},
     "output_type": "execute_result"
    },
    {
     "data": {
      "image/png": "[encoded data removed]",
      "text/plain": [
       "<Figure size 432x288 with 1 Axes>"
      ]
     },
     "metadata": {
      "needs_background": "light"
     },
     "output_type": "display_data"
    }
   ],
   "source": [
    "plt.scatter(y_true, y_hat, s=10)\n",
    "plt.xlabel(\"Prices: $Y_i$\")\n",
    "plt.ylabel(\"Predicted prices: $\\hat{Y}_i$\")\n",
    "plt.title(\"Prices vs Predicted prices: $Y_i$ vs $\\hat{Y}_i$\")"
   ]
  },
  {
   "cell_type": "markdown",
   "metadata": {},
   "source": [
    "### Linear Regression with SGD"
   ]
  },
  {
   "cell_type": "code",
   "execution_count": 59,
   "metadata": {
    "ExecuteTime": {
     "end_time": "2021-04-27T08:00:00.734338Z",
     "start_time": "2021-04-27T08:00:00.647276Z"
    }
   },
   "outputs": [],
   "source": [
    "SGDRegressor?"
   ]
  },
  {
   "cell_type": "code",
   "execution_count": 66,
   "metadata": {
    "ExecuteTime": {
     "end_time": "2021-04-27T08:02:23.330360Z",
     "start_time": "2021-04-27T08:02:23.317968Z"
    }
   },
   "outputs": [],
   "source": [
    "from sklearn.linear_model import SGDRegressor\n",
    "lr_SGD = SGDRegressor(n_iter_no_change=10000, eta0=0.00001, learning_rate=\"constant\")"
   ]
  },
  {
   "cell_type": "code",
   "execution_count": 61,
   "metadata": {
    "ExecuteTime": {
     "end_time": "2021-04-27T08:00:37.993529Z",
     "start_time": "2021-04-27T08:00:37.975399Z"
    }
   },
   "outputs": [],
   "source": [
    "from sklearn.preprocessing import StandardScaler\n",
    "std_scaler = StandardScaler()\n",
    "std_scaler.fit(x)\n",
    "X_scaled = std_scaler.transform(x)"
   ]
  },
  {
   "cell_type": "code",
   "execution_count": 62,
   "metadata": {
    "ExecuteTime": {
     "end_time": "2021-04-27T08:00:38.585281Z",
     "start_time": "2021-04-27T08:00:38.573011Z"
    }
   },
   "outputs": [],
   "source": [
    "from sklearn.model_selection import train_test_split\n",
    "X_train,X_test,y_train,y_test = train_test_split(x,y,test_size=0.33,random_state=42)"
   ]
  },
  {
   "cell_type": "code",
   "execution_count": 63,
   "metadata": {
    "ExecuteTime": {
     "end_time": "2021-04-27T08:00:39.177284Z",
     "start_time": "2021-04-27T08:00:39.124131Z"
    }
   },
   "outputs": [
    {
     "name": "stderr",
     "output_type": "stream",
     "text": [
      "C:\\Users\\ysw29\\anaconda3\\lib\\site-packages\\sklearn\\linear_model\\_stochastic_gradient.py:1208: ConvergenceWarning: Maximum number of iteration reached before convergence. Consider increasing max_iter to improve the fit.\n",
      "  warnings.warn(\"Maximum number of iteration reached before \"\n"
     ]
    },
    {
     "data": {
      "text/plain": [
       "SGDRegressor(eta0=1e-05, learning_rate='constant', n_iter_no_change=10000)"
      ]
     },
     "execution_count": 63,
     "metadata": {},
     "output_type": "execute_result"
    }
   ],
   "source": [
    "lr_SGD.fit(X_train,y_train)"
   ]
  },
  {
   "cell_type": "code",
   "execution_count": 64,
   "metadata": {
    "ExecuteTime": {
     "end_time": "2021-04-27T08:00:41.168145Z",
     "start_time": "2021-04-27T08:00:41.162895Z"
    }
   },
   "outputs": [],
   "source": [
    "y_hat = lr_SGD.predict(X_test)\n",
    "y_true = y_test"
   ]
  },
  {
   "cell_type": "code",
   "execution_count": 65,
   "metadata": {
    "ExecuteTime": {
     "end_time": "2021-04-27T08:00:41.932905Z",
     "start_time": "2021-04-27T08:00:41.898640Z"
    }
   },
   "outputs": [
    {
     "data": {
      "text/plain": [
       "(1.2808451420300067e+23, 357888969099.35724)"
      ]
     },
     "execution_count": 65,
     "metadata": {},
     "output_type": "execute_result"
    }
   ],
   "source": [
    "mse = sklearn.metrics.mean_squared_error(y_hat,y_true)\n",
    "rmse = np.sqrt((((y_hat - y_true)**2).sum()/ len(y_true)))\n",
    "mse, rmse"
   ]
  },
  {
   "cell_type": "code",
   "execution_count": 51,
   "metadata": {
    "ExecuteTime": {
     "end_time": "2021-04-27T07:53:37.559656Z",
     "start_time": "2021-04-27T07:53:37.218634Z"
    }
   },
   "outputs": [
    {
     "data": {
      "text/plain": [
       "Text(0.5, 1.0, 'Prices vs Predicted prices: $Y_i$ vs $\\\\hat{Y}_i$')"
      ]
     },
     "execution_count": 51,
     "metadata": {},
     "output_type": "execute_result"
    },
    {
     "data": {
      "image/png": "[encoded data removed]",
      "text/plain": [
       "<Figure size 432x288 with 1 Axes>"
      ]
     },
     "metadata": {
      "needs_background": "light"
     },
     "output_type": "display_data"
    }
   ],
   "source": [
    "plt.scatter(y_true, y_hat, s=10)\n",
    "plt.xlabel(\"Prices: $Y_i$\")\n",
    "plt.ylabel(\"Predicted prices: $\\hat{Y}_i$\")\n",
    "plt.title(\"Prices vs Predicted prices: $Y_i$ vs $\\hat{Y}_i$\")"
   ]
  },
  {
   "cell_type": "markdown",
   "metadata": {},
   "source": [
    "### Polynomial Feature"
   ]
  },
  {
   "cell_type": "code",
   "execution_count": 6,
   "metadata": {
    "ExecuteTime": {
     "end_time": "2021-04-28T05:31:49.184637Z",
     "start_time": "2021-04-28T05:31:48.388488Z"
    }
   },
   "outputs": [],
   "source": [
    "import numpy as np\n",
    "import matplotlib.pyplot as plt"
   ]
  },
  {
   "cell_type": "code",
   "execution_count": 106,
   "metadata": {
    "ExecuteTime": {
     "end_time": "2021-04-27T08:46:12.100406Z",
     "start_time": "2021-04-27T08:46:12.088955Z"
    }
   },
   "outputs": [],
   "source": [
    "def f(size):\n",
    "    x = np.linspace(0,5,size)\n",
    "    y = x * np.sin(x**2) +1\n",
    "    return(x,y)\n",
    "\n",
    "def sample(size):\n",
    "    x = np.linspace(0, 5, size)\n",
    "    y = x * np.sin(x**2) + 1 + np.random.randn(x.size)*0.5\n",
    "    return(x,y)"
   ]
  },
  {
   "cell_type": "code",
   "execution_count": 107,
   "metadata": {
    "ExecuteTime": {
     "end_time": "2021-04-27T08:46:12.458569Z",
     "start_time": "2021-04-27T08:46:12.284448Z"
    }
   },
   "outputs": [
    {
     "data": {
      "image/png": "[encoded data removed]",
      "text/plain": [
       "<Figure size 432x288 with 1 Axes>"
      ]
     },
     "metadata": {
      "needs_background": "light"
     },
     "output_type": "display_data"
    }
   ],
   "source": [
    "f_x,f_y = f(1000)\n",
    "plt.plot(f_x,f_y)\n",
    "X,y = sample(1000)\n",
    "plt.scatter(X,y,s=3,c=\"black\")\n",
    "plt.show()"
   ]
  },
  {
   "cell_type": "code",
   "execution_count": 108,
   "metadata": {
    "ExecuteTime": {
     "end_time": "2021-04-27T08:46:12.615337Z",
     "start_time": "2021-04-27T08:46:12.607589Z"
    }
   },
   "outputs": [
    {
     "data": {
      "text/plain": [
       "((1000, 1), (1000, 1))"
      ]
     },
     "execution_count": 108,
     "metadata": {},
     "output_type": "execute_result"
    }
   ],
   "source": [
    "X = X.reshape(-1,1)\n",
    "y = y.reshape(-1,1)\n",
    "X.shape, y.shape"
   ]
  },
  {
   "cell_type": "code",
   "execution_count": 109,
   "metadata": {
    "ExecuteTime": {
     "end_time": "2021-04-27T08:46:12.835330Z",
     "start_time": "2021-04-27T08:46:12.816506Z"
    }
   },
   "outputs": [
    {
     "data": {
      "text/plain": [
       "LinearRegression()"
      ]
     },
     "execution_count": 109,
     "metadata": {},
     "output_type": "execute_result"
    }
   ],
   "source": [
    "from sklearn.linear_model import LinearRegression\n",
    "\n",
    "lr = LinearRegression()\n",
    "lr.fit(X,y)"
   ]
  },
  {
   "cell_type": "code",
   "execution_count": 110,
   "metadata": {
    "ExecuteTime": {
     "end_time": "2021-04-27T08:46:13.208907Z",
     "start_time": "2021-04-27T08:46:13.005781Z"
    }
   },
   "outputs": [
    {
     "data": {
      "image/png": "[encoded data removed]",
      "text/plain": [
       "<Figure size 432x288 with 1 Axes>"
      ]
     },
     "metadata": {
      "needs_background": "light"
     },
     "output_type": "display_data"
    }
   ],
   "source": [
    "f_x,f_y = f(1000)\n",
    "plt.plot(f_x,f_y)\n",
    "plt.scatter(X.flatten(),y.flatten(),s=3,c= \"black\")\n",
    "plt.plot(X.flatten(),lr.predict(X).flatten())\n",
    "plt.show()"
   ]
  },
  {
   "cell_type": "code",
   "execution_count": 112,
   "metadata": {
    "ExecuteTime": {
     "end_time": "2021-04-27T08:47:30.083107Z",
     "start_time": "2021-04-27T08:47:30.067337Z"
    }
   },
   "outputs": [
    {
     "data": {
      "text/plain": [
       "array([[1.00000000e+00, 0.00000000e+00, 0.00000000e+00],\n",
       "       [1.00000000e+00, 5.00500501e-03, 2.50500751e-05],\n",
       "       [1.00000000e+00, 1.00100100e-02, 1.00200300e-04],\n",
       "       [1.00000000e+00, 1.50150150e-02, 2.25450676e-04],\n",
       "       [1.00000000e+00, 2.00200200e-02, 4.00801202e-04],\n",
       "       [1.00000000e+00, 2.50250250e-02, 6.26251878e-04],\n",
       "       [1.00000000e+00, 3.00300300e-02, 9.01802704e-04],\n",
       "       [1.00000000e+00, 3.50350350e-02, 1.22745368e-03],\n",
       "       [1.00000000e+00, 4.00400400e-02, 1.60320481e-03],\n",
       "       [1.00000000e+00, 4.50450450e-02, 2.02905608e-03]])"
      ]
     },
     "execution_count": 112,
     "metadata": {},
     "output_type": "execute_result"
    }
   ],
   "source": [
    "from sklearn.preprocessing import PolynomialFeatures\n",
    "\n",
    "poly_features = PolynomialFeatures(degree=2)\n",
    "X_poly = poly_features.fit_transform(X)\n",
    "X_poly[:10]"
   ]
  },
  {
   "cell_type": "code",
   "execution_count": 114,
   "metadata": {
    "ExecuteTime": {
     "end_time": "2021-04-27T08:55:15.129702Z",
     "start_time": "2021-04-27T08:55:15.106011Z"
    }
   },
   "outputs": [
    {
     "data": {
      "text/plain": [
       "LinearRegression(fit_intercept=False)"
      ]
     },
     "execution_count": 114,
     "metadata": {},
     "output_type": "execute_result"
    }
   ],
   "source": [
    "lr = LinearRegression(fit_intercept=False)\n",
    "lr.fit(X_poly,y)"
   ]
  },
  {
   "cell_type": "code",
   "execution_count": 116,
   "metadata": {
    "ExecuteTime": {
     "end_time": "2021-04-27T08:56:17.516653Z",
     "start_time": "2021-04-27T08:56:17.345958Z"
    }
   },
   "outputs": [
    {
     "data": {
      "image/png": "[encoded data removed]",
      "text/plain": [
       "<Figure size 432x288 with 1 Axes>"
      ]
     },
     "metadata": {
      "needs_background": "light"
     },
     "output_type": "display_data"
    }
   ],
   "source": [
    "f_x,f_y = f(1000)\n",
    "plt.plot(f_x,f_y)\n",
    "plt.scatter(X.flatten(),y.flatten(),s=3,c= \"black\")\n",
    "plt.plot(X.flatten(),lr.predict(X_poly).flatten())\n",
    "plt.show()"
   ]
  },
  {
   "cell_type": "code",
   "execution_count": 120,
   "metadata": {
    "ExecuteTime": {
     "end_time": "2021-04-27T09:04:50.461062Z",
     "start_time": "2021-04-27T09:04:50.434508Z"
    }
   },
   "outputs": [
    {
     "data": {
      "text/plain": [
       "array([[1.00000000e+00, 0.00000000e+00, 0.00000000e+00, 0.00000000e+00,\n",
       "        0.00000000e+00, 0.00000000e+00, 0.00000000e+00, 0.00000000e+00,\n",
       "        0.00000000e+00, 0.00000000e+00],\n",
       "       [1.00000000e+00, 5.00500501e-03, 2.50500751e-05, 1.25375751e-07,\n",
       "        6.27506263e-10, 3.14067198e-12, 1.57190790e-14, 7.86740691e-17,\n",
       "        3.93764110e-19, 1.97079134e-21],\n",
       "       [1.00000000e+00, 1.00100100e-02, 1.00200300e-04, 1.00300601e-06,\n",
       "        1.00401002e-08, 1.00501504e-10, 1.00602106e-12, 1.00702808e-14,\n",
       "        1.00803612e-16, 1.00904517e-18]])"
      ]
     },
     "execution_count": 120,
     "metadata": {},
     "output_type": "execute_result"
    }
   ],
   "source": [
    "poly_features = PolynomialFeatures(degree=9)\n",
    "X_poly = poly_features.fit_transform(X)\n",
    "X_poly[:3]"
   ]
  },
  {
   "cell_type": "code",
   "execution_count": 130,
   "metadata": {
    "ExecuteTime": {
     "end_time": "2021-04-27T09:05:54.534809Z",
     "start_time": "2021-04-27T09:05:54.361905Z"
    }
   },
   "outputs": [
    {
     "data": {
      "image/png": "[encoded data removed]",
      "text/plain": [
       "<Figure size 432x288 with 1 Axes>"
      ]
     },
     "metadata": {
      "needs_background": "light"
     },
     "output_type": "display_data"
    }
   ],
   "source": [
    "lr = LinearRegression(fit_intercept=False)\n",
    "lr.fit(X_poly,y)\n",
    "f_x,f_y = f(1000)\n",
    "plt.plot(f_x,f_y)\n",
    "plt.scatter(X.flatten(),y.flatten(),s=3,c= \"black\")\n",
    "plt.plot(X.flatten(),lr.predict(X_poly).flatten())\n",
    "plt.show()"
   ]
  },
  {
   "cell_type": "code",
   "execution_count": 131,
   "metadata": {
    "ExecuteTime": {
     "end_time": "2021-04-27T09:08:40.702510Z",
     "start_time": "2021-04-27T09:08:40.693193Z"
    }
   },
   "outputs": [],
   "source": [
    "def rmse(predictions, targets):\n",
    "    return np.sqrt(((predictions - targets)**2).mean())"
   ]
  },
  {
   "cell_type": "code",
   "execution_count": 132,
   "metadata": {
    "ExecuteTime": {
     "end_time": "2021-04-27T09:16:44.992363Z",
     "start_time": "2021-04-27T09:16:44.055491Z"
    }
   },
   "outputs": [
    {
     "name": "stderr",
     "output_type": "stream",
     "text": [
      "C:\\Users\\ysw29\\anaconda3\\lib\\site-packages\\sklearn\\linear_model\\_coordinate_descent.py:529: ConvergenceWarning: Objective did not converge. You might want to increase the number of iterations. Duality gap: 2449.925079924245, tolerance: 0.5589968267706951\n",
      "  model = cd_fast.enet_coordinate_descent(\n",
      "C:\\Users\\ysw29\\anaconda3\\lib\\site-packages\\sklearn\\linear_model\\_coordinate_descent.py:529: ConvergenceWarning: Objective did not converge. You might want to increase the number of iterations. Duality gap: 2453.7631047730156, tolerance: 0.5589968267706951\n",
      "  model = cd_fast.enet_coordinate_descent(\n",
      "C:\\Users\\ysw29\\anaconda3\\lib\\site-packages\\sklearn\\linear_model\\_ridge.py:147: LinAlgWarning: Ill-conditioned matrix (rcond=4.85539e-18): result may not be accurate.\n",
      "  return linalg.solve(A, Xy, sym_pos=True,\n",
      "C:\\Users\\ysw29\\anaconda3\\lib\\site-packages\\sklearn\\linear_model\\_coordinate_descent.py:529: ConvergenceWarning: Objective did not converge. You might want to increase the number of iterations. Duality gap: 2449.813002352325, tolerance: 0.5589968267706951\n",
      "  model = cd_fast.enet_coordinate_descent(\n",
      "C:\\Users\\ysw29\\anaconda3\\lib\\site-packages\\sklearn\\linear_model\\_ridge.py:147: LinAlgWarning: Ill-conditioned matrix (rcond=2.07213e-19): result may not be accurate.\n",
      "  return linalg.solve(A, Xy, sym_pos=True,\n",
      "C:\\Users\\ysw29\\anaconda3\\lib\\site-packages\\sklearn\\linear_model\\_coordinate_descent.py:529: ConvergenceWarning: Objective did not converge. You might want to increase the number of iterations. Duality gap: 2444.124125641613, tolerance: 0.5589968267706951\n",
      "  model = cd_fast.enet_coordinate_descent(\n",
      "C:\\Users\\ysw29\\anaconda3\\lib\\site-packages\\sklearn\\linear_model\\_ridge.py:147: LinAlgWarning: Ill-conditioned matrix (rcond=9.31945e-21): result may not be accurate.\n",
      "  return linalg.solve(A, Xy, sym_pos=True,\n",
      "C:\\Users\\ysw29\\anaconda3\\lib\\site-packages\\sklearn\\linear_model\\_coordinate_descent.py:529: ConvergenceWarning: Objective did not converge. You might want to increase the number of iterations. Duality gap: 2438.2003681890183, tolerance: 0.5589968267706951\n",
      "  model = cd_fast.enet_coordinate_descent(\n",
      "C:\\Users\\ysw29\\anaconda3\\lib\\site-packages\\sklearn\\linear_model\\_ridge.py:147: LinAlgWarning: Ill-conditioned matrix (rcond=3.68777e-22): result may not be accurate.\n",
      "  return linalg.solve(A, Xy, sym_pos=True,\n",
      "C:\\Users\\ysw29\\anaconda3\\lib\\site-packages\\sklearn\\linear_model\\_coordinate_descent.py:529: ConvergenceWarning: Objective did not converge. You might want to increase the number of iterations. Duality gap: 2432.8588411515566, tolerance: 0.5589968267706951\n",
      "  model = cd_fast.enet_coordinate_descent(\n",
      "C:\\Users\\ysw29\\anaconda3\\lib\\site-packages\\sklearn\\linear_model\\_coordinate_descent.py:529: ConvergenceWarning: Objective did not converge. You might want to increase the number of iterations. Duality gap: 2428.5434628939543, tolerance: 0.5589968267706951\n",
      "  model = cd_fast.enet_coordinate_descent(\n",
      "C:\\Users\\ysw29\\anaconda3\\lib\\site-packages\\sklearn\\linear_model\\_ridge.py:147: LinAlgWarning: Ill-conditioned matrix (rcond=1.63596e-25): result may not be accurate.\n",
      "  return linalg.solve(A, Xy, sym_pos=True,\n",
      "C:\\Users\\ysw29\\anaconda3\\lib\\site-packages\\sklearn\\linear_model\\_coordinate_descent.py:529: ConvergenceWarning: Objective did not converge. You might want to increase the number of iterations. Duality gap: 2425.3439165325776, tolerance: 0.5589968267706951\n",
      "  model = cd_fast.enet_coordinate_descent(\n",
      "C:\\Users\\ysw29\\anaconda3\\lib\\site-packages\\sklearn\\linear_model\\_coordinate_descent.py:529: ConvergenceWarning: Objective did not converge. You might want to increase the number of iterations. Duality gap: 2423.1864387175465, tolerance: 0.5589968267706951\n",
      "  model = cd_fast.enet_coordinate_descent(\n",
      "C:\\Users\\ysw29\\anaconda3\\lib\\site-packages\\sklearn\\linear_model\\_coordinate_descent.py:529: ConvergenceWarning: Objective did not converge. You might want to increase the number of iterations. Duality gap: 2421.8636085975318, tolerance: 0.5589968267706951\n",
      "  model = cd_fast.enet_coordinate_descent(\n",
      "C:\\Users\\ysw29\\anaconda3\\lib\\site-packages\\sklearn\\linear_model\\_coordinate_descent.py:529: ConvergenceWarning: Objective did not converge. You might want to increase the number of iterations. Duality gap: 2421.165183237331, tolerance: 0.5589968267706951\n",
      "  model = cd_fast.enet_coordinate_descent(\n",
      "C:\\Users\\ysw29\\anaconda3\\lib\\site-packages\\sklearn\\linear_model\\_coordinate_descent.py:529: ConvergenceWarning: Objective did not converge. You might want to increase the number of iterations. Duality gap: 2420.8948969296503, tolerance: 0.5589968267706951\n",
      "  model = cd_fast.enet_coordinate_descent(\n",
      "C:\\Users\\ysw29\\anaconda3\\lib\\site-packages\\sklearn\\linear_model\\_coordinate_descent.py:529: ConvergenceWarning: Objective did not converge. You might want to increase the number of iterations. Duality gap: 2420.8815390347527, tolerance: 0.5589968267706951\n",
      "  model = cd_fast.enet_coordinate_descent(\n",
      "C:\\Users\\ysw29\\anaconda3\\lib\\site-packages\\sklearn\\linear_model\\_coordinate_descent.py:529: ConvergenceWarning: Objective did not converge. You might want to increase the number of iterations. Duality gap: 2420.947318841778, tolerance: 0.5589968267706951\n",
      "  model = cd_fast.enet_coordinate_descent(\n",
      "C:\\Users\\ysw29\\anaconda3\\lib\\site-packages\\sklearn\\linear_model\\_coordinate_descent.py:529: ConvergenceWarning: Objective did not converge. You might want to increase the number of iterations. Duality gap: 2420.912615290216, tolerance: 0.5589968267706951\n",
      "  model = cd_fast.enet_coordinate_descent(\n",
      "C:\\Users\\ysw29\\anaconda3\\lib\\site-packages\\sklearn\\linear_model\\_coordinate_descent.py:529: ConvergenceWarning: Objective did not converge. You might want to increase the number of iterations. Duality gap: 2420.5981575192054, tolerance: 0.5589968267706951\n",
      "  model = cd_fast.enet_coordinate_descent(\n",
      "C:\\Users\\ysw29\\anaconda3\\lib\\site-packages\\sklearn\\linear_model\\_coordinate_descent.py:529: ConvergenceWarning: Objective did not converge. You might want to increase the number of iterations. Duality gap: 2419.829303273208, tolerance: 0.5589968267706951\n",
      "  model = cd_fast.enet_coordinate_descent(\n",
      "C:\\Users\\ysw29\\anaconda3\\lib\\site-packages\\sklearn\\linear_model\\_coordinate_descent.py:529: ConvergenceWarning: Objective did not converge. You might want to increase the number of iterations. Duality gap: 2418.4432668919394, tolerance: 0.5589968267706951\n",
      "  model = cd_fast.enet_coordinate_descent(\n",
      "C:\\Users\\ysw29\\anaconda3\\lib\\site-packages\\sklearn\\linear_model\\_coordinate_descent.py:529: ConvergenceWarning: Objective did not converge. You might want to increase the number of iterations. Duality gap: 2416.305267221676, tolerance: 0.5589968267706951\n",
      "  model = cd_fast.enet_coordinate_descent(\n",
      "C:\\Users\\ysw29\\anaconda3\\lib\\site-packages\\sklearn\\linear_model\\_coordinate_descent.py:529: ConvergenceWarning: Objective did not converge. You might want to increase the number of iterations. Duality gap: 2413.3151581553466, tolerance: 0.5589968267706951\n",
      "  model = cd_fast.enet_coordinate_descent(\n",
      "C:\\Users\\ysw29\\anaconda3\\lib\\site-packages\\sklearn\\linear_model\\_coordinate_descent.py:529: ConvergenceWarning: Objective did not converge. You might want to increase the number of iterations. Duality gap: 2409.4175435207394, tolerance: 0.5589968267706951\n",
      "  model = cd_fast.enet_coordinate_descent(\n",
      "C:\\Users\\ysw29\\anaconda3\\lib\\site-packages\\sklearn\\linear_model\\_coordinate_descent.py:529: ConvergenceWarning: Objective did not converge. You might want to increase the number of iterations. Duality gap: 2404.60418601312, tolerance: 0.5589968267706951\n",
      "  model = cd_fast.enet_coordinate_descent(\n",
      "C:\\Users\\ysw29\\anaconda3\\lib\\site-packages\\sklearn\\linear_model\\_coordinate_descent.py:529: ConvergenceWarning: Objective did not converge. You might want to increase the number of iterations. Duality gap: 2398.9162335246174, tolerance: 0.5589968267706951\n",
      "  model = cd_fast.enet_coordinate_descent(\n",
      "C:\\Users\\ysw29\\anaconda3\\lib\\site-packages\\sklearn\\linear_model\\_coordinate_descent.py:529: ConvergenceWarning: Objective did not converge. You might want to increase the number of iterations. Duality gap: 2392.4229847865527, tolerance: 0.5589968267706951\n",
      "  model = cd_fast.enet_coordinate_descent(\n",
      "C:\\Users\\ysw29\\anaconda3\\lib\\site-packages\\sklearn\\linear_model\\_coordinate_descent.py:529: ConvergenceWarning: Objective did not converge. You might want to increase the number of iterations. Duality gap: 2385.2132622413396, tolerance: 0.5589968267706951\n",
      "  model = cd_fast.enet_coordinate_descent(\n",
      "C:\\Users\\ysw29\\anaconda3\\lib\\site-packages\\sklearn\\linear_model\\_coordinate_descent.py:529: ConvergenceWarning: Objective did not converge. You might want to increase the number of iterations. Duality gap: 2377.39886172328, tolerance: 0.5589968267706951\n",
      "  model = cd_fast.enet_coordinate_descent(\n",
      "C:\\Users\\ysw29\\anaconda3\\lib\\site-packages\\sklearn\\linear_model\\_coordinate_descent.py:529: ConvergenceWarning: Objective did not converge. You might want to increase the number of iterations. Duality gap: 2369.1058509359195, tolerance: 0.5589968267706951\n",
      "  model = cd_fast.enet_coordinate_descent(\n",
      "C:\\Users\\ysw29\\anaconda3\\lib\\site-packages\\sklearn\\linear_model\\_coordinate_descent.py:529: ConvergenceWarning: Objective did not converge. You might want to increase the number of iterations. Duality gap: 2360.466720607901, tolerance: 0.5589968267706951\n",
      "  model = cd_fast.enet_coordinate_descent(\n",
      "C:\\Users\\ysw29\\anaconda3\\lib\\site-packages\\sklearn\\linear_model\\_coordinate_descent.py:529: ConvergenceWarning: Objective did not converge. You might want to increase the number of iterations. Duality gap: 2351.6107473981156, tolerance: 0.5589968267706951\n",
      "  model = cd_fast.enet_coordinate_descent(\n",
      "C:\\Users\\ysw29\\anaconda3\\lib\\site-packages\\sklearn\\linear_model\\_coordinate_descent.py:529: ConvergenceWarning: Objective did not converge. You might want to increase the number of iterations. Duality gap: 2342.6408488268257, tolerance: 0.5589968267706951\n",
      "  model = cd_fast.enet_coordinate_descent(\n",
      "C:\\Users\\ysw29\\anaconda3\\lib\\site-packages\\sklearn\\linear_model\\_coordinate_descent.py:529: ConvergenceWarning: Objective did not converge. You might want to increase the number of iterations. Duality gap: 2333.6540055066753, tolerance: 0.5589968267706951\n",
      "  model = cd_fast.enet_coordinate_descent(\n"
     ]
    },
    {
     "name": "stderr",
     "output_type": "stream",
     "text": [
      "C:\\Users\\ysw29\\anaconda3\\lib\\site-packages\\sklearn\\linear_model\\_coordinate_descent.py:529: ConvergenceWarning: Objective did not converge. You might want to increase the number of iterations. Duality gap: 2324.737226127115, tolerance: 0.5589968267706951\n",
      "  model = cd_fast.enet_coordinate_descent(\n",
      "C:\\Users\\ysw29\\anaconda3\\lib\\site-packages\\sklearn\\linear_model\\_coordinate_descent.py:529: ConvergenceWarning: Objective did not converge. You might want to increase the number of iterations. Duality gap: 2315.9797596855065, tolerance: 0.5589968267706951\n",
      "  model = cd_fast.enet_coordinate_descent(\n",
      "C:\\Users\\ysw29\\anaconda3\\lib\\site-packages\\sklearn\\linear_model\\_coordinate_descent.py:529: ConvergenceWarning: Objective did not converge. You might want to increase the number of iterations. Duality gap: 2307.4668801023327, tolerance: 0.5589968267706951\n",
      "  model = cd_fast.enet_coordinate_descent(\n",
      "C:\\Users\\ysw29\\anaconda3\\lib\\site-packages\\sklearn\\linear_model\\_coordinate_descent.py:529: ConvergenceWarning: Objective did not converge. You might want to increase the number of iterations. Duality gap: 2299.2394254254286, tolerance: 0.5589968267706951\n",
      "  model = cd_fast.enet_coordinate_descent(\n",
      "C:\\Users\\ysw29\\anaconda3\\lib\\site-packages\\sklearn\\linear_model\\_coordinate_descent.py:529: ConvergenceWarning: Objective did not converge. You might want to increase the number of iterations. Duality gap: 2291.3611929237113, tolerance: 0.5589968267706951\n",
      "  model = cd_fast.enet_coordinate_descent(\n",
      "C:\\Users\\ysw29\\anaconda3\\lib\\site-packages\\sklearn\\linear_model\\_coordinate_descent.py:529: ConvergenceWarning: Objective did not converge. You might want to increase the number of iterations. Duality gap: 2283.8476300929333, tolerance: 0.5589968267706951\n",
      "  model = cd_fast.enet_coordinate_descent(\n",
      "C:\\Users\\ysw29\\anaconda3\\lib\\site-packages\\sklearn\\linear_model\\_coordinate_descent.py:529: ConvergenceWarning: Objective did not converge. You might want to increase the number of iterations. Duality gap: 2276.7328194766123, tolerance: 0.5589968267706951\n",
      "  model = cd_fast.enet_coordinate_descent(\n",
      "C:\\Users\\ysw29\\anaconda3\\lib\\site-packages\\sklearn\\linear_model\\_coordinate_descent.py:529: ConvergenceWarning: Objective did not converge. You might want to increase the number of iterations. Duality gap: 2270.026441076135, tolerance: 0.5589968267706951\n",
      "  model = cd_fast.enet_coordinate_descent(\n",
      "C:\\Users\\ysw29\\anaconda3\\lib\\site-packages\\sklearn\\linear_model\\_coordinate_descent.py:529: ConvergenceWarning: Objective did not converge. You might want to increase the number of iterations. Duality gap: 2263.7373358771893, tolerance: 0.5589968267706951\n",
      "  model = cd_fast.enet_coordinate_descent(\n"
     ]
    }
   ],
   "source": [
    "poly_range = list(range(10,50))\n",
    "rmse_lr_list = []\n",
    "rmse_lasso_list = []\n",
    "rmse_ridge_list = []\n",
    "\n",
    "from sklearn.linear_model import Lasso\n",
    "from sklearn.linear_model import Ridge\n",
    "\n",
    "for poly_value in poly_range:\n",
    "    poly_features = PolynomialFeatures(degree=poly_value)\n",
    "    X_poly = poly_features.fit_transform(X)\n",
    "    lr = LinearRegression(fit_intercept=False)\n",
    "    lr.fit(X_poly,y)\n",
    "    \n",
    "    rmse_lr_list.append(rmse(lr.predict(X_poly), y))\n",
    "    \n",
    "    lasso = Lasso(fit_intercept=False)\n",
    "    lasso.fit(X_poly,y)\n",
    "    rmse_lasso_list.append(rmse(lasso.predict(X_poly), y))\n",
    "    \n",
    "    ridge = Ridge(fit_intercept=False)\n",
    "    ridge.fit(X_poly,y)\n",
    "    rmse_ridge_list.append(rmse(ridge.predict(X_poly), y))"
   ]
  },
  {
   "cell_type": "code",
   "execution_count": 133,
   "metadata": {
    "ExecuteTime": {
     "end_time": "2021-04-27T09:19:28.549819Z",
     "start_time": "2021-04-27T09:19:28.514519Z"
    }
   },
   "outputs": [
    {
     "data": {
      "text/html": [
       "<div>\n",
       "<style scoped>\n",
       "    .dataframe tbody tr th:only-of-type {\n",
       "        vertical-align: middle;\n",
       "    }\n",
       "\n",
       "    .dataframe tbody tr th {\n",
       "        vertical-align: top;\n",
       "    }\n",
       "\n",
       "    .dataframe thead th {\n",
       "        text-align: right;\n",
       "    }\n",
       "</style>\n",
       "<table border=\"1\" class=\"dataframe\">\n",
       "  <thead>\n",
       "    <tr style=\"text-align: right;\">\n",
       "      <th></th>\n",
       "      <th>lr_rmse</th>\n",
       "      <th>lasso_rmse</th>\n",
       "      <th>ridge_rmse</th>\n",
       "    </tr>\n",
       "    <tr>\n",
       "      <th>poly_range</th>\n",
       "      <th></th>\n",
       "      <th></th>\n",
       "      <th></th>\n",
       "    </tr>\n",
       "  </thead>\n",
       "  <tbody>\n",
       "    <tr>\n",
       "      <th>10</th>\n",
       "      <td>1.916319</td>\n",
       "      <td>2.331288</td>\n",
       "      <td>1.940651</td>\n",
       "    </tr>\n",
       "    <tr>\n",
       "      <th>11</th>\n",
       "      <td>1.908935</td>\n",
       "      <td>2.333276</td>\n",
       "      <td>1.920675</td>\n",
       "    </tr>\n",
       "    <tr>\n",
       "      <th>12</th>\n",
       "      <td>1.636818</td>\n",
       "      <td>2.333769</td>\n",
       "      <td>1.918581</td>\n",
       "    </tr>\n",
       "    <tr>\n",
       "      <th>13</th>\n",
       "      <td>1.343483</td>\n",
       "      <td>2.333185</td>\n",
       "      <td>1.889716</td>\n",
       "    </tr>\n",
       "    <tr>\n",
       "      <th>14</th>\n",
       "      <td>1.325528</td>\n",
       "      <td>2.331995</td>\n",
       "      <td>1.670718</td>\n",
       "    </tr>\n",
       "    <tr>\n",
       "      <th>15</th>\n",
       "      <td>0.901355</td>\n",
       "      <td>2.330612</td>\n",
       "      <td>1.489546</td>\n",
       "    </tr>\n",
       "    <tr>\n",
       "      <th>16</th>\n",
       "      <td>0.697157</td>\n",
       "      <td>2.329295</td>\n",
       "      <td>1.557920</td>\n",
       "    </tr>\n",
       "    <tr>\n",
       "      <th>17</th>\n",
       "      <td>0.664659</td>\n",
       "      <td>2.328199</td>\n",
       "      <td>1.297616</td>\n",
       "    </tr>\n",
       "    <tr>\n",
       "      <th>18</th>\n",
       "      <td>0.686862</td>\n",
       "      <td>2.327363</td>\n",
       "      <td>0.865459</td>\n",
       "    </tr>\n",
       "    <tr>\n",
       "      <th>19</th>\n",
       "      <td>0.705499</td>\n",
       "      <td>2.326791</td>\n",
       "      <td>0.741595</td>\n",
       "    </tr>\n",
       "    <tr>\n",
       "      <th>20</th>\n",
       "      <td>0.630472</td>\n",
       "      <td>2.326463</td>\n",
       "      <td>0.728777</td>\n",
       "    </tr>\n",
       "    <tr>\n",
       "      <th>21</th>\n",
       "      <td>0.598978</td>\n",
       "      <td>2.326359</td>\n",
       "      <td>0.591455</td>\n",
       "    </tr>\n",
       "    <tr>\n",
       "      <th>22</th>\n",
       "      <td>0.526244</td>\n",
       "      <td>2.326462</td>\n",
       "      <td>0.523858</td>\n",
       "    </tr>\n",
       "    <tr>\n",
       "      <th>23</th>\n",
       "      <td>0.608353</td>\n",
       "      <td>2.326761</td>\n",
       "      <td>0.521284</td>\n",
       "    </tr>\n",
       "    <tr>\n",
       "      <th>24</th>\n",
       "      <td>1.004144</td>\n",
       "      <td>2.327243</td>\n",
       "      <td>0.620172</td>\n",
       "    </tr>\n",
       "    <tr>\n",
       "      <th>25</th>\n",
       "      <td>1.187665</td>\n",
       "      <td>2.327894</td>\n",
       "      <td>1.522768</td>\n",
       "    </tr>\n",
       "    <tr>\n",
       "      <th>26</th>\n",
       "      <td>1.259076</td>\n",
       "      <td>2.328696</td>\n",
       "      <td>1.899504</td>\n",
       "    </tr>\n",
       "    <tr>\n",
       "      <th>27</th>\n",
       "      <td>1.306363</td>\n",
       "      <td>2.329636</td>\n",
       "      <td>1.865813</td>\n",
       "    </tr>\n",
       "    <tr>\n",
       "      <th>28</th>\n",
       "      <td>1.353386</td>\n",
       "      <td>2.330708</td>\n",
       "      <td>1.728103</td>\n",
       "    </tr>\n",
       "    <tr>\n",
       "      <th>29</th>\n",
       "      <td>1.365564</td>\n",
       "      <td>2.331907</td>\n",
       "      <td>1.412884</td>\n",
       "    </tr>\n",
       "    <tr>\n",
       "      <th>30</th>\n",
       "      <td>1.342669</td>\n",
       "      <td>2.333239</td>\n",
       "      <td>1.384201</td>\n",
       "    </tr>\n",
       "    <tr>\n",
       "      <th>31</th>\n",
       "      <td>1.304773</td>\n",
       "      <td>2.334713</td>\n",
       "      <td>1.465749</td>\n",
       "    </tr>\n",
       "    <tr>\n",
       "      <th>32</th>\n",
       "      <td>1.973309</td>\n",
       "      <td>2.336339</td>\n",
       "      <td>2.167649</td>\n",
       "    </tr>\n",
       "    <tr>\n",
       "      <th>33</th>\n",
       "      <td>1.672808</td>\n",
       "      <td>2.338133</td>\n",
       "      <td>2.093199</td>\n",
       "    </tr>\n",
       "    <tr>\n",
       "      <th>34</th>\n",
       "      <td>1.703037</td>\n",
       "      <td>2.340109</td>\n",
       "      <td>2.000012</td>\n",
       "    </tr>\n",
       "    <tr>\n",
       "      <th>35</th>\n",
       "      <td>2.166807</td>\n",
       "      <td>2.342280</td>\n",
       "      <td>2.690685</td>\n",
       "    </tr>\n",
       "    <tr>\n",
       "      <th>36</th>\n",
       "      <td>1.698777</td>\n",
       "      <td>2.344651</td>\n",
       "      <td>1.984935</td>\n",
       "    </tr>\n",
       "    <tr>\n",
       "      <th>37</th>\n",
       "      <td>1.680607</td>\n",
       "      <td>2.347221</td>\n",
       "      <td>1.784890</td>\n",
       "    </tr>\n",
       "    <tr>\n",
       "      <th>38</th>\n",
       "      <td>2.221945</td>\n",
       "      <td>2.349981</td>\n",
       "      <td>2.138131</td>\n",
       "    </tr>\n",
       "    <tr>\n",
       "      <th>39</th>\n",
       "      <td>1.934125</td>\n",
       "      <td>2.352924</td>\n",
       "      <td>2.359507</td>\n",
       "    </tr>\n",
       "    <tr>\n",
       "      <th>40</th>\n",
       "      <td>1.654929</td>\n",
       "      <td>2.356032</td>\n",
       "      <td>1.786379</td>\n",
       "    </tr>\n",
       "    <tr>\n",
       "      <th>41</th>\n",
       "      <td>1.652415</td>\n",
       "      <td>2.359265</td>\n",
       "      <td>1.887434</td>\n",
       "    </tr>\n",
       "    <tr>\n",
       "      <th>42</th>\n",
       "      <td>1.740003</td>\n",
       "      <td>2.362582</td>\n",
       "      <td>1.885626</td>\n",
       "    </tr>\n",
       "    <tr>\n",
       "      <th>43</th>\n",
       "      <td>1.818521</td>\n",
       "      <td>2.365942</td>\n",
       "      <td>1.744760</td>\n",
       "    </tr>\n",
       "    <tr>\n",
       "      <th>44</th>\n",
       "      <td>1.718095</td>\n",
       "      <td>2.369306</td>\n",
       "      <td>1.909861</td>\n",
       "    </tr>\n",
       "    <tr>\n",
       "      <th>45</th>\n",
       "      <td>1.709901</td>\n",
       "      <td>2.372635</td>\n",
       "      <td>1.897793</td>\n",
       "    </tr>\n",
       "    <tr>\n",
       "      <th>46</th>\n",
       "      <td>1.722969</td>\n",
       "      <td>2.375896</td>\n",
       "      <td>1.924644</td>\n",
       "    </tr>\n",
       "    <tr>\n",
       "      <th>47</th>\n",
       "      <td>1.954525</td>\n",
       "      <td>2.379055</td>\n",
       "      <td>1.872579</td>\n",
       "    </tr>\n",
       "    <tr>\n",
       "      <th>48</th>\n",
       "      <td>2.232006</td>\n",
       "      <td>2.382086</td>\n",
       "      <td>1.894515</td>\n",
       "    </tr>\n",
       "    <tr>\n",
       "      <th>49</th>\n",
       "      <td>1.751341</td>\n",
       "      <td>2.384962</td>\n",
       "      <td>1.843234</td>\n",
       "    </tr>\n",
       "  </tbody>\n",
       "</table>\n",
       "</div>"
      ],
      "text/plain": [
       "             lr_rmse  lasso_rmse  ridge_rmse\n",
       "poly_range                                  \n",
       "10          1.916319    2.331288    1.940651\n",
       "11          1.908935    2.333276    1.920675\n",
       "12          1.636818    2.333769    1.918581\n",
       "13          1.343483    2.333185    1.889716\n",
       "14          1.325528    2.331995    1.670718\n",
       "15          0.901355    2.330612    1.489546\n",
       "16          0.697157    2.329295    1.557920\n",
       "17          0.664659    2.328199    1.297616\n",
       "18          0.686862    2.327363    0.865459\n",
       "19          0.705499    2.326791    0.741595\n",
       "20          0.630472    2.326463    0.728777\n",
       "21          0.598978    2.326359    0.591455\n",
       "22          0.526244    2.326462    0.523858\n",
       "23          0.608353    2.326761    0.521284\n",
       "24          1.004144    2.327243    0.620172\n",
       "25          1.187665    2.327894    1.522768\n",
       "26          1.259076    2.328696    1.899504\n",
       "27          1.306363    2.329636    1.865813\n",
       "28          1.353386    2.330708    1.728103\n",
       "29          1.365564    2.331907    1.412884\n",
       "30          1.342669    2.333239    1.384201\n",
       "31          1.304773    2.334713    1.465749\n",
       "32          1.973309    2.336339    2.167649\n",
       "33          1.672808    2.338133    2.093199\n",
       "34          1.703037    2.340109    2.000012\n",
       "35          2.166807    2.342280    2.690685\n",
       "36          1.698777    2.344651    1.984935\n",
       "37          1.680607    2.347221    1.784890\n",
       "38          2.221945    2.349981    2.138131\n",
       "39          1.934125    2.352924    2.359507\n",
       "40          1.654929    2.356032    1.786379\n",
       "41          1.652415    2.359265    1.887434\n",
       "42          1.740003    2.362582    1.885626\n",
       "43          1.818521    2.365942    1.744760\n",
       "44          1.718095    2.369306    1.909861\n",
       "45          1.709901    2.372635    1.897793\n",
       "46          1.722969    2.375896    1.924644\n",
       "47          1.954525    2.379055    1.872579\n",
       "48          2.232006    2.382086    1.894515\n",
       "49          1.751341    2.384962    1.843234"
      ]
     },
     "execution_count": 133,
     "metadata": {},
     "output_type": "execute_result"
    }
   ],
   "source": [
    "import pandas as pd\n",
    "from pandas import DataFrame\n",
    "data = {\"poly_range\" : poly_range, \"lr_rmse\": rmse_lr_list,\n",
    "       \"lasso_rmse\":rmse_lasso_list, \"ridge_rmse\":rmse_ridge_list}\n",
    "df = DataFrame(data).set_index(\"poly_range\")\n",
    "df"
   ]
  },
  {
   "cell_type": "code",
   "execution_count": 144,
   "metadata": {
    "ExecuteTime": {
     "end_time": "2021-04-27T09:27:36.459318Z",
     "start_time": "2021-04-27T09:27:36.223502Z"
    }
   },
   "outputs": [
    {
     "data": {
      "image/png": "[encoded data removed]",
      "text/plain": [
       "<Figure size 432x288 with 1 Axes>"
      ]
     },
     "metadata": {
      "needs_background": "light"
     },
     "output_type": "display_data"
    }
   ],
   "source": [
    "plt.plot(poly_range, df[\"ridge_rmse\"], label =\"ridge\")\n",
    "plt.plot(poly_range, df[\"lasso_rmse\"], label=\"lasso\")\n",
    "plt.plot(poly_range, df[\"lr_rmse\"], label=\"lr\")\n",
    "plt.legend()\n",
    "plt.show()"
   ]
  },
  {
   "cell_type": "code",
   "execution_count": 135,
   "metadata": {
    "ExecuteTime": {
     "end_time": "2021-04-27T09:22:10.785805Z",
     "start_time": "2021-04-27T09:22:10.762409Z"
    },
    "scrolled": true
   },
   "outputs": [
    {
     "data": {
      "text/plain": [
       "lr_rmse       0.526244\n",
       "lasso_rmse    2.326359\n",
       "ridge_rmse    0.521284\n",
       "dtype: float64"
      ]
     },
     "execution_count": 135,
     "metadata": {},
     "output_type": "execute_result"
    }
   ],
   "source": [
    "df.min()"
   ]
  },
  {
   "cell_type": "code",
   "execution_count": 136,
   "metadata": {
    "ExecuteTime": {
     "end_time": "2021-04-27T09:22:31.172414Z",
     "start_time": "2021-04-27T09:22:31.144527Z"
    }
   },
   "outputs": [
    {
     "data": {
      "text/plain": [
       "poly_range\n",
       "23    0.521284\n",
       "22    0.523858\n",
       "21    0.591455\n",
       "24    0.620172\n",
       "20    0.728777\n",
       "Name: ridge_rmse, dtype: float64"
      ]
     },
     "execution_count": 136,
     "metadata": {},
     "output_type": "execute_result"
    }
   ],
   "source": [
    "df[\"ridge_rmse\"].sort_values().head()"
   ]
  },
  {
   "cell_type": "code",
   "execution_count": 140,
   "metadata": {
    "ExecuteTime": {
     "end_time": "2021-04-27T09:24:16.519724Z",
     "start_time": "2021-04-27T09:24:16.491697Z"
    }
   },
   "outputs": [
    {
     "data": {
      "text/plain": [
       "Ridge()"
      ]
     },
     "execution_count": 140,
     "metadata": {},
     "output_type": "execute_result"
    }
   ],
   "source": [
    "poly_features = PolynomialFeatures(degree=23)\n",
    "X_poly = poly_features.fit_transform(X)\n",
    "ridge = Ridge()\n",
    "ridge.fit(X_poly,y)"
   ]
  },
  {
   "cell_type": "code",
   "execution_count": 141,
   "metadata": {
    "ExecuteTime": {
     "end_time": "2021-04-27T09:24:56.962019Z",
     "start_time": "2021-04-27T09:24:56.767534Z"
    }
   },
   "outputs": [
    {
     "data": {
      "image/png": "[encoded data removed]",
      "text/plain": [
       "<Figure size 432x288 with 1 Axes>"
      ]
     },
     "metadata": {
      "needs_background": "light"
     },
     "output_type": "display_data"
    }
   ],
   "source": [
    "f_x,f_y = f(1000)\n",
    "plt.plot(f_x,f_y)\n",
    "plt.scatter(X.flatten(),y.flatten(),s=3,c= \"black\")\n",
    "plt.plot(X.flatten(),ridge.predict(X_poly).flatten())\n",
    "plt.show()"
   ]
  },
  {
   "cell_type": "markdown",
   "metadata": {},
   "source": [
    "### K-fold Cross Validation"
   ]
  },
  {
   "cell_type": "code",
   "execution_count": 22,
   "metadata": {
    "ExecuteTime": {
     "end_time": "2021-04-28T05:38:53.255100Z",
     "start_time": "2021-04-28T05:38:53.230274Z"
    }
   },
   "outputs": [],
   "source": [
    "from sklearn import datasets\n",
    "boston = datasets.load_boston()"
   ]
  },
  {
   "cell_type": "code",
   "execution_count": 23,
   "metadata": {
    "ExecuteTime": {
     "end_time": "2021-04-28T05:38:53.440693Z",
     "start_time": "2021-04-28T05:38:53.419252Z"
    }
   },
   "outputs": [],
   "source": [
    "X = boston.data\n",
    "y = boston.target"
   ]
  },
  {
   "cell_type": "code",
   "execution_count": 33,
   "metadata": {
    "ExecuteTime": {
     "end_time": "2021-04-28T05:44:43.104952Z",
     "start_time": "2021-04-28T05:44:43.084583Z"
    }
   },
   "outputs": [
    {
     "name": "stdout",
     "output_type": "stream",
     "text": [
      "TRAIN -  455\n",
      "TEST -  51\n",
      "TRAIN -  455\n",
      "TEST -  51\n",
      "TRAIN -  455\n",
      "TEST -  51\n",
      "TRAIN -  455\n",
      "TEST -  51\n",
      "TRAIN -  455\n",
      "TEST -  51\n",
      "TRAIN -  455\n",
      "TEST -  51\n",
      "TRAIN -  456\n",
      "TEST -  50\n",
      "TRAIN -  456\n",
      "TEST -  50\n",
      "TRAIN -  456\n",
      "TEST -  50\n",
      "TRAIN -  456\n",
      "TEST -  50\n"
     ]
    }
   ],
   "source": [
    "from sklearn.model_selection import KFold\n",
    "kf = KFold(n_splits=10, shuffle=True)\n",
    "for train_index, test_index in kf.split(X):\n",
    "    print(\"TRAIN - \", len(train_index))\n",
    "    print(\"TEST - \", len(test_index))"
   ]
  },
  {
   "cell_type": "code",
   "execution_count": 34,
   "metadata": {
    "ExecuteTime": {
     "end_time": "2021-04-28T05:44:43.632201Z",
     "start_time": "2021-04-28T05:44:43.586606Z"
    }
   },
   "outputs": [
    {
     "data": {
      "text/plain": [
       "(34.46408458830232, 34.07824620925927)"
      ]
     },
     "execution_count": 34,
     "metadata": {},
     "output_type": "execute_result"
    }
   ],
   "source": [
    "from sklearn.linear_model import Lasso, Ridge\n",
    "from sklearn.metrics import mean_squared_error\n",
    "kf = KFold(n_splits=10)\n",
    "lasso_regressor = Lasso()\n",
    "ridge_regressor = Ridge()\n",
    "\n",
    "lasso_mse = []\n",
    "ridge_mse = []\n",
    "\n",
    "for train_index, test_index in kf.split(X):\n",
    "    lasso_regressor.fit(X[train_index], y[train_index])\n",
    "    ridge_regressor.fit(X[train_index], y[train_index])\n",
    "    \n",
    "    lasso_mse.append(mean_squared_error(y[test_index], lasso_regressor.predict(X[test_index])))\n",
    "    ridge_mse.append(mean_squared_error(y[test_index], ridge_regressor.predict(X[test_index])))\n",
    "    \n",
    "sum(lasso_mse) / 10, sum(ridge_mse) / 10"
   ]
  },
  {
   "cell_type": "code",
   "execution_count": 35,
   "metadata": {
    "ExecuteTime": {
     "end_time": "2021-04-28T05:44:44.806724Z",
     "start_time": "2021-04-28T05:44:44.764375Z"
    }
   },
   "outputs": [
    {
     "data": {
      "text/plain": [
       "(-34.46408458830232, -34.07824620925927)"
      ]
     },
     "execution_count": 35,
     "metadata": {},
     "output_type": "execute_result"
    }
   ],
   "source": [
    "from sklearn.model_selection import cross_val_score\n",
    "import numpy as np \n",
    "\n",
    "lasso_regressor = Lasso(warm_start=False)\n",
    "ridge_regressor = Ridge()\n",
    "\n",
    "lasso_scores = cross_val_score(lasso_regressor, X, y, cv=10, scoring='neg_mean_squared_error')\n",
    "ridge_scores= cross_val_score(ridge_regressor, X, y, cv=10, scoring='neg_mean_squared_error')\n",
    "np.mean(lasso_scores), np.mean(ridge_scores)"
   ]
  },
  {
   "cell_type": "markdown",
   "metadata": {},
   "source": [
    "### Leave One Out(LOO)"
   ]
  },
  {
   "cell_type": "code",
   "execution_count": 36,
   "metadata": {
    "ExecuteTime": {
     "end_time": "2021-04-28T05:50:36.885478Z",
     "start_time": "2021-04-28T05:50:36.871229Z"
    }
   },
   "outputs": [
    {
     "name": "stdout",
     "output_type": "stream",
     "text": [
      "[1 2 3] [0]\n",
      "[0 2 3] [1]\n",
      "[0 1 3] [2]\n",
      "[0 1 2] [3]\n"
     ]
    }
   ],
   "source": [
    "from sklearn.model_selection import LeaveOneOut\n",
    "\n",
    "test = [1, 2, 3, 4]\n",
    "loo = LeaveOneOut()\n",
    "for train, test in loo.split(test):\n",
    "    print(\"%s %s\" % (train, test))"
   ]
  },
  {
   "cell_type": "code",
   "execution_count": 37,
   "metadata": {
    "ExecuteTime": {
     "end_time": "2021-04-28T05:52:02.504671Z",
     "start_time": "2021-04-28T05:52:00.679255Z"
    }
   },
   "outputs": [
    {
     "data": {
      "text/plain": [
       "(-28.409266762049334, -23.862836317209986)"
      ]
     },
     "execution_count": 37,
     "metadata": {},
     "output_type": "execute_result"
    }
   ],
   "source": [
    "loo = LeaveOneOut()\n",
    "    \n",
    "lasso_scores = cross_val_score(lasso_regressor, X, y, cv=loo, scoring='neg_mean_squared_error')\n",
    "ridge_scores= cross_val_score(ridge_regressor, X, y, cv=loo, scoring='neg_mean_squared_error')\n",
    "np.mean(lasso_scores), np.mean(ridge_scores)"
   ]
  },
  {
   "cell_type": "code",
   "execution_count": 39,
   "metadata": {
    "ExecuteTime": {
     "end_time": "2021-04-28T05:53:45.635383Z",
     "start_time": "2021-04-28T05:53:45.587698Z"
    }
   },
   "outputs": [],
   "source": [
    "lasso_scores = cross_val_score(\n",
    "    lasso_regressor, X, y, cv=kf, scoring='neg_mean_squared_error')\n",
    "ridge_scores= cross_val_score(\n",
    "    ridge_regressor, X, y, cv=kf, scoring='neg_mean_squared_error')"
   ]
  },
  {
   "cell_type": "code",
   "execution_count": 40,
   "metadata": {
    "ExecuteTime": {
     "end_time": "2021-04-28T05:53:51.363368Z",
     "start_time": "2021-04-28T05:53:51.214568Z"
    }
   },
   "outputs": [
    {
     "data": {
      "image/png": "[encoded data removed]",
      "text/plain": [
       "<Figure size 432x288 with 1 Axes>"
      ]
     },
     "metadata": {
      "needs_background": "light"
     },
     "output_type": "display_data"
    }
   ],
   "source": [
    "import matplotlib.pyplot as plt\n",
    "labels=[\"LASSO\", \"RIDGE\"]\n",
    "plt.boxplot((lasso_scores, ridge_scores), labels=labels)\n",
    "plt.grid(linestyle=\"--\")\n",
    "plt.show()"
   ]
  },
  {
   "cell_type": "code",
   "execution_count": 43,
   "metadata": {
    "ExecuteTime": {
     "end_time": "2021-04-28T06:10:49.258384Z",
     "start_time": "2021-04-28T06:10:49.245861Z"
    }
   },
   "outputs": [],
   "source": [
    "def rmse(predictions, targets):\n",
    "    return np.sqrt(((predictions - targets) ** 2).mean())"
   ]
  },
  {
   "cell_type": "code",
   "execution_count": 44,
   "metadata": {
    "ExecuteTime": {
     "end_time": "2021-04-28T06:10:49.492069Z",
     "start_time": "2021-04-28T06:10:49.473308Z"
    }
   },
   "outputs": [],
   "source": [
    "from sklearn.linear_model import SGDRegressor\n",
    "from sklearn.preprocessing import StandardScaler\n",
    "\n",
    "std = StandardScaler()\n",
    "std.fit(X)\n",
    "X_scaled = std.transform(X)\n",
    "\n",
    "eta0 = 0.01 \n",
    "max_iter = 100"
   ]
  },
  {
   "cell_type": "code",
   "execution_count": 48,
   "metadata": {
    "ExecuteTime": {
     "end_time": "2021-04-28T06:15:53.379489Z",
     "start_time": "2021-04-28T06:15:53.113406Z"
    }
   },
   "outputs": [],
   "source": [
    "from sklearn.model_selection import train_test_split\n",
    "\n",
    "\n",
    "X_train_dataset, X_test, y_train_dataset, y_test = train_test_split(\n",
    "            X_scaled,y, test_size=0.2, random_state=42)\n",
    "\n",
    "sgd_regressor = SGDRegressor(\n",
    "    eta0=eta0, max_iter=max_iter, warm_start=True, learning_rate=\"constant\")\n",
    "\n",
    "rmse_val_score = []\n",
    "rmse_train_score = []\n",
    "model_list = []\n",
    "\n",
    "X_train, X_val, y_train, y_val = train_test_split(\n",
    "    X_train_dataset,y_train_dataset, test_size=0.2, random_state=42)\n",
    "sgd_regressor.fit(X_train,y_train)\n",
    "\n",
    "# kf = KFold(n_splits=100, shuffle=True)\n",
    "# for train_index, test_index in kf.split(X_train_dataset):\n",
    "\n",
    "for i in range(300):\n",
    "\n",
    "    y_pred = sgd_regressor.predict(X_train)\n",
    "    y_true = y_train\n",
    "    rmse_train_score.append(rmse(y_pred, y_true))\n",
    "\n",
    "    y_pred = sgd_regressor.predict(X_val)\n",
    "    y_true = y_val\n",
    "    rmse_val_score.append(rmse(y_pred, y_true))\n",
    "    model_list.append(sgd_regressor)\n",
    "\n",
    "    coef = sgd_regressor.coef_.copy()\n",
    "    intercept = sgd_regressor.intercept_.copy()\n",
    "\n",
    "    sgd_regressor = SGDRegressor(\n",
    "        eta0=eta0, max_iter=max_iter, warm_start=True, learning_rate=\"constant\")\n",
    "    \n",
    "    sgd_regressor.fit(X_train,y_train, coef_init=coef, intercept_init=intercept)"
   ]
  },
  {
   "cell_type": "code",
   "execution_count": 50,
   "metadata": {
    "ExecuteTime": {
     "end_time": "2021-04-28T06:16:06.830065Z",
     "start_time": "2021-04-28T06:16:06.560861Z"
    }
   },
   "outputs": [
    {
     "data": {
      "image/png": "[encoded data removed]",
      "text/plain": [
       "<Figure size 432x288 with 1 Axes>"
      ]
     },
     "metadata": {
      "needs_background": "light"
     },
     "output_type": "display_data"
    }
   ],
   "source": [
    "plt.plot(range(len(rmse_val_score)), rmse_val_score,  c=\"g\", label=\"VAL\")\n",
    "plt.plot(range(len(rmse_train_score)), rmse_train_score,  c=\"r\", label=\"TRAINING\")\n",
    "plt.scatter(99, rmse(y_test,sgd_regressor.predict(X_test)), s=1, label=\"TEST\")\n",
    "plt.legend()\n",
    "plt.show()"
   ]
  },
  {
   "cell_type": "code",
   "execution_count": 51,
   "metadata": {
    "ExecuteTime": {
     "end_time": "2021-04-28T06:19:03.563426Z",
     "start_time": "2021-04-28T06:19:03.547172Z"
    }
   },
   "outputs": [
    {
     "data": {
      "text/plain": [
       "array([161,  17, 250, 154,  15,  88, 236,  60, 105, 141,  75,  50, 101,\n",
       "       147,  47, 113,  71, 205,  11,  79, 151, 185,  21,  86, 129, 224,\n",
       "       159, 207, 173,  73, 166, 286, 263, 194, 127,  48, 241, 262,  20,\n",
       "       273, 267, 253, 126,  72,  69, 120, 198,  18,  43, 291,  59,  27,\n",
       "        14,  28,  77, 155, 169, 116,   2, 238, 122, 233, 110, 274, 181,\n",
       "       203, 281, 139,  49, 108,  80, 106,  24,  31, 180,  99, 219, 100,\n",
       "        90, 146, 206,  82,  83, 186, 292, 187,  41, 142, 123,  12, 279,\n",
       "        51, 246, 189,  93,  68, 179, 247,  81,  44, 244, 112,  35, 171,\n",
       "        91, 163,  57,  37, 136, 138, 256, 121, 260, 265, 175, 102, 268,\n",
       "        98, 201, 266, 258,  63, 132,   3, 118,  70,  96,  97,  33, 170,\n",
       "       231, 269, 124, 277,  30, 272, 213, 220, 182, 107, 295, 257, 111,\n",
       "       288,  23, 190, 259, 255, 278,  58, 195, 290, 294,  94, 293, 228,\n",
       "         9, 284, 193, 174, 125, 162, 153,  19, 264, 299,  45,  62, 202,\n",
       "       215, 221, 245, 254, 191, 209, 133,   6, 204,  92, 134, 176, 152,\n",
       "        76, 229, 285, 158, 212, 199,  54, 289,  65,  13, 128,  64, 211,\n",
       "       178, 184,  89,   1, 115, 227,  22, 223, 248, 252,  26, 160, 144,\n",
       "       237, 275, 230, 242, 282,  10, 208, 114, 197, 167, 103, 119,  38,\n",
       "        52, 222, 218, 143, 276, 183,  40, 217,  61, 283, 287, 164, 172,\n",
       "        34, 249,  84, 251,  46, 210, 140, 148,  67, 117, 109, 150, 157,\n",
       "        66,  42, 226, 156, 177,   8,   5, 270, 234, 104,   7,   0, 243,\n",
       "       149, 235,  74, 188,  36, 130,  85,  53,  56, 135, 239, 296,  78,\n",
       "        16, 165, 192,  25,  32, 131, 297,  95, 232, 261,  39, 225,  87,\n",
       "       196, 216, 168,  55, 240, 214,   4, 145, 280, 200,  29, 271, 137,\n",
       "       298], dtype=int64)"
      ]
     },
     "execution_count": 51,
     "metadata": {},
     "output_type": "execute_result"
    }
   ],
   "source": [
    "np.argsort(rmse_val_score)"
   ]
  },
  {
   "cell_type": "code",
   "execution_count": 56,
   "metadata": {
    "ExecuteTime": {
     "end_time": "2021-04-28T06:20:02.399326Z",
     "start_time": "2021-04-28T06:20:02.373704Z"
    }
   },
   "outputs": [
    {
     "data": {
      "text/plain": [
       "5.097210448253175"
      ]
     },
     "execution_count": 56,
     "metadata": {},
     "output_type": "execute_result"
    }
   ],
   "source": [
    "rmse(y_test,sgd_regressor.predict(X_test))"
   ]
  },
  {
   "cell_type": "code",
   "execution_count": 58,
   "metadata": {
    "ExecuteTime": {
     "end_time": "2021-04-28T06:21:02.401935Z",
     "start_time": "2021-04-28T06:21:02.376516Z"
    }
   },
   "outputs": [
    {
     "data": {
      "text/plain": [
       "5.709743048926704"
      ]
     },
     "execution_count": 58,
     "metadata": {},
     "output_type": "execute_result"
    }
   ],
   "source": [
    "rmse(y_test,model_list[298].predict(X_test))"
   ]
  },
  {
   "cell_type": "code",
   "execution_count": 57,
   "metadata": {
    "ExecuteTime": {
     "end_time": "2021-04-28T06:20:02.571478Z",
     "start_time": "2021-04-28T06:20:02.552154Z"
    }
   },
   "outputs": [
    {
     "data": {
      "text/plain": [
       "4.885198483989924"
      ]
     },
     "execution_count": 57,
     "metadata": {},
     "output_type": "execute_result"
    }
   ],
   "source": [
    "rmse(y_test,model_list[161].predict(X_test))"
   ]
  },
  {
   "cell_type": "code",
   "execution_count": 54,
   "metadata": {
    "ExecuteTime": {
     "end_time": "2021-04-28T06:19:27.889578Z",
     "start_time": "2021-04-28T06:19:27.864496Z"
    }
   },
   "outputs": [
    {
     "data": {
      "text/plain": [
       "array([-0.83037513,  0.61160018,  0.33912837,  1.14083981, -2.00082104,\n",
       "        4.07072429,  0.09409445, -3.1194891 ,  1.57912507, -1.21404659,\n",
       "       -2.23381447,  0.98000232, -3.2814642 ])"
      ]
     },
     "execution_count": 54,
     "metadata": {},
     "output_type": "execute_result"
    }
   ],
   "source": [
    "model_list[0].coef_"
   ]
  },
  {
   "cell_type": "code",
   "execution_count": null,
   "metadata": {},
   "outputs": [],
   "source": []
  }
 ],
 "metadata": {
  "kernelspec": {
   "display_name": "Python 3",
   "language": "python",
   "name": "python3"
  },
  "language_info": {
   "codemirror_mode": {
    "name": "ipython",
    "version": 3
   },
   "file_extension": ".py",
   "mimetype": "text/x-python",
   "name": "python",
   "nbconvert_exporter": "python",
   "pygments_lexer": "ipython3",
   "version": "3.8.5"
  },
  "toc": {
   "base_numbering": 1,
   "nav_menu": {},
   "number_sections": true,
   "sideBar": true,
   "skip_h1_title": false,
   "title_cell": "Table of Contents",
   "title_sidebar": "Contents",
   "toc_cell": false,
   "toc_position": {
    "height": "523.2px",
    "left": "614.4px",
    "top": "139.6px",
    "width": "153.6px"
   },
   "toc_section_display": true,
   "toc_window_display": true
  }
 },
 "nbformat": 4,
 "nbformat_minor": 4
}
